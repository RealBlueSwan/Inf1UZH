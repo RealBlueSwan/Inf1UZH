{
 "cells": [
  {
   "cell_type": "markdown",
   "id": "a09b0d51-90e5-4cc1-8810-b34bf73faaf4",
   "metadata": {},
   "source": [
    "# About the infrastructure test\n",
    "\n",
    "The main point is to ensure that your personal device has no problems. If you...\n",
    " 1. Did the mock exam on [Inspera](https://uzh.inspera.com), and\n",
    " 1. Checked if [Supertab](https://supertab.ifi.uzh.ch/) screen sharing appears to work correctly\n",
    "\n",
    "...even if not at the same time, then you are prepared for the midterm.\n",
    "\n",
    "**If you haven't confirmed both points yet, you should do so today until midnight.**"
   ]
  },
  {
   "cell_type": "markdown",
   "id": "f2dea3e0-b0fb-48b6-a8f0-c61eaf3ea14f",
   "metadata": {},
   "source": [
    "# About the Midterm\n",
    "\n",
    "You should all have received an Email with the subject *Information on the Examination \"Informatics I - Midterm\"*. Please study the attached PDFs carefully! Here's a reminder for the most important things -- but don't rely only on what is said here:"
   ]
  },
  {
   "cell_type": "markdown",
   "id": "ce1b3a17-5a84-422f-9f0e-10f1f7259bd3",
   "metadata": {
    "jp-MarkdownHeadingCollapsed": true
   },
   "source": [
    "### When, where and how?\n",
    "\n",
    " * **Monday**, 4th of November, 2024\n",
    " * You must come to the room assigned to you (see `UPDATED_AINF02_Raumzuteilung.pdf`).\n",
    " * You must be there by **18:30**\n",
    " * The exam starts at 19:00 and ends at 20:00. You cannot leave early.\n",
    " * You must bring your own laptop to work on the exam."
   ]
  },
  {
   "cell_type": "markdown",
   "id": "e62c14c3-8736-40fe-9ffa-9fbed57893b2",
   "metadata": {
    "jp-MarkdownHeadingCollapsed": true
   },
   "source": [
    "### What is allowed?\n",
    "\n",
    " * The exam is basically \"open book\". You can search the web, look up things in the lecture scripts, read documentation, etc.\n",
    " * You can re-use code you find online (although it's unlikely this will help you much).\n",
    " * You can (and probably should) use an IDE to work on the tasks."
   ]
  },
  {
   "cell_type": "markdown",
   "id": "f2144c49-f170-4e65-bd06-b53d6d2ab097",
   "metadata": {
    "jp-MarkdownHeadingCollapsed": true
   },
   "source": [
    "### What is not allowed?\n",
    "\n",
    " * **Any sort of communication with others is strictly forbidden.** You're not allowed to ask for help on StackOverflow, Discord or any other communication media. You're not allowed to chat with your colleagues or anyone else.\n",
    " * **The use of Generative AI is strictly forbidden.** No ChatGPT, GitHub Copilot, or any other LLM-based code assistants are permitted. Non-LLM-based code completion features are permitted.\n",
    "\n",
    "We will be monitoring your screens. Be aware that the UZH takes transgressions against these rules very seriously."
   ]
  },
  {
   "cell_type": "markdown",
   "id": "dde78db7-7d30-470a-8693-5c9a6f3f5257",
   "metadata": {
    "jp-MarkdownHeadingCollapsed": true
   },
   "source": [
    "### What's in the exam?\n",
    "\n",
    " * Basically everything discussed in the first 6 weeks"
   ]
  },
  {
   "cell_type": "markdown",
   "id": "025ef5c5-1797-4b0a-8570-6b217878338a",
   "metadata": {},
   "source": [
    "### What will the exam look like?\n",
    "\n",
    " * roughly \"1 point per minute\"\n",
    " * 3 Kprim questions (2 points each)\n",
    " * 6 programming tasks (5, 6, 6, 10, 12 and 15 points)\n",
    " * You can navigate the entire exam from the beginning and you can jump back and forth between tasks, as long as you don't end the exam.\n",
    "\n",
    "Mange your time!"
   ]
  },
  {
   "cell_type": "markdown",
   "id": "52d54d70-441f-437e-97b5-0e149403ecce",
   "metadata": {},
   "source": [
    "# What's the process on the day of the exam?\n",
    "\n",
    "* 18:30: Students are scanned into the rooms.\n",
    "* 18:30-18:59: Log in to Supertab and activate it. Log into Inspera and wait for the exam to start.\n",
    "* 19:00: Exam starts.\n",
    "* 20:00: Exam ends."
   ]
  },
  {
   "cell_type": "markdown",
   "id": "daedccbc-e2b4-4d55-b264-c2cba40a8dbe",
   "metadata": {
    "jp-MarkdownHeadingCollapsed": true
   },
   "source": [
    "### How to work on programming tasks\n",
    "\n",
    " 1. Read the task description carefully, including the template, example usage and expected output. **All parts may be necessary to fully specify the requirements!**\n",
    " 2. Copy the code template to your programming environment (e.g., IDE) and implement a solution.\n",
    " 3. Make sure to test your solution thoroughly using the provided examples and additional calls. Even if your code produces the same output as the examples, that doesn't necessarily mean it's completely correct. Also, mind the difference between `print` and `return`.\n",
    " 4. Copy your solution to Inspera. Include everything necessary to execute your solution. For example, if you need to import something from `math` or `random`, **make absolutely sure to include those imports!** To reduce the risk of fundamental errors when attempting to run your solution, do not include any code that is not necessary (such as example calls or other irrelevant code).\n",
    " 5. Go to the next question."
   ]
  },
  {
   "cell_type": "markdown",
   "id": "2d06e8ba-1a5f-475f-8771-c6007bdd8351",
   "metadata": {},
   "source": [
    "# Classes and inheritance revisited\n",
    "\n",
    "Last week you saw how inheritance can be used to build hierarchies of concepts. Super-classes define common structure, attribute or behavior, while sub-classes implement more specific features. Here's how this manifested for last week's example about Shapes:\n",
    "\n",
    "The superclass `Shape`...\n",
    "   * defines a constructor and attributes for x/y coordinates and color\n",
    "   * defines an *abstract* method `area` without any implementation\n",
    "     \n",
    "The subclasses `Circle` and `Rectangle`...\n",
    "   * define additional constructor parameters and attributes for shape-specific things (i.e., radius and width/length)\n",
    "   * provide the concrete implementations for `area`\n",
    "\n",
    "In the `Circle` and `Rectangle` classes, the constructor (`__init__`) must call the super-constructor (`super().__init__`) such that attributes defined there are set properly. `Square` is just a more specialized `Rectangle` with the same functionality but a simpler constructor."
   ]
  },
  {
   "cell_type": "code",
   "execution_count": 12,
   "id": "1b53ce6b-f0d0-4632-8869-3cf8aabae095",
   "metadata": {},
   "outputs": [],
   "source": [
    "from abc import ABC, abstractmethod\n",
    "from math import pi\n",
    "\n",
    "class Shape(ABC):\n",
    "    def __init__(self, x, y, color=\"black\"):\n",
    "        self.x = x\n",
    "        self.y = y\n",
    "        self.color = color\n",
    "\n",
    "    @abstractmethod\n",
    "    def area(self):\n",
    "        pass\n",
    "\n",
    "    def __str__(self):\n",
    "        return f\"A {self.color} {self.__class__.__name__} at {self.x}x{self.y}\"\n",
    "\n",
    "class Circle(Shape):\n",
    "    def __init__(self, x, y, radius, color=\"black\"):\n",
    "        super().__init__(x, y, color)\n",
    "        self.radius = radius\n",
    "\n",
    "    def area(self):\n",
    "        return pi * self.radius**2\n",
    "\n",
    "    def __str__(self):\n",
    "        return f\"{super().__str__()} with radius {self.radius}\"\n",
    "        \n",
    "class Rectangle(Shape):\n",
    "    def __init__(self, x, y, width, height, color=\"black\"):\n",
    "        super().__init__(x, y, color)\n",
    "        self.width = width\n",
    "        self.height = height\n",
    "        \n",
    "    def area(self):\n",
    "        return self.width*self.height\n",
    "\n",
    "    def __str__(self):\n",
    "        return f\"{super().__str__()} with dimensions {self.width}x{self.height}\"\n",
    "\n",
    "class Square(Rectangle):\n",
    "    def __init__(self, x, y, side, color=\"black\"):\n",
    "        super().__init__(x, y, side, side, color) "
   ]
  },
  {
   "cell_type": "code",
   "execution_count": 13,
   "id": "ae6c3c2a-c550-4d75-a1ea-4c6eb03fa645",
   "metadata": {},
   "outputs": [
    {
     "name": "stdout",
     "output_type": "stream",
     "text": [
      "['black', 'blue', 'green']\n",
      "[9.998608708503477, 40, 400]\n"
     ]
    },
    {
     "data": {
      "text/plain": [
       "['A black Circle at 10x10 with radius 1.784',\n",
       " 'A blue Rectangle at 15x10 with dimensions 5x8',\n",
       " 'A green Square at 1x1 with dimensions 20x20']"
      ]
     },
     "execution_count": 13,
     "metadata": {},
     "output_type": "execute_result"
    }
   ],
   "source": [
    "c1 = Circle(10, 10, 1.784)\n",
    "r1 = Rectangle(15, 10, 5, 8, \"blue\")\n",
    "s1 = Square(1, 1, 20, \"green\")\n",
    "shapes = [c1, r1, s1]\n",
    "print([ x.color for x in shapes])\n",
    "print([ x.area() for x in shapes])\n",
    "[ str(x) for x in shapes ]"
   ]
  },
  {
   "cell_type": "code",
   "execution_count": 14,
   "id": "c2a54459-08d5-4962-9d91-2691a6519dff",
   "metadata": {},
   "outputs": [
    {
     "data": {
      "text/plain": [
       "449.99860870850347"
      ]
     },
     "execution_count": 14,
     "metadata": {},
     "output_type": "execute_result"
    }
   ],
   "source": [
    "class Canvas:\n",
    "    def __init__(self, shapes):\n",
    "        self.shapes = shapes\n",
    "                                                    # This is \"Polymorphism\":\n",
    "    def calculate_total_area(self):                 # Canvas can treat all Shapes the same. It knows nothing about their internal implementation.\n",
    "        return sum(s.area() for s in self.shapes)   # Each area() call is transparently dispatched to a different implementation!\n",
    "\n",
    "c1 = Circle(10, 10, 1.784)\n",
    "r1 = Rectangle(15, 10, 5, 8, \"blue\")\n",
    "s1 = Square(1, 1, 20, \"green\")\n",
    "shapes = [c1, r1, s1]\n",
    "\n",
    "canvas = Canvas(shapes)\n",
    "canvas.calculate_total_area()"
   ]
  },
  {
   "cell_type": "markdown",
   "id": "aa13d932-820d-4f6f-8f59-ae97c7541803",
   "metadata": {},
   "source": [
    "# Last week's exercise\n",
    "\n",
    "<span style=\"color:purple;font-weight:bold\">Exercise</span>\n",
    "\n",
    "You are implementing a basic system for storing files and folders. Follow these implementation guidelines:\n",
    "\n",
    " * Every file has a name\n",
    " * Text files also store some text content\n",
    " * Image files also store a 2D-collection of pixels (which can be either 1 or 0) to form a black and white picture\n",
    " * Folders are special files that store a collection of files\n",
    " * For any kind of file, it should be possible to determine the file size\n",
    "   * For text files, the file size corresponds to the length of the text\n",
    "   * For image files, the file size is the number of pixels\n",
    "   * For folders, the size is the sum of sizes of files contained\n",
    " * For any kind of file, it should be possible to print it to the command line, starting with its file name and:\n",
    "   * For text files, the text content\n",
    "   * For image files, the pixels as '█' or '░' if 1 or 0.\n",
    "   * For folders, the filenames of files contained\n",
    "\n",
    "Consider the following example of how your implementation would be used:"
   ]
  },
  {
   "cell_type": "code",
   "execution_count": 3,
   "id": "aa6abef2",
   "metadata": {},
   "outputs": [
    {
     "name": "stdout",
     "output_type": "stream",
     "text": [
      "56\n",
      "20\n",
      "76\n",
      "haiku.txt:\n",
      "Indentation woes\n",
      "Syntax errors multiply\n",
      "Debug, try again\n",
      "smile.img:\n",
      "░█░█░\n",
      "░░░░░\n",
      "█░░░█\n",
      "░███░\n",
      "My Documents:\n",
      " - haiku.txt\n",
      " - smile.img\n"
     ]
    }
   ],
   "source": [
    "from abc import ABC, abstractmethod\n",
    "\n",
    "class File:\n",
    "    def __init__(self, filename):\n",
    "        self.filename = filename\n",
    "\n",
    "    @abstractmethod\n",
    "    def get_size(self):\n",
    "        pass\n",
    "\n",
    "    def __str__(self):\n",
    "        return f\"{self.filename}\"\n",
    "\n",
    "class TextFile(File):\n",
    "    def __init__(self, filename, text):\n",
    "        super().__init__(filename)\n",
    "        self.text = text      \n",
    "\n",
    "    def get_size(self):\n",
    "        return len(self.text)  \n",
    "    \n",
    "    def __str__(self):\n",
    "        return f\"{super().__str__()}:\\n{self.text}\"\n",
    "\n",
    "class ImageFile(File):\n",
    "    def __init__(self, filename, pixels):\n",
    "        super().__init__(filename)\n",
    "        self.pixels = pixels\n",
    "    \n",
    "    def get_size(self):\n",
    "        return len(self.pixels) * len(self.pixels[0])\n",
    "    \n",
    "    def __str__(self):\n",
    "        return f\"{super().__str__()}:\\n{\"\\n\".join(\"\".join(\"█\" if p else \"░\" for p in row) for row in self.pixels)}\"\n",
    "\n",
    "class Folder(File):\n",
    "    def __init__(self, filename):\n",
    "        super().__init__(filename)\n",
    "        self.content = []\n",
    "\n",
    "    def get_size(self):\n",
    "        return sum(f.get_size() for f in self.content)\n",
    "    \n",
    "    def __str__(self):  \n",
    "        return f\"{super().__str__()}:\\n\" + \"\\n\".join(f\" - {f.filename}\" for f in self.content)\n",
    "    \n",
    "\n",
    "t1 = TextFile(\"haiku.txt\",       # Create a new TextFile\n",
    "\"\"\"Indentation woes\n",
    "Syntax errors multiply\n",
    "Debug, try again\"\"\")\n",
    "\n",
    "i1 = ImageFile(\"smile.img\", (    # Create a new ImageFile\n",
    "    (0, 1, 0, 1, 0),\n",
    "    (0, 0, 0, 0, 0),\n",
    "    (1, 0, 0, 0, 1),\n",
    "    (0, 1, 1, 1, 0),\n",
    "))\n",
    "\n",
    "f = Folder(\"My Documents\")       # Create a new Folder\n",
    "f.content.extend([t1, i1])       # Add files to the folder\n",
    "print(t1.get_size())             # Text size\n",
    "print(i1.get_size())             # Image size\n",
    "print(f.get_size())              # Folder size (sum of content sizes)\n",
    "print(t1)                        # Print haiku\n",
    "print(i1)                        # Print smiley-face\n",
    "print(f)                         # Print folder content"
   ]
  },
  {
   "cell_type": "markdown",
   "id": "bdeb0bff-95bb-4de0-bca5-75fdeac7e807",
   "metadata": {},
   "source": [
    "```python\n",
    "t1 = TextFile(\"haiku.txt\",       # Create a new TextFile\n",
    "\"\"\"Indentation woes\n",
    "Syntax errors multiply\n",
    "Debug, try again\"\"\")\n",
    "\n",
    "i1 = ImageFile(\"smile.img\", (    # Create a new ImageFile\n",
    "    (0, 1, 0, 1, 0),\n",
    "    (0, 0, 0, 0, 0),\n",
    "    (1, 0, 0, 0, 1),\n",
    "    (0, 1, 1, 1, 0),\n",
    "))\n",
    "\n",
    "f = Folder(\"My Documents\")       # Create a new Folder\n",
    "f.content.extend([t1, i1])       # Add files to the folder\n",
    "print(t1.get_size())             # Text size\n",
    "print(i1.get_size())             # Image size\n",
    "print(f.get_size())              # Folder size (sum of content sizes)\n",
    "print(t1)                        # Print haiku\n",
    "print(i1)                        # Print smiley-face\n",
    "print(f)                         # Print folder content\n",
    "```"
   ]
  },
  {
   "cell_type": "markdown",
   "id": "51e03c60-fd5f-4d62-9473-8874282bfccb",
   "metadata": {},
   "source": [
    "Which should result in the following output:\n",
    "```\n",
    "56\n",
    "20\n",
    "76\n",
    "haiku.txt:\n",
    "Indentation woes\n",
    "Syntax errors multiply\n",
    "Debug, try again\n",
    "smile.img:\n",
    "░█░█░\n",
    "░░░░░\n",
    "█░░░█\n",
    "░███░\n",
    "My Documents:\n",
    " - haiku.txt\n",
    " - smile.img\n",
    "```"
   ]
  },
  {
   "cell_type": "code",
   "execution_count": 5,
   "id": "8089b63f",
   "metadata": {},
   "outputs": [
    {
     "name": "stdout",
     "output_type": "stream",
     "text": [
      "['hellO', 'LelLo']\n"
     ]
    }
   ],
   "source": [
    "def strings_containing(strings, word):\n",
    "    return [i for i in strings if word.lower() in i.lower()] \n",
    "\n",
    "print(strings_containing([\"hellO\", \"LelLo\", \"lel\"], \"ll\"))"
   ]
  }
 ],
 "metadata": {
  "authors": [
   {
    "name": "Carol V. Alexandru-Funakoshi"
   }
  ],
  "kernelspec": {
   "display_name": "Python 3",
   "language": "python",
   "name": "python3"
  },
  "language_info": {
   "codemirror_mode": {
    "name": "ipython",
    "version": 3
   },
   "file_extension": ".py",
   "mimetype": "text/x-python",
   "name": "python",
   "nbconvert_exporter": "python",
   "pygments_lexer": "ipython3",
   "version": "3.12.6"
  },
  "title": "Info1 Midterm Prep"
 },
 "nbformat": 4,
 "nbformat_minor": 5
}
