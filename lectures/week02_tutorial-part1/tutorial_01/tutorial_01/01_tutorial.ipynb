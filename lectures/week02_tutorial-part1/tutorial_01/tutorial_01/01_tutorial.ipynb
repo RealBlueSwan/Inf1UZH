{
 "cells": [
  {
   "cell_type": "markdown",
   "id": "a6208f02",
   "metadata": {},
   "source": [
    "# About this tutorial\n",
    "\n",
    "What you're reading now is a Jupyter notebook. It's an interactive document containing a mix of text and Python program snippets. You can edit and run any cell. You may want to modify the python snippets to try how editing them influences the outcome and to get a feel for what is going on.\n",
    "\n",
    "Since we're going quite fast, you're not expected to remember everything right away. Please review the tutorial at your own pace!"
   ]
  },
  {
   "cell_type": "markdown",
   "id": "d08f69d4",
   "metadata": {
    "editable": true,
    "slideshow": {
     "slide_type": ""
    },
    "tags": []
   },
   "source": [
    "# Programming in Python\n",
    "\n",
    "A program is essentially a \"playbook\" instructing the computer what to do in different situations. Here is a simple program that outputs a sentence describing Bob's average grade:"
   ]
  },
  {
   "cell_type": "code",
   "execution_count": null,
   "id": "bcdb46d7",
   "metadata": {},
   "outputs": [],
   "source": [
    "from statistics import mean\n",
    "\n",
    "def show_mean(name, grades):\n",
    "    return f\"{name.capitalize()}'s mean grade is {mean(grades)}\"\n",
    "    \n",
    "print(show_mean(\"bob\", [4.0, 5.25, 6.0, 4.25, 4.0]))"
   ]
  },
  {
   "cell_type": "markdown",
   "id": "3bf6cb9f",
   "metadata": {},
   "source": [
    "If you've installed Python, you could store this program in a raw text file, for example called `grades.py` and then execute it by running `python grades.py`. Python will execute the program statement by statement and then exit.\n",
    "\n",
    "## Interpreter / Shell\n",
    "\n",
    "Instead of running a whole program, you can also interact with Python interactively, one statement at a time. When you run `python` without any additional arguments, you are dropped into the **interactive** Python shell.\n",
    "\n",
    "You can follow along with this tutorial either in your own Jupyter notebook or in the interactive Python shell.\n",
    "\n",
    "If you have neither Jupyter nor Python working yet, you can try using an online Python shell as a stop-gap for now: https://pythonhow.com/python-shell\n",
    "\n"
   ]
  },
  {
   "cell_type": "markdown",
   "id": "4778a423-bffe-4579-a0f5-c64403de261a",
   "metadata": {},
   "source": [
    "# The Building Blocks of Programming\n",
    "\n",
    "Before we get into the weeds of how to program in Python, specifically, let's get our bearings. For the purpose of this entry-level course, it's not wrong to say that programming is essentially made up of three main aspects: syntax, data and behavior.\n",
    "\n",
    "## Syntax\n",
    "\n",
    "Syntax specifies how you must formulate your program. It specifies rules on what each character means in which context. Different programming languages use different syntax. For example, `1 + 1` is syntactically correct, while `1 plus 1` is not.\n",
    "\n",
    "You will learn the Python syntax step by step as you learn new concepts and techniques.\n",
    "\n",
    "## Data\n",
    "\n",
    "Data can go into a program; data is stored and modified while a program is running, and data can be written out when a program is finished. Data can come in a variety of shapes and sizes:\n",
    "\n",
    " * Simple data, such as numbers and characters: `0`, `1`, `0.5`, `True`, `False`, `\"H\"`\n",
    " * Basic data structures, such as strings: `\"Hello\"`, lists: `[1,2,\"Hello\"]`, maps (dictionaries): `{\"Police\": 117, \"Ambulance\": 144, \"Firefighters\": 118}` or sets: `{\"Red\", \"Green\", \"Blue\"}`\n",
    " * Complex data types (classes and objects) which can represent specific things: `c = Car(\"Ford\", \"Focus\", 1994); c.honk()`\n",
    "\n",
    "## Behavior\n",
    "\n",
    "Behavior determines what the program actually does. As a programmer, you can influence the behavior of the program in any number of ways:\n",
    "\n",
    " * Functions, like in maths, take parameters as input and produce results a.k.a. \"return values\" as output.\n",
    " * Control flow steers behavior based on conditions\n",
    " * Abstractions & Polymorphism: separating abstract behavior (e.g., \"transport\") from concrete behavior (e.g., \"by train\", \"on foot\", etc.)\n",
    "\n",
    "In this course, you will learn most of Python's syntax, different ways of representing data, and some techniques to define behavior. However, we will really only scratch the surface of what's possible."
   ]
  },
  {
   "cell_type": "markdown",
   "id": "8b5149ae-6214-45ba-8047-4c255438e48f",
   "metadata": {},
   "source": [
    "# Functions\n",
    "\n",
    "Functions are the bread and butter of programming in Python, and the most important building block to understand well.\n",
    "\n",
    "Many real-world processes work based on input and output. For example, input electricity, ground coffee and water into a *coffe maker* function, you'll end up with espresso as output.\n",
    "\n",
    "<div>\n",
    "<img src=\"coffee_maker.png\" width=\"300\"/><img src=\"frother.png\" width=\"210\"/>\n",
    "</div>"
   ]
  },
  {
   "cell_type": "markdown",
   "id": "7873ff75-912a-4b21-941c-63be435d815c",
   "metadata": {},
   "source": [
    "Naturally, multiple functions can be chained or otherwise composed:\n",
    "\n",
    "<div>\n",
    "<img src=\"macchiato.png\" width=\"510\"/>\n",
    "</div>"
   ]
  },
  {
   "cell_type": "markdown",
   "id": "27a6724a-eae2-45dc-908d-9cee3e78987e",
   "metadata": {},
   "source": [
    "You already know functions from maths.\n",
    "\n",
    "<div>\n",
    "<img src=\"function.png\" width=\"100\"/>\n",
    "</div>"
   ]
  },
  {
   "cell_type": "markdown",
   "id": "641f59ff-8ca9-41d0-ba31-2e9e14edde40",
   "metadata": {},
   "source": [
    "Here's how you would write $f(x) = x^{2}$ in Python:"
   ]
  },
  {
   "cell_type": "code",
   "execution_count": null,
   "id": "8de7b9f6-7545-41b2-8a47-f4e73afdc9e7",
   "metadata": {},
   "outputs": [],
   "source": [
    "def f(x):\n",
    "    return x**2"
   ]
  },
  {
   "cell_type": "markdown",
   "id": "8d3cb652-5b06-4676-baf7-402574ddc4e6",
   "metadata": {},
   "source": [
    "A function definition starts with `def` followed by the name of the function. A function takes zero or more parameter. In this case, the function takes exactly one parameter, which we call `x`. The function then returns the square of `x`.\n",
    "\n",
    "Note that just defining this function doesn't really *do* anything. We just defined some functionality, but we haven't used it yet. Let's try using it with a given $x$ now:"
   ]
  },
  {
   "cell_type": "code",
   "execution_count": null,
   "id": "ab2706ff-5722-4b82-b9eb-6f763b820065",
   "metadata": {},
   "outputs": [],
   "source": [
    "f(6)"
   ]
  },
  {
   "cell_type": "markdown",
   "id": "c3003d31-3c1f-4147-b344-5df448915706",
   "metadata": {},
   "source": [
    "Although when programming, you probably want to use a more descriptive name:"
   ]
  },
  {
   "cell_type": "code",
   "execution_count": null,
   "id": "589e079c-4ad6-4df6-9280-260f69701197",
   "metadata": {},
   "outputs": [],
   "source": [
    "def power2(x):\n",
    "    return x**2\n",
    "power2(6)"
   ]
  },
  {
   "cell_type": "markdown",
   "id": "b8eb518f-3205-4b6e-a049-e84a87d6c13b",
   "metadata": {},
   "source": [
    "From here on out, whenever you see a function, try to visualize or otherwise recognize its features: What it takes and what it returns.\n",
    "<div>\n",
    "<img src=\"power2_no-side-effect.png\" width=\"200\"/>\n",
    "</div> "
   ]
  },
  {
   "cell_type": "markdown",
   "id": "dcbdf997-53fc-4480-bf56-b744ed57ea21",
   "metadata": {},
   "source": [
    "In maths, you know functions mostly as dealing with numbers, receiving some numbers as input, and producing another number as output. However, in the real world, we need to perform all kinds of transformations, not just numerical ones.\n",
    "\n",
    "Here's a slightly more interesting function that transforms three numbers (year, month and day) into a sentence:"
   ]
  },
  {
   "cell_type": "code",
   "execution_count": null,
   "id": "068f7e35-9fa2-4214-ad2c-6296bb9a58ae",
   "metadata": {},
   "outputs": [],
   "source": [
    "def birthday_as_string(year, month, day):\n",
    "    return f\"This person was born on {day}.{month}.{year}\""
   ]
  },
  {
   "cell_type": "markdown",
   "id": "a940e9c0-e7f1-4ebe-a96f-a69c32fa30e8",
   "metadata": {},
   "source": [
    "It receives these three inputs as parameters, and returns not a number, but a sentence."
   ]
  },
  {
   "cell_type": "code",
   "execution_count": null,
   "id": "2774a5a8-ebfa-49ab-98e6-12ab2523a439",
   "metadata": {},
   "outputs": [],
   "source": [
    "birthday_as_string(1999,7,13)"
   ]
  },
  {
   "cell_type": "code",
   "execution_count": null,
   "id": "df2df861-9ada-4c0d-9e1c-25d0ffeab00d",
   "metadata": {},
   "outputs": [],
   "source": [
    "birthday_as_string(2305,7,13)"
   ]
  },
  {
   "cell_type": "markdown",
   "id": "a2a9c7cb-4da7-44fd-a5ed-6b5f2f91edf0",
   "metadata": {},
   "source": [
    "As you can see, *calling* the `birthday_as_string` function returns a character sequence as expected. \n",
    "\n",
    "<div>\n",
    "<img src=\"birthday_as_string.png\" width=\"500\"/>\n",
    "</div> \n",
    "\n",
    "Note that in this particular implementation, Python has **no intrinsic understanding** that it is dealing with a date here! Thus, we could call the function with invalid numbers:"
   ]
  },
  {
   "cell_type": "code",
   "execution_count": null,
   "id": "ddb9bfc8-7dc6-4d38-bc68-f35d9ebd9efd",
   "metadata": {},
   "outputs": [],
   "source": [
    "birthday_as_string(-1999,13,45)"
   ]
  },
  {
   "cell_type": "markdown",
   "id": "1ae87cd3-3e9b-4b51-b8d0-7608755259b5",
   "metadata": {},
   "source": [
    "**We** decided to name the function `birthday_as_string` and to name the three function parameters `year`, `month` and `day`, but this has no meaning to Python, so the following program behaves exactly the same:"
   ]
  },
  {
   "cell_type": "code",
   "execution_count": null,
   "id": "81c1b31d-4310-47c9-856d-af664f9b0a4d",
   "metadata": {},
   "outputs": [],
   "source": [
    "def bake_cookies(sr71, plums, x):\n",
    "    return f\"This person was born on {sr71}.{plums}.{x}\"\n",
    "bake_cookies(1999,7,13)"
   ]
  },
  {
   "cell_type": "markdown",
   "id": "90745c97-a583-4dc9-82e2-0c2161c114a8",
   "metadata": {},
   "source": [
    "Also note that we **must** use the `return` keyword to indicate what the function should return when called. If we forget the `return`, then the function returns *nothing*:"
   ]
  },
  {
   "cell_type": "code",
   "execution_count": null,
   "id": "6e917c82-6b14-4e2c-ad4d-fa4ab87e4b48",
   "metadata": {},
   "outputs": [],
   "source": [
    "def birthday_as_string(year, month, day):\n",
    "    f\"This person was born on {day}.{month}.{year}\"   # missing return keyword\n",
    "birthday_as_string(1999,7,13)                         # nothing is printed below because the call returned nothing"
   ]
  },
  {
   "cell_type": "markdown",
   "id": "2c33e406-1a72-4e92-a0b7-612301a01270",
   "metadata": {},
   "source": [
    "Of course you can have functions that take no parameters. These would be \"constant\" functions in Maths:"
   ]
  },
  {
   "cell_type": "code",
   "execution_count": null,
   "id": "83bddb7d-a027-431f-bf1f-03db4302eb02",
   "metadata": {},
   "outputs": [],
   "source": [
    "def pi_to_10_digits():\n",
    "    return 3.1415926535\n",
    "pi_to_10_digits()"
   ]
  },
  {
   "cell_type": "markdown",
   "id": "fb5d987c-0239-429a-af8c-69b6bea7ae64",
   "metadata": {},
   "source": [
    "Python ships with many [built-in functions](https://docs.python.org/3/library/functions.html), which are at your disposal. Here are a few examples:"
   ]
  },
  {
   "cell_type": "code",
   "execution_count": null,
   "id": "fcda706d-24bf-41c0-b073-42dc2efe2a9a",
   "metadata": {},
   "outputs": [],
   "source": [
    "min(4,-5,10)              # return the smallest parameter"
   ]
  },
  {
   "cell_type": "code",
   "execution_count": null,
   "id": "70976970-d4d4-47e5-aff9-ad1b5ee77b33",
   "metadata": {},
   "outputs": [],
   "source": [
    "round(pi_to_10_digits())  # round to nearest integer number"
   ]
  },
  {
   "cell_type": "code",
   "execution_count": null,
   "id": "de4dfc52-537b-4e60-99c5-427959d3fa33",
   "metadata": {},
   "outputs": [],
   "source": [
    "chr(69)                   # get the unicode character for decimal 69"
   ]
  },
  {
   "cell_type": "code",
   "execution_count": null,
   "id": "1252286b-9627-4beb-a01d-efd77f261383",
   "metadata": {},
   "outputs": [],
   "source": [
    "chr(0x1FAE0)              # get the unicode character for hexadecimal 1FAE0"
   ]
  },
  {
   "cell_type": "markdown",
   "id": "1c8f5ebf-e593-4b6a-94ae-43967775b7d9",
   "metadata": {},
   "source": [
    "And yet many other functions are hidden away in other *libraries*, for example:"
   ]
  },
  {
   "cell_type": "code",
   "execution_count": null,
   "id": "f06f8059-9c7e-4821-9db2-0237bc179279",
   "metadata": {},
   "outputs": [],
   "source": [
    "from statistics import median\n",
    "median([1, 100, 2, 600, 3])"
   ]
  },
  {
   "cell_type": "code",
   "execution_count": null,
   "id": "41e9bce9-02dc-42bb-adc5-3c33c7444679",
   "metadata": {},
   "outputs": [],
   "source": [
    "from os import cpu_count\n",
    "cpu_count()"
   ]
  },
  {
   "cell_type": "markdown",
   "id": "7a91420a-3654-42ae-bc08-dcb945b74ec6",
   "metadata": {},
   "source": [
    "For now, you need to remember that regular functions in Python:\n",
    " * Have a name\n",
    " * Take 0 or more named parameters\n",
    " * `return` something at the end\n",
    " * Can be executed, a.k.a. \"called\", by their name when appending the (zero or more) parameters in braces `(...)`"
   ]
  },
  {
   "cell_type": "markdown",
   "id": "d2819070-cf69-4884-a84e-39a26a56eb2c",
   "metadata": {},
   "source": [
    "<span style=\"color:purple;font-weight:bold\">Exercise</span>\n",
    "\n",
    " 1. Write a function `power` that takes two numbers `base` and `exponent` as parameters and returns the value of `base` to the power of `exponent`. In other words, write $f(x,y) = x^{y}$ in Python.\n",
    " 2. Call the function to compute $2^8$.\n"
   ]
  },
  {
   "cell_type": "code",
   "execution_count": null,
   "id": "bcc1107a-42c3-49fa-a82e-062557c09cde",
   "metadata": {
    "editable": true,
    "slideshow": {
     "slide_type": ""
    },
    "tags": []
   },
   "outputs": [],
   "source": [
    "# exercise solution\n"
   ]
  },
  {
   "cell_type": "markdown",
   "id": "2e27990c-6a56-49f8-b3e4-1e463d00504c",
   "metadata": {},
   "source": [
    "### A quick word on imports\n",
    "\n",
    "You can import functionality from a module called `math` in one of two ways:\n",
    "\n",
    "You can either import individual members from a module without importing the entire module. For example, if you just want the `cos` function and `pi` from `math`:"
   ]
  },
  {
   "cell_type": "code",
   "execution_count": null,
   "id": "b3814862",
   "metadata": {},
   "outputs": [],
   "source": [
    "from math import cos, pi\n",
    "\n",
    "cos(2*pi)"
   ]
  },
  {
   "cell_type": "markdown",
   "id": "51e5ceb7-049b-457f-b3ff-864ed71c11b5",
   "metadata": {},
   "source": [
    "Or you can import the module by name. This allows you to call its functionality using the dot-notation:"
   ]
  },
  {
   "cell_type": "code",
   "execution_count": null,
   "id": "385d8103-fac0-4b1c-a69d-55939d8e89da",
   "metadata": {},
   "outputs": [],
   "source": [
    "import math\n",
    "\n",
    "math.cos(2*math.pi)"
   ]
  },
  {
   "cell_type": "markdown",
   "id": "dc517d53",
   "metadata": {},
   "source": [
    "Also, you could import all the members from a module using the `*` notation. However, note that **this is usually discouraged**. Python follows the mantra of *explicit is better than implicit*, and when importing `*`, you don't explicitely name the members that you wish to use upon importing."
   ]
  },
  {
   "cell_type": "code",
   "execution_count": null,
   "id": "72b133e3",
   "metadata": {},
   "outputs": [],
   "source": [
    "from math import *\n",
    "\n",
    "log2(8)"
   ]
  },
  {
   "cell_type": "markdown",
   "id": "df4ea860",
   "metadata": {},
   "source": [
    "So here, it would have been better to do `from math import log2`, or just `import math` and then use `math.log2`, thus staying *explicit*.\n",
    "\n",
    "One more thing to note that using imports or dot-notation, you can generally access any member of a module. These members might have different types, for example `math.cos` is a function, but `math.pi` is a floating point number:"
   ]
  },
  {
   "cell_type": "code",
   "execution_count": null,
   "id": "9be18bca-fd17-4305-a0f6-8462633c4746",
   "metadata": {},
   "outputs": [],
   "source": [
    "import math\n",
    "\n",
    "print(type(math.cos))\n",
    "print(type(math.pi))"
   ]
  },
  {
   "cell_type": "markdown",
   "id": "eb1d546d-9332-46bd-9c2c-708b3d024d1b",
   "metadata": {},
   "source": [
    "<span style=\"color:purple;font-weight:bold\">Exercise</span>\n",
    "\n",
    "There is a module called `random`, which has a member `randrange`, which is a function. This function takes two numbers as parameters, and then returns a random number between those two numbers.\n",
    "\n",
    " 1. Import the `randrange` function from the `random` module\n",
    " 2. Call the `randrange` function with parameters `10` and `21` to generate a random number between 10 and 20"
   ]
  },
  {
   "cell_type": "code",
   "execution_count": null,
   "id": "582e81d1-5797-4b37-b059-fa8ea2e940b7",
   "metadata": {},
   "outputs": [],
   "source": [
    "# exercise solution\n"
   ]
  },
  {
   "cell_type": "markdown",
   "id": "a2eca906-6481-49ee-b31b-77ab84ecb024",
   "metadata": {},
   "source": [
    "# Expressions\n",
    "\n",
    "An expression is any contiguous unit that can be executed individually. An expression can consist of several sub-expressions.\n",
    "\n",
    "Examples for expressions:\n",
    " * `\"Hello\"`\n",
    " * `1`\n",
    " * `1 + 2` (an expression containing 2 sub-expressions)\n",
    " * `print(5)` (an expression containing 1 sub-expression)\n",
    " * `1 + 2 * 3 > 4` (an expression containing 7 sub-expressions)\n",
    "\n",
    "On the other hand, the following is not an expression, because it cannot stand alone: `1 +`\n",
    "\n",
    "<div>\n",
    "<img src=\"expression_tree.png\" width=\"500\"/>\n",
    "</div> \n",
    "\n",
    "If you're interested, you can actually ask Python how it parses any piece of code:"
   ]
  },
  {
   "cell_type": "code",
   "execution_count": null,
   "id": "4d325cb6-227b-4024-a769-2bc9feecea8c",
   "metadata": {},
   "outputs": [],
   "source": [
    "from ast import dump, parse\n",
    "print(dump(parse(\"1 + 2*3 > 4\"), indent=4))"
   ]
  },
  {
   "cell_type": "markdown",
   "id": "95e1438e",
   "metadata": {},
   "source": [
    "# Types, Values and Variables\n",
    "\n",
    "Depending on the data type, operations may have a different meaning. Adding two numbers..."
   ]
  },
  {
   "cell_type": "code",
   "execution_count": null,
   "id": "187440c5-4ce5-4411-9fd8-a025163fe72c",
   "metadata": {},
   "outputs": [],
   "source": [
    "3 + 3"
   ]
  },
  {
   "cell_type": "markdown",
   "id": "e4179585-5409-4722-99ef-a7b5c414ab86",
   "metadata": {},
   "source": [
    "Is not the same as adding two strings (i.e. text characters):"
   ]
  },
  {
   "cell_type": "code",
   "execution_count": null,
   "id": "2f3577a3-ed60-4834-8156-d619bbf28882",
   "metadata": {},
   "outputs": [],
   "source": [
    "\"3\" + \"3\""
   ]
  },
  {
   "cell_type": "markdown",
   "id": "d0621576-e857-4755-90df-eddc8e338fc9",
   "metadata": {},
   "source": [
    "When it comes to working with types and values in python, there are a few things everyone should know:\n",
    "\n",
    "* The basic scalar types `int`, `float`, (`complex`), `bool` and `NoneType`\n",
    "* The most commonly used compound types `str`, `tuple`, `list` and `dict`\n",
    "* The difference between **mutable** and **immutable** values\n",
    "* How to assign values to variables\n",
    "* The meaning of **references** (Week 4)"
   ]
  },
  {
   "cell_type": "markdown",
   "id": "5b763560",
   "metadata": {},
   "source": [
    "## Basic types"
   ]
  },
  {
   "cell_type": "code",
   "execution_count": null,
   "id": "41f7118a",
   "metadata": {},
   "outputs": [],
   "source": [
    "3          # int: integer number"
   ]
  },
  {
   "cell_type": "code",
   "execution_count": null,
   "id": "78fb9295",
   "metadata": {},
   "outputs": [],
   "source": [
    "3.5        # float: floating point number (not 100% precise!)"
   ]
  },
  {
   "cell_type": "code",
   "execution_count": null,
   "id": "031e83f9",
   "metadata": {},
   "outputs": [],
   "source": [
    "(2 + 3j)   # complex (we're not going to use this)"
   ]
  },
  {
   "cell_type": "markdown",
   "id": "43886a81",
   "metadata": {},
   "source": [
    "Note that anything after a `#` is considered a comment and ignored by Python.\n",
    "\n",
    "By the way, you can always figure out the type of a value by using the `type` function:"
   ]
  },
  {
   "cell_type": "code",
   "execution_count": null,
   "id": "0b8a58f5",
   "metadata": {},
   "outputs": [],
   "source": [
    "type(3.5)"
   ]
  },
  {
   "cell_type": "markdown",
   "id": "b5000bdc",
   "metadata": {},
   "source": [
    "A few examples for doing operations on numbers:"
   ]
  },
  {
   "cell_type": "code",
   "execution_count": null,
   "id": "092bb52b",
   "metadata": {},
   "outputs": [],
   "source": [
    "-3       # negation\n"
   ]
  },
  {
   "cell_type": "code",
   "execution_count": null,
   "id": "e91d543f",
   "metadata": {},
   "outputs": [],
   "source": [
    "1 + 3    # addition\n"
   ]
  },
  {
   "cell_type": "code",
   "execution_count": null,
   "id": "4bafea13",
   "metadata": {},
   "outputs": [],
   "source": [
    "1 - 3    # subtraction\n"
   ]
  },
  {
   "cell_type": "code",
   "execution_count": null,
   "id": "95995a9d",
   "metadata": {},
   "outputs": [],
   "source": [
    "1 * 3    # multiplication\n"
   ]
  },
  {
   "cell_type": "code",
   "execution_count": null,
   "id": "3185a0f4",
   "metadata": {},
   "outputs": [],
   "source": [
    "10 / 3   # division\n"
   ]
  },
  {
   "cell_type": "code",
   "execution_count": null,
   "id": "733d640c",
   "metadata": {},
   "outputs": [],
   "source": [
    "10 // 3  # integer division\n"
   ]
  },
  {
   "cell_type": "code",
   "execution_count": null,
   "id": "e7b2e78d",
   "metadata": {},
   "outputs": [],
   "source": [
    "10 % 3   # modulo\n"
   ]
  },
  {
   "cell_type": "code",
   "execution_count": null,
   "id": "fe2800ed",
   "metadata": {},
   "outputs": [],
   "source": [
    "5 ** 3   # exponent"
   ]
  },
  {
   "cell_type": "markdown",
   "id": "4f723e9b",
   "metadata": {},
   "source": [
    "Python uses the expected precedence rules:"
   ]
  },
  {
   "cell_type": "code",
   "execution_count": null,
   "id": "b3a3d28a",
   "metadata": {},
   "outputs": [],
   "source": [
    "1 + 2 * 3"
   ]
  },
  {
   "cell_type": "markdown",
   "id": "a448b52a",
   "metadata": {},
   "source": [
    "Of course, you can use braces to group subexpressions as you wish:"
   ]
  },
  {
   "cell_type": "code",
   "execution_count": null,
   "id": "9207c8fe",
   "metadata": {},
   "outputs": [],
   "source": [
    "(1 + 2) * 3"
   ]
  },
  {
   "cell_type": "markdown",
   "id": "9ff27e2f-f5aa-4544-95d5-ee2c68065529",
   "metadata": {},
   "source": [
    "Regarding floats, you need to know that computations can be slighly imprecise! We might discuss the reasons later, but for now, be aware that when using floats, the end result may not be perfectly accurate. An example:"
   ]
  },
  {
   "cell_type": "code",
   "execution_count": null,
   "id": "83bd4302-d9b5-4ba7-8440-118a49482a79",
   "metadata": {},
   "outputs": [],
   "source": [
    "(0.1 + 0.1 + 0.1)"
   ]
  },
  {
   "cell_type": "markdown",
   "id": "33707d90",
   "metadata": {},
   "source": [
    "To round floats to integers, you generally want to use the `round` function:"
   ]
  },
  {
   "cell_type": "code",
   "execution_count": null,
   "id": "2ffa234d",
   "metadata": {},
   "outputs": [],
   "source": [
    "round(3.5)"
   ]
  },
  {
   "cell_type": "markdown",
   "id": "86fcad6c",
   "metadata": {},
   "source": [
    "The [`math` module](https://docs.python.org/3/library/math.html) provides additional functions. For example, you could round up (`ceil`) or down (`floor`) explicitely"
   ]
  },
  {
   "cell_type": "code",
   "execution_count": null,
   "id": "b2fd2ddb-8b45-4949-a835-36c86ad009a4",
   "metadata": {},
   "outputs": [],
   "source": [
    "import math\n",
    "\n",
    "math.ceil(1.1)"
   ]
  },
  {
   "cell_type": "code",
   "execution_count": null,
   "id": "e1207b7d-0ad1-4a13-8f6f-8868e6919961",
   "metadata": {},
   "outputs": [],
   "source": [
    "math.floor(1.9)"
   ]
  },
  {
   "cell_type": "markdown",
   "id": "347b58fc",
   "metadata": {},
   "source": [
    "Note that you can also convert floats to ints using `int`, but this will always **prune** the fractional components, while `floor` always rounds down. This makes a difference when rounding negative numbers:"
   ]
  },
  {
   "cell_type": "code",
   "execution_count": null,
   "id": "e137fb1f",
   "metadata": {},
   "outputs": [],
   "source": [
    "int(3.9)"
   ]
  },
  {
   "cell_type": "code",
   "execution_count": null,
   "id": "8abc584c",
   "metadata": {},
   "outputs": [],
   "source": [
    "int(-3.9)"
   ]
  },
  {
   "cell_type": "code",
   "execution_count": null,
   "id": "d3e4c973",
   "metadata": {},
   "outputs": [],
   "source": [
    "math.floor(-3.9)"
   ]
  },
  {
   "cell_type": "markdown",
   "id": "be25dbf7",
   "metadata": {},
   "source": [
    "A few more examples from the math library:"
   ]
  },
  {
   "cell_type": "code",
   "execution_count": null,
   "id": "faebb7c6",
   "metadata": {},
   "outputs": [],
   "source": [
    "print(math.gcd(6,9,81))\n",
    "print(math.log(math.e))\n",
    "print(math.log10(100))\n",
    "print(math.cos(math.pi))"
   ]
  },
  {
   "cell_type": "markdown",
   "id": "2e3c1e97-99e6-4ec6-bb3b-f6cc43893654",
   "metadata": {},
   "source": [
    "<span style=\"color:purple;font-weight:bold\">Exercise</span>\n",
    "\n",
    "Write a function `area` which computes the area of a circle ($\\pi r^{2}$) given its radius. The function should take the radius of a circle as the only parameter and it should return the area of the circle as a float. Remember that you can import pi (to great precision) from the math module, rather than defining it yourself."
   ]
  },
  {
   "cell_type": "code",
   "execution_count": null,
   "id": "126aa14f-bc08-4b2a-a396-d36e64312879",
   "metadata": {},
   "outputs": [],
   "source": [
    "# exercise solution\n"
   ]
  },
  {
   "cell_type": "markdown",
   "id": "84ba0a5a",
   "metadata": {},
   "source": [
    "### Boolean\n",
    "\n",
    "Programming deals a lot with conditions, which are ultimately either `True` or `False`. "
   ]
  },
  {
   "cell_type": "code",
   "execution_count": null,
   "id": "c2ef4337",
   "metadata": {},
   "outputs": [],
   "source": [
    "True"
   ]
  },
  {
   "cell_type": "code",
   "execution_count": null,
   "id": "114e14ec",
   "metadata": {},
   "outputs": [],
   "source": [
    "False"
   ]
  },
  {
   "cell_type": "markdown",
   "id": "99821883",
   "metadata": {},
   "source": [
    "The keywords `and` and `or` are used to create boolean expressions"
   ]
  },
  {
   "cell_type": "code",
   "execution_count": null,
   "id": "5019a872",
   "metadata": {},
   "outputs": [],
   "source": [
    "True and False"
   ]
  },
  {
   "cell_type": "code",
   "execution_count": null,
   "id": "0ede15be",
   "metadata": {},
   "outputs": [],
   "source": [
    "False or True"
   ]
  },
  {
   "cell_type": "markdown",
   "id": "cd44780a-a35a-4682-9791-dec353230166",
   "metadata": {},
   "source": [
    "And you can use `not` to invert the value:"
   ]
  },
  {
   "cell_type": "code",
   "execution_count": null,
   "id": "90fa9d73-ece9-4e49-8d00-bcb7b313abc0",
   "metadata": {},
   "outputs": [],
   "source": [
    "not True"
   ]
  },
  {
   "cell_type": "markdown",
   "id": "718a981b-3778-4393-9f4e-fa50db10b52b",
   "metadata": {},
   "source": [
    "Watch out for precedence; `not` binds more strongly than `and` and `or`, but less strongly than `==` and other operators:"
   ]
  },
  {
   "cell_type": "code",
   "execution_count": null,
   "id": "4dd81f6b-657c-4e7e-800f-cd3e0a2d46f2",
   "metadata": {},
   "outputs": [],
   "source": [
    "not False and False"
   ]
  },
  {
   "cell_type": "code",
   "execution_count": null,
   "id": "e02ae0e1-6f1b-4d65-9c1c-ec78259d708d",
   "metadata": {},
   "outputs": [],
   "source": [
    "not (False and False)"
   ]
  },
  {
   "cell_type": "code",
   "execution_count": null,
   "id": "a610c9f0-7bb6-4068-8489-5a6f71b19786",
   "metadata": {},
   "outputs": [],
   "source": [
    "not 1 == 2"
   ]
  },
  {
   "cell_type": "markdown",
   "id": "8d8a8979-6885-4011-90ea-6fad24371149",
   "metadata": {},
   "source": [
    "Expressions separated by `and` and `or` are evaluated left-to right. The evaluation really only goes on as long as necessary. This is called *short-circuiting*. Read up on the documentation: https://docs.python.org/3/library/stdtypes.html#truth-value-testing\n",
    "\n",
    "<div>\n",
    "<img src=\"and_or_not.png\" width=\"600\"/>\n",
    "</div> "
   ]
  },
  {
   "cell_type": "markdown",
   "id": "9c48a515-dfbd-4136-9ae4-c2143a43dad9",
   "metadata": {},
   "source": [
    "<span style=\"color:purple;font-weight:bold\">Exercise</span>\n",
    "\n",
    "Consider the following code snippet, which defines three functions, which all take zero parameters and return a boolean:"
   ]
  },
  {
   "cell_type": "code",
   "execution_count": null,
   "id": "7149ad33-34b8-4b7d-94c6-c7cc2416f3ca",
   "metadata": {},
   "outputs": [],
   "source": [
    "def a():\n",
    "    print(\"a\")\n",
    "    return True\n",
    "def b():\n",
    "    print(\"b\")\n",
    "    return False\n",
    "def c():\n",
    "    print(\"c\")\n",
    "    return True\n",
    "b()"
   ]
  },
  {
   "cell_type": "markdown",
   "id": "5eb6f209-0f1d-484e-8ff1-97d67e72356e",
   "metadata": {},
   "source": [
    "For all of the following expressions, consider:\n",
    "\n",
    " 1. What is the result of the expression?\n",
    " 2. Which of the three functions are actually getting called when executing the expression?\n",
    "\n",
    "Think about it first, then try executing the expressions. When you run them, you will see which letters are printed on the command line, indicating which of the functions have been called. Make sure you understand why certain functions get called and others do not!"
   ]
  },
  {
   "cell_type": "code",
   "execution_count": null,
   "id": "75d64ac8-81f2-4e71-834f-f18fa9a0e63a",
   "metadata": {},
   "outputs": [],
   "source": [
    "a() or b() or c()"
   ]
  },
  {
   "cell_type": "code",
   "execution_count": null,
   "id": "41856daf-58aa-447d-b0b9-420e57c11036",
   "metadata": {},
   "outputs": [],
   "source": [
    "(a() or b()) and c()"
   ]
  },
  {
   "cell_type": "code",
   "execution_count": null,
   "id": "8e2aaa04-d914-42b7-9217-a9ac45c6fceb",
   "metadata": {},
   "outputs": [],
   "source": [
    "a() and b() or c()"
   ]
  },
  {
   "cell_type": "code",
   "execution_count": null,
   "id": "430e8a82-97e4-42ff-b156-b0ff58f936ed",
   "metadata": {},
   "outputs": [],
   "source": [
    "a() or b() and c()"
   ]
  },
  {
   "cell_type": "markdown",
   "id": "d45c9831",
   "metadata": {},
   "source": [
    "### Working with strings\n",
    "A \"string\" is a sequence of characters. Python doesn't make a syntactic distinction between strings and individual characters. You can use both double and single quotes for both."
   ]
  },
  {
   "cell_type": "code",
   "execution_count": null,
   "id": "017749f8-c55e-4e23-9776-5fd1c5142a51",
   "metadata": {},
   "outputs": [],
   "source": [
    "'Ä'"
   ]
  },
  {
   "cell_type": "code",
   "execution_count": null,
   "id": "d31d68bf",
   "metadata": {},
   "outputs": [],
   "source": [
    "\"Hello\""
   ]
  },
  {
   "cell_type": "markdown",
   "id": "e18cc091-fdb4-4547-a08b-84f9af0395d8",
   "metadata": {},
   "source": [
    "But note that if you want to use either `'` or `\"` as an actual part of the string, you will have to account for that:"
   ]
  },
  {
   "cell_type": "code",
   "execution_count": null,
   "id": "a033ab20",
   "metadata": {},
   "outputs": [],
   "source": [
    "\"Hell's kitchen\""
   ]
  },
  {
   "cell_type": "markdown",
   "id": "83d68193-70b9-4845-8465-7b8fb65d0fe1",
   "metadata": {},
   "source": [
    "You could also *escape* the quotation character (by placing a backslash `\\` in front of it) if you were to use the same character to start and end the string:"
   ]
  },
  {
   "cell_type": "code",
   "execution_count": null,
   "id": "c77c0874",
   "metadata": {},
   "outputs": [],
   "source": [
    "'This string is surrounded by \\' so we have to escape \\' inside with a backslash'"
   ]
  },
  {
   "cell_type": "markdown",
   "id": "cb9b4b35",
   "metadata": {},
   "source": [
    "You can see that Jupyter Notebook decides to show this string using double quotes. But there are better ways to handle this than escaping: You can use *triple* single or double quotes, which comes in handy if you're going to use both kinds of quotation marks within the string:"
   ]
  },
  {
   "cell_type": "code",
   "execution_count": null,
   "id": "105bc310",
   "metadata": {},
   "outputs": [],
   "source": [
    "\"\"\"Inside this string, I can use \" and ' without any trouble\"\"\""
   ]
  },
  {
   "cell_type": "markdown",
   "id": "0f4de7f5-41ad-40cd-b9ed-870b212f01a3",
   "metadata": {},
   "source": [
    "Note that all these variants just use different *syntax*, but are **entirely equivalent** (`==` checks for *equivalence*):"
   ]
  },
  {
   "cell_type": "code",
   "execution_count": null,
   "id": "9f8fa33e-aef3-4f63-96ff-e4e84cd70b37",
   "metadata": {},
   "outputs": [],
   "source": [
    "\"Hell's\" == 'Hell\\'s' == '''Hell's''' == \"\"\"Hell's\"\"\""
   ]
  },
  {
   "cell_type": "markdown",
   "id": "ebf78789",
   "metadata": {},
   "source": [
    "Python comes with many string manipulation functions. Have a look at the Python documentation to learn more: https://docs.python.org/3/library/stdtypes.html#string-methods\n",
    "\n",
    "Some examples:"
   ]
  },
  {
   "cell_type": "code",
   "execution_count": null,
   "id": "d0609d43",
   "metadata": {},
   "outputs": [],
   "source": [
    "\"hello\".upper()"
   ]
  },
  {
   "cell_type": "code",
   "execution_count": null,
   "id": "7e630b9a",
   "metadata": {},
   "outputs": [],
   "source": [
    "\"hELLo\".lower()"
   ]
  },
  {
   "cell_type": "code",
   "execution_count": null,
   "id": "92b4df53",
   "metadata": {},
   "outputs": [],
   "source": [
    "\"hello\".capitalize()"
   ]
  },
  {
   "cell_type": "code",
   "execution_count": null,
   "id": "9e048b21",
   "metadata": {},
   "outputs": [],
   "source": [
    "\"  hello   \".lstrip()"
   ]
  },
  {
   "cell_type": "markdown",
   "id": "e6abefa7-13d3-4958-a288-8ae5081162f6",
   "metadata": {},
   "source": [
    "Note an important difference to the functions we mentioned so far (like `birthday_as_string`, `min`, or `round`):\n",
    "\n",
    "While a function like `round` takes a parameter (`round(3.5)`), the strings functions mentioned here all act directly on the string that we're calling them on: `\"hello\".upper()`. In other words, it's not `upper(\"hello\")`. Instead, the `upper` function implicitly receives the calling element (`\"hello\"`) as its input parameter."
   ]
  },
  {
   "cell_type": "markdown",
   "id": "85ee0041",
   "metadata": {},
   "source": [
    "You can also learn all kinds of things about strings using such functions:"
   ]
  },
  {
   "cell_type": "code",
   "execution_count": null,
   "id": "38057715",
   "metadata": {},
   "outputs": [],
   "source": [
    "\"hello\".endswith(\"lo\")"
   ]
  },
  {
   "cell_type": "code",
   "execution_count": null,
   "id": "5e79fe81",
   "metadata": {},
   "outputs": [],
   "source": [
    "\"3\".isdigit()"
   ]
  },
  {
   "cell_type": "markdown",
   "id": "0826dce5",
   "metadata": {},
   "source": [
    "To figure out, whether a string contains another string, use the `in` operator:"
   ]
  },
  {
   "cell_type": "code",
   "execution_count": null,
   "id": "2de83dd8",
   "metadata": {},
   "outputs": [],
   "source": [
    "\"el\" in \"hello\""
   ]
  },
  {
   "cell_type": "markdown",
   "id": "c7afc48b-6331-4551-8378-4a8cad5d0a85",
   "metadata": {},
   "source": [
    "<span style=\"color:purple;font-weight:bold\">Exercise</span>\n",
    "\n",
    "Write a function called `picture_name` which takes a string as the only parameter. The function should return the string with two modifications:\n",
    " * if the string ends with \".png\" (case-insensitive), this should be removed\n",
    " * the string should be made uppercase\n",
    "\n",
    "See the given expressions (which should all be `True`) for how the function should behave. Make sure to look at the Python string documentation, since there is a function `removesuffix` which you might want to use here."
   ]
  },
  {
   "cell_type": "code",
   "execution_count": null,
   "id": "e1b25cbf-0cd1-47f2-a0da-78325eacce48",
   "metadata": {},
   "outputs": [],
   "source": [
    "# exercise solution\n",
    "\n",
    "#print(picture_name(\"Picture.png\") == \"PICTURE\")\n",
    "#print(picture_name(\"Picture.PNG\") == \"PICTURE\")\n",
    "#print(picture_name(\"Something else\") == \"SOMETHING ELSE\")"
   ]
  },
  {
   "cell_type": "markdown",
   "id": "d586b2a5-0d92-4ff4-bd2a-47cbfeca8941",
   "metadata": {},
   "source": [
    "## Variable assignment\n",
    "You can assign a value to a variable using the `=` operator:"
   ]
  },
  {
   "cell_type": "code",
   "execution_count": null,
   "id": "a68603d0",
   "metadata": {},
   "outputs": [],
   "source": [
    "name = \"Alice\""
   ]
  },
  {
   "cell_type": "markdown",
   "id": "16b0c0e2",
   "metadata": {},
   "source": [
    "Then you can use this variable in place of an actual value, for example:"
   ]
  },
  {
   "cell_type": "code",
   "execution_count": null,
   "id": "588b6eea",
   "metadata": {},
   "outputs": [],
   "source": [
    "print(\"Hello \" + name + \"!\")"
   ]
  },
  {
   "cell_type": "markdown",
   "id": "0bfdcf3f",
   "metadata": {},
   "source": [
    "In Python, variables can always be reassigned, so there is no concept of `final`, `val` or `const`, like in some other languages. The previously assigned value is simply lost."
   ]
  },
  {
   "cell_type": "code",
   "execution_count": null,
   "id": "1af933e8",
   "metadata": {},
   "outputs": [],
   "source": [
    "name = \"Alice\"\n",
    "name = \"Bob\"\n",
    "print(\"Hello \" + name + \"!\")"
   ]
  },
  {
   "cell_type": "markdown",
   "id": "c88fafa2",
   "metadata": {},
   "source": [
    "You can also assign multiple variables at once using commas, which will come in handy later. Just make sure that the left and right side contain the same number of variables and values:"
   ]
  },
  {
   "cell_type": "code",
   "execution_count": null,
   "id": "90a0386f",
   "metadata": {},
   "outputs": [],
   "source": [
    "name, age = \"Alice\", 33\n",
    "age"
   ]
  },
  {
   "cell_type": "markdown",
   "id": "3f089628-b523-47ec-b730-6d0090e3bfaf",
   "metadata": {},
   "source": [
    "### Restrictions on variable and function names\n",
    "Variable names can be many things, but there are some guidelines and restrictions you must know:\n",
    " * Typically you want your variable and function names to just contain characters, numbers and `_` (underscore)\n",
    " * Names are case sensitive (*bananA* is not the same name as *banana*)\n",
    " * You should use variable names that are meaningful. Excessive use of abbreviations is strongly discouraged.\n",
    " * Python naming convention for variable and function names is *all-lowercase separated by underscores*\n",
    "   * Use `birthday_as_string`, not any of `BirthdayAsString`, `birthdayasstring`, or `birthdayAsString`\n",
    " * Write your code in English.\n",
    " * You cannot use *reserved keywords* as names:\n",
    "   * `False`, `await`, `else`, `import`, `pass`, `None`, `break`, `except`, `in`, `raise`, `True`, `class`, `finally`, `is`, `return`, `and`, `continue`, `for`, `lambda`, `try`, `as`, `def`, `from`, `nonlocal`, `while`, `assert`, `del`, `global`, `not`, `with`, `async`, `elif`, `if`, `or`, `yield`\n",
    " * You should not, and sometimes cannot use certain names in certain contexts, read https://docs.python.org/3/reference/lexical_analysis.html#keywords for more information\n",
    "\n",
    "\n"
   ]
  },
  {
   "cell_type": "markdown",
   "id": "84923661",
   "metadata": {},
   "source": [
    "## String interpolation\n",
    "\n",
    "Often you will want to print values stored in variables. You've already seen that you can concatenate strings and vairables using `+`:"
   ]
  },
  {
   "cell_type": "code",
   "execution_count": null,
   "id": "2ca0eef7",
   "metadata": {},
   "outputs": [],
   "source": [
    "print(\"Hello \" + name + \"!\")"
   ]
  },
  {
   "cell_type": "markdown",
   "id": "3abcdf61",
   "metadata": {},
   "source": [
    "However, this quickly becomes tedious and even problematic:"
   ]
  },
  {
   "cell_type": "code",
   "execution_count": null,
   "id": "f46289e1",
   "metadata": {},
   "outputs": [],
   "source": [
    "print(name + \" is \" + age + \" years old\")"
   ]
  },
  {
   "cell_type": "markdown",
   "id": "b099224e",
   "metadata": {},
   "source": [
    "Python complains because it's not possible to add an integer to a string. So instead, we should use one of Python's *three* ways of interpolating strings:\n",
    "\n",
    " * f-Strings\n",
    " * \"old-style string interpolation\" (using `%`)\n",
    " * the `.format()` function\n",
    " \n",
    "These days, f-strings are the way to go, so today, we'll only look at those."
   ]
  },
  {
   "cell_type": "code",
   "execution_count": null,
   "id": "e8009c53",
   "metadata": {},
   "outputs": [],
   "source": [
    "period = \"years\"\n",
    "print(f\"{name} is {age} {period} old\")"
   ]
  },
  {
   "cell_type": "markdown",
   "id": "9e2998ee",
   "metadata": {},
   "source": [
    "String interpolation also gives you the ability to format individual values differently via the *Format String Syntax* (https://docs.python.org/3/library/string.html#format-string-syntax)\n",
    "\n",
    "Probably the most common use is to format numbers. Here's an example where a floating point number is formatted, so that the number will be 6 digits long (including the decimal point, padding with leading zeroes if necessary) and have 2 digits after the decimal point:"
   ]
  },
  {
   "cell_type": "code",
   "execution_count": null,
   "id": "db1062de",
   "metadata": {},
   "outputs": [],
   "source": [
    "age = 33.711922\n",
    "print(f\"{name} is {age:06.2f} years old\")"
   ]
  },
  {
   "cell_type": "markdown",
   "id": "a3152593-863b-47fc-9f19-808d6d97b827",
   "metadata": {},
   "source": [
    "Let's revisit our `birthday_as_string` function:"
   ]
  },
  {
   "cell_type": "code",
   "execution_count": null,
   "id": "efb77d28-a33e-4a8e-a341-26bbc0b8ba54",
   "metadata": {},
   "outputs": [],
   "source": [
    "def birthday_as_string(year, month, day):\n",
    "    return f\"{day}.{month}.{year}\"\n",
    "birthday_as_string(1952,8,19)"
   ]
  },
  {
   "cell_type": "markdown",
   "id": "a891eeac-99c8-45fe-b554-55548258ac51",
   "metadata": {},
   "source": [
    "At least around these parts of the world, you would expect the month to always comprise two digits (i.e., with a leading `0`). Using *printf-style* formatting, we can specify that the month should always be formatted using 2 digits, using `0` as the padding character:"
   ]
  },
  {
   "cell_type": "code",
   "execution_count": null,
   "id": "5369de49-254d-4cbd-a6bf-5c5cc67c3a08",
   "metadata": {},
   "outputs": [],
   "source": [
    "def birthday_as_string(year, month, day):\n",
    "    return f\"{day}.{month:02}.{year}\"\n",
    "birthday_as_string(1952,8,19)"
   ]
  },
  {
   "cell_type": "markdown",
   "id": "2a45bfcc-c777-45b8-a4a7-6938563d1066",
   "metadata": {},
   "source": [
    "You don't need to know the string formatting syntax by heart! For now, just remember that it exists, and that you don't need to write a lot of code to change how numbers are formatted."
   ]
  },
  {
   "cell_type": "markdown",
   "id": "c480457f-a96d-410a-bcaa-248a531ad951",
   "metadata": {},
   "source": [
    "# Understanding error messages and finding help\n",
    "\n",
    "Programming comes with a 100% guarantee for errors and ensuing frustration. Let's review the error message from before:"
   ]
  },
  {
   "cell_type": "code",
   "execution_count": null,
   "id": "0ee267d4-24b7-4a79-bd04-4dd764b2b3d4",
   "metadata": {},
   "outputs": [],
   "source": [
    "name = \"Alice\"\n",
    "age = 44\n",
    "print(name + \" is \" + age + \" years old\")"
   ]
  },
  {
   "cell_type": "markdown",
   "id": "9446fd74-442b-4923-8219-0ae8bba4dfa6",
   "metadata": {},
   "source": [
    "Generally, Python will try to help you out by giving you a code location and error message (typically the last line). You will want to enter that error into a search engine if you don't know what's happening."
   ]
  },
  {
   "cell_type": "markdown",
   "id": "956d0d7c",
   "metadata": {},
   "source": [
    "# Collections\n",
    "\n",
    "Collections are composite data structures that can contain other kinds of data and provide *some* structure and functionality out of the box. Different kinds of collections are suitable for different kinds of purposes."
   ]
  },
  {
   "cell_type": "markdown",
   "id": "77ebb391",
   "metadata": {},
   "source": [
    "## Tuples\n",
    "Tuples are *array-like* collections which have a **fixed order** and **fixed length**. In Python, a tuple can contain a mix of arbitrary types; duplicate values are fine, too."
   ]
  },
  {
   "cell_type": "code",
   "execution_count": null,
   "id": "ce60801a-51ae-4914-9046-dc49a36b68d6",
   "metadata": {},
   "outputs": [],
   "source": [
    "stuff = (\"!\", 2, 2, 5.5, \"Hello\", True, None)\n",
    "stuff"
   ]
  },
  {
   "cell_type": "markdown",
   "id": "a16e455e-51c2-4b25-8501-667025a4273c",
   "metadata": {},
   "source": [
    "## Indices and Slicing\n",
    "\n",
    "Use brackets to access tuple or string elements; note that the first element is at index `0`"
   ]
  },
  {
   "cell_type": "code",
   "execution_count": null,
   "id": "a74c92f9-5282-47e1-88c6-cb200c4f4dff",
   "metadata": {},
   "outputs": [],
   "source": [
    "stuff[4] + stuff[0]"
   ]
  },
  {
   "cell_type": "markdown",
   "id": "0c9c6f78-813d-4a23-9c29-255a51b1b8b4",
   "metadata": {},
   "source": [
    "You can also use negative indices, which will be counted from the rear:"
   ]
  },
  {
   "cell_type": "code",
   "execution_count": null,
   "id": "9a2a3b2f-ebc0-46f7-8d54-856f008370b6",
   "metadata": {},
   "outputs": [],
   "source": [
    "stuff[-3] + stuff[-7]"
   ]
  },
  {
   "cell_type": "markdown",
   "id": "a5c50592-9bd5-4ce2-9f34-2d8425b03860",
   "metadata": {},
   "source": [
    "Instead of just selecting one element, you can also select entire ranges of values:"
   ]
  },
  {
   "cell_type": "code",
   "execution_count": null,
   "id": "484fc9f8-8d92-4bb1-92e9-ba031c3b380c",
   "metadata": {},
   "outputs": [],
   "source": [
    "stuff[1:4]"
   ]
  },
  {
   "cell_type": "markdown",
   "id": "daa3f5c5-46cd-47ad-a387-c9945ae2ca19",
   "metadata": {},
   "source": [
    "Here's an example of using the built-in `sum` function, which takes an iterable (for example, a tuple) of numbers and sums them:"
   ]
  },
  {
   "cell_type": "code",
   "execution_count": null,
   "id": "5cb00969-c919-4b02-904d-dac3256d8572",
   "metadata": {},
   "outputs": [],
   "source": [
    "sum(stuff[1:4])"
   ]
  },
  {
   "cell_type": "markdown",
   "id": "fa72f245-b1f4-4936-b039-dd96b81ef6d3",
   "metadata": {},
   "source": [
    "Note that of the two numbers used in defining the slice, the first index is included in the slice, while the second index is excluded, i.e. the range `[1:4]` will contain the second, third and fourth element, but not the fifth.\n",
    "\n",
    "You can also omit the first or last index (or both!) and Python will just go until the beginning or end:"
   ]
  },
  {
   "cell_type": "code",
   "execution_count": null,
   "id": "00302e1b-44a8-4274-bb9f-23068926ad97",
   "metadata": {},
   "outputs": [],
   "source": [
    "stuff[:3]"
   ]
  },
  {
   "cell_type": "code",
   "execution_count": null,
   "id": "ba9b7838-04d6-420d-b176-13817499fd77",
   "metadata": {},
   "outputs": [],
   "source": [
    "stuff[:]"
   ]
  },
  {
   "cell_type": "markdown",
   "id": "6ac11edf-4ea5-4179-9bbd-1bbb4e9722f8",
   "metadata": {},
   "source": [
    "Finally, you can get the length of a tuple or string using the `len` function:"
   ]
  },
  {
   "cell_type": "code",
   "execution_count": null,
   "id": "250127d1-59d8-48dd-aff4-c98b6aba22d0",
   "metadata": {},
   "outputs": [],
   "source": [
    "len(stuff)"
   ]
  },
  {
   "cell_type": "markdown",
   "id": "64f52db4-85c1-4c44-a9ee-f3f2c1e0d467",
   "metadata": {},
   "source": [
    "All of the above is true for strings as well:"
   ]
  },
  {
   "cell_type": "code",
   "execution_count": null,
   "id": "480c4947-f51c-4ffb-9701-f3b910ddee55",
   "metadata": {},
   "outputs": [],
   "source": [
    "sentence = \"Hello, World!\"\n",
    "sentence[1]"
   ]
  },
  {
   "cell_type": "code",
   "execution_count": null,
   "id": "58c07210-16f4-4d30-903e-d476cd73d6ba",
   "metadata": {},
   "outputs": [],
   "source": [
    "sentence[-1]"
   ]
  },
  {
   "cell_type": "code",
   "execution_count": null,
   "id": "ead0ed30-0aa0-47af-a7a4-a2dee3671b69",
   "metadata": {},
   "outputs": [],
   "source": [
    "sentence[3:5]"
   ]
  },
  {
   "cell_type": "code",
   "execution_count": null,
   "id": "5ee54103-8f2a-434e-bf8c-9f4417bc5d09",
   "metadata": {},
   "outputs": [],
   "source": [
    "sentence[-6:]"
   ]
  },
  {
   "cell_type": "code",
   "execution_count": null,
   "id": "163e369f-391d-498b-89e8-3b597c7c781b",
   "metadata": {},
   "outputs": [],
   "source": [
    "len(sentence)"
   ]
  },
  {
   "cell_type": "markdown",
   "id": "4be357ac-61d2-4038-9e36-447a0dc0df1a",
   "metadata": {},
   "source": [
    "Here's how I visualize indices, maybe it also works for you: instead of considering the index numbers to be pointing *at* an element, I consider them pointing at the *gap* just before the referenced element. This works for both positive and negative indices:\n",
    "\n",
    "<div>\n",
    "<img src=\"indices.png\" width=\"200\"/>\n",
    "</div> "
   ]
  },
  {
   "cell_type": "markdown",
   "id": "e470715c-39d1-4a67-9e2b-9839346617a8",
   "metadata": {},
   "source": [
    "<span style=\"color:purple;font-weight:bold\">Exercise</span>\n",
    "\n",
    "Write a function `replace_prefix` which takes two strings `sentence` and `prefix` as parameters. The function should replace the first $n$ characters of `sentence` with `prefix` where $n$ corresponds to the length of `prefix`. You may assume that `sentence` is always at least as long as `prefix`. See the given expressions (which should all be `True`) for how the function should behave."
   ]
  },
  {
   "cell_type": "code",
   "execution_count": null,
   "id": "dcc95851-15ed-4b7f-85b9-6d5d577df660",
   "metadata": {
    "scrolled": true
   },
   "outputs": [],
   "source": [
    "# exercise solution\n",
    "\n",
    "#print(replace_prefix(\"abcdef\", \"xyz\") == \"xyzdef\")\n",
    "#print(replace_prefix(\"What is this?\", \"This\") == \"This is this?\")"
   ]
  },
  {
   "cell_type": "markdown",
   "id": "37dbf166",
   "metadata": {},
   "source": [
    "### Collection unpacking\n",
    "\n",
    "We saw before that you can assign multiple variables on one line using commas. The same can be done with collections: specify the correct number of variable names on the left side and provide a collection with the same length on the right side."
   ]
  },
  {
   "cell_type": "code",
   "execution_count": null,
   "id": "539945e0",
   "metadata": {},
   "outputs": [],
   "source": [
    "record = (\"Alice\", 33, \"alice@example.org\")\n",
    "name, age, email = record\n",
    "print(email)"
   ]
  },
  {
   "cell_type": "markdown",
   "id": "6abf89ab-100a-49f8-8570-c055f0bc26ee",
   "metadata": {},
   "source": [
    "## Mutable vs. Immutable\n",
    "\n",
    "Mutable means that data can be changed; immutable is the opposite: once something has been defined, it cannot be changed. We'll discuss the implications of this in a later lecture, but for now just be aware that some types in Python are inherently immutable.\n",
    "\n",
    "The most prominent example for an **immutable** type is `str`: Strings cannot actually be changed, once they have been created.\n"
   ]
  },
  {
   "cell_type": "code",
   "execution_count": null,
   "id": "9ab5c3ce-fe29-4db6-a7a8-c128ff3f6496",
   "metadata": {},
   "outputs": [],
   "source": [
    "sentence = \"Hello\"\n",
    "print(sentence[0])"
   ]
  },
  {
   "cell_type": "code",
   "execution_count": null,
   "id": "1e287935-df74-4886-8521-9499f197956c",
   "metadata": {},
   "outputs": [],
   "source": [
    "sentence[0] = \"Y\""
   ]
  },
  {
   "cell_type": "markdown",
   "id": "e5e0e010-000a-48bd-b3b8-55dd9e3706f3",
   "metadata": {},
   "source": [
    "\n",
    "But what about the functions like `lower` or `capitalize` that we just saw? These are **not changing** the string itself, they are actually **returning a new** string!\n",
    "\n",
    "This becomes readily apparent, when we use these functions on a string variable:"
   ]
  },
  {
   "cell_type": "code",
   "execution_count": null,
   "id": "e9886ff7-0508-493e-b2b3-6d9505a47aa4",
   "metadata": {},
   "outputs": [],
   "source": [
    "name = \"aLiCe\"\n",
    "name.capitalize()\n",
    "print(name)"
   ]
  },
  {
   "cell_type": "markdown",
   "id": "9bfb0c20-293c-4e7f-b902-149aa32e42e2",
   "metadata": {},
   "source": [
    "It appears, as if `name.capitalize()` did not have any effect! That's because the string stored in `name` cannot be changed, and `capitalize()` does not change it. Strings are immutable! `capitalize()` instead **returns** a new string as a result. To use the changed value, we have to reassign it:"
   ]
  },
  {
   "cell_type": "code",
   "execution_count": null,
   "id": "6ec3b81e-13e2-4d02-a57e-4c1f98d6ea00",
   "metadata": {},
   "outputs": [],
   "source": [
    "name = \"aLiCe\"\n",
    "name = name.capitalize()\n",
    "print(name)"
   ]
  },
  {
   "cell_type": "markdown",
   "id": "61b36d17-671a-499a-866c-61917b4b1107",
   "metadata": {},
   "source": [
    "Tuples are also immutable:"
   ]
  },
  {
   "cell_type": "code",
   "execution_count": null,
   "id": "a946528a-2766-450b-a5e3-ad8d0dbce176",
   "metadata": {},
   "outputs": [],
   "source": [
    "stuff = (\"!\", 2, 2, 5.5, \"Hello\", True, None)\n",
    "print(stuff[1])"
   ]
  },
  {
   "cell_type": "code",
   "execution_count": null,
   "id": "200b1383-6e29-4394-ad79-9390a517bd7f",
   "metadata": {},
   "outputs": [],
   "source": [
    "stuff[2] = 200"
   ]
  },
  {
   "cell_type": "markdown",
   "id": "bff30233-189e-4876-af03-0b1a2ac71012",
   "metadata": {},
   "source": [
    "Immutability exists for several good reasons to do with performance and error-avoidance, and we'll discuss them in more detail in a future lecture.\n",
    "\n",
    "For now, just remember that strings and tuples are immutable."
   ]
  },
  {
   "cell_type": "markdown",
   "id": "25079452-a2ad-4f32-97bd-64873be3168c",
   "metadata": {},
   "source": [
    "## Lists\n",
    "Python offers *lists* as an alternative to tuples which *is* mutable. That means that lists have a **fixed order**, but **no fixed length**."
   ]
  },
  {
   "cell_type": "code",
   "execution_count": null,
   "id": "a22f1223-7b36-4b01-a180-6309290f5763",
   "metadata": {},
   "outputs": [],
   "source": [
    "stuff = [\"!\", 2, 2, 5.5, \"Hello\", True, None]\n",
    "stuff"
   ]
  },
  {
   "cell_type": "markdown",
   "id": "22114b3d-fcd9-42e2-8b7a-7cfcb8d1aa3c",
   "metadata": {},
   "source": [
    "Visibly, the only difference is that we use square brackets instead of braces. The usual indexing and slicing operators all work on lists, too:"
   ]
  },
  {
   "cell_type": "code",
   "execution_count": null,
   "id": "eb6b6532-9fea-4190-8f2d-00129a7ec298",
   "metadata": {},
   "outputs": [],
   "source": [
    "print(stuff[4] + stuff[0])\n",
    "print(stuff[-2:])"
   ]
  },
  {
   "cell_type": "markdown",
   "id": "5ae6fd6b-83fb-4b9c-9249-cbcb74ccaebd",
   "metadata": {},
   "source": [
    "But in contrast to tuples, this list can be modified. For example, you could re-assign an element at a specific index:"
   ]
  },
  {
   "cell_type": "code",
   "execution_count": null,
   "id": "5c5f0227-7011-4a7e-a64d-dafced9a8484",
   "metadata": {},
   "outputs": [],
   "source": [
    "stuff[0] = \"???\""
   ]
  },
  {
   "cell_type": "markdown",
   "id": "0e5a1d8c-a677-4757-b3fd-48fd05e36ddf",
   "metadata": {},
   "source": [
    "Now the first element has been replaced:"
   ]
  },
  {
   "cell_type": "code",
   "execution_count": null,
   "id": "c91c8155-8e29-4e79-ad7d-92b6193d6c74",
   "metadata": {},
   "outputs": [],
   "source": [
    "print(stuff)"
   ]
  },
  {
   "cell_type": "markdown",
   "id": "0550dd0a-3c05-49a5-b7b1-558d824ee21b",
   "metadata": {},
   "source": [
    "You can also add or remove elements:"
   ]
  },
  {
   "cell_type": "code",
   "execution_count": null,
   "id": "b1915187-37da-4669-88ee-4dbed65e8380",
   "metadata": {},
   "outputs": [],
   "source": [
    "stuff.append(\"More stuff\")\n",
    "stuff"
   ]
  },
  {
   "cell_type": "code",
   "execution_count": null,
   "id": "35b04c5a-c9c1-471a-865b-42b2aaab64dd",
   "metadata": {},
   "outputs": [],
   "source": [
    "stuff.append([\"another list with\", \"more\", \"elements\"])\n",
    "stuff"
   ]
  },
  {
   "cell_type": "code",
   "execution_count": null,
   "id": "03a69acd-48e5-4540-817e-bf0c0bd66fbd",
   "metadata": {},
   "outputs": [],
   "source": [
    "stuff.remove(2)   # Removes the first matching element\n",
    "stuff"
   ]
  },
  {
   "cell_type": "code",
   "execution_count": null,
   "id": "4bd0161d-8603-4d95-8e6f-ef1ae81eb7e6",
   "metadata": {},
   "outputs": [],
   "source": [
    "del(stuff[2])     # Removes an element at a specific index\n",
    "stuff"
   ]
  },
  {
   "cell_type": "markdown",
   "id": "4f3db183-db3e-4800-b8ce-b0f95730cbc8",
   "metadata": {},
   "source": [
    "### Tuple or List?\n",
    "\n",
    "Tuples and lists are very similar. As a rule of thumb, use tuples if you're not going to modify the data. We're going to discuss the intricacies of immutability in another lecture."
   ]
  },
  {
   "cell_type": "markdown",
   "id": "bd99eb86-1a93-4c38-bd48-8443c6d6ea76",
   "metadata": {},
   "source": [
    "<span style=\"color:purple;font-weight:bold\">Exercise</span>\n",
    "\n",
    "The following list `source` is given. Use assignment, `add`, `remove` and/or `del`, or any other means to transform the list so that is becomes equivalent to `target`. Do not reassign `source`!"
   ]
  },
  {
   "cell_type": "code",
   "execution_count": null,
   "id": "00804516-9256-461f-a129-60589bac25d6",
   "metadata": {},
   "outputs": [],
   "source": [
    "# exercise solution\n",
    "\n",
    "source = [2, 1, 1, \"Hello\", True, print, (1,2,3)]\n",
    "target = [1, (1,2,3), \"Hello\", True]\n",
    "\n",
    "# Modify source until it matches target:\n",
    "# ...\n",
    "\n",
    "# You can print source to see the modifications:\n",
    "print(source)\n",
    "\n",
    "# This should then be True\n",
    "source == target"
   ]
  },
  {
   "cell_type": "markdown",
   "id": "0332f651-eefe-4b09-a06e-732835fea2da",
   "metadata": {},
   "source": [
    "# Set\n",
    "\n",
    "Sets are just that: sets of values in the mathematical sense:\n",
    " * Values in a set do not have any particular ordering\n",
    " * Each unique value appears in the set exactly once"
   ]
  },
  {
   "cell_type": "code",
   "execution_count": null,
   "id": "fac12e2f-fcbd-402c-997b-ab70b8e460a1",
   "metadata": {},
   "outputs": [],
   "source": [
    "colors = {\"Red\", \"Blue\", \"Green\"}"
   ]
  },
  {
   "cell_type": "markdown",
   "id": "428da593-fb35-4560-a642-ef460b95faf8",
   "metadata": {},
   "source": [
    "Sets in Python are *mutable*, so you can add and remove elements:"
   ]
  },
  {
   "cell_type": "code",
   "execution_count": null,
   "id": "40f95946-8ac6-453c-9bbf-a7cc30cbd605",
   "metadata": {},
   "outputs": [],
   "source": [
    "colors.add(\"Yellow\")\n",
    "colors.remove(\"Red\")\n",
    "colors"
   ]
  },
  {
   "cell_type": "markdown",
   "id": "39bba8c9-45a2-4102-9c86-5997f304eee9",
   "metadata": {},
   "source": [
    "And because it's a set, adding the same value again has no effect:"
   ]
  },
  {
   "cell_type": "code",
   "execution_count": null,
   "id": "9f0816ab-538a-46dc-b2ec-208b65117c07",
   "metadata": {},
   "outputs": [],
   "source": [
    "colors.add(\"Yellow\")\n",
    "colors"
   ]
  },
  {
   "cell_type": "markdown",
   "id": "19ff1615-4397-4c38-a4de-3c7218b031f0",
   "metadata": {},
   "source": [
    "Just like with tuples and lists, you can use the `in` keyword to check if a value is contained in a set:"
   ]
  },
  {
   "cell_type": "code",
   "execution_count": null,
   "id": "e1dc0849-0b37-4c3e-a925-aba6c59b831e",
   "metadata": {},
   "outputs": [],
   "source": [
    "\"Blue\" in colors"
   ]
  },
  {
   "cell_type": "markdown",
   "id": "994cbc72-5573-499b-887b-6afd478901a2",
   "metadata": {},
   "source": [
    "# (Almost) empty collections\n",
    "\n",
    "If you ever need to create empty collections, you need to know the following syntax. Create an empty list:"
   ]
  },
  {
   "cell_type": "code",
   "execution_count": null,
   "id": "180b4b5e-5193-4ed5-91d9-76959c7e0978",
   "metadata": {},
   "outputs": [],
   "source": [
    "l = []"
   ]
  },
  {
   "cell_type": "markdown",
   "id": "cc454351-a30b-4403-b2fd-ba3ecc96442a",
   "metadata": {},
   "source": [
    "Here's an empty tuple:"
   ]
  },
  {
   "cell_type": "code",
   "execution_count": null,
   "id": "61cd3a21-07f8-4ba4-aca0-d6d4fe549da5",
   "metadata": {
    "scrolled": true
   },
   "outputs": [],
   "source": [
    "t = ()"
   ]
  },
  {
   "cell_type": "markdown",
   "id": "77e0c723-7e1a-4be5-a9c2-e453c156e140",
   "metadata": {},
   "source": [
    "Tuples are a bit special, because they use the same braces that are used for other things in Python. Consider this:"
   ]
  },
  {
   "cell_type": "code",
   "execution_count": null,
   "id": "ee036cf3-0999-47fb-9154-33325ff9c93f",
   "metadata": {},
   "outputs": [],
   "source": [
    "t = (3)"
   ]
  },
  {
   "cell_type": "markdown",
   "id": "0121cd53-76ff-4061-b8b6-803500234ed3",
   "metadata": {},
   "source": [
    "Is this a tuple containing a single integer? Actually, no:"
   ]
  },
  {
   "cell_type": "code",
   "execution_count": null,
   "id": "477a8f38-66ba-46ec-bd20-93820d5742db",
   "metadata": {},
   "outputs": [],
   "source": [
    "t"
   ]
  },
  {
   "cell_type": "markdown",
   "id": "eb1aa369-e3d5-4b5a-8c70-7ff2f1072285",
   "metadata": {},
   "source": [
    "It's just the number `3`. Why? Well, Python cannot really tell the difference between braces used to enclose expressions and braces used to create a tuple."
   ]
  },
  {
   "cell_type": "code",
   "execution_count": null,
   "id": "33022d4e-a853-4a2d-b8a3-3cb9911af24f",
   "metadata": {},
   "outputs": [],
   "source": [
    "t = (((3) + (2)) * (5))\n",
    "t"
   ]
  },
  {
   "cell_type": "markdown",
   "id": "88e8c4d7-cc00-4ab7-a0c4-eb70c256e793",
   "metadata": {},
   "source": [
    "So if you really want to create a tuple that only contains a single value, you need to use the following syntax:"
   ]
  },
  {
   "cell_type": "code",
   "execution_count": null,
   "id": "bc688b64-bd2e-40a0-86fb-25303a53349e",
   "metadata": {},
   "outputs": [],
   "source": [
    "t = (3,)\n",
    "t"
   ]
  },
  {
   "cell_type": "markdown",
   "id": "bcec6148-5544-4c99-be40-06e64b59cfff",
   "metadata": {},
   "source": [
    "Similarily, you might notice that an empty dictionary and an empty set would \"look\" the same, something like `{}`? So while you can create an empty dictionary using this notation, you will need to use the built-in `set()` function to create an empty set:"
   ]
  },
  {
   "cell_type": "code",
   "execution_count": null,
   "id": "0bde0af7-8dfc-4776-9471-a14ecb81fc4e",
   "metadata": {},
   "outputs": [],
   "source": [
    "s = set()\n",
    "s.add(\"Red\")\n",
    "s"
   ]
  },
  {
   "cell_type": "markdown",
   "id": "75292049-aadc-4c3a-b7a7-3af71303e545",
   "metadata": {},
   "source": [
    "# A note about the shell and `print`\n",
    "\n",
    "When you type an expression into the Python shell, Python will evaluate the expression and show the resulting value on your command line. This is NOT the same thing as using the `print` function! If you use the print function, it will *also* print to the command line, but the in any case, the *result* of the entered expression is always shown at the end.\n",
    "\n",
    "The Jupyter notebook works similarily, showing the result of the expression. Understand that only the result of the *entire* code is shown, not each individual expression. In other words, only the result of the last statement is shown. See these examples:"
   ]
  },
  {
   "cell_type": "code",
   "execution_count": null,
   "id": "54f16880",
   "metadata": {},
   "outputs": [],
   "source": [
    "print(\"hello\")\n",
    "3.5+1"
   ]
  },
  {
   "cell_type": "code",
   "execution_count": null,
   "id": "70150690-9213-46a5-acc7-3f0af2a478f3",
   "metadata": {},
   "outputs": [],
   "source": [
    "2+1\n",
    "5+10\n",
    "5+4"
   ]
  },
  {
   "cell_type": "markdown",
   "id": "5247cbbf",
   "metadata": {},
   "source": [
    "However, this only makes sense in the contex of using Jupyter or the interactive Python shell. If you would save these snippets in a file `example.py` and run it as `python example.py`, then only \"hello\" would be printed on your command line!"
   ]
  },
  {
   "cell_type": "markdown",
   "id": "f40238ae-9448-465d-a613-195a0da1e038",
   "metadata": {},
   "source": [
    "<span style=\"color:purple;font-weight:bold\">Exercise</span>\n",
    "\n",
    " 1. Evaluate the expression `1+10`\n",
    " 2. Evaluate the expression `'A'`\n",
    " 3. Execute a statement that prints `'A'`\n",
    "\n",
    "Recognize the reason why both 2. and 3. *look similar*: Python evaluates the expression `'B'` and prints the result, which is just `'B'`. Python also evaluates the expression `print('A')` which explicitely prints the value given to the function (even when not using Jupyter or the interactive Python command line) but otherwise doesn't evaluate to anything, so `A` is all you see."
   ]
  },
  {
   "cell_type": "code",
   "execution_count": null,
   "id": "7ee2ada2-3b13-4818-a766-51e78ff40765",
   "metadata": {},
   "outputs": [],
   "source": [
    "# excercise solution"
   ]
  },
  {
   "cell_type": "markdown",
   "id": "fe62518b-4cb0-49dc-a09c-9f74fb2c06ae",
   "metadata": {},
   "source": [
    "# What you learned today\n",
    "\n",
    "* Functions: they take zero or more parameters and return something: **Learn to recognize the input/output (params & types) of a function**\n",
    "* What is an expression?\n",
    "* Basic numbers: `int`, `float`\n",
    "* Booleans, `and`/`or` and *shortcircuiting*\n",
    "* Check the type of a value using the `type(...)` function\n",
    "* Imports (`from module import something`)\n",
    "* How to create and operate on strings\n",
    "* Variables\n",
    "* String interpolation (*f-strings*)\n",
    "* Mutable vs. Immutable\n",
    "* Collections:\n",
    "  * Tuples and Lists\n",
    "  * Sets\n",
    "\n",
    "If some or all of this is new to you, please take 2-3 hours to go through this tutorial one more time.\n",
    " 1. Modify code snippets to see how the outcome changes\n",
    " 2. Write and execute your own snippets\n",
    " 3. If you run into errors, look up the error message and find the related documentation in the Python API\n"
   ]
  }
 ],
 "metadata": {
  "authors": [
   {
    "name": "Carol V. Alexandru-Funakoshi"
   }
  ],
  "kernelspec": {
   "display_name": "Python 3 (ipykernel)",
   "language": "python",
   "name": "python3"
  },
  "language_info": {
   "codemirror_mode": {
    "name": "ipython",
    "version": 3
   },
   "file_extension": ".py",
   "mimetype": "text/x-python",
   "name": "python",
   "nbconvert_exporter": "python",
   "pygments_lexer": "ipython3",
   "version": "3.12.4"
  },
  "title": "Info1 Python Tutorial - Part I"
 },
 "nbformat": 4,
 "nbformat_minor": 5
}
