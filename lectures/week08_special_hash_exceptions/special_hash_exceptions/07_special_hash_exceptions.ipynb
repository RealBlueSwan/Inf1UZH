{
 "cells": [
  {
   "cell_type": "markdown",
   "id": "e994c3df-9a22-4d83-810f-909947e7352d",
   "metadata": {},
   "source": [
    "# Office Hours\n",
    "\n",
    "Thursday's office hours have been moved to Center Campus, 12:15 in KO2-F-155\n",
    "\n",
    "# Midterm\n",
    "\n",
    "Your results will be ready when they're ready :o)\n"
   ]
  },
  {
   "cell_type": "markdown",
   "id": "abbed1b8-ee3d-413d-b50d-fb8d24cb093c",
   "metadata": {},
   "source": [
    "# Reflection\n",
    "\n",
    "We recently touched upon **reflection**, when we determined the name of a class:"
   ]
  },
  {
   "cell_type": "code",
   "execution_count": 1,
   "id": "28c86129-bf9a-4590-aa49-3f6ef6a27e37",
   "metadata": {},
   "outputs": [
    {
     "name": "stdout",
     "output_type": "stream",
     "text": [
      "Something\n"
     ]
    }
   ],
   "source": [
    "class Something:\n",
    "    pass\n",
    "\n",
    "s = Something()\n",
    "print(s.__class__.__name__)"
   ]
  },
  {
   "cell_type": "markdown",
   "id": "e4c58787-2d5e-41cb-a309-f6bfc5593858",
   "metadata": {},
   "source": [
    "Using reflection, given some arbitrary value, you can figure out various things about it. You already know how to determine the type of a value:"
   ]
  },
  {
   "cell_type": "code",
   "execution_count": 2,
   "id": "6225573d-0ed6-41ba-a1c3-fdd6b7c8169c",
   "metadata": {},
   "outputs": [
    {
     "data": {
      "text/plain": [
       "str"
      ]
     },
     "execution_count": 2,
     "metadata": {},
     "output_type": "execute_result"
    }
   ],
   "source": [
    "some_val = \"hello\"\n",
    "type(some_val)"
   ]
  },
  {
   "cell_type": "code",
   "execution_count": 3,
   "id": "7e6a474f-9aa1-483f-a015-463d090941a2",
   "metadata": {},
   "outputs": [
    {
     "data": {
      "text/plain": [
       "int"
      ]
     },
     "execution_count": 3,
     "metadata": {},
     "output_type": "execute_result"
    }
   ],
   "source": [
    "type(1)"
   ]
  },
  {
   "cell_type": "markdown",
   "id": "8bb12db4-2a06-485c-b02c-971aa6a270af",
   "metadata": {},
   "source": [
    "This is a very simple form of reflection. However, Python will readily tell you much more about an object. For example, you can use the `dir` function to get a list of all the members (attributes and methods) of an object:"
   ]
  },
  {
   "cell_type": "code",
   "execution_count": 4,
   "id": "8b5fdc67-cf3d-4d19-9cc4-315bad9114b2",
   "metadata": {},
   "outputs": [
    {
     "data": {
      "text/plain": [
       "['__add__',\n",
       " '__class__',\n",
       " '__contains__',\n",
       " '__delattr__',\n",
       " '__dir__',\n",
       " '__doc__',\n",
       " '__eq__',\n",
       " '__format__',\n",
       " '__ge__',\n",
       " '__getattribute__',\n",
       " '__getitem__',\n",
       " '__getnewargs__',\n",
       " '__getstate__',\n",
       " '__gt__',\n",
       " '__hash__',\n",
       " '__init__',\n",
       " '__init_subclass__',\n",
       " '__iter__',\n",
       " '__le__',\n",
       " '__len__',\n",
       " '__lt__',\n",
       " '__mod__',\n",
       " '__mul__',\n",
       " '__ne__',\n",
       " '__new__',\n",
       " '__reduce__',\n",
       " '__reduce_ex__',\n",
       " '__repr__',\n",
       " '__rmod__',\n",
       " '__rmul__',\n",
       " '__setattr__',\n",
       " '__sizeof__',\n",
       " '__str__',\n",
       " '__subclasshook__',\n",
       " 'capitalize',\n",
       " 'casefold',\n",
       " 'center',\n",
       " 'count',\n",
       " 'encode',\n",
       " 'endswith',\n",
       " 'expandtabs',\n",
       " 'find',\n",
       " 'format',\n",
       " 'format_map',\n",
       " 'index',\n",
       " 'isalnum',\n",
       " 'isalpha',\n",
       " 'isascii',\n",
       " 'isdecimal',\n",
       " 'isdigit',\n",
       " 'isidentifier',\n",
       " 'islower',\n",
       " 'isnumeric',\n",
       " 'isprintable',\n",
       " 'isspace',\n",
       " 'istitle',\n",
       " 'isupper',\n",
       " 'join',\n",
       " 'ljust',\n",
       " 'lower',\n",
       " 'lstrip',\n",
       " 'maketrans',\n",
       " 'partition',\n",
       " 'removeprefix',\n",
       " 'removesuffix',\n",
       " 'replace',\n",
       " 'rfind',\n",
       " 'rindex',\n",
       " 'rjust',\n",
       " 'rpartition',\n",
       " 'rsplit',\n",
       " 'rstrip',\n",
       " 'split',\n",
       " 'splitlines',\n",
       " 'startswith',\n",
       " 'strip',\n",
       " 'swapcase',\n",
       " 'title',\n",
       " 'translate',\n",
       " 'upper',\n",
       " 'zfill']"
      ]
     },
     "execution_count": 4,
     "metadata": {},
     "output_type": "execute_result"
    }
   ],
   "source": [
    "dir(\"hello\")"
   ]
  },
  {
   "cell_type": "markdown",
   "id": "8fdf3df7-a049-4802-a24f-2838fc32e265",
   "metadata": {},
   "source": [
    "Note that if you create a new class (or function, or any value for that matter...), it ships with a lot of built-in functionality:"
   ]
  },
  {
   "cell_type": "code",
   "execution_count": 5,
   "id": "58de30b1-a060-4039-8ade-570b8611d198",
   "metadata": {},
   "outputs": [
    {
     "name": "stdout",
     "output_type": "stream",
     "text": [
      "<__main__.Person object at 0x105d9cb60>\n",
      "<__main__.Person object at 0x105d9cb60>\n",
      "<__main__.Person object at 0x105d9cb60>\n"
     ]
    }
   ],
   "source": [
    "class Person:\n",
    "    def __init__(self, name):\n",
    "        self.name = name\n",
    "p = Person(\"Bob\")\n",
    "print(p)                  # when printing an object, str(...) is called automatically\n",
    "print(str(p))             # str(...) is just a shorthand for __str__\n",
    "print(Person.__str__(p))  # __str__ is a member of Person even though we did not implement it ourselves - it's inherited from <object>"
   ]
  },
  {
   "cell_type": "markdown",
   "id": "2854fdcf-6a23-4ba8-93e5-736652aba277",
   "metadata": {},
   "source": [
    "You can see here that `Person` already implements `__str__`, because all classes do by default. You can see that the object of type `Person` called `p` has many members already (including __str__, for example, but also the custom `name` that we added ourselves):"
   ]
  },
  {
   "cell_type": "code",
   "execution_count": 6,
   "id": "fff24271-894f-40ef-8850-0ad8927617b1",
   "metadata": {
    "scrolled": true
   },
   "outputs": [
    {
     "data": {
      "text/plain": [
       "['__class__',\n",
       " '__delattr__',\n",
       " '__dict__',\n",
       " '__dir__',\n",
       " '__doc__',\n",
       " '__eq__',\n",
       " '__format__',\n",
       " '__ge__',\n",
       " '__getattribute__',\n",
       " '__getstate__',\n",
       " '__gt__',\n",
       " '__hash__',\n",
       " '__init__',\n",
       " '__init_subclass__',\n",
       " '__le__',\n",
       " '__lt__',\n",
       " '__module__',\n",
       " '__ne__',\n",
       " '__new__',\n",
       " '__reduce__',\n",
       " '__reduce_ex__',\n",
       " '__repr__',\n",
       " '__setattr__',\n",
       " '__sizeof__',\n",
       " '__str__',\n",
       " '__subclasshook__',\n",
       " '__weakref__',\n",
       " 'name']"
      ]
     },
     "execution_count": 6,
     "metadata": {},
     "output_type": "execute_result"
    }
   ],
   "source": [
    "dir(p)"
   ]
  },
  {
   "cell_type": "markdown",
   "id": "bc5e6622-206f-4186-83fd-0a74fdd3408a",
   "metadata": {},
   "source": [
    "Furthermore, note how the `__class__` attribute of a `Person` **instance** `p` points to the actual class `Person`:"
   ]
  },
  {
   "cell_type": "code",
   "execution_count": 7,
   "id": "2e733ff7-ff1f-4fdd-b346-3aeb229c9b70",
   "metadata": {},
   "outputs": [
    {
     "name": "stdout",
     "output_type": "stream",
     "text": [
      "<__main__.Person object at 0x105db0ec0>\n",
      "<class '__main__.Person'>\n",
      "<class '__main__.Person'>\n"
     ]
    },
    {
     "data": {
      "text/plain": [
       "True"
      ]
     },
     "execution_count": 7,
     "metadata": {},
     "output_type": "execute_result"
    }
   ],
   "source": [
    "p = Person(\"Bob\")\n",
    "print(p)\n",
    "print(Person)\n",
    "print(p.__class__)\n",
    "p.__class__ is Person      # same object!"
   ]
  },
  {
   "cell_type": "markdown",
   "id": "184a0358-7160-4d81-836a-96e8810acc4b",
   "metadata": {},
   "source": [
    "Here are all the things that integers support:"
   ]
  },
  {
   "cell_type": "code",
   "execution_count": 8,
   "id": "a3d19901-6faa-4ec9-8933-6b6a44ef6abb",
   "metadata": {
    "scrolled": true
   },
   "outputs": [
    {
     "data": {
      "text/plain": [
       "['__abs__',\n",
       " '__add__',\n",
       " '__and__',\n",
       " '__bool__',\n",
       " '__ceil__',\n",
       " '__class__',\n",
       " '__delattr__',\n",
       " '__dir__',\n",
       " '__divmod__',\n",
       " '__doc__',\n",
       " '__eq__',\n",
       " '__float__',\n",
       " '__floor__',\n",
       " '__floordiv__',\n",
       " '__format__',\n",
       " '__ge__',\n",
       " '__getattribute__',\n",
       " '__getnewargs__',\n",
       " '__getstate__',\n",
       " '__gt__',\n",
       " '__hash__',\n",
       " '__index__',\n",
       " '__init__',\n",
       " '__init_subclass__',\n",
       " '__int__',\n",
       " '__invert__',\n",
       " '__le__',\n",
       " '__lshift__',\n",
       " '__lt__',\n",
       " '__mod__',\n",
       " '__mul__',\n",
       " '__ne__',\n",
       " '__neg__',\n",
       " '__new__',\n",
       " '__or__',\n",
       " '__pos__',\n",
       " '__pow__',\n",
       " '__radd__',\n",
       " '__rand__',\n",
       " '__rdivmod__',\n",
       " '__reduce__',\n",
       " '__reduce_ex__',\n",
       " '__repr__',\n",
       " '__rfloordiv__',\n",
       " '__rlshift__',\n",
       " '__rmod__',\n",
       " '__rmul__',\n",
       " '__ror__',\n",
       " '__round__',\n",
       " '__rpow__',\n",
       " '__rrshift__',\n",
       " '__rshift__',\n",
       " '__rsub__',\n",
       " '__rtruediv__',\n",
       " '__rxor__',\n",
       " '__setattr__',\n",
       " '__sizeof__',\n",
       " '__str__',\n",
       " '__sub__',\n",
       " '__subclasshook__',\n",
       " '__truediv__',\n",
       " '__trunc__',\n",
       " '__xor__',\n",
       " 'as_integer_ratio',\n",
       " 'bit_count',\n",
       " 'bit_length',\n",
       " 'conjugate',\n",
       " 'denominator',\n",
       " 'from_bytes',\n",
       " 'imag',\n",
       " 'is_integer',\n",
       " 'numerator',\n",
       " 'real',\n",
       " 'to_bytes']"
      ]
     },
     "execution_count": 8,
     "metadata": {},
     "output_type": "execute_result"
    }
   ],
   "source": [
    "dir(11)"
   ]
  },
  {
   "cell_type": "markdown",
   "id": "e59323ba-f55a-48d7-80c5-256bed1c6422",
   "metadata": {},
   "source": [
    "Of course, Python provides special syntax for numbers, and we can't just call these methods simply because the syntax forbids it:"
   ]
  },
  {
   "cell_type": "code",
   "execution_count": null,
   "id": "67473e68-ce81-4ad0-a1f9-13bf882f7580",
   "metadata": {},
   "outputs": [],
   "source": [
    "#print(11.__class__)        # SyntaxError"
   ]
  },
  {
   "cell_type": "markdown",
   "id": "2748a0c3-d257-4ddb-a313-1b0c2029baeb",
   "metadata": {},
   "source": [
    "The simple way to get around this is to put braces around the \"syntactically special\" value:"
   ]
  },
  {
   "cell_type": "code",
   "execution_count": 9,
   "id": "b9e1e6c6-4969-4cad-9608-bf0839bb96a8",
   "metadata": {},
   "outputs": [
    {
     "name": "stdout",
     "output_type": "stream",
     "text": [
      "<class 'int'>\n"
     ]
    }
   ],
   "source": [
    "print((11).__class__)"
   ]
  },
  {
   "cell_type": "markdown",
   "id": "373ea6e7-43f6-43c8-a073-bd253c72c76b",
   "metadata": {},
   "source": [
    "Or you could just assign the number to a variable and then use that to refer to the int object's members. Either way, you can see that it, too, like any other object, has a bunch of built-in members:"
   ]
  },
  {
   "cell_type": "code",
   "execution_count": 10,
   "id": "81a26cd3-20b6-4aac-9eaa-8a54a9071371",
   "metadata": {
    "scrolled": true
   },
   "outputs": [
    {
     "name": "stdout",
     "output_type": "stream",
     "text": [
      "<class 'int'>\n"
     ]
    },
    {
     "data": {
      "text/plain": [
       "['__abs__',\n",
       " '__add__',\n",
       " '__and__',\n",
       " '__bool__',\n",
       " '__ceil__',\n",
       " '__class__',\n",
       " '__delattr__',\n",
       " '__dir__',\n",
       " '__divmod__',\n",
       " '__doc__',\n",
       " '__eq__',\n",
       " '__float__',\n",
       " '__floor__',\n",
       " '__floordiv__',\n",
       " '__format__',\n",
       " '__ge__',\n",
       " '__getattribute__',\n",
       " '__getnewargs__',\n",
       " '__getstate__',\n",
       " '__gt__',\n",
       " '__hash__',\n",
       " '__index__',\n",
       " '__init__',\n",
       " '__init_subclass__',\n",
       " '__int__',\n",
       " '__invert__',\n",
       " '__le__',\n",
       " '__lshift__',\n",
       " '__lt__',\n",
       " '__mod__',\n",
       " '__mul__',\n",
       " '__ne__',\n",
       " '__neg__',\n",
       " '__new__',\n",
       " '__or__',\n",
       " '__pos__',\n",
       " '__pow__',\n",
       " '__radd__',\n",
       " '__rand__',\n",
       " '__rdivmod__',\n",
       " '__reduce__',\n",
       " '__reduce_ex__',\n",
       " '__repr__',\n",
       " '__rfloordiv__',\n",
       " '__rlshift__',\n",
       " '__rmod__',\n",
       " '__rmul__',\n",
       " '__ror__',\n",
       " '__round__',\n",
       " '__rpow__',\n",
       " '__rrshift__',\n",
       " '__rshift__',\n",
       " '__rsub__',\n",
       " '__rtruediv__',\n",
       " '__rxor__',\n",
       " '__setattr__',\n",
       " '__sizeof__',\n",
       " '__str__',\n",
       " '__sub__',\n",
       " '__subclasshook__',\n",
       " '__truediv__',\n",
       " '__trunc__',\n",
       " '__xor__',\n",
       " 'as_integer_ratio',\n",
       " 'bit_count',\n",
       " 'bit_length',\n",
       " 'conjugate',\n",
       " 'denominator',\n",
       " 'from_bytes',\n",
       " 'imag',\n",
       " 'is_integer',\n",
       " 'numerator',\n",
       " 'real',\n",
       " 'to_bytes']"
      ]
     },
     "execution_count": 10,
     "metadata": {},
     "output_type": "execute_result"
    }
   ],
   "source": [
    "i = 11\n",
    "print(i.__class__)\n",
    "dir(i.__class__)"
   ]
  },
  {
   "cell_type": "markdown",
   "id": "bf020354-ae69-4253-8906-31108a08a057",
   "metadata": {},
   "source": [
    "For example:"
   ]
  },
  {
   "cell_type": "code",
   "execution_count": 11,
   "id": "744daffb-11f7-4cec-9430-64fd68ad8170",
   "metadata": {},
   "outputs": [
    {
     "name": "stdout",
     "output_type": "stream",
     "text": [
      "<class 'builtin_function_or_method'>\n",
      "b'\\x00'\n",
      "b'\\x01'\n",
      "b'\\x02'\n",
      "b'\\x03'\n",
      "b'\\x04'\n",
      "b'\\x05'\n"
     ]
    }
   ],
   "source": [
    "print(type((3).to_bytes))\n",
    "for i in range(6):\n",
    "    print(i.to_bytes())"
   ]
  },
  {
   "cell_type": "markdown",
   "id": "60515739-909b-4895-a8f7-07e97f2d4e67",
   "metadata": {},
   "source": [
    "# Special Methods\n",
    "\n",
    "By now you will have noticed that there are more \"special methods\" than just `__init__`, `__str__` and `__repr__` which we discussed in previous lectures. You don't need to know about all of them, but a few of them are quite common and important. You can learn all about them in the [Python documentation](https://docs.python.org/3/reference/datamodel.html#special-method-names).\n",
    "\n",
    "Let's see a few examples:\n",
    "\n",
    "## Rich comparison operators\n",
    "\n",
    "You already know that you can compare two integers"
   ]
  },
  {
   "cell_type": "code",
   "execution_count": 12,
   "id": "992a97ec-9988-4668-ac71-7b6a4b114f86",
   "metadata": {},
   "outputs": [
    {
     "data": {
      "text/plain": [
       "True"
      ]
     },
     "execution_count": 12,
     "metadata": {},
     "output_type": "execute_result"
    }
   ],
   "source": [
    "3 > 1"
   ]
  },
  {
   "cell_type": "markdown",
   "id": "22e7f5ae-9e5f-4738-9199-5c9fb4f3a5ea",
   "metadata": {},
   "source": [
    "or also two strings (which will be compared lexicographically)."
   ]
  },
  {
   "cell_type": "code",
   "execution_count": 13,
   "id": "63d3df62-03ca-45c7-b637-3c01539321e1",
   "metadata": {},
   "outputs": [
    {
     "data": {
      "text/plain": [
       "True"
      ]
     },
     "execution_count": 13,
     "metadata": {},
     "output_type": "execute_result"
    }
   ],
   "source": [
    "\"a\" < \"b\""
   ]
  },
  {
   "cell_type": "markdown",
   "id": "b52f0654-122e-460a-8628-5c20292bc913",
   "metadata": {},
   "source": [
    "You also know how calling `print(something)` will internally call `something.__str__()`:"
   ]
  },
  {
   "cell_type": "code",
   "execution_count": 14,
   "id": "99938bb8-abd2-40e2-b76e-1cd2ab058f5a",
   "metadata": {},
   "outputs": [],
   "source": [
    "class Person:\n",
    "    def __init__(self, name, age):\n",
    "        self.name = name\n",
    "        self.age = age\n",
    "        \n",
    "    def __str__(self):\n",
    "        return f\"{self.name} ({self.age})\""
   ]
  },
  {
   "cell_type": "code",
   "execution_count": 15,
   "id": "77a4707f-de3a-4cea-bd87-127ef40d8c3e",
   "metadata": {},
   "outputs": [
    {
     "name": "stdout",
     "output_type": "stream",
     "text": [
      "Bob (33)\n"
     ]
    }
   ],
   "source": [
    "p1 = Person(\"Bob\", 33)\n",
    "print(p1)"
   ]
  },
  {
   "cell_type": "markdown",
   "id": "9e2b14e5-72e0-42df-b392-c19bcdbe519d",
   "metadata": {},
   "source": [
    "Just the same, `some_a > some_b` will internally call `some_a.__gt__(some_b)`. Here are two examples for this:"
   ]
  },
  {
   "cell_type": "code",
   "execution_count": 16,
   "id": "6a6d69ad-e61e-452d-829b-99d3e6d5ba29",
   "metadata": {},
   "outputs": [
    {
     "data": {
      "text/plain": [
       "True"
      ]
     },
     "execution_count": 16,
     "metadata": {},
     "output_type": "execute_result"
    }
   ],
   "source": [
    "(3).__gt__(1)     # same as 3 > 1"
   ]
  },
  {
   "cell_type": "code",
   "execution_count": 17,
   "id": "fb51698b-d544-403d-86da-dc95643401f9",
   "metadata": {},
   "outputs": [
    {
     "data": {
      "text/plain": [
       "True"
      ]
     },
     "execution_count": 17,
     "metadata": {},
     "output_type": "execute_result"
    }
   ],
   "source": [
    "\"A\".__lt__(\"B\")   # same as \"A\" < \"B\""
   ]
  },
  {
   "cell_type": "markdown",
   "id": "a3c08784-a848-4d22-9c10-4b4ceb2d32e6",
   "metadata": {},
   "source": [
    "So the `int` class implements a function `__gt__` (\"greater than\") which takes one additional parameter (\"the other integer\") and returns a boolean. As such, any *comparable* class implements the following methods, which have their corresponding syntactic sugar:\n",
    "\n",
    " * `__gt__` for `>`: **g**reather **t**han\n",
    " * `__lt__` for `<`: **l**ess **t**han\n",
    " * `__ge__` for `>=`: **g**reater than or **e**qual to\n",
    " * `__le__` for `<=`: **l**ess than or **e**qual to\n",
    " * `__eq__` for `==`: **eq**ual to\n",
    " * `__ne__` for `!=`: **n**ot **e**qual to\n",
    "\n",
    "So if we want to make our own classes comparable, we just need to implement those methods. Python is actually clever enough to fill in the gaps if we don't implement all of the methods!\n",
    "\n",
    "Let's say we want `Person`s to be ordered and compared by their age (ignoring the name for the purpose of this comparison)."
   ]
  },
  {
   "cell_type": "code",
   "execution_count": 18,
   "id": "f92648ea-4fde-4744-a6db-7298d2162550",
   "metadata": {},
   "outputs": [],
   "source": [
    "class Person:\n",
    "    def __init__(self, name, age):\n",
    "        self.name = name\n",
    "        self.age = age\n",
    "        \n",
    "    def __str__(self):\n",
    "        return f\"{self.name} ({self.age})\"\n",
    "        \n",
    "    def __lt__(self, other):\n",
    "        return self.age < other.age\n",
    "        \n",
    "    def __le__(self, other):\n",
    "        return self.age <= other.age\n",
    "        \n",
    "    def __eq__(self, other):\n",
    "        return self.age == other.age"
   ]
  },
  {
   "cell_type": "markdown",
   "id": "d56a196d-3486-4f0a-a4df-952b3c2341fd",
   "metadata": {},
   "source": [
    "Now, instances of `Person` can be compared using the usual operators, just like numbers:"
   ]
  },
  {
   "cell_type": "code",
   "execution_count": 19,
   "id": "a0c468fe-2478-4c7f-bf56-48d51552ec76",
   "metadata": {},
   "outputs": [
    {
     "data": {
      "text/plain": [
       "False"
      ]
     },
     "execution_count": 19,
     "metadata": {},
     "output_type": "execute_result"
    }
   ],
   "source": [
    "p1 = Person(\"Bob\", 32)\n",
    "p2 = Person(\"Alice\", 44)\n",
    "p1 > p2"
   ]
  },
  {
   "cell_type": "markdown",
   "id": "3b2171fa-c7d6-4f0a-8ee9-fe3d994c862b",
   "metadata": {},
   "source": [
    "We can confirm that this indeed works for all operators:"
   ]
  },
  {
   "cell_type": "code",
   "execution_count": 20,
   "id": "df95bca3-4f14-45d4-b17b-f6f69dd6e243",
   "metadata": {},
   "outputs": [
    {
     "name": "stdout",
     "output_type": "stream",
     "text": [
      "Bob (32) < Alice (44): True\n",
      "Bob (32) > Alice (44): False\n",
      "Bob (32) <= Alice (44): True\n",
      "Bob (32) >= Alice (44): False\n",
      "Bob (32) == Alice (44): False\n",
      "Bob (32) != Alice (44): True\n",
      "Bob (32) < Jim (32): False\n",
      "Bob (32) > Jim (32): False\n",
      "Bob (32) <= Jim (32): True\n",
      "Bob (32) >= Jim (32): True\n",
      "Bob (32) == Jim (32): True\n",
      "Bob (32) != Jim (32): False\n",
      "Alice (44) < Bob (32): False\n",
      "Alice (44) > Bob (32): True\n",
      "Alice (44) <= Bob (32): False\n",
      "Alice (44) >= Bob (32): True\n",
      "Alice (44) == Bob (32): False\n",
      "Alice (44) != Bob (32): True\n",
      "Alice (44) < Jim (32): False\n",
      "Alice (44) > Jim (32): True\n",
      "Alice (44) <= Jim (32): False\n",
      "Alice (44) >= Jim (32): True\n",
      "Alice (44) == Jim (32): False\n",
      "Alice (44) != Jim (32): True\n",
      "Jim (32) < Bob (32): False\n",
      "Jim (32) > Bob (32): False\n",
      "Jim (32) <= Bob (32): True\n",
      "Jim (32) >= Bob (32): True\n",
      "Jim (32) == Bob (32): True\n",
      "Jim (32) != Bob (32): False\n",
      "Jim (32) < Alice (44): True\n",
      "Jim (32) > Alice (44): False\n",
      "Jim (32) <= Alice (44): True\n",
      "Jim (32) >= Alice (44): False\n",
      "Jim (32) == Alice (44): False\n",
      "Jim (32) != Alice (44): True\n"
     ]
    }
   ],
   "source": [
    "p1 = Person(\"Bob\", 32)\n",
    "p2 = Person(\"Alice\", 44)\n",
    "p3 = Person(\"Jim\", 32)\n",
    "for a in [p1, p2, p3]:\n",
    "    for b in [p1, p2, p3]:\n",
    "        if a is not b:                      # skip comparisons between identical objects (like p1 > p1)\n",
    "            print(f\"{a} < {b}: {a < b}\")\n",
    "            print(f\"{a} > {b}: {a > b}\")\n",
    "            print(f\"{a} <= {b}: {a <= b}\")\n",
    "            print(f\"{a} >= {b}: {a >= b}\")\n",
    "            print(f\"{a} == {b}: {a == b}\")  # equivalence comparison using '=='\n",
    "            print(f\"{a} != {b}: {a != b}\")"
   ]
  },
  {
   "cell_type": "markdown",
   "id": "f2156d95-9e83-4153-9741-81c2b65dfed6",
   "metadata": {},
   "source": [
    "*Sidenote 1*: There are some caveats to this automatic inference. As a general rule, you *should* implement all methods just for clarity. Or you could use [@total_ordering](https://docs.python.org/3/library/functools.html#functools.total_ordering) to infer more operators.\n",
    "\n",
    "*Sidenote 2*: Remember that False and None can easily be mistaken to be one and the same when used in an `if` condition. If you're implementation of an operator accidentally returns `None`, that may count as `False` when actually used!\n",
    "\n",
    "*Sidenote 3*: Even the dot-notation `p1.age` internally calls `__getattr__` and `p1.age = 21` calls `__setattr__`! Python's [Data model](https://docs.python.org/3/reference/datamodel.html) is extremely flexible and powerful!"
   ]
  },
  {
   "cell_type": "markdown",
   "id": "5687e03d-0bbd-43d6-be10-8376ac733daa",
   "metadata": {},
   "source": [
    "# `NotImplemented` for rich comparison operators\n",
    "\n",
    "The following implementation of `Bill` (as in paper money) assumes that two instances are equal if they have the same denomination. This works fine for comparing different instances of `Bill`."
   ]
  },
  {
   "cell_type": "code",
   "execution_count": 21,
   "id": "cd1842ba-96a6-4194-8c46-02a9baf7136b",
   "metadata": {},
   "outputs": [
    {
     "name": "stdout",
     "output_type": "stream",
     "text": [
      "True\n",
      "False\n",
      "False\n"
     ]
    }
   ],
   "source": [
    "class Bill:\n",
    "    def __init__(self, denomination):\n",
    "        self.denomination = denomination\n",
    "        \n",
    "    def __eq__(self, other):\n",
    "        return self.denomination == other.denomination\n",
    "\n",
    "b1 = Bill(50)\n",
    "b2 = Bill(50)\n",
    "b3 = Bill(1000)\n",
    "print(b1 == b2)\n",
    "print(b1 is b2)\n",
    "print(b1 == b3)"
   ]
  },
  {
   "cell_type": "markdown",
   "id": "86a07c49-657e-43cd-9a04-840d2e93853d",
   "metadata": {},
   "source": [
    "However, think of how `==` is generally used: **it's not at all unusual to compare objects of different types**:"
   ]
  },
  {
   "cell_type": "code",
   "execution_count": 22,
   "id": "e7d7ff01-bc85-4ce6-9f00-2e86f8475719",
   "metadata": {},
   "outputs": [
    {
     "data": {
      "text/plain": [
       "2"
      ]
     },
     "execution_count": 22,
     "metadata": {},
     "output_type": "execute_result"
    }
   ],
   "source": [
    "def index_of(thing, collection):\n",
    "    for index, element in enumerate(collection):\n",
    "        if element == thing:\n",
    "            return index\n",
    "\n",
    "index_of(\"hello\", [123, (\"I'm a tuple\", 1.5), \"hello\", \"world\"])"
   ]
  },
  {
   "cell_type": "markdown",
   "id": "e8c19579-cecd-405e-994d-4993405e986e",
   "metadata": {},
   "source": [
    "Our `Bill` implementation works when comparing to other `Bill`s:"
   ]
  },
  {
   "cell_type": "code",
   "execution_count": 23,
   "id": "50966c82-da57-4d5b-88e5-78ea73d068ce",
   "metadata": {},
   "outputs": [
    {
     "data": {
      "text/plain": [
       "2"
      ]
     },
     "execution_count": 23,
     "metadata": {},
     "output_type": "execute_result"
    }
   ],
   "source": [
    "index_of(Bill(50), [Bill(10), Bill(20), Bill(50), Bill(100)])"
   ]
  },
  {
   "cell_type": "markdown",
   "id": "15917e1b-88f5-41f1-8e4e-65f770055411",
   "metadata": {},
   "source": [
    "But if we try using our `index_of` function to spot a specific `Bill` among arbitrary objects, we run into a problem:"
   ]
  },
  {
   "cell_type": "code",
   "execution_count": 24,
   "id": "5cffc48d-2268-431a-a784-6262d0d73165",
   "metadata": {},
   "outputs": [
    {
     "ename": "AttributeError",
     "evalue": "'int' object has no attribute 'denomination'",
     "output_type": "error",
     "traceback": [
      "\u001b[0;31m---------------------------------------------------------------------------\u001b[0m",
      "\u001b[0;31mAttributeError\u001b[0m                            Traceback (most recent call last)",
      "Cell \u001b[0;32mIn[24], line 1\u001b[0m\n\u001b[0;32m----> 1\u001b[0m \u001b[43mindex_of\u001b[49m\u001b[43m(\u001b[49m\u001b[43mBill\u001b[49m\u001b[43m(\u001b[49m\u001b[38;5;241;43m50\u001b[39;49m\u001b[43m)\u001b[49m\u001b[43m,\u001b[49m\u001b[43m[\u001b[49m\u001b[38;5;241;43m123\u001b[39;49m\u001b[43m,\u001b[49m\u001b[43m \u001b[49m\u001b[43m(\u001b[49m\u001b[38;5;124;43m\"\u001b[39;49m\u001b[38;5;124;43mI\u001b[39;49m\u001b[38;5;124;43m'\u001b[39;49m\u001b[38;5;124;43mm a tuple\u001b[39;49m\u001b[38;5;124;43m\"\u001b[39;49m\u001b[43m,\u001b[49m\u001b[43m \u001b[49m\u001b[38;5;241;43m1.5\u001b[39;49m\u001b[43m)\u001b[49m\u001b[43m,\u001b[49m\u001b[43m \u001b[49m\u001b[38;5;124;43m\"\u001b[39;49m\u001b[38;5;124;43mhello\u001b[39;49m\u001b[38;5;124;43m\"\u001b[39;49m\u001b[43m,\u001b[49m\u001b[43m \u001b[49m\u001b[43mBill\u001b[49m\u001b[43m(\u001b[49m\u001b[38;5;241;43m50\u001b[39;49m\u001b[43m)\u001b[49m\u001b[43m,\u001b[49m\u001b[43m \u001b[49m\u001b[38;5;124;43m\"\u001b[39;49m\u001b[38;5;124;43mworld\u001b[39;49m\u001b[38;5;124;43m\"\u001b[39;49m\u001b[43m]\u001b[49m\u001b[43m)\u001b[49m\n",
      "Cell \u001b[0;32mIn[22], line 3\u001b[0m, in \u001b[0;36mindex_of\u001b[0;34m(thing, collection)\u001b[0m\n\u001b[1;32m      1\u001b[0m \u001b[38;5;28;01mdef\u001b[39;00m \u001b[38;5;21mindex_of\u001b[39m(thing, collection):\n\u001b[1;32m      2\u001b[0m     \u001b[38;5;28;01mfor\u001b[39;00m index, element \u001b[38;5;129;01min\u001b[39;00m \u001b[38;5;28menumerate\u001b[39m(collection):\n\u001b[0;32m----> 3\u001b[0m         \u001b[38;5;28;01mif\u001b[39;00m \u001b[43melement\u001b[49m\u001b[43m \u001b[49m\u001b[38;5;241;43m==\u001b[39;49m\u001b[43m \u001b[49m\u001b[43mthing\u001b[49m:\n\u001b[1;32m      4\u001b[0m             \u001b[38;5;28;01mreturn\u001b[39;00m index\n",
      "Cell \u001b[0;32mIn[21], line 6\u001b[0m, in \u001b[0;36mBill.__eq__\u001b[0;34m(self, other)\u001b[0m\n\u001b[1;32m      5\u001b[0m \u001b[38;5;28;01mdef\u001b[39;00m \u001b[38;5;21m__eq__\u001b[39m(\u001b[38;5;28mself\u001b[39m, other):\n\u001b[0;32m----> 6\u001b[0m     \u001b[38;5;28;01mreturn\u001b[39;00m \u001b[38;5;28mself\u001b[39m\u001b[38;5;241m.\u001b[39mdenomination \u001b[38;5;241m==\u001b[39m \u001b[43mother\u001b[49m\u001b[38;5;241;43m.\u001b[39;49m\u001b[43mdenomination\u001b[49m\n",
      "\u001b[0;31mAttributeError\u001b[0m: 'int' object has no attribute 'denomination'"
     ]
    }
   ],
   "source": [
    "index_of(Bill(50),[123, (\"I'm a tuple\", 1.5), \"hello\", Bill(50), \"world\"])"
   ]
  },
  {
   "cell_type": "markdown",
   "id": "8529b3ba-7820-45c8-ad26-d03ba273551e",
   "metadata": {},
   "source": [
    "For this reason, it is highly recommended to **return** `NotImplemented` if comparing to the `other` object is not possible:"
   ]
  },
  {
   "cell_type": "code",
   "execution_count": 25,
   "id": "a67416c5-54d7-40c8-af43-693af10992dc",
   "metadata": {},
   "outputs": [],
   "source": [
    "class Bill:\n",
    "    def __init__(self, denomination):\n",
    "        self.denomination = denomination\n",
    "        \n",
    "    def __eq__(self, other):\n",
    "        if not isinstance(other, Bill):\n",
    "            return NotImplemented\n",
    "        return self.denomination == other.denomination"
   ]
  },
  {
   "cell_type": "markdown",
   "id": "ea16192b-22ef-4dff-8e55-4f66c78ae0b2",
   "metadata": {},
   "source": [
    "Now, we can use `index_of` because Python internally realizes that two non-comparable objects are not equal:"
   ]
  },
  {
   "cell_type": "code",
   "execution_count": 26,
   "id": "a8b00ea7-efdf-4aed-bcbe-23d131a5fd1e",
   "metadata": {},
   "outputs": [
    {
     "data": {
      "text/plain": [
       "3"
      ]
     },
     "execution_count": 26,
     "metadata": {},
     "output_type": "execute_result"
    }
   ],
   "source": [
    "index_of(Bill(50),[123, (\"I'm a tuple\", 1.5), \"hello\", Bill(50), \"world\"])"
   ]
  },
  {
   "cell_type": "markdown",
   "id": "aff72e61-1447-4e0c-b799-677bd9463d9b",
   "metadata": {},
   "source": [
    "**Important**: `NotImplemented` is a not an exception. You do **not** `raise NotImplemented`! You have to `return NotImplemented`."
   ]
  },
  {
   "cell_type": "markdown",
   "id": "51198bde-6d30-48f6-9edc-91b078e50a5f",
   "metadata": {},
   "source": [
    "## Hashing\n",
    "\n",
    "Finally, we come back to *mutable* vs. *immutable*. Early on in the lecture, you learned that only *immutable* values can be used as dictionary keys: "
   ]
  },
  {
   "cell_type": "code",
   "execution_count": 27,
   "id": "82e23dd2-430d-497f-807c-e822fff15495",
   "metadata": {},
   "outputs": [
    {
     "ename": "TypeError",
     "evalue": "unhashable type: 'list'",
     "output_type": "error",
     "traceback": [
      "\u001b[0;31m---------------------------------------------------------------------------\u001b[0m",
      "\u001b[0;31mTypeError\u001b[0m                                 Traceback (most recent call last)",
      "Cell \u001b[0;32mIn[27], line 2\u001b[0m\n\u001b[1;32m      1\u001b[0m d \u001b[38;5;241m=\u001b[39m {(\u001b[38;5;241m1\u001b[39m, \u001b[38;5;241m2\u001b[39m): \u001b[38;5;124m\"\u001b[39m\u001b[38;5;124mOK\u001b[39m\u001b[38;5;124m\"\u001b[39m}\n\u001b[0;32m----> 2\u001b[0m d \u001b[38;5;241m=\u001b[39m {[\u001b[38;5;241m1\u001b[39m, \u001b[38;5;241m2\u001b[39m]: \u001b[38;5;124m\"\u001b[39m\u001b[38;5;124mNOT OK\u001b[39m\u001b[38;5;124m\"\u001b[39m}   \u001b[38;5;66;03m# TypeError: unhashable type: 'list'\u001b[39;00m\n\u001b[1;32m      3\u001b[0m d[(\u001b[38;5;241m1\u001b[39m,\u001b[38;5;241m2\u001b[39m)]\n",
      "\u001b[0;31mTypeError\u001b[0m: unhashable type: 'list'"
     ]
    }
   ],
   "source": [
    "d = {(1, 2): \"OK\"}\n",
    "d = {[1, 2]: \"NOT OK\"}   # TypeError: unhashable type: 'list'\n",
    "d[(1,2)]"
   ]
  },
  {
   "cell_type": "markdown",
   "id": "34f5d05f-4560-4a40-8ddd-05bef1adb007",
   "metadata": {},
   "source": [
    "This is primarily because only immutable values implement the `__hash__` method. For example, see how both tuples and lists have a `__hash__` member, but the one for lists is `None`:"
   ]
  },
  {
   "cell_type": "code",
   "execution_count": 28,
   "id": "48462284-a40a-4659-a2b3-e0682fc29f35",
   "metadata": {},
   "outputs": [
    {
     "name": "stdout",
     "output_type": "stream",
     "text": [
      "True\n",
      "True\n",
      "None\n",
      "<method-wrapper '__hash__' of tuple object at 0x10374fea0>\n"
     ]
    }
   ],
   "source": [
    "print(\"__hash__\" in dir([]))\n",
    "print(\"__hash__\" in dir(()))\n",
    "print([].__hash__)\n",
    "print(().__hash__) "
   ]
  },
  {
   "cell_type": "markdown",
   "id": "2adf6c6d-855a-454f-ab79-f09ea1d4e5ac",
   "metadata": {},
   "source": [
    "Just like `>` internally calls `__gt__` and how `str(...)` calls `__str__`, so does the `hash(...)` function call the objects `__hash__` function.\n",
    "\n",
    "### What does the `__hash__` function do?\n",
    "\n",
    "All the `__hash__` function does is return an integer:"
   ]
  },
  {
   "cell_type": "code",
   "execution_count": 29,
   "id": "0b3f325e-1a70-4ec5-99ee-cff87ba62bf8",
   "metadata": {},
   "outputs": [
    {
     "name": "stdout",
     "output_type": "stream",
     "text": [
      "-1985355871248358364\n",
      "2\n",
      "3\n",
      "4611686018428436835\n",
      "272000443\n"
     ]
    }
   ],
   "source": [
    "print(hash(\"hello\"))\n",
    "print(hash(2))\n",
    "print(hash(3))\n",
    "print(hash(print))\n",
    "print(hash(int))"
   ]
  },
  {
   "cell_type": "code",
   "execution_count": null,
   "id": "3f32bc9c",
   "metadata": {},
   "outputs": [],
   "source": []
  },
  {
   "cell_type": "markdown",
   "id": "a8cf4ae6-6709-4767-8198-6b897cf045f8",
   "metadata": {},
   "source": [
    "Now what could possibly be the point of this?\n",
    "\n",
    "### The purpose of hashing\n",
    "\n",
    "Imagine you run a library. How are visitors going to find the book they're looking for?\n",
    "\n",
    " * The worst strategy would be to just put books in any shelf and visitors will just have to start walking around aimlessly, picking up random books until they've found the right one. It may take a few millenia...\n",
    " * A more reasonable strategy would be to put all the books in alphabetical order (first by author last and first name, then by title) and have sort of \"tour\" from A to Z that a visitor can follow until reaching the right book. Good for books by Douglas **A**dams, very bad for books by Jules **V**erne.\n",
    " * Of course, there's an even better (and cheap!) strategy, which most libraries still use today. You simply make up a rule that allows a customer to determine which shelf in the library a particular book can be found on. This usually works something like this:\n",
    "   1. If you're looking for the book \"Brave New World\" by \"Aldous Huxley\", you will need to look at the first two letters of the last name of the author: `HU`\n",
    "   2. Go to the shelf labelled `HU`\n",
    "   4. Go through the (alphabetically sorted) books one by one until you found the book you wanted\n",
    "\n",
    "This cuts down the effort of finding the book from going all they way from `A` to `Hu` to just looking at all the books on the shelf labeled `HU`, a drastic decrease!\n",
    "\n",
    "**What we've done here is create a hash!** In this scenario, the *hash* of a book is simply the first two letters of the author's last name. What's great about this approach that it's very cheap to compute the hash of a book, and it's also very simple to organize books using this fashion.\n",
    "\n",
    "### *Hash collisions* and *Uniformly distributed hashes*\n",
    "\n",
    "With the given hash method, you will need around $26*26$ shelves that are easy to find. Of course, that's a lot of shelves, and not all shelves will be equally stocked. There are way fewer authors starting with `Qv` than with `Sm`. In practice, what we want is a *uniformly distribued* hash function. That means that each shelf (in programming, we call it a \"*bucket*\") will contain the same number of elements. Libraries actually do the same thing: The \"hash\" of a book with author \"Smith, Jack\" may be `SMITHJ` because there are so many authors called \"Smith\", while an author called \"Qvist, Aaron\" may have a hash of just `Q`.\n",
    "\n",
    "### Hashes in Python\n",
    "\n",
    "Just like a library will use hashes to stock books, Python uses hashes to store elements in data structures such as dictionaries and sets. Imagine you have a dictionary where each key is a string like `\"Huxley, Aldous: Brave New World\"` and the value contains the entire text of a book. Imagine you store millions of books. Of course, when you wish to retrieve your book...\n",
    "\n",
    "```\n",
    "my_great_library[\"Huxley, Aldous: Brave New World\"]\n",
    "```\n",
    "\n",
    "Python will *not* aimlessly wander around or check dictionary keys one by one. Instead, it will use a strategy just like the library to find the book much more quickly (for example using a so-called hashmap). That's why so many objects have a `__hash__` function. Hashes in Python are not character sequences like in our library example, but simple integers:"
   ]
  },
  {
   "cell_type": "code",
   "execution_count": 30,
   "id": "aa186551-57b1-4d8f-a6a1-3e7a136d1ab6",
   "metadata": {
    "scrolled": true
   },
   "outputs": [
    {
     "data": {
      "text/plain": [
       "834944227229574066"
      ]
     },
     "execution_count": 30,
     "metadata": {},
     "output_type": "execute_result"
    }
   ],
   "source": [
    "hash(\"Huxley, Aldous - Brave New World\")"
   ]
  },
  {
   "cell_type": "markdown",
   "id": "eaa52e09-8db5-49c1-b627-2a22de0d157d",
   "metadata": {},
   "source": [
    "Depending on the strategy used and how many values are being stored, Python could for example decide that this book will be found on shelf `-4911629686054464894`, taking the whole hash, or maybe on shelf `94`, taking the last two digits of the hash, depending on how many books there are and how many shelves/buckets are needed. A different book:"
   ]
  },
  {
   "cell_type": "code",
   "execution_count": 31,
   "id": "14261af8-9b97-4556-a8c4-c0b96cfc5f1b",
   "metadata": {},
   "outputs": [
    {
     "data": {
      "text/plain": [
       "-489575594391261168"
      ]
     },
     "execution_count": 31,
     "metadata": {},
     "output_type": "execute_result"
    }
   ],
   "source": [
    "hash(\"Orwell, George - Animal Farm\")"
   ]
  },
  {
   "cell_type": "markdown",
   "id": "8ad85da3-126f-4e81-a417-243d28e05c3f",
   "metadata": {},
   "source": [
    "may be found on shelf `39`. Of course, hash collisions (where two data will be placed in the same bucket) still exist:"
   ]
  },
  {
   "cell_type": "code",
   "execution_count": 32,
   "id": "f1e042be-5d47-49dc-b75f-68d1ee8c05b8",
   "metadata": {},
   "outputs": [
    {
     "data": {
      "text/plain": [
       "6323430825027675112"
      ]
     },
     "execution_count": 32,
     "metadata": {},
     "output_type": "execute_result"
    }
   ],
   "source": [
    "hash(\"Bradbury, Ray - Fahrenheit 451\")"
   ]
  },
  {
   "cell_type": "markdown",
   "id": "3c6fa07a-a27e-4135-bde1-dd914e91a914",
   "metadata": {},
   "source": [
    "*Sidenote*: Every time Python is restarted, it will produce different hashes, even given the same data. This is done to prevent certain types of attacks. See the [grey box in the `__hash__` documentation](https://docs.python.org/3/reference/datamodel.html#object.__hash__). For this notebook, I prevented this by setting the `PYTHONHASHSEED` environment variable, for example: `PYTHONHASHSEED=341 jupyter-notebook 07_special_hash_exceptions.ipynb`."
   ]
  },
  {
   "cell_type": "markdown",
   "id": "08c9c0d7-300f-43bf-bc64-9a2a3442db10",
   "metadata": {},
   "source": [
    "### Implications of hashing\n",
    "\n",
    "There are a few things to be aware of:\n",
    "\n",
    " * When computing a hash of an object repeatedly, **the hash must always stay the same!** If the author were to chang their name from \"Huxley\" to \"Buxley\", the book would be left on shelf `HU` but the customer would walk to shelf `BU`. That's why, generally, only immutable values implement `__hash__`.\n",
    " * Two objects with the same hash *could* be equivalent, but they don't have to be (if it's just a hash collision).\n",
    " * Two objects that are equivalent (`a == b`) *must* have the same hash.\n",
    " * When looking for an object with a given hash...\n",
    "   * ... finding an object with a *differing* hash *guarantees* that that object is not what we're looking for\n",
    "   * ... finding an object with the *same* means we'll have to look more closely at the object (because maybe it's just a hash collision)\n",
    "  \n",
    "It's *strongly* recommended that you simply [read the `__hash__` documentation](https://docs.python.org/3/reference/datamodel.html#object.__hash__), it only takes two minutes and gives all the necessary information."
   ]
  },
  {
   "cell_type": "markdown",
   "id": "3b807772-846a-4752-b364-b0586ccd37fe",
   "metadata": {},
   "source": [
    "### How to implement `__hash__`\n",
    "\n",
    "Let's have a quick example of how you might implement `__hash__`. If `__hash__` is implemented, the three rules to are:\n",
    "\n",
    " * `__hash__` must return an integer\n",
    " * `__eq__` must also be implemented\n",
    " * if two objects are equal (`==`), then the hash computed by `__hash__` should be the same\n",
    "\n",
    "Plus, of course, implementing `__hash__` implies that the object is **immutable**."
   ]
  },
  {
   "cell_type": "code",
   "execution_count": 33,
   "id": "b2d6d06f-3b60-4d93-948a-0f7d7ac83cdf",
   "metadata": {},
   "outputs": [
    {
     "name": "stdout",
     "output_type": "stream",
     "text": [
      "1\n",
      "1\n",
      "True\n",
      "False\n",
      "1\n"
     ]
    }
   ],
   "source": [
    "class Book:\n",
    "    def __init__(self, author, title, content):\n",
    "        self.author = author\n",
    "        self.title = title\n",
    "        self.content = content\n",
    "\n",
    "    def __eq__(self, other):\n",
    "        return self.author == other.author and self.title == other.title\n",
    "\n",
    "    def __hash__(self):\n",
    "        return 1           # totally valid, but not very useful (all elements will be put in the same bucket)\n",
    "\n",
    "book1 = Book(\"Huxley, Aldous\", \"Brave New World\", \"Many megabytes of text here...\")\n",
    "book2 = Book(\"Huxley, Aldous\", \"Brave New World\", \"Many MBs of text here...\")         # same book, different spelling\n",
    "book3 = Book(\"Orwell, George\", \"Animal Farm\", \"A completely different book here...\")\n",
    "print(hash(book1))\n",
    "print(hash(book2))\n",
    "print(book1 == book2)\n",
    "print(book1 is book2)\n",
    "print(hash(book3))"
   ]
  },
  {
   "cell_type": "markdown",
   "id": "7304336f-d5ba-44e3-8d41-17c5004d2265",
   "metadata": {},
   "source": [
    "The implementation above is already a *valid* implementation of `__hash__`. But it's far from ideal, because of hash collisions. In fact, all `Book` instances will always land in the same bucket (on the same shelf). The recommended way of implementing `__hash__` is to combine the hashes of the attributes involved, typically by putting them all in a tuple and then calling `hash` on the tuple (which uses the tuple's `__hash__` function):"
   ]
  },
  {
   "cell_type": "code",
   "execution_count": 34,
   "id": "1132303f-d31f-432b-aa21-ef2b92a0bab1",
   "metadata": {},
   "outputs": [
    {
     "name": "stdout",
     "output_type": "stream",
     "text": [
      "6619122222605189918\n",
      "6619122222605189918\n",
      "True\n",
      "False\n",
      "8815312116445053336\n"
     ]
    }
   ],
   "source": [
    "class Book:\n",
    "    def __init__(self, author, title, content):\n",
    "        self.author = author\n",
    "        self.title = title\n",
    "        self.content = content\n",
    "\n",
    "    def __eq__(self, other):\n",
    "        return self.author == other.author and self.title == other.title\n",
    "\n",
    "    def __hash__(self):\n",
    "        return hash((self.author, self.title))  # \"standard way\" of implementing hash for new classes\n",
    "\n",
    "book1 = Book(\"Huxley, Aldous\", \"Brave New World\", \"Many megabytes of text here...\")\n",
    "book2 = Book(\"Huxley, Aldous\", \"Brave New World\", \"Many MBs of text here...\")         # same book, different spelling\n",
    "book3 = Book(\"Orwell, George\", \"Animal Farm\", \"A completely different book here...\")\n",
    "print(hash(book1))\n",
    "print(hash(book2))\n",
    "print(book1 == book2)\n",
    "print(book1 is book2)\n",
    "print(hash(book3))"
   ]
  },
  {
   "cell_type": "markdown",
   "id": "63eb9bcf-63ac-443c-8db1-1878bea1d400",
   "metadata": {},
   "source": [
    "but in principle, it's completely up to you to decide how to implement it, so the original \"library strategy\" would also be valid. In the following example, `book1` and `book2` produce the same hash, because it is only based on the first two characters of the author, `\"Hu\"` meaning the hash is computed as `hash(\"Hu\")`:"
   ]
  },
  {
   "cell_type": "code",
   "execution_count": 35,
   "id": "16921009-7bf9-4a3f-a154-b5df1e73dbc0",
   "metadata": {},
   "outputs": [
    {
     "name": "stdout",
     "output_type": "stream",
     "text": [
      "3381046764306174766\n",
      "3381046764306174766\n",
      "True\n",
      "False\n",
      "-5783219592973710211\n"
     ]
    }
   ],
   "source": [
    "class Book:\n",
    "    def __init__(self, author, title, content):\n",
    "        self.author = author\n",
    "        self.title = title\n",
    "        self.content = content\n",
    "\n",
    "    def __eq__(self, other):\n",
    "        return self.author == other.author and self.title == other.title\n",
    "\n",
    "    def __hash__(self):\n",
    "        characters = self.author[:2]\n",
    "        return hash(characters)\n",
    "\n",
    "book1 = Book(\"Huxley, Aldous\", \"Brave New World\", \"Many megabytes of text here...\")\n",
    "book2 = Book(\"Huxley, Aldous\", \"Brave New World\", \"Many MBs of text here...\")         # same book, different spelling\n",
    "book3 = Book(\"Orwell, George\", \"Animal Farm\", \"A completely different book here...\")\n",
    "print(hash(book1))\n",
    "print(hash(book2))\n",
    "print(book1 == book2)\n",
    "print(book1 is book2)\n",
    "print(hash(book3))"
   ]
  },
  {
   "cell_type": "markdown",
   "id": "f3f2c3c6-bca0-420e-b46a-d52450c5394a",
   "metadata": {},
   "source": [
    "Keep in mind that classes that implement `__hash__` must be considered immutable. Again, if you were to rename \"Huxley\" to \"Buxley\", then the hash would also change, completely defeating its purpose:"
   ]
  },
  {
   "cell_type": "code",
   "execution_count": 36,
   "id": "3b2a0a61-4158-4930-9bac-227848115bc5",
   "metadata": {},
   "outputs": [
    {
     "name": "stdout",
     "output_type": "stream",
     "text": [
      "3381046764306174766\n",
      "-2198055896937859038\n"
     ]
    }
   ],
   "source": [
    "book1 = Book(\"Huxley, Aldous\", \"Brave New World\", \"Many megabytes of text here...\")\n",
    "print(hash(book1))\n",
    "book1.author = \"Buxley, Aldous\"\n",
    "print(hash(book1))\n"
   ]
  },
  {
   "cell_type": "markdown",
   "id": "2437a01b-11e5-4cce-9e24-1677a9998758",
   "metadata": {},
   "source": [
    "Given that our `Book` is now hashable, we could use instances of `Book` as dictionary keys."
   ]
  },
  {
   "cell_type": "code",
   "execution_count": 37,
   "id": "ff236455-0d86-436a-a471-f439ef22a94e",
   "metadata": {},
   "outputs": [
    {
     "name": "stdout",
     "output_type": "stream",
     "text": [
      "['Fantastic!', 'A must read, highly topical.', \"It was boring and I didn't get it...\"]\n",
      "{<__main__.Book object at 0x105ec67b0>: ['Fantastic!', 'A must read, highly topical.', \"It was boring and I didn't get it...\"]}\n"
     ]
    }
   ],
   "source": [
    "book_reviews = {}\n",
    "book_reviews[book1] = [\"Fantastic!\", \"A must read, highly topical.\", \"It was boring and I didn't get it...\"]\n",
    "print(book_reviews[book1])\n",
    "print(book_reviews)"
   ]
  },
  {
   "cell_type": "markdown",
   "id": "a94c92ba-32ec-4804-a4cd-f3c6d074c822",
   "metadata": {},
   "source": [
    "But again, if we now were to change the book instance, then our dictionary can't find it anymore, giving us a KeyError:"
   ]
  },
  {
   "cell_type": "code",
   "execution_count": 38,
   "id": "778c9699-5bea-4484-ae0d-dc9633d86e8c",
   "metadata": {},
   "outputs": [
    {
     "name": "stdout",
     "output_type": "stream",
     "text": [
      "['Fantastic!', 'A must read, highly topical.', \"It was boring and I didn't get it...\"]\n"
     ]
    }
   ],
   "source": [
    "book1.author = \"Fuxley, Aldous\"\n",
    "print(book_reviews[book1])        # can't find the book anymore, because its hash changed! Don't modify hashable objects!!!"
   ]
  },
  {
   "cell_type": "code",
   "execution_count": 39,
   "id": "95a0e1d9-6fde-43bb-b2b7-4686dca720ba",
   "metadata": {},
   "outputs": [
    {
     "name": "stdout",
     "output_type": "stream",
     "text": [
      "{<__main__.Book object at 0x105ec67b0>: ['Fantastic!', 'A must read, highly topical.', \"It was boring and I didn't get it...\"]}\n"
     ]
    }
   ],
   "source": [
    "print(book_reviews)"
   ]
  },
  {
   "cell_type": "markdown",
   "id": "e6fcf1cb-860f-455f-8c55-f08d08213d29",
   "metadata": {},
   "source": [
    "# Dealing with errors and exceptions\n",
    "\n",
    "### `try` / `except` / `finally` / `else`\n",
    "\n",
    "No doubt you've already met *exceptions*, such as `IndexError` or `ValueError`."
   ]
  },
  {
   "cell_type": "code",
   "execution_count": 40,
   "id": "676227de-8cb7-4a8c-ac9c-54a619b7f548",
   "metadata": {},
   "outputs": [
    {
     "ename": "KeyError",
     "evalue": "'Bob'",
     "output_type": "error",
     "traceback": [
      "\u001b[0;31m---------------------------------------------------------------------------\u001b[0m",
      "\u001b[0;31mKeyError\u001b[0m                                  Traceback (most recent call last)",
      "Cell \u001b[0;32mIn[40], line 2\u001b[0m\n\u001b[1;32m      1\u001b[0m contacts \u001b[38;5;241m=\u001b[39m {\u001b[38;5;124m\"\u001b[39m\u001b[38;5;124mAlice\u001b[39m\u001b[38;5;124m\"\u001b[39m: \u001b[38;5;124m\"\u001b[39m\u001b[38;5;124m+41001234567\u001b[39m\u001b[38;5;124m\"\u001b[39m}\n\u001b[0;32m----> 2\u001b[0m \u001b[43mcontacts\u001b[49m\u001b[43m[\u001b[49m\u001b[38;5;124;43m\"\u001b[39;49m\u001b[38;5;124;43mBob\u001b[39;49m\u001b[38;5;124;43m\"\u001b[39;49m\u001b[43m]\u001b[49m  \u001b[38;5;66;03m# Will raise a KeyError\u001b[39;00m\n",
      "\u001b[0;31mKeyError\u001b[0m: 'Bob'"
     ]
    }
   ],
   "source": [
    "contacts = {\"Alice\": \"+41001234567\"}\n",
    "contacts[\"Bob\"]  # Will raise a KeyError"
   ]
  },
  {
   "cell_type": "markdown",
   "id": "6d4f8b5a-d1f5-434a-a2c1-732cfb4dfaaa",
   "metadata": {},
   "source": [
    "However, there's nothing particularily \"bad\" about errors and exceptions. They are essentially just a secondary flow of information in parallel to regular function returns used when things don't go \"as they should normally\". A common place where exceptions will likely need to be handled is if you allow humans to enter data into your application. See this example:"
   ]
  },
  {
   "cell_type": "code",
   "execution_count": 41,
   "id": "116c6c24-0997-415b-9205-c92ca8f57c11",
   "metadata": {},
   "outputs": [
    {
     "data": {
      "text/plain": [
       "True"
      ]
     },
     "execution_count": 41,
     "metadata": {},
     "output_type": "execute_result"
    }
   ],
   "source": [
    "def beer_permitted():\n",
    "    age = int(input(\" > enter your age: \"))    # a person could enter anything, not just numbers\n",
    "    return age >= 16\n",
    "beer_permitted()"
   ]
  },
  {
   "cell_type": "markdown",
   "id": "41f9f820-7ffe-4cae-bd0f-b5bc5c5688da",
   "metadata": {},
   "source": [
    "This means that **exceptions are generally expected to happen**. For this reason, Python provides mechanisms to deal with them. You simply put code that might fail under certain conditions in a `try` block and then deal with a potential error in an `except` block:"
   ]
  },
  {
   "cell_type": "code",
   "execution_count": 42,
   "id": "73d25b0e-7962-4bf8-b611-796bd2d6a686",
   "metadata": {},
   "outputs": [
    {
     "data": {
      "text/plain": [
       "False"
      ]
     },
     "execution_count": 42,
     "metadata": {},
     "output_type": "execute_result"
    }
   ],
   "source": [
    "def beer_permitted():\n",
    "    while True:                                       # rare case where 'while' is appropriate, because we don't know how many times we have to do this\n",
    "        try:\n",
    "            age = int(input(\" > enter your age: \"))   # A ValueError could be raised here...\n",
    "            return age >= 16\n",
    "        except ValueError:                            # ... and will be dealt with here\n",
    "            print(\"You must enter a number!\")\n",
    "beer_permitted()"
   ]
  },
  {
   "cell_type": "markdown",
   "id": "a58366df-9074-421d-a9fb-8cbe442cf58c",
   "metadata": {},
   "source": [
    "In the example above, we specifically say that we only catch `ValueError`s by saying `except ValueError`. However, you can also just use `except` as a blanket-statement. This is generally not recommended, because you want your code to crash if it's not used correctly, so that you can care for individual problems one at a time."
   ]
  },
  {
   "cell_type": "markdown",
   "id": "a4d77d9f-9af6-47fc-8e9d-3aabd5eb5387",
   "metadata": {},
   "source": [
    "The general syntax for  `try` / `except` / `finally` / `else` is:\n",
    "\n",
    "```python\n",
    "try:\n",
    "    # try executing this code that could fail with any kind of exception\n",
    "except SpecificError:\n",
    "    # execute this code if a SpecificError occured\n",
    "except AnotherSpecificError:\n",
    "    # execute this code if AnotherSpecificError occured\n",
    "except:\n",
    "    # execute this code if ANY OTHER error occured (\"catch-all\", \"blanket-statement\", please use sparingly)\n",
    "else:\n",
    "    # execute this code only if NO exceptions occured\n",
    "finally:\n",
    "    # always execute this code, whether an exception occured or not\n",
    "```"
   ]
  },
  {
   "cell_type": "markdown",
   "id": "8beb954a-34ac-43c9-b9a6-57e217f9d45e",
   "metadata": {},
   "source": [
    "Here's a purely artificial example that you can modify to understand the program flow:"
   ]
  },
  {
   "cell_type": "code",
   "execution_count": 43,
   "id": "b87dcb27-2e13-4318-bc7d-b1f4a6b967f5",
   "metadata": {},
   "outputs": [
    {
     "name": "stdout",
     "output_type": "stream",
     "text": [
      "trying...\n",
      "no exceptions occured\n",
      "finally always executes\n"
     ]
    }
   ],
   "source": [
    "try:\n",
    "    print(\"trying...\")\n",
    "except ValueError:\n",
    "    print(\"ValueError occured\")\n",
    "except IndexError:\n",
    "    print(\"IndexError occured\")\n",
    "except:\n",
    "    print(\"some other exception occurred\")\n",
    "else:\n",
    "    print(\"no exceptions occured\")\n",
    "finally:\n",
    "    print(\"finally always executes\")"
   ]
  },
  {
   "cell_type": "markdown",
   "id": "e8a089e2-2203-4c1d-a835-7b7eac6b806b",
   "metadata": {},
   "source": [
    "Here's a more practical example:"
   ]
  },
  {
   "cell_type": "code",
   "execution_count": 44,
   "id": "44bea44d-6dc5-4978-90c7-bed250c69a09",
   "metadata": {},
   "outputs": [
    {
     "name": "stdout",
     "output_type": "stream",
     "text": [
      "Picking up phone...\n",
      "Calling Alice: 49001234567\n",
      "...Hanging up phone\n",
      "\n",
      "Picking up phone...\n",
      "Beatrice not in phonebook\n",
      "...Hanging up phone\n",
      "\n",
      "Picking up phone...\n",
      "Ivan's entry ivan@example.org seems to be invalid\n",
      "...Hanging up phone\n",
      "\n"
     ]
    }
   ],
   "source": [
    "def find_contact(contacts, name):\n",
    "    return contacts[name]               # Will raise KeyError if name is not in contacts\n",
    "\n",
    "def phone_as_int(number):\n",
    "    return int(number[1:])              # Will raise ValueError if number[1:] cannot be read as an integer\n",
    "\n",
    "def call(name):\n",
    "    print(\"Picking up phone...\")\n",
    "    contacts = { \"Alice\": \"+49001234567\", \"Bob\": \"+41001234567\", \"Ivan\": \"ivan@example.org\"}\n",
    "    try:\n",
    "        phone = find_contact(contacts, name)\n",
    "        number = phone_as_int(phone)\n",
    "    except KeyError:\n",
    "        print(f\"{name} not in phonebook\")\n",
    "    except ValueError:\n",
    "        print(f\"{name}'s entry {phone} seems to be invalid\")\n",
    "    else:\n",
    "        print(f\"Calling {name}: {number}\")\n",
    "    finally:\n",
    "        print(\"...Hanging up phone\\n\")\n",
    "\n",
    "call(\"Alice\")\n",
    "call(\"Beatrice\")\n",
    "call(\"Ivan\")\n"
   ]
  },
  {
   "cell_type": "markdown",
   "id": "7b3e7e57-8434-4e45-b7c0-d2c6c0c87012",
   "metadata": {},
   "source": [
    "This is a very comprehensive example, but in real life, you primarily need to know about and use `try` with `except SomeException`. Note:\n",
    "\n",
    " * `else` is rarely used, as you could, in principle, move any code that's inside `else` to the end of the `try` block.\n",
    " * `finally` is typically used to clean up (for example closing open files, writing a log message, finalizing a transaction, etc.)\n",
    " * You should generally try to catch specific exceptions, rather than using a naked `except`, because doing the latter will mask potential issues that you're not aware of."
   ]
  },
  {
   "cell_type": "markdown",
   "id": "8d6f573f-b21e-4682-8493-4bb1d3ab0ef4",
   "metadata": {},
   "source": [
    "Using the `try`/`except` mechanism can also make your life easier. Consider this example:\n",
    "\n",
    "You're retrieving data from some *unreliable* source, such as a human, and this data should be a number that can be converted to a hexadecimal number. As a reminder, we can convert any string representing a valid number of any base using the `int` function:"
   ]
  },
  {
   "cell_type": "code",
   "execution_count": 45,
   "id": "6d81c028-2382-4c9d-a2d5-7a382d16f083",
   "metadata": {},
   "outputs": [
    {
     "name": "stdout",
     "output_type": "stream",
     "text": [
      "5\n",
      "10\n",
      "255\n"
     ]
    }
   ],
   "source": [
    "print(int(\"101\", 2))\n",
    "print(int(\"10\"))        # default is base 10\n",
    "print(int(\"ff\", 16))"
   ]
  },
  {
   "cell_type": "markdown",
   "id": "76892919-47e6-4968-9233-fc957bfccd7b",
   "metadata": {},
   "source": [
    "Now consider how you would implement a function that will receive some arbitrary string and convert it without crashing, if it represents a valid hexadecimal number? Without using `try`/`except`, you would probably resort to checking whether all characters are valid (`all` is a function that takes a collection and checks if all values are *truthy*):"
   ]
  },
  {
   "cell_type": "code",
   "execution_count": 46,
   "id": "7b6ee399-11ad-4d3f-ab79-2da99d5a29d2",
   "metadata": {},
   "outputs": [
    {
     "name": "stdout",
     "output_type": "stream",
     "text": [
      "175\n",
      "None\n"
     ]
    }
   ],
   "source": [
    "def to_hex(string):\n",
    "    if all(x in \"0123456789abcdef\" for x in string):\n",
    "        return int(string, 16)\n",
    "    else:\n",
    "        return None\n",
    "print(to_hex(\"af\"))\n",
    "print(to_hex(\"ag\"))"
   ]
  },
  {
   "cell_type": "markdown",
   "id": "490d541e-cd95-495c-9cea-6c6ad0f55bef",
   "metadata": {},
   "source": [
    "But by using `try`/`except`, you can just go ahead and attempt the conversion without caring much about what is given to your function:"
   ]
  },
  {
   "cell_type": "code",
   "execution_count": 47,
   "id": "c65db452-1dcc-44d2-9db2-b486c8e2165c",
   "metadata": {},
   "outputs": [
    {
     "name": "stdout",
     "output_type": "stream",
     "text": [
      "175\n",
      "None\n"
     ]
    }
   ],
   "source": [
    "def to_hex(string):\n",
    "    try:\n",
    "        return int(string, 16)\n",
    "    except:\n",
    "        return None\n",
    "print(to_hex(\"af\"))\n",
    "print(to_hex(\"ag\"))"
   ]
  },
  {
   "cell_type": "markdown",
   "id": "2bb2630e-a7d2-4c83-9048-b4e7a63f480a",
   "metadata": {},
   "source": [
    "This means that when *validating* data that your function receives (is it really a number as expected? does the list have the expected number of elements? does the string have the expected length?), you have two choices:\n",
    "\n",
    " 1. Explicitely check the value (like in the IP address validation task on ACCESS) to ensure it conforms to what you expect\n",
    " 2. Use `try` wherever unexpected values may have been provided and handle problems in an `except` block\n",
    "\n",
    "Of course, using `try`/`except` is not always a good option."
   ]
  },
  {
   "cell_type": "markdown",
   "id": "7e31407a-729f-40d3-a14d-7ac62b0b6b7d",
   "metadata": {},
   "source": [
    "### Raising exceptions\n",
    "\n",
    "When writing code, you may also want to `raise` your own exceptions and errors. Python provides a list of built-in exceptions [here](https://docs.python.org/3/library/exceptions.html#exception-hierarchy). As you can see, it's a hierarchy where many exceptions inherit from others. Given the rules of inheritance, that means that if you, for example `except LookupError`, this will catch both `KeyError` and `IndexError`, because they inherit from `LookupError`.\n",
    "\n",
    "To cause an exception, you use the `raise` statement:"
   ]
  },
  {
   "cell_type": "code",
   "execution_count": 50,
   "id": "b9d4a08f-d4e3-43b9-b6d2-2d2dfb60e9b1",
   "metadata": {},
   "outputs": [
    {
     "ename": "Exception",
     "evalue": "",
     "output_type": "error",
     "traceback": [
      "\u001b[0;31m---------------------------------------------------------------------------\u001b[0m",
      "\u001b[0;31mException\u001b[0m                                 Traceback (most recent call last)",
      "Cell \u001b[0;32mIn[50], line 1\u001b[0m\n\u001b[0;32m----> 1\u001b[0m \u001b[38;5;28;01mraise\u001b[39;00m \u001b[38;5;167;01mException\u001b[39;00m\n",
      "\u001b[0;31mException\u001b[0m: "
     ]
    }
   ],
   "source": [
    "raise Exception"
   ]
  },
  {
   "cell_type": "markdown",
   "id": "d2ffe1e4-94f0-4fb0-a650-02ea524ca1d0",
   "metadata": {},
   "source": [
    "You can also add a custom message describing the problem in more detail:"
   ]
  },
  {
   "cell_type": "code",
   "execution_count": 49,
   "id": "f3a2daab-aa2f-492b-a79e-e73b0155a6bf",
   "metadata": {},
   "outputs": [
    {
     "ename": "Exception",
     "evalue": "the user did a bad thing",
     "output_type": "error",
     "traceback": [
      "\u001b[0;31m---------------------------------------------------------------------------\u001b[0m",
      "\u001b[0;31mException\u001b[0m                                 Traceback (most recent call last)",
      "Cell \u001b[0;32mIn[49], line 1\u001b[0m\n\u001b[0;32m----> 1\u001b[0m \u001b[38;5;28;01mraise\u001b[39;00m \u001b[38;5;167;01mException\u001b[39;00m(\u001b[38;5;124m\"\u001b[39m\u001b[38;5;124mthe user did a bad thing\u001b[39m\u001b[38;5;124m\"\u001b[39m)\n",
      "\u001b[0;31mException\u001b[0m: the user did a bad thing"
     ]
    }
   ],
   "source": [
    "raise Exception(\"the user did a bad thing\")"
   ]
  },
  {
   "cell_type": "markdown",
   "id": "5177e6ff-98fc-4893-8d72-225dcfdb3122",
   "metadata": {},
   "source": [
    "Naturally, you can add you own exceptions, by simply inheriting from one of the existing Exception classes.\n",
    "\n",
    "The following example is a bit redundant, but it illustrates the point:"
   ]
  },
  {
   "cell_type": "code",
   "execution_count": 48,
   "id": "a3453e8f-286d-4439-b082-2cb2ff2d24b1",
   "metadata": {},
   "outputs": [
    {
     "name": "stdout",
     "output_type": "stream",
     "text": [
      "nope\n"
     ]
    }
   ],
   "source": [
    "class ContactNotFoundError(LookupError):\n",
    "    pass\n",
    "\n",
    "def find_contact(contacts, name):\n",
    "    if name not in contacts:\n",
    "        raise ContactNotFoundError\n",
    "    return contacts[name]\n",
    "\n",
    "contacts = {\"Alice\": \"+41001234567\"}\n",
    "try:\n",
    "    find_contact(contacts, \"Bob\")\n",
    "except LookupError:                       # ContactNotFoundError inherits from LookupError, so it's also caught here\n",
    "    print(\"nope\")"
   ]
  },
  {
   "cell_type": "markdown",
   "id": "6b5d88a2-a50c-42f3-8c39-c0ee4d781e85",
   "metadata": {},
   "source": [
    "Let's look at another example, this time involving classes:"
   ]
  },
  {
   "cell_type": "code",
   "execution_count": 51,
   "id": "db13c257-7138-473e-917c-216a6796def1",
   "metadata": {},
   "outputs": [
    {
     "name": "stdout",
     "output_type": "stream",
     "text": [
      "[Alice is 36 years old and works as a Programmer, Bob is 38 years old and works as a Marketing Director, Jimmy is 12 years old , James is 18 years old and works as a Waiter, Lilly is 14 years old ]\n",
      "[('Lilly', 14, 'Brain surgeon')]\n"
     ]
    }
   ],
   "source": [
    "class Person:\n",
    "    def __init__(self, name, age, job):\n",
    "        if job is not None and age < 18:\n",
    "            raise ResourceWarning(\"Child labor is illegal\")\n",
    "        self.name = name\n",
    "        self.age = age\n",
    "        self.job = job\n",
    "        \n",
    "    def __repr__(self):\n",
    "        return f\"{self.name} is {self.age} years old {f'and works as a {self.job}' if self.job else ''}\"\n",
    "\n",
    "data_from_file = [\n",
    "    (\"Alice\", 36, \"Programmer\"),\n",
    "    (\"Bob\", 38, \"Marketing Director\"),\n",
    "    (\"Jimmy\", 12, None),\n",
    "    (\"James\", 18, \"Waiter\"),\n",
    "    (\"Lilly\", 14, \"Brain surgeon\"),\n",
    "]\n",
    "\n",
    "population = []\n",
    "invalid = []\n",
    "for name, age, job in data_from_file:\n",
    "    try:\n",
    "        population.append(Person(name, age, job))\n",
    "    except ResourceWarning:\n",
    "        population.append(Person(name, age, None))\n",
    "        invalid.append((name, age, job))\n",
    "print(population)\n",
    "print(invalid)"
   ]
  },
  {
   "cell_type": "markdown",
   "id": "89fec8b3-ee4e-40f3-a532-67b146ec7235",
   "metadata": {},
   "source": [
    "# Lesson's learned\n",
    "\n",
    "You should...\n",
    "\n",
    " * know that you can use *reflection* to \"inspect\" objects, for example using `type` or `dir`.\n",
    " * be able to implement rich comparison operators (and other special methods such as `__len__` or `__round__` for arbitrary classes.\n",
    " * remember to *return* `NotImplemented` when for unsupported `other` types when implementing comparisons.\n",
    " * know the purpose of hashing and that hashes should be uniformly distributed.\n",
    " * be able to implement `__hash__` and know the rules the implementation must follow (must return an integer, `__eq__` must also be implemented, and if two objects are equal, they should have the same hash).\n",
    " * know how deal with exceptions by constructing `try`/`except SpecificException`/`except`/`else`/`finally` blocks.\n",
    " * know how to create custom exception classes and how to raise exceptions."
   ]
  }
 ],
 "metadata": {
  "authors": [
   {
    "name": "Carol V. Alexandru-Funakoshi"
   }
  ],
  "kernelspec": {
   "display_name": "Python 3",
   "language": "python",
   "name": "python3"
  },
  "language_info": {
   "codemirror_mode": {
    "name": "ipython",
    "version": 3
   },
   "file_extension": ".py",
   "mimetype": "text/x-python",
   "name": "python",
   "nbconvert_exporter": "python",
   "pygments_lexer": "ipython3",
   "version": "3.12.6"
  },
  "title": "Exceptions & More on Functions"
 },
 "nbformat": 4,
 "nbformat_minor": 5
}
