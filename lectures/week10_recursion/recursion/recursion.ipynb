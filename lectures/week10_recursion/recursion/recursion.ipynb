{
 "cells": [
  {
   "cell_type": "markdown",
   "id": "bc5494af-c40d-4c9f-a96b-406b951d99b1",
   "metadata": {},
   "source": [
    "### Final exam\n",
    "\n",
    " * The final exam in Info1 will not be on paper. It will be in a similar setting as the midterm (using BYOD, Inspera).\n",
    " * The exam does NOT take place at Messe Oerlikon. It will take place in two lecture halls, one at Irchel Campus, one at Center Campus.\n",
    " * Detailed information will be provided roughly 2 weeks before the exam.\n",
    " * The time and date are unchanged (Thursday, 19.12.2024 some time between 11:30 and 14:30)\n",
    "\n",
    "### ACCESS\n",
    "\n",
    " * The \"Movies\" task is not a good task. The total points for bonus calculations will certainly be adjusted down by at least these 3 points.\n",
    " * Performance should be better now. Further updates may be soon forthcoming\n",
    " * The deadline for assignment 7 has been extended until Friday at midnight."
   ]
  },
  {
   "cell_type": "markdown",
   "id": "e350af9d-2fac-4ee6-8d2e-1e5c3332ee02",
   "metadata": {},
   "source": [
    "# Recap from last week"
   ]
  },
  {
   "cell_type": "markdown",
   "id": "d15e2bad-2984-4b81-b69b-ebb246290d91",
   "metadata": {},
   "source": [
    "### Class attributes\n",
    "\n",
    " * Classes are just objects, they can have attributes.\n",
    " * Methods are function attributes of a class, but you can add other kinds of attributes as well, like strings or numbers, or anything else.\n",
    " * A class attribute only exists **once** as a member of the class itself.\n",
    " * All instances of the class will refer to the same class attribute. In contrast, instance attributes are set via `self.`.\n",
    " * A common use case that you should be able to replicate is a serial counter that is incremented with each instantiation of the class."
   ]
  },
  {
   "cell_type": "code",
   "execution_count": 1,
   "id": "8b1128c8-801b-46f5-b763-0a2b5b3bec5c",
   "metadata": {},
   "outputs": [
    {
     "name": "stdout",
     "output_type": "stream",
     "text": [
      "driving\n",
      "1\n",
      "2\n",
      "3\n",
      "4\n",
      "4\n"
     ]
    }
   ],
   "source": [
    "class Toyota:\n",
    "    \n",
    "    serial_counter = 1\n",
    "    \n",
    "    def __init__(self, model):\n",
    "        self.model = model\n",
    "        self.serial_number = Toyota.serial_counter   # access the class attribute to set the instance attribute\n",
    "        Toyota.serial_counter += 1                   # increment the class attribute by 1\n",
    "\n",
    "    def drive(self):\n",
    "        print(\"driving\")\n",
    "\n",
    "t1 = Toyota(\"Yaris\")\n",
    "t2 = Toyota(\"Yaris\")\n",
    "t3 = Toyota(\"Corolla\")\n",
    "t3.drive()\n",
    "print(t1.serial_number)\n",
    "print(t2.serial_number)\n",
    "print(t3.serial_number)\n",
    "print(t3.serial_counter)\n",
    "print(Toyota.serial_counter)"
   ]
  },
  {
   "cell_type": "markdown",
   "id": "e847cb11-26c8-4f73-b139-8a2e61034639",
   "metadata": {},
   "source": [
    "### Static Methods\n",
    "\n",
    " * A static method of a class does **not** take `self` as a parameter.\n",
    " * Static methods are annotated with `@staticmethod` (which does not need to be imported)\n",
    " * Static methods are typically isolated pieces of behavior that are not connected with the state (i.e., `self`) of the class.\n",
    " * A common use case is helper functions that just convert or otherwise process values, without knowing about individual state.\n",
    " * In essence, static methods are just regular functions that happen to be placed inside a class definition."
   ]
  },
  {
   "cell_type": "code",
   "execution_count": 2,
   "id": "d1498f87-d8ec-4bad-b901-263053921c88",
   "metadata": {
    "scrolled": true
   },
   "outputs": [
    {
     "name": "stdout",
     "output_type": "stream",
     "text": [
      "Sensor data: [20, 24, -18, -6, -15]\n",
      "[68.0, 75.2, -0.3999999999999986, 21.2, 5.0]\n",
      "Sensor data: [20, 24, -18, -6, -15]\n",
      "32.0\n",
      "32.0\n"
     ]
    }
   ],
   "source": [
    "from random import randrange\n",
    "\n",
    "class TempSensor:\n",
    "    def __init__(self):\n",
    "        self.measurements = []\n",
    "\n",
    "    def measure(self):\n",
    "        self.measurements.append(randrange(-20, 50))\n",
    "\n",
    "    def __str__(self):\n",
    "        return f\"Sensor data: {self.measurements}\"\n",
    "\n",
    "    def fahrenheit_measurements(self):\n",
    "        return [self.c_to_f(m) for m in self.measurements]\n",
    "\n",
    "    @staticmethod                                                # this method is \"static\", because it doesn't use 'self' anywhere in the method body. No need for the parameter.\n",
    "    def c_to_f(value):                                           # a @staticmethod does NOT get self provided implicitely!\n",
    "        return value * 1.8 + 32\n",
    "\n",
    "s = TempSensor()\n",
    "for _ in range(5):\n",
    "    s.measure()\n",
    "print(str(s))\n",
    "print(s.fahrenheit_measurements())\n",
    "print(TempSensor.__str__(s))                                     # regular methods require the first parameter to be the object (self).\n",
    "print(TempSensor.c_to_f(0))                                      # static methods can be called without providing self!\n",
    "print(s.c_to_f(0))                                               # you can call the static method on the object or the class; the result is the same."
   ]
  },
  {
   "cell_type": "markdown",
   "id": "7e0108f1-40e5-46b2-80e5-4a25a5f463e5",
   "metadata": {},
   "source": [
    "### Testing\n",
    "\n",
    " * To implement a test, inherit from `unittest.TestCase` and implement a method which starts with the letters `test` for each thing you want to test.\n",
    " * One test should check one specific thing\n",
    " * Make use of the different [assertion functions](https://docs.python.org/3/library/unittest.html#assert-methods), instead of just using `assertTrue`."
   ]
  },
  {
   "cell_type": "code",
   "execution_count": 3,
   "id": "099b2aed-b572-4ae6-8535-768a2e7752c7",
   "metadata": {},
   "outputs": [
    {
     "name": "stderr",
     "output_type": "stream",
     "text": [
      "test_basic (__main__.TestAddOne.test_basic) ... ok\n",
      "\n",
      "----------------------------------------------------------------------\n",
      "Ran 1 test in 0.001s\n",
      "\n",
      "OK\n"
     ]
    },
    {
     "data": {
      "text/plain": [
       "<unittest.main.TestProgram at 0x1106c4470>"
      ]
     },
     "execution_count": 3,
     "metadata": {},
     "output_type": "execute_result"
    }
   ],
   "source": [
    "def add_one(x):\n",
    "    return x + 1\n",
    "\n",
    "import unittest\n",
    "\n",
    "class TestAddOne(unittest.TestCase):\n",
    "    def test_basic(self):\n",
    "        self.assertEqual(add_one(5), 6)\n",
    "        \n",
    "unittest.main(argv=[''], verbosity=3, exit=False) "
   ]
  },
  {
   "cell_type": "markdown",
   "id": "976cf70e-ff4a-4a5b-94d6-093a70aa3a13",
   "metadata": {},
   "source": [
    "<p style=\"height:100px\"></p>\n",
    "<hr>\n",
    "<p style=\"height:100px\"></p>\n",
    "\n"
   ]
  },
  {
   "cell_type": "markdown",
   "id": "1c00c114-0293-4e54-98b3-8e6983a23034",
   "metadata": {},
   "source": [
    "# Type hints\n",
    "\n",
    "You've learned that in Python, you do not need to specify the type of a variable. This is called *weak typing*, as opposed to *strong typing*, where variables must have a specific type. Here are a few examples for strongly typed languages:\n",
    "\n",
    "**Java**\n",
    "```java\n",
    "public float addNumbers(float a, float b) {\n",
    "    return a + b;\n",
    "}\n",
    "public double addNumbers(double a, double b) {\n",
    "    return a + b;\n",
    "}\n",
    "```\n",
    "\n",
    "**Kotlin**\n",
    "```kotlin\n",
    "fun addNumbers(a: Float, b: Float): Float = a + b\n",
    "```\n",
    "\n",
    "**C++**\n",
    "```c\n",
    "float addNumbers(float a, float b) {\n",
    "    return a + b;\n",
    "}\n",
    "```\n",
    "\n",
    "**Haskell** \n",
    "```haskell\n",
    "addNumbers :: Float -> Float -> Float\n",
    "addNumbers a b = a + b\n",
    "```\n",
    "\n",
    "**Rust**\n",
    "```rust\n",
    "fn add_numbers(a: f32, b: f32) -> f32 {\n",
    "    a + b\n",
    "}\n",
    "fn add_numbers(a: f64, b: f64) -> f64 {\n",
    "    a + b\n",
    "}\n",
    "```\n",
    "whereas in Python, we might just write the following without mentioning types:"
   ]
  },
  {
   "cell_type": "code",
   "execution_count": null,
   "id": "ce4cb853-0620-4e11-8217-afa1d01c56e1",
   "metadata": {},
   "outputs": [],
   "source": [
    "def add_numbers(a, b):\n",
    "    return a + b"
   ]
  },
  {
   "cell_type": "markdown",
   "id": "cf17bd59-452d-46f8-b7dd-19a88cdb9799",
   "metadata": {},
   "source": [
    "That's OK, but it often makes sense to communicate to other programmers (or even your future self) which types your code expects. Python supports this via the use of *type hints*:"
   ]
  },
  {
   "cell_type": "code",
   "execution_count": null,
   "id": "4a513f00-7b23-4435-9563-db81bab23ee2",
   "metadata": {},
   "outputs": [],
   "source": [
    "def add_numbers(a: float, b: float) -> float:\n",
    "    return a + b"
   ]
  },
  {
   "cell_type": "markdown",
   "id": "bf47f743-3f23-4464-93e5-23ead7322ee9",
   "metadata": {},
   "source": [
    "As you can see, one can annotate variables and parameters with `: the_type` to specify the expected types, and functions with `-> the_type` to indicate the return type.\n",
    "\n",
    "Note that in Python, **type hints are documentation only**. While there exist tools that can analyze your code and identify incompatible type hints, Python doesn't care at all:"
   ]
  },
  {
   "cell_type": "code",
   "execution_count": 1,
   "id": "aadf926e-b0cb-4c63-94cb-51c109a97f0c",
   "metadata": {},
   "outputs": [
    {
     "name": "stdout",
     "output_type": "stream",
     "text": [
      "Hello, World!\n"
     ]
    }
   ],
   "source": [
    "def add_numbers(a: float, b: float) -> float:\n",
    "    return a + b\n",
    "\n",
    "s: float = add_numbers(\"Hello, \", \"World!\")          # works just fine, Python doesn't care about the type hints!\n",
    "print(s)"
   ]
  },
  {
   "cell_type": "markdown",
   "id": "4820cbc8-fdcf-489a-b508-117d628c0e01",
   "metadata": {},
   "source": [
    "This is quite unusual. In most programming languages, the compiler or intepreter will be able to recognize and warn when types do not match.\n",
    "\n",
    "Use type hints at your leisure. You will not be required to use type hints in the exam, but you should recognize what they are."
   ]
  },
  {
   "cell_type": "markdown",
   "id": "1ea50e7fdec25d0d",
   "metadata": {
    "collapsed": false,
    "jupyter": {
     "outputs_hidden": false
    }
   },
   "source": [
    "# Recursion\n",
    "\n",
    "[Did you mean: recursion?](https://www.google.com/search?hl=en&q=recursion)\n",
    "\n",
    "With recursion, **a whole can be broken up into smaller pieces which resemble the whole**.\n",
    "\n",
    "<img src=\"matryoshka.webp\" width=200/><img src=\"fractal.webp\" width=200/> <img src=\"check.webp\" width=280/>\n",
    "\n",
    "\n",
    "Recursion also occurs naturally in langauge, when a *part of a sentence* could *form its own sentence*. Parts of the following stentence are valid sentences by themselves:\n",
    "\n",
    " * \"Alice thinks that Bob suspects that Charlie said that Dave believes that Eve wrote the code.\":\n",
    "   * \"Bob suspects that Charlie said that Dave believes that Eve wrote the code.\"\n",
    "     * \"Charlie said that Dave believes that Eve wrote the code.\" \n",
    "       * \"Dave believes that Eve wrote the code.\"\n",
    "         * \"Eve wrote the code.\"\n",
    "\n",
    "For programming, there exist two broad and overlapping categories of how recursion plays a role:\n",
    "\n",
    " 1. Recursive data structures\n",
    " 2. Recursive algorithms"
   ]
  },
  {
   "cell_type": "markdown",
   "id": "5a54670b-ad79-45a4-9b2d-bd32798a0925",
   "metadata": {},
   "source": [
    "# Recursive Data Structures\n",
    "\n",
    "Recursive data structures are ubiquitous, particularily in the form of trees or graphs.\n",
    "\n",
    "Files and Folders on a computer form a file tree, where every sub-tree is itself a file tree. No matter where in the tree you are, you have the same situations: there may be files and sub-folders.\n",
    "```\n",
    "\n",
    "WINDOWS\n",
    "└── C:\n",
    "    ├── Program Files/\n",
    "    ├── Documents and Settings/\n",
    "    │   └── User/\n",
    "    │       ├── Office Document.odt\n",
    "    │       └── files.txt\n",
    "    ├── Windows/\n",
    "    └── System32/\n",
    "MAC OSX\n",
    "└── /\n",
    "    ├── Applications/\n",
    "    ├── System/\n",
    "    │   └── Users/\n",
    "    │     └── username/\n",
    "    ├── Office Document.odt\n",
    "    └── Foto.png\n",
    "LINUX\n",
    "└── /\n",
    "    ├── bin/\n",
    "    ├── dev/\n",
    "    ├── etc/\n",
    "    ├── home/\n",
    "    │   └── username/\n",
    "    │       ├── Office Document.odt\n",
    "    │       └── Foto.png\n",
    "    └── usr/\n",
    "```\n",
    "\n",
    "In graphs, you can 'recurse' from node to node (possibly forever, if travelling along cycles). Wherever in the graph you are, the basic conditions are the same (you have a value and a number of outgoing connections).\n",
    "\n",
    "<div>\n",
    "<img src=\"social.png\" width=\"600\"/>\n",
    "</div>\n",
    "\n",
    "Python source code itself represented as a recursive data structure. Expressions can contain sub-expressions, which contain sub-expressions, etc.:\n",
    "\n",
    "<div>\n",
    "<img src=\"expression_tree.png\" width=\"500\"/>\n",
    "</div> "
   ]
  },
  {
   "cell_type": "markdown",
   "id": "8e699660-e351-44f7-bcbc-ea0f6bc38e19",
   "metadata": {},
   "source": [
    "One of the simplest recursive data structures is the humble list: any part of a list **is itself a list**! Parts of lists are \"self-similar\":"
   ]
  },
  {
   "cell_type": "code",
   "execution_count": 2,
   "id": "5fc0c1e0-38d9-47b6-a560-453009c49dbf",
   "metadata": {},
   "outputs": [
    {
     "name": "stdout",
     "output_type": "stream",
     "text": [
      "[1, 2, 3, 4, 5]\n",
      "[1, 2, 3, 4, 5]\n",
      "[0, 1, 2, 3]\n",
      "[2]\n"
     ]
    }
   ],
   "source": [
    "l = [0, 1, 2, 3, 4, 5]\n",
    "\n",
    "# Any part of a list is itself a list:\n",
    "print(l[1:])\n",
    "print(l[1:])\n",
    "print(l[:-2])\n",
    "print(l[2:3])"
   ]
  },
  {
   "cell_type": "markdown",
   "id": "f1d26d69-022a-4648-8af9-b45099007c6d",
   "metadata": {},
   "source": [
    "Even what comes *before or after* the first or last element is still a list. It just happens to be the *empty list*:"
   ]
  },
  {
   "cell_type": "code",
   "execution_count": 3,
   "id": "a92f9b5f-0d01-4dad-89f4-9a87d5854800",
   "metadata": {},
   "outputs": [
    {
     "name": "stdout",
     "output_type": "stream",
     "text": [
      "[]\n"
     ]
    }
   ],
   "source": [
    "print(l[6:])"
   ]
  },
  {
   "cell_type": "markdown",
   "id": "9c76a5eb-c53e-408a-a9ee-6dc45b05c3b2",
   "metadata": {},
   "source": [
    "To prove this:"
   ]
  },
  {
   "cell_type": "code",
   "execution_count": 4,
   "id": "87532abf-f08e-4e55-b3ee-29506de386d5",
   "metadata": {},
   "outputs": [
    {
     "name": "stdout",
     "output_type": "stream",
     "text": [
      "True\n",
      "True\n"
     ]
    }
   ],
   "source": [
    "print(l + [] == l)\n",
    "print([0, 1, 2, 3, 4, 5] + [] == [] + [0, 1, 2, 3, 4, 5] + [])"
   ]
  },
  {
   "cell_type": "markdown",
   "id": "30eafbdd-73ee-4df5-a80f-4384447e6bc6",
   "metadata": {},
   "source": [
    "That means that clearly lists can be considered to be recursive data structures. In this case, **a whole can be broken up into smaller pieces which resemble the whole**, manifests itself as **a list can be broken up into smaller pieces, which themselves are lists**.\n",
    "\n",
    "Now imagine Python didn't have lists. How could we implement a `List` datatype without using tuples or lists, or any other pre-existing data structure? Using recursion, of course!\n",
    "\n",
    "We ask the question: \"What is a list?\"\n",
    "The \"normal\" answer might be something like \"A list is an ordered sequence of values\". But we could also answer:\n",
    "\n",
    "\"A list is some *value* followed by either A) another *list* or B) *nothing*\""
   ]
  },
  {
   "cell_type": "code",
   "execution_count": 5,
   "id": "10da18e3-042b-45b6-adf7-5d4ab2a95e16",
   "metadata": {},
   "outputs": [
    {
     "name": "stdout",
     "output_type": "stream",
     "text": [
      "1, 2, 3\n"
     ]
    }
   ],
   "source": [
    "class List:\n",
    "    def __init__(self, value, rest = None):             # rest can either be A) another List or B) None\n",
    "        self.value = value\n",
    "        self.rest = rest\n",
    "\n",
    "    def __str__(self):\n",
    "        return f\"{self.value}\" + (f\", {self.rest}\" if self.rest else \"\")\n",
    "\n",
    "l = List(1, List(2, List(3)))\n",
    "print(l)"
   ]
  },
  {
   "cell_type": "markdown",
   "id": "4538c39a-a9b6-4425-bf01-da88fed8442f",
   "metadata": {},
   "source": [
    "This kind of list implementation is called a **linked list**. In our `List` implementation, each instance holds a `value`, and a *reference* to the `rest` of the list, which is just another `List` instance, until the last element, where `rest` is `None`:\n",
    "\n",
    "<div>\n",
    "<img src=\"linked_l1.png\" width=\"700\"/>\n",
    "</div> \n",
    "\n",
    "This may seem unintuitive, but it's really possible to implement a fully working list without using any sequences, just references and recursion. Here's how addition could be implemented:"
   ]
  },
  {
   "cell_type": "code",
   "execution_count": 7,
   "id": "e7e68068-31e4-428e-a0eb-877463507ddf",
   "metadata": {},
   "outputs": [
    {
     "name": "stdout",
     "output_type": "stream",
     "text": [
      "1, 2, 3, 4, 5\n"
     ]
    }
   ],
   "source": [
    "class List:\n",
    "    def __init__(self, value, rest = None):\n",
    "        self.value = value\n",
    "        self.rest = rest\n",
    "\n",
    "    def __str__(self):\n",
    "        return f\"{self.value}\" + (f\", {self.rest}\" if self.rest else \"\")\n",
    "\n",
    "    def __add__(self, other):               # determines what happens when the + operator is used\n",
    "        if self.rest == None:               # if this is the last element, rest (which was None) now becomes other\n",
    "            self.rest = other\n",
    "            return self\n",
    "        else:                               # otherwise, add other to rest\n",
    "            self.rest = self.rest + other   # recursive call to List.__add__\n",
    "            return self\n",
    "\n",
    "l1 = List(1, List(2, List(3)))\n",
    "l2 = List(4, List(5))\n",
    "res = l1 + l2\n",
    "print(res)"
   ]
  },
  {
   "cell_type": "markdown",
   "id": "aa781a7a-5796-4587-9730-d539a8a91ee9",
   "metadata": {},
   "source": [
    "<div>\n",
    "<img src=\"linked_add.png\" width=\"800\"/>\n",
    "</div> \n",
    " \n",
    "We could add type hints to make things clearer. To be clear, `value` really can be any type, not just a number:"
   ]
  },
  {
   "cell_type": "code",
   "execution_count": null,
   "id": "3aac6931-e3ed-4a8d-9ac7-509bc93bde47",
   "metadata": {},
   "outputs": [
    {
     "name": "stdout",
     "output_type": "stream",
     "text": [
      "1, hello, 3, 4, <built-in function print>\n"
     ]
    }
   ],
   "source": [
    "from typing import Any\n",
    "from __future__ import annotations\n",
    "\n",
    "class List:\n",
    "    def __init__(self, value: Any, rest: List | None = None):               # rest can be of type List or it can be a None instance. By default it is None\n",
    "        self.value: Any = value\n",
    "        self.rest: List | None = rest\n",
    "        \n",
    "    def __str__(self):\n",
    "        return f\"{self.value}\" + (f\", {self.rest}\" if self.rest else \"\")\n",
    "\n",
    "    def __add__(self, other: List):\n",
    "        if self.rest == None:\n",
    "            self.rest = other\n",
    "            return self\n",
    "        else:\n",
    "            self.rest = self.rest + other\n",
    "            return self\n",
    "            \n",
    "\n",
    "\n",
    "l1 = List(1, List(\"hello\", List(3)))\n",
    "l2 = List(4, List(print))\n",
    "res = l1 + l2\n",
    "print(res)"
   ]
  },
  {
   "cell_type": "markdown",
   "id": "dab4e654-35b3-41cc-9f61-62e22ffc78ae",
   "metadata": {},
   "source": [
    "Using UML, we could draw `List` as follows. Each `rest` is either 0 or 1 elements of the `List` type:\n",
    "\n",
    "<div>\n",
    "<img src=\"linked_list.png\" width=\"500\"/>\n",
    "</div>"
   ]
  },
  {
   "cell_type": "markdown",
   "id": "a9c33842-f8ac-48b3-bc4d-1d36597ff630",
   "metadata": {},
   "source": [
    "<span style=\"color:purple;font-weight:bold\">Exercise</span>\n",
    "\n",
    "Implement `List.__len__`, so that calling `len` on a list will determine the `List`s real total length. To accomplish this, again think about lists recursively. The thinking might go like this:\n",
    "\n",
    " 1. A list consits of a value and the rest, which is either another list or nothing\n",
    " 2. That means a list by itself has length 1, plus whatever length the rest is (0 if there is no rest)\n",
    " 3. How do you figure out the length of the rest? Well the rest is just another list, so you can call `len` on it."
   ]
  },
  {
   "cell_type": "code",
   "execution_count": 12,
   "id": "d0cc6b9f-dbf4-4814-af6d-45691e590743",
   "metadata": {},
   "outputs": [
    {
     "data": {
      "text/plain": [
       "5"
      ]
     },
     "execution_count": 12,
     "metadata": {},
     "output_type": "execute_result"
    }
   ],
   "source": [
    "class List:\n",
    "    def __init__(self, value, rest = None):\n",
    "        self.value = value\n",
    "        self.rest = rest\n",
    "\n",
    "    def __str__(self):\n",
    "        return f\"{self.value}\" + (f\", {self.rest}\" if self.rest else \"\")\n",
    "\n",
    "    def __len__(self):\n",
    "        return 1 + (0 if self.rest == None else len(self.rest))\n",
    "        \n",
    "l1 = List(1, List(2, List(3, List(4, List(5)))))\n",
    "len(l1)"
   ]
  },
  {
   "cell_type": "markdown",
   "id": "dcbcf0f8-26ed-4f6d-bca8-4b96de948114",
   "metadata": {},
   "source": [
    "Notice that in this implementation, each element only knows its recursive (following) neighbor, but not its parent (or preceding) element. There is also a \"doubly linked list\", where each node holds a reference both to the following and the preceeding item.\n",
    "\n",
    "While you will not need to create your own list implementation, tree structures are quite common. Here is a basic *binary tree* implementation. A binary tree is a tree-like data structure where each element has two child elements (which can be either another tree, or nothing):"
   ]
  },
  {
   "cell_type": "code",
   "execution_count": 13,
   "id": "bda7cdc9-e73c-4032-b9a3-a43ecad6ac2f",
   "metadata": {},
   "outputs": [],
   "source": [
    "class Binary:\n",
    "    def __init__(self, value, left = None, right = None):\n",
    "        self.value = value\n",
    "        self.left = left\n",
    "        self.right = right\n",
    "\n",
    "    def __str__(self):\n",
    "        return f\"{self.value}\\nLeft: {self.left}\\nRight: {self.right}\"\n",
    "\n",
    "b = Binary(1,                            # left and right are Binary\n",
    "           Binary(10,                    # left and right are Binary\n",
    "                  Binary(100),           # left and right are None\n",
    "                  Binary(101),           # left and right are None\n",
    "                 ),\n",
    "           Binary(20,                    # left and right are Binary\n",
    "                  Binary(200,            # right is None\n",
    "                        Binary(2000)),   # left and right are None\n",
    "                  Binary(300,            # left is None\n",
    "                        None,\n",
    "                        Binary(3000)),   # left and right are None\n",
    "                 )\n",
    "          )"
   ]
  },
  {
   "cell_type": "markdown",
   "id": "cede76d5-4023-4111-809c-00ab6f769730",
   "metadata": {},
   "source": [
    "<div>\n",
    "<img src=\"binary.png\" width=\"1200\"/>\n",
    "</div>"
   ]
  },
  {
   "cell_type": "markdown",
   "id": "af5872aa-1988-428e-94cd-2811441fd8fa",
   "metadata": {},
   "source": [
    "Again, we could implement all kinds of functionality based on this structure. For example, let's say this binary tree will only contain numbers, so we can -- for any node in the tree -- sum it's total value (adding up all values in all descendants of the tree):\n",
    "\n",
    "<span style=\"color:purple;font-weight:bold\">Exercise</span>\n",
    "\n",
    "Implement `Binary.sum`, which adds up all numbers in the given tree, recursively. To accomplish this, the thinking might go like this:\n",
    "\n",
    " 1. A binary tree node consits of a value and two branches, which are either another tree node or nothing\n",
    " 2. So the total to be calculated for a tree node is its own value, plus the sum of each branch (or 0 if there is no branch)\n",
    " 3. How do you figure out the sum of each branch? Well the branch is just another binary tree node, so you can call `sum` on it."
   ]
  },
  {
   "cell_type": "code",
   "execution_count": 16,
   "id": "4d51931b-035e-4c71-b585-6ebcb60bc2db",
   "metadata": {},
   "outputs": [
    {
     "name": "stdout",
     "output_type": "stream",
     "text": [
      "5732\n"
     ]
    }
   ],
   "source": [
    "class Binary:\n",
    "    def __init__(self, value, left = None, right = None):\n",
    "        self.value = value\n",
    "        self.left = left\n",
    "        self.right = right\n",
    "\n",
    "    def __str__(self):\n",
    "        return f\"{self.value}\\nLeft: {self.left}\\nRight: {self.right}\"\\\n",
    "\n",
    "    def sum(self):\n",
    "        return self.value + (0 if self.left == None else self.left.sum()) + (0 if self.right == None else self.right.sum())\n",
    "            \n",
    "\n",
    "b = Binary(1,\n",
    "           Binary(10,\n",
    "                  Binary(100),\n",
    "                  Binary(101),\n",
    "                 ),\n",
    "           Binary(20,\n",
    "                  Binary(200,\n",
    "                        Binary(2000)),\n",
    "                  Binary(300,\n",
    "                        None,\n",
    "                        Binary(3000)),\n",
    "                 )\n",
    "          )\n",
    "\n",
    "print(b.sum())"
   ]
  },
  {
   "cell_type": "markdown",
   "id": "f781e42f-7e2b-41cc-9d3f-a5ae88f3d4b0",
   "metadata": {},
   "source": [
    "Indeed, we looked at a tree-like, recursive data structure a few weeks ago. A `Folder` is a recursive data type, because it can contain other `Folder`s (along side other `File`s as well). Here's a similar example with some adjustments compared to the previous version. In particular, we added a method `list`, which determines how a `File` (meaning `TextFile` or `Folder`) is represented in a directory tree."
   ]
  },
  {
   "cell_type": "code",
   "execution_count": null,
   "id": "7bfbfd69-ec5a-427e-b44a-7f3bfdd30b43",
   "metadata": {},
   "outputs": [],
   "source": [
    "from abc import ABC, abstractmethod\n",
    "\n",
    "class File(ABC):\n",
    "    def __init__(self, filename):\n",
    "        self.filename = filename\n",
    "\n",
    "    @abstractmethod\n",
    "    def get_size(self):\n",
    "        pass\n",
    "\n",
    "    def __str__(self):\n",
    "        return f\"{self.filename} ({self.get_size()})\"\n",
    "\n",
    "    def list(self, level=1):                                   # Determines what a File looks like in a directory listing\n",
    "        return self.__str__()                                  # By default, any inheriting class will simply use __str__ for this\n",
    "\n",
    "class TextFile(File):                                          # For example, TextFile doesn't override the list method, it inherits File.list\n",
    "    def __init__(self, filename, text=\"\"):\n",
    "        super().__init__(filename)\n",
    "        self.text = text\n",
    "\n",
    "    def get_size(self):\n",
    "        return len(self.text)\n",
    "\n",
    "class Folder(File):\n",
    "    def __init__(self, filename, content=None):                # Remember that default values should be immutable! Don't use a list here!\n",
    "        super().__init__(filename)\n",
    "        self.content = content if content != None else []      # Create an empty list if content was not provided\n",
    "\n",
    "    def get_size(self):\n",
    "        return sum(c.get_size() for c in self.content)\n",
    "        \n",
    "    def __str__(self):                                         # calling str() on a Folder will list its contents\n",
    "        return self.list()\n",
    "\n",
    "    def list(self, level=1):\n",
    "        return f\"{super().__str__()}\\n{\"\\n\".join([f\"{level * ' ' * 2}- {c.list(level=level+1)}\" for c in self.content])}\"\n",
    "\n",
    "root = Folder('C:\\\\')\n",
    "users = Folder('Users')\n",
    "root.content.append(users)\n",
    "\n",
    "m = Folder(\"My Documents\", [                                   # We can construct entire sub-trees with a single constructor\n",
    "  TextFile(\"empty.txt\"),\n",
    "  TextFile(\"passwords.txt\", \"bob84: hunter2\"),\n",
    "  Folder(\"Recipes\", [                                          # and also add nested Folders this way\n",
    "    TextFile(\"pico_de_gallo.txt\", \"...\"),\n",
    "    TextFile(\"breads.txt\", \"...\"),\n",
    "  ]),\n",
    "  TextFile(\"five.txt\", \"12345\"),\n",
    "])\n",
    "users.content.append(m)\n",
    "\n",
    "shopping = TextFile(\"shopping.txt\", \"tomatoes, lime, coriander\")\n",
    "m.content.append(shopping)\n",
    "\n",
    "print(shopping)                                                # we can still call str() on both files and folders\n",
    "print(root)"
   ]
  },
  {
   "cell_type": "markdown",
   "id": "bad5cfba-ab2a-4918-9e3d-9a64f8dbfbf8",
   "metadata": {},
   "source": [
    "In this example, the return value of `list` is constructed **recursively**. Each folder calls\n",
    "\n",
    "```python\n",
    "c.list(level=level+1)\n",
    "```\n",
    "\n",
    "for each file it contains. If that file is just a `TextFile`, and `TextFile.list` is called, then the inherited implementation `File.list` is used. If that file is another `Folder`, another listing is generated."
   ]
  },
  {
   "cell_type": "markdown",
   "id": "e5d66afd-eb56-4d38-916a-f45aa477c030",
   "metadata": {},
   "source": [
    "### What to remember:\n",
    "\n",
    " * A recursive data structure can reference (\"contain\") elements of the same type as itself. Examples:\n",
    "   * A binary tree can reference other binary trees\n",
    "   * A linked list refers to another linked list\n",
    "   * A folder can contain more folders\n",
    "   * A company can be organized into different units, which can contain sub-departments and further sub-divisions, each with a manager and employees\n",
    "   * Python code, where each expression can contain subexpressions, forming an expression tree\n",
    " * When operating on recursive data structures, it is often necessary to recursively call the same method (see `List.__len__`, `Folder.list`, `BinaryTree.sum`: they all call the same method on their referenced elements / descendants)\n",
    " * There is often a recognizable **THIS and then the REST** pattern\n",
    "\n"
   ]
  },
  {
   "cell_type": "markdown",
   "id": "b0371089-c1c7-475e-ae3c-74b16f265e8a",
   "metadata": {},
   "source": [
    "# Recursive Algorithms\n",
    "\n",
    "Some mathematical and programmatic problems can be expressed recursively.\n",
    "\n",
    "## Fibonacci\n",
    "\n",
    "One famous example is the Fibonnachi sequence:\n",
    "\n",
    "<div>\n",
    "<img src=\"fib.png\" width=\"500\"/>\n",
    "</div>\n",
    "\n",
    "The sequence starts with the numbers `1` and `1`, which add up to `2` (you could start at `0 + 1 = 1` but not today). Then, for each follow-up step, the last two numbers are added up:\n",
    "\n",
    "```\n",
    "1 + 1 = 2        # 3rd Fibonacci number\n",
    "1 + 2 = 3        # 4th Fibonacci number\n",
    "2 + 3 = 5        # 5th Fibonacci number\n",
    "3 + 5 = 8        # 6th Fibonacci number\n",
    "5 + 8 = 13       # 7th Fibonacci number\n",
    "8 + 13 = 21      # 8th Fibonacci number\n",
    "13 + 21 = 34     # 9th Fibonacci number\n",
    "21 + 34 = 55     # 10th Fibonacci number\n",
    "34 + 55 = 89     # 11th Fibonacci number\n",
    "55 + 89 = 144    # 12th Fibonacci number\n",
    "...\n",
    "```\n",
    "\n",
    "This means that the Fibonacci number `n` is the sum of the Fibonacci numbers `n-1` and `n-2`. For example, the 6th Fibonacci number is the sum of the 4th and 5th Fibonacci numbers:\n",
    "\n",
    "`fib(6) = fib(5) + fib(4) = 5 + 3 = 8`\n",
    "\n",
    "<div>\n",
    "<img src=\"fib_tree.png\" width=\"300\"/>\n",
    "</div> \n",
    "\n",
    "\n",
    "We could implement an iterative way to compute the n'th Fibonacci number like this:"
   ]
  },
  {
   "cell_type": "code",
   "execution_count": null,
   "id": "44c0a1d4-e3b4-4671-b020-5e5911bdde44",
   "metadata": {
    "ExecuteTime": {
     "end_time": "2023-11-14T09:14:06.989626Z",
     "start_time": "2023-11-14T09:14:06.533274Z"
    },
    "collapsed": false,
    "jupyter": {
     "outputs_hidden": false
    }
   },
   "outputs": [],
   "source": [
    "def fib(n):\n",
    "    a, b = 0, 1\n",
    "    for _ in range(n):\n",
    "        a, b = b, a + b     # a becomes b, b becomes a + b\n",
    "    return a\n",
    "\n",
    "print(fib(6))"
   ]
  },
  {
   "cell_type": "markdown",
   "id": "c7f42612-200f-41f6-95cf-89a77a574a74",
   "metadata": {},
   "source": [
    "This isn't particularily easy to read and understand. On the other hand, a recursive solution jumps right out of the definition.\n",
    "\n",
    "When writing this recursive solution, the question we ask is less \"**How do** we calculate the fibonacci number *n*\", and more \"**What is** the fibonacci number *n*\"."
   ]
  },
  {
   "cell_type": "code",
   "execution_count": null,
   "id": "d2d4d575-70c0-43b2-bd50-b50ce8ee9d6d",
   "metadata": {},
   "outputs": [],
   "source": [
    "def fib(n):\n",
    "    if n <= 1:                          # base case: if n <= 1, return n\n",
    "        return n\n",
    "    return fib(n - 1) + fib(n - 2)      # general case: fib(n) = fib(n-1) + fib(n-2)\n",
    "print(fib(6))"
   ]
  },
  {
   "cell_type": "markdown",
   "id": "6584fe7f-cac9-42d5-813e-8e3ff73d7de6",
   "metadata": {},
   "source": [
    "<div>\n",
    "<img src=\"fib6_recursive.png\" width=\"1200\"/>\n",
    "</div> "
   ]
  },
  {
   "cell_type": "markdown",
   "id": "b895b248-f2b3-4e92-bd1d-67a826ddc985",
   "metadata": {},
   "source": [
    "Notice, however, that this isn't a particularily efficient solution (in Python): many values are computed multiple times. For example, `fib(2)` is calculated 5 times! But don't be bothered by this. Computers are fast. If a recursive solution is more elegant. and more easy to understand, and not impacting any real-world performance, then by all means, go for it. Also, functional languages may employ *memoization*, where an expression such as `fib(2)` would only be computed the first time, with subsequent calls of the function simply returning a cached (memoized) value.\n",
    "\n",
    "Let's see a few more examples."
   ]
  },
  {
   "cell_type": "markdown",
   "id": "c14f0f755513fc1",
   "metadata": {
    "collapsed": false,
    "jupyter": {
     "outputs_hidden": false
    }
   },
   "source": [
    "### Factorials\n",
    "\n",
    "Consider the problem of calculating the factorial of a number. Factorial, denoted by `n!`, is the product of all positive integers from 1 to `n`. For example, `4!` (read as \"4 factorial\") is calculated as follows: $4! = 4 \\times 3 \\times 2 \\times 1 = 24$. `f(n)` as a mathematical function that calculates the factorial: $f: n \\rightarrow n!$\n",
    "\n",
    "Now, let's manually unfold this function using the defined signature $f: n \\rightarrow n!$ to understand how it computes the factorial of 4:\n",
    "\n",
    "Let's unfold `f(4)` to see all the recursive calls and the smaller factorial problems:\n",
    "\n",
    "```shell\n",
    "f(4) = 4 * f(3)\n",
    "           f(3) = 3 * f(2)\n",
    "                      f(2) = 2 * f(1)\n",
    "                                 f(1) = 1 * f(0)\n",
    "                                            f(0) = 1 \n",
    "```\n",
    "\n",
    "So, `f(4)` recursively calls `f(3)`, which calls `f(2)`, which calls `f(1)`, which calls `f(0)`. Each of these calls contributes to the final result:\n",
    "\n",
    "1. `f(0)` is evaluated and passed to `f(1)`:\n",
    "    ```shell\n",
    "    f(4) = 4 * f(3)\n",
    "               f(3) = 3 * f(2)\n",
    "                          f(2) = 2 * f(1)\n",
    "                                     f(1) = 1 * 1\n",
    "    ```\n",
    "    \n",
    "2. `f(1)` can now be evaluated and passed to `f(2)`:\n",
    "    ```shell\n",
    "    f(4) = 4 * f(3)\n",
    "               f(3) = 3 * f(2)\n",
    "                          f(2) = 2 * 1\n",
    "    ```\n",
    "    \n",
    "3. `f(2)` can now be evaluated and passed to `f(3)`:\n",
    "    ```shell\n",
    "    f(4) = 4 * f(3)\n",
    "               f(3) = 3 * 2\n",
    "    ```\n",
    "    \n",
    "4. `f(3)` can now be evaluated and passed to `f(4)`:\n",
    "    ```shell\n",
    "    f(4) = 4 * 6\n",
    "    ```\n",
    "    \n",
    "5. `f(4)` can now be evaluated:\n",
    "    ```shell\n",
    "    f(4) = 24\n",
    "    ```\n",
    "\n",
    "Therefore, `f(4) = 4! = 24`, matching the result we obtained earlier.\n",
    "\n",
    "Notice how `f` first unfolds/chains a number of recursive calls (`f(3)`, `f(2)`, `f(1)`) until a **base case** `f(0)`, and later evaluates these from the last call:\n",
    "```shell\n",
    "f(4)\n",
    "= 4 * f(3)\n",
    "= 4 * (3 * f(2))\n",
    "= 4 * (3 * (2 * f(1)))\n",
    "= 4 * (3 * (2 * (1 * f(0))))\n",
    "= 4 * (3 * (2 * (1 * 1)))\n",
    "= 4 * (3 * (2 * 1))\n",
    "= 4 * (3 * 2))\n",
    "= 4 * 6\n",
    "= 24\n",
    "```\n",
    "\n",
    "The definition of `f` consists of two logical components:\n",
    "\n",
    "1. **Base Case for `f(0)`:** We define the factorial of 0 as 1. This is the simplest case, where we don't need to perform any further recursion. It serves as the termination condition.\n",
    "\n",
    "   $f: 0 \\rightarrow 1$\n",
    "   \n",
    "3. **Recursive Case:** For any positive integer `x`, we calculate `f(x)` by multiplying `x` with the result of `f(x - 1)`. This recursive step reduces the problem to a smaller subproblem, gradually reaching the base case.\n",
    "\n",
    "   $f: x \\rightarrow x \\times f(x - 1)$"
   ]
  },
  {
   "cell_type": "markdown",
   "id": "f19f3b8e-9eca-4efc-a8e5-43ae3905c2c9",
   "metadata": {
    "collapsed": false,
    "jupyter": {
     "outputs_hidden": false
    }
   },
   "source": [
    "In Python, we can implement the formal definition of `f` as follows:"
   ]
  },
  {
   "cell_type": "code",
   "execution_count": null,
   "id": "9bf6c7a4-e496-43cd-aadb-8781bf1cd261",
   "metadata": {
    "ExecuteTime": {
     "end_time": "2023-11-14T09:14:06.755145Z",
     "start_time": "2023-11-14T09:14:06.486654Z"
    }
   },
   "outputs": [],
   "source": [
    "def factorial(n):\n",
    "    if n == 0:\n",
    "        return 1                     # Base case: f(0) is defined as 1\n",
    "    else:\n",
    "        return n * factorial(n - 1)  # Recursive case: f(n) = n * f(n-1)\n",
    "\n",
    "print(f\"factorial({4}) = {factorial(4)}\")"
   ]
  },
  {
   "cell_type": "markdown",
   "id": "f98fb865-0e9d-426a-a769-ef48f9c0a5b7",
   "metadata": {},
   "source": [
    "We can confirm that `factorial` unfolds as the formal definition of `f` by adding some debugging logic"
   ]
  },
  {
   "cell_type": "code",
   "execution_count": null,
   "id": "86590f9a-ec38-4748-9813-4a875160fc3b",
   "metadata": {
    "ExecuteTime": {
     "end_time": "2023-11-14T09:14:06.755315Z",
     "start_time": "2023-11-14T09:14:06.489512Z"
    }
   },
   "outputs": [],
   "source": [
    "def factorial_debug(n):\n",
    "    if n == 0:\n",
    "        print(f\"f({n}) = 1\")\n",
    "        return 1                             # Base case: f(0) is defined as 1\n",
    "    else:\n",
    "        print(f\"f({n}) = {n} * f({n - 1})\")\n",
    "        return n * factorial_debug(n - 1)    # Recursive case: f(n) = n * f(n-1)"
   ]
  },
  {
   "cell_type": "code",
   "execution_count": null,
   "id": "6e47a082-eb76-45b1-9a63-d05aa85c3d28",
   "metadata": {
    "ExecuteTime": {
     "end_time": "2023-11-14T09:14:06.951316Z",
     "start_time": "2023-11-14T09:14:06.492406Z"
    }
   },
   "outputs": [],
   "source": [
    "print(f\"f({4}) = {factorial_debug(4)}\")"
   ]
  },
  {
   "cell_type": "markdown",
   "id": "b24f4a022234f39",
   "metadata": {
    "collapsed": false,
    "jupyter": {
     "outputs_hidden": false
    }
   },
   "source": [
    "Although recursion is an elegant way to solve factorial problems, we can also implement it iteratively.\n",
    "The `factorial_iterative` function calculates the factorial by iteratively multiplying the integers from 1 to `n`"
   ]
  },
  {
   "cell_type": "code",
   "execution_count": null,
   "id": "6e6c3857dee098f7",
   "metadata": {
    "ExecuteTime": {
     "end_time": "2023-11-14T09:14:06.951447Z",
     "start_time": "2023-11-14T09:14:06.495196Z"
    },
    "collapsed": false,
    "jupyter": {
     "outputs_hidden": false
    }
   },
   "outputs": [],
   "source": [
    "def factorial_iterative(n):\n",
    "    result = 1\n",
    "    for i in range(1, n + 1):\n",
    "        result *= i\n",
    "    return result"
   ]
  },
  {
   "cell_type": "code",
   "execution_count": null,
   "id": "cd06a99bcc06f9cc",
   "metadata": {
    "ExecuteTime": {
     "end_time": "2023-11-14T09:14:06.951553Z",
     "start_time": "2023-11-14T09:14:06.497638Z"
    },
    "collapsed": false,
    "jupyter": {
     "outputs_hidden": false
    }
   },
   "outputs": [],
   "source": [
    "print(f\"f({4}) = {factorial_iterative(4)}\")"
   ]
  },
  {
   "cell_type": "markdown",
   "id": "22f62c49c575d3b6",
   "metadata": {
    "collapsed": false,
    "jupyter": {
     "outputs_hidden": false
    }
   },
   "source": [
    "## Basic Concepts of Recursive Computation\n",
    "\n",
    "### Key Concepts of Recursion\n",
    "\n",
    "Recursion involves several key concepts:\n",
    "\n",
    "1. **Base Case:** Every recursive problem must have a base case. This is the simplest instance of the problem that can be solved directly without further recursion. It serves as the stopping condition.\n",
    "2. **Recursive Case:** In the recursive case, a function calls itself with modified input to solve a slightly smaller sub-problem. The recursive case reduces the problem toward the base case.\n",
    "3. **Scopes:** Every recursive function call gives rise to a new scope, preserving the local variables' context. This mechanism enables the program to maintain and revisit the function's state as needed when the function concludes its execution.\n",
    "\n",
    "### Advantages of Recursion\n",
    "\n",
    "Why should we use recursion? Recursion offers several advantages:\n",
    "\n",
    "1. **Elegant Solutions:** Recursion often leads to elegant and concise solutions for complex problems. It simplifies code by breaking it into manageable pieces.\n",
    "2. **Divide and Conquer:** It is a natural fit for problems that can be divided into smaller, similar sub-problems. This \"divide and conquer\" approach can be more efficient.\n",
    "3. **Abstraction:** Recursion allows us to abstract complex problems into simple function calls, making code more understandable and maintainable.\n",
    "\n",
    "### Disadvantages and Pitfalls\n",
    "\n",
    "While recursion is a powerful tool, it's not always the best choice:\n",
    "\n",
    "1. **Performance:** Recursive functions can be less efficient due to the overhead of function calls and stack management. For some problems, iterative solutions may be faster.\n",
    "2. **Stack Overflow:** Recursion can lead to a stack overflow error if not carefully managed. It's essential to ensure that the base case is reachable and that the problem size reduces with each recursive call.\n"
   ]
  },
  {
   "cell_type": "markdown",
   "id": "6a17c11d9606cc47",
   "metadata": {
    "collapsed": false,
    "jupyter": {
     "outputs_hidden": false
    }
   },
   "source": [
    "## The Three Steps of Recursion\n",
    "\n",
    "Solving a problem recursively usually involes three steps:\n",
    "\n"
   ]
  },
  {
   "cell_type": "markdown",
   "id": "febdc98560ced1ac",
   "metadata": {
    "collapsed": false,
    "jupyter": {
     "outputs_hidden": false
    }
   },
   "source": [
    "### Step 1: Base Cases\n",
    "The first step is having a **base case**. The base case is the simplest (trivial) instance of the problem that **can be solved directly without further recursion**. It serves as the termination condition, preventing infinite recursion. In the case of the factorial example, this is $f: 0 \\rightarrow 1$. Without base cases, recursion would become an endless loop without progress. There can be more than one base case in the code for different termination conditions.\n",
    "\n",
    "Let's take the classic factorial problem as an example. The base case for calculating the factorial of 0 is defined as 1. This is the simplest instance, and it allows us to stop the recursion. If we don't have a base case, the recursion continues indefinitely:"
   ]
  },
  {
   "cell_type": "code",
   "execution_count": null,
   "id": "f01dab084541c983",
   "metadata": {
    "ExecuteTime": {
     "end_time": "2023-11-14T09:14:06.972084Z",
     "start_time": "2023-11-14T09:14:06.508364Z"
    },
    "collapsed": false,
    "jupyter": {
     "outputs_hidden": false
    }
   },
   "outputs": [],
   "source": [
    "def factorial_no_base_case(n):\n",
    "    print(f\"f({n}) = {n} * f({n - 1})\")\n",
    "    return n * factorial_no_base_case(n - 1)"
   ]
  },
  {
   "cell_type": "code",
   "execution_count": null,
   "id": "ef7c9fb63dbc27a4",
   "metadata": {
    "ExecuteTime": {
     "end_time": "2023-11-14T09:14:06.972336Z",
     "start_time": "2023-11-14T09:14:06.511396Z"
    },
    "collapsed": false,
    "jupyter": {
     "outputs_hidden": false
    }
   },
   "outputs": [],
   "source": [
    "import sys\n",
    "sys.setrecursionlimit(50)                     # for demo purposes we temporarily set Python's recursion limit to 50 calls. The default is 1000.\n",
    "\n",
    "print(f\"factorial_no_base_case(4) = \")\n",
    "try:\n",
    "   factorial_no_base_case(4)\n",
    "except RecursionError as e:                   # 'as e' obtains the Exception object that was raised into a variable 'e'\n",
    "    print(f\"RecursionError: '{e}'\")\n",
    "\n",
    "sys.setrecursionlimit(1000)"
   ]
  },
  {
   "cell_type": "markdown",
   "id": "d795e130-1d46-42ff-8e20-87511a950f10",
   "metadata": {},
   "source": [
    "Thus, you must always first make sure you know that the **base case** is going to be!"
   ]
  },
  {
   "cell_type": "markdown",
   "id": "2613db15d364c6a5",
   "metadata": {
    "collapsed": false,
    "jupyter": {
     "outputs_hidden": false
    }
   },
   "source": [
    "### Step 2: Recursive Cases\n",
    "\n",
    "The second step is to **break up** the problem, usually by taking one piece of the problem (for example the current element, the current number, etc.) and calling the function recursively on the rest of the problem.\n",
    "\n",
    "In the factorial problem, breaking up the problem means taking `n` and breaking off the rest of the problem into a recursive call `f(n-1)`. There could again be multiple recursive calls. This is, for example, true for the `BinaryTree` from earlier:\n",
    "\n",
    "```python\n",
    "class Binary:\n",
    "    def __init__(self, value, left = None, right = None):\n",
    "        self.value = value\n",
    "        self.left = left\n",
    "        self.right = right\n",
    "\n",
    "    def __str__(self):\n",
    "        return f\"{self.value}\\nLeft: {self.left}\\nRight: {self.right}\"\\\n",
    "\n",
    "    def sum(self):\n",
    "        return (self.value + \n",
    "                (self.left.sum() if self.left else 0) +         # recursive case #1 and base case #1\n",
    "                (self.right.sum() if self.right else 0)         # recursive case #2 and base case #2\n",
    "               )\n",
    "```"
   ]
  },
  {
   "cell_type": "markdown",
   "id": "d20932c9127749a2",
   "metadata": {
    "collapsed": false,
    "jupyter": {
     "outputs_hidden": false
    }
   },
   "source": [
    "### Step 3: Combine Solutions\n",
    "The third step of recursion is to **combine solutions**. In this step, we utilize the results of smaller sub-problems to build the solution for the original problem. As we return from recursive calls, we combine the solutions to construct the final answer. This step unifies the results from different parts of the problem to create the whole solution.\n",
    "\n",
    "In the factorial problem, we multiply results of the recursive cases. Each recursive call contributes to the final product, and this combination leads to the solution."
   ]
  },
  {
   "cell_type": "markdown",
   "id": "5e1b0b562f66fd5a",
   "metadata": {
    "collapsed": false,
    "jupyter": {
     "outputs_hidden": false
    }
   },
   "source": [
    "## Translating Iterative Functions into Recursive Functions: Examples\n",
    "\n",
    "For most recursive functions there exists a recursive variant, let's look at some examples"
   ]
  },
  {
   "cell_type": "markdown",
   "id": "94a3e5d7c7cc3cc3",
   "metadata": {
    "collapsed": false,
    "jupyter": {
     "outputs_hidden": false
    }
   },
   "source": [
    "### Example: Fibonacci Sequence\n",
    "Calculate the nth term of the Fibonacci sequence."
   ]
  },
  {
   "cell_type": "code",
   "execution_count": null,
   "id": "89aebd7a3f659e7a",
   "metadata": {
    "ExecuteTime": {
     "end_time": "2023-11-14T09:14:06.989626Z",
     "start_time": "2023-11-14T09:14:06.533274Z"
    },
    "collapsed": false,
    "jupyter": {
     "outputs_hidden": false
    }
   },
   "outputs": [],
   "source": [
    "def iterative_fibonacci(n):\n",
    "    a, b = 0, 1\n",
    "    for _ in range(n):\n",
    "        a, b = b, a + b\n",
    "    return a"
   ]
  },
  {
   "cell_type": "code",
   "execution_count": null,
   "id": "4a56788fae268f06",
   "metadata": {
    "ExecuteTime": {
     "end_time": "2023-11-14T09:14:07.003755Z",
     "start_time": "2023-11-14T09:14:06.534975Z"
    },
    "collapsed": false,
    "jupyter": {
     "outputs_hidden": false
    }
   },
   "outputs": [],
   "source": [
    "def recursive_fibonacci(n):\n",
    "    if n <= 1:\n",
    "        return n\n",
    "    return recursive_fibonacci(n - 1) + recursive_fibonacci(n - 2)"
   ]
  },
  {
   "cell_type": "code",
   "execution_count": null,
   "id": "13d2fcd1bb8dee18",
   "metadata": {
    "ExecuteTime": {
     "end_time": "2023-11-14T09:14:07.003997Z",
     "start_time": "2023-11-14T09:14:06.538909Z"
    },
    "collapsed": false,
    "jupyter": {
     "outputs_hidden": false
    }
   },
   "outputs": [],
   "source": [
    "print(f\"iterative_fibonacci(7) = {iterative_fibonacci(7)}\")\n",
    "print(f\"recursive_fibonacci(7) = {recursive_fibonacci(7)}\")"
   ]
  },
  {
   "cell_type": "markdown",
   "id": "d36de69a157c76dc",
   "metadata": {
    "collapsed": false,
    "jupyter": {
     "outputs_hidden": false
    }
   },
   "source": [
    "### Example: Sum of Numbers\n",
    "This function calculates the sum of numbers from 1 to a given positive integer n."
   ]
  },
  {
   "cell_type": "code",
   "execution_count": null,
   "id": "f9965940e7e319e9",
   "metadata": {
    "ExecuteTime": {
     "end_time": "2023-11-14T09:14:07.004045Z",
     "start_time": "2023-11-14T09:14:06.541701Z"
    },
    "collapsed": false,
    "jupyter": {
     "outputs_hidden": false
    }
   },
   "outputs": [],
   "source": [
    "def iterative_sum(n):\n",
    "    result = 0\n",
    "    for i in range(1, n + 1):\n",
    "        result += i\n",
    "    return result"
   ]
  },
  {
   "cell_type": "code",
   "execution_count": null,
   "id": "21b49f5a69b71cbc",
   "metadata": {
    "ExecuteTime": {
     "end_time": "2023-11-14T09:14:07.017777Z",
     "start_time": "2023-11-14T09:14:06.543636Z"
    },
    "collapsed": false,
    "jupyter": {
     "outputs_hidden": false
    }
   },
   "outputs": [],
   "source": [
    "def recursive_sum(n):\n",
    "    pass # Implement this"
   ]
  },
  {
   "cell_type": "code",
   "execution_count": null,
   "id": "5c3670ea113d8fc7",
   "metadata": {
    "ExecuteTime": {
     "end_time": "2023-11-14T09:14:07.017991Z",
     "start_time": "2023-11-14T09:14:06.545838Z"
    },
    "collapsed": false,
    "jupyter": {
     "outputs_hidden": false
    }
   },
   "outputs": [],
   "source": [
    "print(f\"iterative_sum(5) = {iterative_sum(5)}\")\n",
    "print(f\"recursive_sum(5) = {recursive_sum(5)}\")"
   ]
  },
  {
   "cell_type": "markdown",
   "id": "cd78e2aa40cd18ac",
   "metadata": {
    "collapsed": false,
    "jupyter": {
     "outputs_hidden": false
    }
   },
   "source": [
    "### Example: Powers Calculation\n",
    "This function calculates the result of raising a base number to a given exponent using repeated multiplication."
   ]
  },
  {
   "cell_type": "code",
   "execution_count": null,
   "id": "6df646fa750727d9",
   "metadata": {
    "ExecuteTime": {
     "end_time": "2023-11-14T09:14:07.018881Z",
     "start_time": "2023-11-14T09:14:06.549078Z"
    },
    "collapsed": false,
    "jupyter": {
     "outputs_hidden": false
    }
   },
   "outputs": [],
   "source": [
    "def iterative_power(base, exponent):\n",
    "    result = 1\n",
    "    for _ in range(exponent):\n",
    "        result *= base\n",
    "    return result"
   ]
  },
  {
   "cell_type": "code",
   "execution_count": null,
   "id": "deb51ad5378fef83",
   "metadata": {
    "ExecuteTime": {
     "end_time": "2023-11-14T09:14:07.032863Z",
     "start_time": "2023-11-14T09:14:06.550962Z"
    },
    "collapsed": false,
    "jupyter": {
     "outputs_hidden": false
    }
   },
   "outputs": [],
   "source": [
    "def recursive_power(base, exponent):\n",
    "    pass # Implement this"
   ]
  },
  {
   "cell_type": "code",
   "execution_count": null,
   "id": "94f6db4ee08b0475",
   "metadata": {
    "ExecuteTime": {
     "end_time": "2023-11-14T09:14:07.033047Z",
     "start_time": "2023-11-14T09:14:06.553735Z"
    },
    "collapsed": false,
    "jupyter": {
     "outputs_hidden": false
    }
   },
   "outputs": [],
   "source": [
    "print(f\"iterative_power(2, 3) = {iterative_power(2, 3)}\")\n",
    "print(f\"recursive_power(2, 3) = {recursive_power(2, 3)}\")"
   ]
  },
  {
   "cell_type": "markdown",
   "id": "61e8d4f7d3dbdb3c",
   "metadata": {
    "collapsed": false,
    "jupyter": {
     "outputs_hidden": false
    }
   },
   "source": [
    "### Example: List Summation\n",
    "This function calculates the sum of all elements in a list."
   ]
  },
  {
   "cell_type": "code",
   "execution_count": null,
   "id": "e0c45a787b5168ae",
   "metadata": {
    "ExecuteTime": {
     "end_time": "2023-11-14T09:14:07.038008Z",
     "start_time": "2023-11-14T09:14:06.556847Z"
    },
    "collapsed": false,
    "jupyter": {
     "outputs_hidden": false
    }
   },
   "outputs": [],
   "source": [
    "def iterative_list_sum(arr):\n",
    "    result = 0\n",
    "    for num in arr:\n",
    "        result += num\n",
    "    return result"
   ]
  },
  {
   "cell_type": "code",
   "execution_count": null,
   "id": "9c77572159471025",
   "metadata": {
    "ExecuteTime": {
     "end_time": "2023-11-14T09:14:07.038075Z",
     "start_time": "2023-11-14T09:14:06.558275Z"
    },
    "collapsed": false,
    "jupyter": {
     "outputs_hidden": false
    }
   },
   "outputs": [],
   "source": [
    "def recursive_list_sum(arr):\n",
    "    pass # Implement this"
   ]
  },
  {
   "cell_type": "code",
   "execution_count": null,
   "id": "f45536e2cb019d68",
   "metadata": {
    "ExecuteTime": {
     "end_time": "2023-11-14T09:14:07.038178Z",
     "start_time": "2023-11-14T09:14:06.561708Z"
    },
    "collapsed": false,
    "jupyter": {
     "outputs_hidden": false
    }
   },
   "outputs": [],
   "source": [
    "print(f\"iterative_list_sum([1, 2, 3, 4, 5]) = {iterative_list_sum([1, 2, 3, 4, 5])}\")\n",
    "print(f\"recursive_list_sum([1, 2, 3, 4, 5]) = {recursive_list_sum([1, 2, 3, 4, 5])}\")"
   ]
  },
  {
   "cell_type": "markdown",
   "id": "971668be28c91db7",
   "metadata": {
    "collapsed": false,
    "jupyter": {
     "outputs_hidden": false
    }
   },
   "source": [
    "### Example: List Length\n",
    "This function calculates the length of a list."
   ]
  },
  {
   "cell_type": "code",
   "execution_count": null,
   "id": "38e5ff13897f793a",
   "metadata": {
    "ExecuteTime": {
     "end_time": "2023-11-14T09:14:07.070581Z",
     "start_time": "2023-11-14T09:14:06.576439Z"
    },
    "collapsed": false,
    "jupyter": {
     "outputs_hidden": false
    }
   },
   "outputs": [],
   "source": [
    "def iterative_list_length(arr):\n",
    "    length = 0\n",
    "    for _ in arr:\n",
    "        length += 1\n",
    "    return length"
   ]
  },
  {
   "cell_type": "code",
   "execution_count": null,
   "id": "be8f79363612fb47",
   "metadata": {
    "ExecuteTime": {
     "end_time": "2023-11-14T09:14:07.084932Z",
     "start_time": "2023-11-14T09:14:06.579277Z"
    },
    "collapsed": false,
    "jupyter": {
     "outputs_hidden": false
    }
   },
   "outputs": [],
   "source": [
    "def recursive_list_length(arr):\n",
    "    pass # Implement this"
   ]
  },
  {
   "cell_type": "code",
   "execution_count": null,
   "id": "a0137e6d90649710",
   "metadata": {
    "ExecuteTime": {
     "end_time": "2023-11-14T09:14:07.085145Z",
     "start_time": "2023-11-14T09:14:06.581191Z"
    },
    "collapsed": false,
    "jupyter": {
     "outputs_hidden": false
    }
   },
   "outputs": [],
   "source": [
    "print(f\"iterative_list_length([10, 20, 30, 40, 50]) = {iterative_list_length([10, 20, 30, 40, 50])}\")\n",
    "print(f\"recursive_list_length([10, 20, 30, 40, 50]) = {recursive_list_length([10, 20, 30, 40, 50])}\")"
   ]
  },
  {
   "cell_type": "markdown",
   "id": "368f8c25bdc4c6b",
   "metadata": {
    "collapsed": false,
    "jupyter": {
     "outputs_hidden": false
    }
   },
   "source": [
    "### Example: List Reversal\n",
    "This function reverses the order of elements in a list."
   ]
  },
  {
   "cell_type": "code",
   "execution_count": null,
   "id": "fdc5c308ec260e84",
   "metadata": {
    "ExecuteTime": {
     "end_time": "2023-11-14T09:14:07.094360Z",
     "start_time": "2023-11-14T09:14:06.584854Z"
    },
    "collapsed": false,
    "jupyter": {
     "outputs_hidden": false
    }
   },
   "outputs": [],
   "source": [
    "def iterative_list_reverse(arr):\n",
    "    reversed_list = []\n",
    "    for i in range(len(arr) - 1, -1, -1):\n",
    "        reversed_list.append(arr[i])\n",
    "    return reversed_list\n",
    "\n",
    "    # Pythonic Alternative:\n",
    "    # return arr[::-1]"
   ]
  },
  {
   "cell_type": "code",
   "execution_count": null,
   "id": "1c3ace616244245b",
   "metadata": {
    "ExecuteTime": {
     "end_time": "2023-11-14T09:14:07.094472Z",
     "start_time": "2023-11-14T09:14:06.587515Z"
    },
    "collapsed": false,
    "jupyter": {
     "outputs_hidden": false
    }
   },
   "outputs": [],
   "source": [
    "def recursive_list_reverse(arr):\n",
    "    pass # Implement this"
   ]
  },
  {
   "cell_type": "code",
   "execution_count": null,
   "id": "ac52f163a819b5b",
   "metadata": {
    "ExecuteTime": {
     "end_time": "2023-11-14T09:14:07.094595Z",
     "start_time": "2023-11-14T09:14:06.590324Z"
    },
    "collapsed": false,
    "jupyter": {
     "outputs_hidden": false
    }
   },
   "outputs": [],
   "source": [
    "print(f\"iterative_list_reverse([1, 2, 3, 4, 5]) = {iterative_list_reverse([1, 2, 3, 4, 5])}\")\n",
    "print(f\"recursive_list_reverse([1, 2, 3, 4, 5]) = {recursive_list_reverse([1, 2, 3, 4, 5])}\")"
   ]
  },
  {
   "cell_type": "markdown",
   "id": "e04d52e3d925d364",
   "metadata": {
    "collapsed": false,
    "jupyter": {
     "outputs_hidden": false
    }
   },
   "source": [
    "## Tail Recursion\n",
    "\n",
    "A recursive function is *tail recursive* if there is no suspended computation in the evaluation stack as the function unfolds. In simpler terms, it's tail recursion if the *last thing that happens in the function is the recursive call*.\n",
    "\n",
    "Some languages employ compilers or interpreters that can optimize (unfold) tail-recursive functions such that a deeply nested recursive call won't create a whole stack of frames. On the other hand, non-tail-recursive implementations may lack performance, potentially leading to a growing stack and increased risk of stack overflow, necessitating consideration of alternative approaches for deep recursion scenarios. However, Python does not optimize tail-recursive functions, so it makes no difference here.\n",
    "\n",
    "In the example above, `recursive_list_reverse` is not tail recursive, because the addition (`+`) operation happens after the recursive call, so the recursive call is *not* the last thing that happens. The list reversal function can be implemented relying on tail recursion by updating the output value directly in the function argument. In this approach, an additional parameter, often named `accumulator`, is used to accumulate the reversed list.\n",
    "\n",
    "When the function is called recursively, the accumulator is updated by adding the current element to the beginning of the reversed list. This function is now tail recursive, because the addition (`+`) happens before the recursive call, which is the last thing that happens.\n",
    "\n",
    "This implementation works by progressively building the reversed list in the accumulator, effectively reversing the order of elements in the original list. It demonstrates an alternative recursive strategy that relies on tail recursion, providing insights into how the function's evaluation unfolds."
   ]
  },
  {
   "cell_type": "code",
   "execution_count": null,
   "id": "b1231bf38fcdbe3a",
   "metadata": {
    "ExecuteTime": {
     "end_time": "2023-11-14T09:14:07.121014Z",
     "start_time": "2023-11-14T09:14:06.593574Z"
    },
    "collapsed": false,
    "jupyter": {
     "outputs_hidden": false
    }
   },
   "outputs": [],
   "source": [
    "def recursive_list_reverse_tail(arr, reversed_list=None):\n",
    "    if reversed_list is None:\n",
    "        reversed_list = []\n",
    "    if arr == []:\n",
    "        return reversed_list\n",
    "    return recursive_list_reverse_tail(arr[:-1], reversed_list + [arr[-1]])"
   ]
  },
  {
   "cell_type": "code",
   "execution_count": null,
   "id": "caba49e1eb3e6553",
   "metadata": {
    "ExecuteTime": {
     "end_time": "2023-11-14T09:14:07.123646Z",
     "start_time": "2023-11-14T09:14:06.595997Z"
    },
    "collapsed": false,
    "jupyter": {
     "outputs_hidden": false
    }
   },
   "outputs": [],
   "source": [
    "print(f\"recursive_list_reverse_tail([1, 2, 3, 4, 5]) = {recursive_list_reverse_tail([1, 2, 3, 4, 5])}\")"
   ]
  },
  {
   "cell_type": "markdown",
   "id": "c80a061ed628432e",
   "metadata": {
    "collapsed": false,
    "jupyter": {
     "outputs_hidden": false
    }
   },
   "source": [
    "### Example: String Reversal\n",
    "This function reverses a string."
   ]
  },
  {
   "cell_type": "code",
   "execution_count": null,
   "id": "6719a4ad3b35d627",
   "metadata": {
    "ExecuteTime": {
     "end_time": "2023-11-14T09:14:07.156549Z",
     "start_time": "2023-11-14T09:14:06.606248Z"
    },
    "collapsed": false,
    "jupyter": {
     "outputs_hidden": false
    }
   },
   "outputs": [],
   "source": [
    "def iterative_string_reverse(s):\n",
    "    return s[::-1]"
   ]
  },
  {
   "cell_type": "code",
   "execution_count": null,
   "id": "c6a8c5a881b70e03",
   "metadata": {
    "ExecuteTime": {
     "end_time": "2023-11-14T09:14:07.156617Z",
     "start_time": "2023-11-14T09:14:06.609427Z"
    },
    "collapsed": false,
    "jupyter": {
     "outputs_hidden": false
    }
   },
   "outputs": [],
   "source": [
    "def recursive_string_reverse(s):\n",
    "    pass # Implement this"
   ]
  },
  {
   "cell_type": "code",
   "execution_count": null,
   "id": "c28fa023f5485a10",
   "metadata": {
    "ExecuteTime": {
     "end_time": "2023-11-14T09:14:07.161078Z",
     "start_time": "2023-11-14T09:14:06.611664Z"
    },
    "collapsed": false,
    "jupyter": {
     "outputs_hidden": false
    }
   },
   "outputs": [],
   "source": [
    "print(f'iterative_string_reverse(\"Hello World!\") = {iterative_string_reverse(\"Hello World!\")}')\n",
    "print(f'recursive_string_reverse(\"Hello World!\") = {recursive_string_reverse(\"Hello World!\")}')"
   ]
  },
  {
   "cell_type": "code",
   "execution_count": null,
   "id": "9607987dfff44389",
   "metadata": {
    "ExecuteTime": {
     "end_time": "2023-11-14T09:14:07.161140Z",
     "start_time": "2023-11-14T09:14:06.614734Z"
    },
    "collapsed": false,
    "jupyter": {
     "outputs_hidden": false
    }
   },
   "outputs": [],
   "source": [
    "def iterative_is_palindrome(s):\n",
    "    return s == s[::-1]"
   ]
  },
  {
   "cell_type": "code",
   "execution_count": null,
   "id": "469ce163471dcdff",
   "metadata": {
    "ExecuteTime": {
     "end_time": "2023-11-14T09:14:07.161189Z",
     "start_time": "2023-11-14T09:14:06.617250Z"
    },
    "collapsed": false,
    "jupyter": {
     "outputs_hidden": false
    }
   },
   "outputs": [],
   "source": [
    "def recursive_is_palindrome(s):\n",
    "    if len(s) == 0:\n",
    "        return True\n",
    "    if s[0] != s[-1]:\n",
    "        return False\n",
    "    return recursive_is_palindrome(s[1:-1])"
   ]
  },
  {
   "cell_type": "code",
   "execution_count": null,
   "id": "3c8b9e8d585d60f2",
   "metadata": {
    "ExecuteTime": {
     "end_time": "2023-11-14T09:14:07.174876Z",
     "start_time": "2023-11-14T09:14:06.618818Z"
    },
    "collapsed": false,
    "jupyter": {
     "outputs_hidden": false
    }
   },
   "outputs": [],
   "source": [
    "print(f'iterative_is_palindrome(\"radar\") = {iterative_is_palindrome(\"radar\")}')\n",
    "print(f'recursive_is_palindrome(\"radar\") = {recursive_is_palindrome(\"radar\")}')"
   ]
  },
  {
   "cell_type": "code",
   "execution_count": null,
   "id": "a33585c900871731",
   "metadata": {
    "ExecuteTime": {
     "end_time": "2023-11-14T09:14:07.175781Z",
     "start_time": "2023-11-14T09:14:06.621956Z"
    },
    "collapsed": false,
    "jupyter": {
     "outputs_hidden": false
    }
   },
   "outputs": [],
   "source": [
    "print(f'iterative_is_palindrome([\"Hello\", 2, True, True, 2, \"Hello\"]) = {iterative_is_palindrome([\"Hello\", 2, True, True, 2, \"Hello\"])}')\n",
    "print(f'recursive_is_palindrome([\"Hello\", 2, True, True, 2, \"Hello\"]) = {recursive_is_palindrome([\"Hello\", 2, True, True, 2, \"Hello\"])}')"
   ]
  },
  {
   "cell_type": "markdown",
   "id": "a0f1104fa727bdcd",
   "metadata": {
    "collapsed": false,
    "jupyter": {
     "outputs_hidden": false
    }
   },
   "source": [
    "### Example: Character Removal\n",
    "This function removes all occurrences of a character from a string."
   ]
  },
  {
   "cell_type": "code",
   "execution_count": null,
   "id": "c50efe6f1ec1054c",
   "metadata": {
    "ExecuteTime": {
     "end_time": "2023-11-14T09:14:07.189761Z",
     "start_time": "2023-11-14T09:14:06.635160Z"
    },
    "collapsed": false,
    "jupyter": {
     "outputs_hidden": false
    }
   },
   "outputs": [],
   "source": [
    "def iterative_remove_character(s, char):\n",
    "    return s.replace(char, \"\")"
   ]
  },
  {
   "cell_type": "code",
   "execution_count": null,
   "id": "5a2d668c3db7727a",
   "metadata": {
    "ExecuteTime": {
     "end_time": "2023-11-14T09:14:07.189806Z",
     "start_time": "2023-11-14T09:14:06.637471Z"
    },
    "collapsed": false,
    "jupyter": {
     "outputs_hidden": false
    }
   },
   "outputs": [],
   "source": [
    "def recursive_remove_character(s, char):\n",
    "    pass # Implement this"
   ]
  },
  {
   "cell_type": "code",
   "execution_count": null,
   "id": "ae0f4786230ad1c2",
   "metadata": {
    "ExecuteTime": {
     "end_time": "2023-11-14T09:14:07.189897Z",
     "start_time": "2023-11-14T09:14:06.639597Z"
    },
    "collapsed": false,
    "jupyter": {
     "outputs_hidden": false
    }
   },
   "outputs": [],
   "source": [
    "print(f'iterative_remove_character(\"Hello, World!\", \"l\") = {iterative_remove_character(\"Hello, World!\", \"l\")}')\n",
    "print(f'recursive_remove_character(\"Hello, World!\", \"l\") = {recursive_remove_character(\"Hello, World!\", \"l\")}')"
   ]
  },
  {
   "cell_type": "markdown",
   "id": "d0262e67-4e57-4faa-97ee-20a81af65fce",
   "metadata": {},
   "source": [
    "### Revisiting linked lists\n",
    "\n",
    "Now that you know about the three steps in writing recursion, you can recognize the same patter being used when working with recursive data structures:\n",
    "\n",
    "1. **Base Case**: if there is no `rest`, its length is `0`.\n",
    "2. **Recursive case**: compute the length of `rest` via a recursive call to `List.__len__`.\n",
    "3. **Combine Solutions**: Add the local problem (`1`) to the result of the recursive call."
   ]
  },
  {
   "cell_type": "code",
   "execution_count": null,
   "id": "1cf6d112-c4e0-4d82-9d1d-135511a12777",
   "metadata": {},
   "outputs": [],
   "source": [
    "class List:\n",
    "    def __init__(self, value, rest = None):\n",
    "        self.value = value\n",
    "        self.rest = rest\n",
    "\n",
    "    def __str__(self):\n",
    "        return f\"{self.value}\" + (f\", {self.rest}\" if self.rest else \"\")\n",
    "\n",
    "    def __len__(self):\n",
    "        return 1 + (0 if not self.rest else len(self.rest))\n",
    "        \n",
    "l1 = List(1, List(2, List(3, List(4, List(5)))))\n",
    "len(l1)"
   ]
  },
  {
   "cell_type": "markdown",
   "id": "42e10841-9751-47e0-a0b4-5198687552fd",
   "metadata": {},
   "source": [
    "### Revisiting binary trees\n",
    "\n",
    "The same pattern can be identified in the `BinaryTree`:\n",
    "\n",
    "1. **Base Case #1**: if there is no `left`, its length is `0`. **Base Case #2**: if there is no `right`, its length is `0`.\n",
    "2. **Recursive case #1**: compute the length of `left` via a recursive call to `Binary.sum`. 2. **Recursive case #2**: compute the length of `right` via a recursive call to `Binary.sum`.\n",
    "3. **Combine Solutions**: Add the local problem (`value`) to the result of the two recursive calls."
   ]
  },
  {
   "cell_type": "code",
   "execution_count": null,
   "id": "293ed185-4b53-4ff7-9e2f-aa825ffdfcb3",
   "metadata": {},
   "outputs": [],
   "source": [
    "class Binary:\n",
    "    def __init__(self, value, left = None, right = None):\n",
    "        self.value = value\n",
    "        self.left = left\n",
    "        self.right = right\n",
    "\n",
    "    def __str__(self):\n",
    "        return f\"{self.value}\\nLeft: {self.left}\\nRight: {self.right}\"\\\n",
    "\n",
    "    def sum(self):\n",
    "        return (self.value + \n",
    "                (self.left.sum() if self.left else 0) +         # recursive case #1 and base case #1\n",
    "                (self.right.sum() if self.right else 0)         # recursive case #2 and base case #2\n",
    "               )\n",
    "b = Binary(1,\n",
    "           Binary(10,\n",
    "                  Binary(100),\n",
    "                  Binary(101),\n",
    "                 ),\n",
    "           Binary(20,\n",
    "                  Binary(200,\n",
    "                        Binary(2000)),\n",
    "                  Binary(300,\n",
    "                        None,\n",
    "                        Binary(3000)),\n",
    "                 )\n",
    "          )\n",
    "\n",
    "print(b.sum())"
   ]
  },
  {
   "cell_type": "markdown",
   "id": "f9084a7a-3d7c-4cd7-b678-87f666e9d84f",
   "metadata": {},
   "source": [
    "## Revisiting language\n",
    "\n",
    "The steps of recursion even apply to our natural language example:\n",
    "\n",
    "1. **Base Case**: \"Eve wrote the code.\" - there are no further sub-sentences\n",
    "2. **Recursive case**: Another full sentence\n",
    "3. **Combine Solutions**: Connect sub-sentences using `that`\n",
    "\n",
    " * \"Alice thinks that Bob suspects that Charlie said that Dave believes that Eve wrote the code.\":\n",
    "   * \"Bob suspects that Charlie said that Dave believes that Eve wrote the code.\"\n",
    "     * \"Charlie said that Dave believes that Eve wrote the code.\" \n",
    "       * \"Dave believes believes that Eve wrote the code.\"\n",
    "         * \"Eve wrote the code.\"\n",
    "             "
   ]
  }
 ],
 "metadata": {
  "kernelspec": {
   "display_name": "Python 3",
   "language": "python",
   "name": "python3"
  },
  "language_info": {
   "codemirror_mode": {
    "name": "ipython",
    "version": 3
   },
   "file_extension": ".py",
   "mimetype": "text/x-python",
   "name": "python",
   "nbconvert_exporter": "python",
   "pygments_lexer": "ipython3",
   "version": "3.12.6"
  }
 },
 "nbformat": 4,
 "nbformat_minor": 5
}
