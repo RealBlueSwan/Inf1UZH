{
 "cells": [
  {
   "cell_type": "markdown",
   "id": "90bd291e-0686-44c1-80a3-910f8f2f5e5e",
   "metadata": {},
   "source": [
    "# Quick recap from last week"
   ]
  },
  {
   "cell_type": "markdown",
   "id": "f27014af-6a94-4576-b885-0ae732c3c999",
   "metadata": {},
   "source": [
    "### Functions:\n",
    "  * A function takes zero or more parameters and returns something.\n",
    "  * You can call a function by it's name and `(...)`.\n",
    "  * To define a new function, you use the `def` keyword and accompanying syntax."
   ]
  },
  {
   "cell_type": "code",
   "execution_count": null,
   "id": "0b31380a-813e-461b-bc23-4a6f3bc19479",
   "metadata": {},
   "outputs": [],
   "source": [
    "def hypothenuse(a, b):\n",
    "    return (a**2 + b**2)**(1/2)\n",
    "\n",
    "def get_first_three_characters_as_upper(word):\n",
    "    return word[:3].upper()\n",
    "\n",
    "print(hypothenuse(3, 4))\n",
    "print(get_first_three_characters_as_upper(\"France\"))"
   ]
  },
  {
   "cell_type": "markdown",
   "id": "6de83ec6-88b6-49fe-94ac-3ab56a562840",
   "metadata": {},
   "source": [
    "### Basic numbers: `int`, `float`\n"
   ]
  },
  {
   "cell_type": "code",
   "execution_count": null,
   "id": "793545b0-663e-40b4-8a43-92d98942d2d4",
   "metadata": {},
   "outputs": [],
   "source": [
    "1 + 2"
   ]
  },
  {
   "cell_type": "code",
   "execution_count": null,
   "id": "c5cc211f-0355-4e8d-b142-5bb6ad6d9aee",
   "metadata": {},
   "outputs": [],
   "source": [
    "1.0 + 2"
   ]
  },
  {
   "cell_type": "code",
   "execution_count": null,
   "id": "e12e21d5-4963-4b77-aead-596521e7e1c5",
   "metadata": {},
   "outputs": [],
   "source": [
    "0.3 + 0.3 + 0.3 == 0.9       # floating point numbers aren't perfectly accurate"
   ]
  },
  {
   "cell_type": "markdown",
   "id": "62f9b679-6521-4a3f-8065-8873baf30bc9",
   "metadata": {},
   "source": [
    "Remember that floats are not perfectly accurate. The [Python documentation](https://docs.python.org/3/tutorial/floatingpoint.html) has a great article with more information."
   ]
  },
  {
   "cell_type": "markdown",
   "id": "f2be0b04-461e-40fe-99cc-bd2460c9c866",
   "metadata": {},
   "source": [
    "### Check the type of a value using the `type(...)` function\n"
   ]
  },
  {
   "cell_type": "code",
   "execution_count": null,
   "id": "d80422f8-52b7-4803-8008-f16f3b094e06",
   "metadata": {},
   "outputs": [],
   "source": [
    "type(3.5)"
   ]
  },
  {
   "cell_type": "code",
   "execution_count": null,
   "id": "24250da9-d457-41ce-a415-a70bc9ddeb55",
   "metadata": {},
   "outputs": [],
   "source": [
    "type(hypothenuse)"
   ]
  },
  {
   "cell_type": "markdown",
   "id": "53343ea4-c077-4202-8772-03bb889bf79f",
   "metadata": {},
   "source": [
    "### Imports"
   ]
  },
  {
   "cell_type": "code",
   "execution_count": null,
   "id": "b0861d32-0bda-444d-af62-60ad4fdbd1ff",
   "metadata": {},
   "outputs": [],
   "source": [
    "import datetime\n",
    "datetime.datetime.now()"
   ]
  },
  {
   "cell_type": "code",
   "execution_count": null,
   "id": "8bffc640-b75f-40a9-b1fe-270d0e510ca4",
   "metadata": {},
   "outputs": [],
   "source": [
    "from os.path import splitext\n",
    "splitext(\"picture.png\")"
   ]
  },
  {
   "cell_type": "markdown",
   "id": "d081f240-5869-483c-93c9-b1e86ea7a2b6",
   "metadata": {},
   "source": [
    "### How to declare and operate on strings\n"
   ]
  },
  {
   "cell_type": "code",
   "execution_count": null,
   "id": "35652813-1f4b-4ae9-9717-608d052d22d1",
   "metadata": {},
   "outputs": [],
   "source": [
    "\"Pineapple\"[-5:].capitalize()"
   ]
  },
  {
   "cell_type": "markdown",
   "id": "64e1f7b8-eae4-4695-ae36-3f8022786d7c",
   "metadata": {},
   "source": [
    "### Variables\n"
   ]
  },
  {
   "cell_type": "code",
   "execution_count": null,
   "id": "be9bc46a-fb96-43c2-880b-eb141039d7c9",
   "metadata": {},
   "outputs": [],
   "source": [
    "name = \"Alice\"\n",
    "book = name + \" in Wonderland\"\n",
    "name = \"Bob\"\n",
    "book"
   ]
  },
  {
   "cell_type": "markdown",
   "id": "5186658a-ad5e-4c4e-b43d-e449fe362025",
   "metadata": {},
   "source": [
    "### String interpolation (*f-strings*) and formatting"
   ]
  },
  {
   "cell_type": "code",
   "execution_count": null,
   "id": "5378c192-cbe0-4195-87b1-d1aa32e80c2a",
   "metadata": {},
   "outputs": [],
   "source": [
    "f'{name} is reading \"{book}\"'"
   ]
  },
  {
   "cell_type": "code",
   "execution_count": null,
   "id": "49f79bca-6f50-4acd-8e52-fb64ce086afe",
   "metadata": {},
   "outputs": [],
   "source": [
    "from math import pi\n",
    "f\"Pi to the first 4 digits is {pi:.4f}\""
   ]
  },
  {
   "cell_type": "code",
   "execution_count": null,
   "id": "3325c4f8-3264-4496-bf0b-80ad977cfc24",
   "metadata": {},
   "outputs": [],
   "source": [
    "digits = 6\n",
    "f\"Pi to the first {digits} digits is {pi:.{digits}f}\""
   ]
  },
  {
   "cell_type": "markdown",
   "id": "13fbb2d9-99d9-4d5e-86cb-43cd72b956e8",
   "metadata": {},
   "source": [
    "### Tuples and Lists\n"
   ]
  },
  {
   "cell_type": "code",
   "execution_count": null,
   "id": "300bd8d2-26d2-4f62-8db2-208a9fc6fd4e",
   "metadata": {},
   "outputs": [],
   "source": [
    "stuff = (1, \"hello\", 2)       # fixed length, immutable\n",
    "print(stuff[1])\n",
    "print(stuff[-1])"
   ]
  },
  {
   "cell_type": "code",
   "execution_count": null,
   "id": "0acea5a9-d9fa-4d50-a6ea-044752dcbbf2",
   "metadata": {},
   "outputs": [],
   "source": [
    "stuff = [1, \"hello\", \"hi\"]    # mutable\n",
    "print(stuff[1])\n",
    "del(stuff[2])\n",
    "stuff.append(3)\n",
    "stuff.extend([4, 5])\n",
    "print(stuff)"
   ]
  },
  {
   "cell_type": "markdown",
   "id": "57de9a14-7d18-4242-8a63-04a5efcdbf67",
   "metadata": {},
   "source": [
    "### Sets"
   ]
  },
  {
   "cell_type": "code",
   "execution_count": null,
   "id": "ac6e2489-6337-49b3-81df-3522649e3b65",
   "metadata": {},
   "outputs": [],
   "source": [
    "my_set = {1, 2, 3, 4, 4, 4, 4, \"hello\"}\n",
    "print(my_set)\n",
    "my_set.remove(3)\n",
    "my_set.add(4)\n",
    "my_set.add(10)\n",
    "print(my_set)"
   ]
  },
  {
   "cell_type": "markdown",
   "id": "afe24f2c-2baf-4215-98a8-3634ba4a1bc1",
   "metadata": {},
   "source": [
    "### Mutable vs. Immutable\n",
    " * lists are *mutable*\n",
    " * tuples and strings are *immutable*"
   ]
  },
  {
   "cell_type": "code",
   "execution_count": null,
   "id": "f3d3f6c6-a9b7-40e3-9a02-d1773fd4b78f",
   "metadata": {},
   "outputs": [],
   "source": [
    "mutable_list = [1, 2, 3, 3, 4]\n",
    "mutable_list.remove(3)\n",
    "print(list)\n",
    "mutable_list.append(100)\n",
    "mutable_list.extend([-1, -2, \"hello\"])\n",
    "mutable_list"
   ]
  },
  {
   "cell_type": "code",
   "execution_count": null,
   "id": "b0d983da-af8a-4bf8-9a8f-2df51a35cd1f",
   "metadata": {},
   "outputs": [],
   "source": [
    "immutable_tuple = (1, 2, 3, 4)\n",
    "# not possible:\n",
    "# immutable_tuple.append(5)\n",
    "changed_tuple = immutable_tuple + (5,)\n",
    "changed_tuple"
   ]
  },
  {
   "cell_type": "markdown",
   "id": "f795ff54-7618-46cf-a12b-d9815b80c511",
   "metadata": {},
   "source": [
    "### Booleans, `and`/`or` and shortcircuiting\n",
    "\n"
   ]
  },
  {
   "cell_type": "markdown",
   "id": "6c3a430a-ecd7-406a-a40a-15375aab3d5e",
   "metadata": {},
   "source": [
    "In last week's example, each of the following functions prints a character and then returns either True or False."
   ]
  },
  {
   "cell_type": "code",
   "execution_count": null,
   "id": "7149ad33-34b8-4b7d-94c6-c7cc2416f3ca",
   "metadata": {},
   "outputs": [],
   "source": [
    "def a():\n",
    "    print(\"a\")\n",
    "    return True\n",
    "def b():\n",
    "    print(\"b\")\n",
    "    return False\n",
    "def c():\n",
    "    print(\"c\")\n",
    "    return True"
   ]
  },
  {
   "cell_type": "markdown",
   "id": "75fef433-c66e-4ee6-b7ab-5d7351b7c668",
   "metadata": {},
   "source": [
    "So when we construct an expression using these function calls, we can see which functions are called:"
   ]
  },
  {
   "cell_type": "code",
   "execution_count": null,
   "id": "c8f69060-48a5-4f87-89ae-8563b356ceb8",
   "metadata": {},
   "outputs": [],
   "source": [
    "a() or b() and c()"
   ]
  },
  {
   "cell_type": "markdown",
   "id": "980df378-9474-4c6f-8755-95a710e1b5eb",
   "metadata": {},
   "source": [
    "In Python `and` takes precedence over `or` as described in the [Python Documentation](https://docs.python.org/3/reference/expressions.html#operator-precedence). Then why is only `a()` being called? Shouldn't the `and` operation be performed first, so at least `b()` should be called?\n",
    "\n",
    "First, let's agree that `a() or b() and c()` in this case is equivalent to"
   ]
  },
  {
   "cell_type": "code",
   "execution_count": null,
   "id": "6273ca50-8d97-403c-ba33-db80ba31af02",
   "metadata": {},
   "outputs": [],
   "source": [
    "True or False and True"
   ]
  },
  {
   "cell_type": "markdown",
   "id": "9bf2b7c4-8aa4-4dc1-bc49-f1cad81ca915",
   "metadata": {},
   "source": [
    "Now, We can break down this problem into 3 axioms:\n",
    "\n",
    "**#1** Operator precedence only determines where the implicit/invisible braces are placed.\n",
    "\n",
    "So in..."
   ]
  },
  {
   "cell_type": "code",
   "execution_count": null,
   "id": "c10030b8-4baa-44a4-a86c-29817cf78f0e",
   "metadata": {},
   "outputs": [],
   "source": [
    "True or False and True"
   ]
  },
  {
   "cell_type": "markdown",
   "id": "fc3462af-5dd1-46ff-a5c2-44931555becb",
   "metadata": {},
   "source": [
    "...operator precedence places the braces like so:"
   ]
  },
  {
   "cell_type": "code",
   "execution_count": null,
   "id": "d08c0eee-3524-4afb-9e95-f578ea297106",
   "metadata": {},
   "outputs": [],
   "source": [
    "True or (False and True)"
   ]
  },
  {
   "cell_type": "markdown",
   "id": "be19d4e1-09a1-44ae-80ba-78ed0fe49693",
   "metadata": {},
   "source": [
    "Because the braces are placed like that, the resulting expression tree is:\n",
    "\n",
    "<div>\n",
    "<img src=\"bool-exp-tree.png\" width=\"500\"/>\n",
    "</div>"
   ]
  },
  {
   "cell_type": "markdown",
   "id": "177ba19c-ee83-47b4-b47c-4dc821daee2f",
   "metadata": {},
   "source": [
    "It is true, that the `and` would need to be evaluated first, in order for the result to be available for the right-hand side of the `or` operation. However...\n",
    "\n",
    "**#2** In a binary expression (like `and`, `or`, `+` or `**`) the left-hand operator is evaluated first.\n",
    "\n",
    "So in..."
   ]
  },
  {
   "cell_type": "code",
   "execution_count": null,
   "id": "f669146f-ae10-4dca-90f0-5b5460529130",
   "metadata": {},
   "outputs": [],
   "source": [
    "True or (False and True)"
   ]
  },
  {
   "cell_type": "markdown",
   "id": "0185e86c-5a08-4dce-adaa-a7032683d3d5",
   "metadata": {},
   "source": [
    "...the left side (`True`) is evaluated first.\n",
    "\n",
    "**#3** Short-circuiting: If the left operand of an or operation is True, the right side is not evaluated. Likewise, if the left operand of an and operation is False, the right side is not evaluated.\n",
    "\n",
    "This means that in..."
   ]
  },
  {
   "cell_type": "code",
   "execution_count": null,
   "id": "36bff87b-447b-443d-bbd0-2d9d1b485359",
   "metadata": {},
   "outputs": [],
   "source": [
    "True or (False and True)"
   ]
  },
  {
   "cell_type": "markdown",
   "id": "2d8fa234-b3ef-47fc-808c-449673c6b4a2",
   "metadata": {},
   "source": [
    "Only the left-hand operator is evaluated (because `True or ...` short-circuits). Likewise, in..."
   ]
  },
  {
   "cell_type": "code",
   "execution_count": null,
   "id": "0b7d6c49-b6b7-4f26-9936-089dd6faece7",
   "metadata": {},
   "outputs": [],
   "source": [
    "False and some_really_expensive_function_call_that_would_take_1_hour_to_complete(123)"
   ]
  },
  {
   "cell_type": "markdown",
   "id": "5086f1da-4799-4f5a-8db5-0df87f16116a",
   "metadata": {},
   "source": [
    "only the left-hand operator is evaluated (because `False and ...` short-circuits. Short-circuiting is a special feature of `and` and `or`.\n",
    "\n",
    "Here's another example using other kinds of binary operators. In..."
   ]
  },
  {
   "cell_type": "code",
   "execution_count": null,
   "id": "8abdb525-e241-4f8b-a1f6-ca317e1f65a3",
   "metadata": {},
   "outputs": [],
   "source": [
    "1 + 2 * 3"
   ]
  },
  {
   "cell_type": "markdown",
   "id": "895e6e96-a499-478d-8640-cb676298a358",
   "metadata": {},
   "source": [
    "operator precedence places the \"invisible braces\" like so:"
   ]
  },
  {
   "cell_type": "code",
   "execution_count": null,
   "id": "c701f519-2262-4794-85f8-f09e3839ef2e",
   "metadata": {},
   "outputs": [],
   "source": [
    "1 + (2 * 3)"
   ]
  },
  {
   "cell_type": "markdown",
   "id": "7c4a91b3-e653-4042-936e-aa2c7ce7bc3e",
   "metadata": {},
   "source": [
    "for an expression tree\n",
    "\n",
    "<div>\n",
    "<img src=\"arith-exp-tree.png\" width=\"500\"/>\n",
    "</div>"
   ]
  },
  {
   "cell_type": "markdown",
   "id": "28d06dc4-3baa-4f16-aa59-b7f8bc7fd20b",
   "metadata": {},
   "source": [
    "Here, again, the left-hand side (`1`) is evaluated first. But unlike using `or`, we still have to evaluate the right side as well (no short-circuiting possible). Here it is using functions:"
   ]
  },
  {
   "cell_type": "code",
   "execution_count": null,
   "id": "2dfec336-27dc-43a5-9c21-91ba35d93e00",
   "metadata": {},
   "outputs": [],
   "source": [
    "def a():\n",
    "    print(\"a\")\n",
    "    return 1\n",
    "def b():\n",
    "    print(\"b\")\n",
    "    return 2\n",
    "def c():\n",
    "    print(\"c\")\n",
    "    return 3\n",
    "\n",
    "a() + b() * c()"
   ]
  },
  {
   "cell_type": "markdown",
   "id": "bc841c17-2bfb-45db-b02d-9a14ed18b7bd",
   "metadata": {},
   "source": [
    "<p style=\"height:100px\"></p>\n",
    "<hr>\n",
    "<p style=\"height:100px\"></p>\n",
    "\n",
    "\n",
    "\n"
   ]
  },
  {
   "cell_type": "markdown",
   "id": "c7fad355-cbf9-4ffb-b9dc-6dbd18569067",
   "metadata": {},
   "source": [
    "# Useful built-in functionality\n",
    "\n",
    "### `range` \n",
    "`range` is a collection that represents sequences of numbers (for example, `range(10)` represents `0` through `9`). Note that just calling range will not really *do* much. You just get a \"range\" object."
   ]
  },
  {
   "cell_type": "code",
   "execution_count": null,
   "id": "48d5066f-1c07-48a6-9244-76b6d289dfeb",
   "metadata": {},
   "outputs": [],
   "source": [
    "range(10)"
   ]
  },
  {
   "cell_type": "code",
   "execution_count": null,
   "id": "10235e70-88ba-4720-96d9-18d0dcecb41f",
   "metadata": {},
   "outputs": [],
   "source": [
    "type(range(10))"
   ]
  },
  {
   "cell_type": "markdown",
   "id": "e87c1375-d34e-4efb-aea4-5f85cf5cf489",
   "metadata": {},
   "source": [
    "Only when you *need* the numbers will they be produced. For example, if we want a list of numbers:"
   ]
  },
  {
   "cell_type": "code",
   "execution_count": null,
   "id": "d09bc51d-31c1-4f9b-a54e-1b4022805bfe",
   "metadata": {},
   "outputs": [],
   "source": [
    "list(range(10))"
   ]
  },
  {
   "cell_type": "markdown",
   "id": "ba18a95a-429d-4576-8c6b-c60bdf4b5165",
   "metadata": {},
   "source": [
    "This is done because only the necessary number of elements will be produced one by one. This is called *lazy evaluation*."
   ]
  },
  {
   "cell_type": "code",
   "execution_count": null,
   "id": "7a2f0308-ea6c-4536-b9ec-1af11d9b0a9c",
   "metadata": {},
   "outputs": [],
   "source": [
    "super_big_range = range(10000000000000000000000000000000000000000000)\n",
    "super_big_range[5:20]"
   ]
  },
  {
   "cell_type": "code",
   "execution_count": null,
   "id": "b42bfe99-0a20-467e-8e41-c0827ba9f3c8",
   "metadata": {},
   "outputs": [],
   "source": [
    "list(super_big_range[5:20])"
   ]
  },
  {
   "cell_type": "markdown",
   "id": "3b044a2f-3d11-4eb2-9879-91c3b4d47bff",
   "metadata": {},
   "source": [
    "`range` also takes additional parameters to determine the start, end, step size, etc. See https://docs.python.org/3/library/stdtypes.html#typesseq-range"
   ]
  },
  {
   "cell_type": "code",
   "execution_count": null,
   "id": "441d06a2-c7f2-4881-b539-2fe43afadb7a",
   "metadata": {},
   "outputs": [],
   "source": [
    "set(range(5, 20, 2))"
   ]
  },
  {
   "cell_type": "code",
   "execution_count": null,
   "id": "c9409cca-abb6-4ce5-bf0b-a2a0fa3adb77",
   "metadata": {},
   "outputs": [],
   "source": [
    "tuple(range(21, 0, -3))"
   ]
  },
  {
   "cell_type": "markdown",
   "id": "12ce6116-3716-4447-b902-b743615161af",
   "metadata": {},
   "source": [
    "(don't convert ranges to lists, tuples or whatever unless necessary)"
   ]
  },
  {
   "cell_type": "markdown",
   "id": "d4c80f87-f638-436d-ac97-bf21acea2978",
   "metadata": {},
   "source": [
    "### `enumerate`\n",
    "\n",
    "Use `enumerate` on a collection to create a sequence of tuples, where each tuple has two elements:\n",
    " * an index\n",
    " * an element from the collection"
   ]
  },
  {
   "cell_type": "code",
   "execution_count": null,
   "id": "16f32c89-cc6c-4f60-9124-25e8ac9d0706",
   "metadata": {},
   "outputs": [],
   "source": [
    "list(enumerate([\"These\", \"are\", \"words\", \"in\", \"a\", \"list\"]))"
   ]
  },
  {
   "cell_type": "markdown",
   "id": "ecce0a90-4035-454c-9998-e1180eb863fd",
   "metadata": {},
   "source": [
    "Just like `range`, `enumerate` on it's own doesn't *do* much and only evaluates when needed:"
   ]
  },
  {
   "cell_type": "code",
   "execution_count": null,
   "id": "7b412cce-a16f-460b-be93-7be01cdcade0",
   "metadata": {},
   "outputs": [],
   "source": [
    "enumerate([\"These\", \"are\", \"words\", \"in\", \"a\", \"list\"])"
   ]
  },
  {
   "cell_type": "code",
   "execution_count": null,
   "id": "15e395f5-8e23-45f5-89a2-3b111466be62",
   "metadata": {},
   "outputs": [],
   "source": [
    "enumerate(range(10000000000000000000000000000000000000000000))"
   ]
  },
  {
   "cell_type": "markdown",
   "id": "79264f34-e5a9-4867-b1d8-ca9490f85bd2",
   "metadata": {},
   "source": [
    "Note that `enumerate` also works on collections that don't really have an inherent ordering, like sets:"
   ]
  },
  {
   "cell_type": "code",
   "execution_count": null,
   "id": "cbc618f6-318d-4fcb-9291-2128b9e13282",
   "metadata": {},
   "outputs": [],
   "source": [
    "list(enumerate({1, 100, 40, 88}))"
   ]
  },
  {
   "cell_type": "markdown",
   "id": "7d1a07f5-ac8c-4c39-9d2b-2f3064f86f30",
   "metadata": {},
   "source": [
    "A few more examples:"
   ]
  },
  {
   "cell_type": "code",
   "execution_count": null,
   "id": "ece5634d-32be-4887-a4a9-ba0d76cd478b",
   "metadata": {},
   "outputs": [],
   "source": [
    "list(enumerate(range(5)))"
   ]
  },
  {
   "cell_type": "code",
   "execution_count": null,
   "id": "dfe110fa-0e08-43a0-bb04-10d2c4a3b85d",
   "metadata": {},
   "outputs": [],
   "source": [
    "\"this is a       sentence\".split()"
   ]
  },
  {
   "cell_type": "code",
   "execution_count": null,
   "id": "d707ee5e-7b24-434d-9390-ad41d169361b",
   "metadata": {},
   "outputs": [],
   "source": [
    "tuple(enumerate(\"this is a sentence\".split()))"
   ]
  },
  {
   "cell_type": "markdown",
   "id": "05bfd2fe-2d03-41f3-9bec-6d740098721e",
   "metadata": {},
   "source": [
    "`enumerate` also takes an additional parameter to change the starting index:"
   ]
  },
  {
   "cell_type": "code",
   "execution_count": null,
   "id": "c3042f46-77a9-4487-83e2-437070eb1e11",
   "metadata": {},
   "outputs": [],
   "source": [
    "list(enumerate([10, 333, 30], 250))"
   ]
  },
  {
   "cell_type": "markdown",
   "id": "43fb2250-6567-4d13-b1b5-a21bff42f299",
   "metadata": {},
   "source": [
    "### `sum`, `min`, and `max`\n",
    "\n",
    "These functions can be used on collections of numbers to calculate their sum, minimum value or maximum value, respectively:"
   ]
  },
  {
   "cell_type": "code",
   "execution_count": null,
   "id": "0770d5f0-4686-40b9-b45b-56a9789e46b9",
   "metadata": {},
   "outputs": [],
   "source": [
    "numbers = [12, 41, 2024, 3, -301, 0]\n",
    "sum(numbers)"
   ]
  },
  {
   "cell_type": "code",
   "execution_count": null,
   "id": "d4d4e1a1-40cf-47e9-9b42-0f2b82d603f9",
   "metadata": {},
   "outputs": [],
   "source": [
    "min(numbers)"
   ]
  },
  {
   "cell_type": "code",
   "execution_count": null,
   "id": "983df458-aae1-46e3-8601-ea6a2f3ce97d",
   "metadata": {},
   "outputs": [],
   "source": [
    "max(numbers)"
   ]
  },
  {
   "cell_type": "markdown",
   "id": "439d98bb-f9f5-476d-bb19-ba93c1dfedb6",
   "metadata": {},
   "source": [
    "<span style=\"color:purple;font-weight:bold\">Exercise</span>\n",
    "\n",
    "1. Write an expression that calculates the sum of all numbers between 5 and 200.\n",
    "2. Write an expression that creates a list of tuples, given a list of words `words`. Each tuple should contain an index and a word. The index for the first word should be `1`"
   ]
  },
  {
   "cell_type": "code",
   "execution_count": null,
   "id": "8f293070-d851-45d7-b355-8204611fdb60",
   "metadata": {},
   "outputs": [],
   "source": [
    "# exercise 1 solution\n"
   ]
  },
  {
   "cell_type": "code",
   "execution_count": null,
   "id": "27767b4f-3c2e-4db6-b8f3-e3e21f902057",
   "metadata": {},
   "outputs": [],
   "source": [
    "# exercise 2 solution\n",
    "words = \"The original machine had a base-plate of prefabulated aluminite\".split()\n"
   ]
  },
  {
   "cell_type": "markdown",
   "id": "e3a4c587-fe82-4f48-a896-91afe6b82cfd",
   "metadata": {},
   "source": [
    "# Conditional statements for control flow: `if`, `elif`, and `else`\n",
    "\n",
    "Oftentimes, you want your program behavior to vary depending on what data it receives. One mechanism to do so is *control flow* by means of `if`, `elif`, and `else` to decide whether to execute a given block of code."
   ]
  },
  {
   "cell_type": "code",
   "execution_count": null,
   "id": "1a60742b-1d99-4cf5-91f8-f5d0b8583dbc",
   "metadata": {},
   "outputs": [],
   "source": [
    "number = 10\n",
    "if number > 0:\n",
    "    print(\"Greater than zero\")\n",
    "else:\n",
    "    print(\"Not greater than zero\")"
   ]
  },
  {
   "cell_type": "markdown",
   "id": "9c1523dd-5ebf-4fad-9b53-e66e7cc800b2",
   "metadata": {},
   "source": [
    "The following variations of using if/elif/else are permitted:\n",
    " * Just an `if` block, alone. The code block gets executed if the condition is true, otherwise not. Here are two examples:"
   ]
  },
  {
   "cell_type": "code",
   "execution_count": null,
   "id": "8ed6b88e-baf4-45d4-8296-33c00d37b3c1",
   "metadata": {},
   "outputs": [],
   "source": [
    "if 1 + 1 == 2:\n",
    "    print(\"Math is easy\")\n",
    "    \n",
    "if True == False:\n",
    "    print(\"The universe is broken\")"
   ]
  },
  {
   "cell_type": "markdown",
   "id": "f4d1a6f9-a687-4c29-9fe1-ae3f3ab7e9ab",
   "metadata": {},
   "source": [
    " * An `if` block followed by an `else` block. At least **one** of those two blocks will **always** be executed (unless the program crashes...), but **not the other**:"
   ]
  },
  {
   "cell_type": "code",
   "execution_count": null,
   "id": "96877ede-082f-4347-985d-7e7a070ae54b",
   "metadata": {},
   "outputs": [],
   "source": [
    "if True == False:\n",
    "    print(\"The universe is broken\")\n",
    "else:\n",
    "    print(\"Everything is OK\")"
   ]
  },
  {
   "cell_type": "markdown",
   "id": "cbfdd7fc-eeed-40c3-97db-36ce2b27b4dc",
   "metadata": {},
   "source": [
    " * An `if` block followed by any number of `elif` blocks, which just add more possible conditions and code blocks. Only the **first** block with a `True` condition will execute. If none of the conditions are true, none of the code blocks are executed:"
   ]
  },
  {
   "cell_type": "code",
   "execution_count": null,
   "id": "c5a2165a-d6be-4b1c-be72-7c63cf7e45a3",
   "metadata": {},
   "outputs": [],
   "source": [
    "number = 5\n",
    "if number > 0:\n",
    "    print(\"Number is greater than 0\")\n",
    "elif number > 3:\n",
    "    print(\"Number is greater than 3\")"
   ]
  },
  {
   "cell_type": "markdown",
   "id": "299e593e-ee2b-47e7-adf9-655bc82ace3a",
   "metadata": {},
   "source": [
    "If you wanted both blocks to execute, you could write the following. Note that these two `if` statements are entirely separate and have nothing to do with each other."
   ]
  },
  {
   "cell_type": "code",
   "execution_count": null,
   "id": "1ac2679f-a587-488e-bb5c-c11fc96ec4d2",
   "metadata": {},
   "outputs": [],
   "source": [
    "number = 5\n",
    "if number > 0:\n",
    "    print(\"Number is greater than 0\")\n",
    "if number > 3:\n",
    "    print(\"Number is greater than 3\")"
   ]
  },
  {
   "cell_type": "markdown",
   "id": "280a8003-0821-4d53-8419-558d5d2ae205",
   "metadata": {},
   "source": [
    " * An `if` block followed by zero or more `elif` blocks, followed by a final `else` block. Exactly **one** of these blocks will execute."
   ]
  },
  {
   "cell_type": "code",
   "execution_count": null,
   "id": "247bcddd-6fc3-4a18-a610-fd12eb4b5592",
   "metadata": {},
   "outputs": [],
   "source": [
    "number = -5\n",
    "if number > 0:\n",
    "    print(\"Number is greater than 0\")\n",
    "elif number > 3:\n",
    "    print(\"Number is greater than 3\")\n",
    "elif number > 5:\n",
    "    print(\"Number is greater than 5\")\n",
    "else:\n",
    "    print(\"None of the above\")\n"
   ]
  },
  {
   "cell_type": "markdown",
   "id": "11fa6237-e1fc-465c-9414-84c1263d2b4a",
   "metadata": {},
   "source": [
    "Of course, this means, there can never be an `else` or `elif` block standing alone, only together with `if`. Here's another example. Observe that here, we have two separate pieces of code:\n",
    " * One `if` block (without anything else)\n",
    " * One `if` block together with an accompanying `else` block"
   ]
  },
  {
   "cell_type": "code",
   "execution_count": null,
   "id": "e9ee02c7-9de1-499a-b1da-a1967f84f155",
   "metadata": {},
   "outputs": [],
   "source": [
    "number = -3\n",
    "if number < 0:\n",
    "    print(\"Less than zero\")\n",
    "\n",
    "\n",
    "\n",
    "\n",
    "if number < 10:\n",
    "    print(\"Less than ten\")\n",
    "else:\n",
    "    print(\"Greater than ten\")"
   ]
  },
  {
   "cell_type": "markdown",
   "id": "69b367e8-40dc-4e27-999f-91ff9afd806a",
   "metadata": {},
   "source": [
    "Generally speaking, keep your if/elif/else expressions short and obvious. You don't want to be debugging a christmas tree of conditions."
   ]
  },
  {
   "cell_type": "markdown",
   "id": "1b56a224-986d-42d2-8ea3-4c98049bc58b",
   "metadata": {},
   "source": [
    "By the way... don't embarrass yourself:"
   ]
  },
  {
   "cell_type": "code",
   "execution_count": null,
   "id": "8c3919c0-5981-45ae-a467-082fb4681988",
   "metadata": {},
   "outputs": [],
   "source": [
    "def find_bob(names):\n",
    "    if \"Bob\" in names:\n",
    "        return True\n",
    "    else:\n",
    "        return False\n",
    "names = [\"Alice\", \"Bob\", \"Peter\"]\n",
    "find_bob(names)"
   ]
  },
  {
   "cell_type": "markdown",
   "id": "0e4b795d-34b0-404f-ae68-b2f3c8db9ca0",
   "metadata": {},
   "source": [
    "should be"
   ]
  },
  {
   "cell_type": "code",
   "execution_count": null,
   "id": "7f828155-ef65-4fa0-b352-0618656b4f2c",
   "metadata": {},
   "outputs": [],
   "source": [
    "def find_bob(names):\n",
    "    pass # what should it be?\n",
    "names = [\"Alice\", \"Bob\", \"Peter\"]\n",
    "find_bob(names)"
   ]
  },
  {
   "cell_type": "markdown",
   "id": "ab6a498d-7735-47b8-b07a-20b06a41da2d",
   "metadata": {},
   "source": [
    "A few more examples:"
   ]
  },
  {
   "cell_type": "code",
   "execution_count": null,
   "id": "9afd0fce-0387-4b00-807d-18bee73dbd15",
   "metadata": {},
   "outputs": [],
   "source": [
    "haystack = range(10)\n",
    "needle = 30\n",
    "if needle in haystack:\n",
    "    print(\"30 found\")\n",
    "else:\n",
    "    print(\"30 not found\")"
   ]
  },
  {
   "cell_type": "code",
   "execution_count": null,
   "id": "2eb27ad8-3661-4014-a0fe-1358cf2e1787",
   "metadata": {},
   "outputs": [],
   "source": [
    "# A kiosk with a very limited selection...\n",
    "menu = [\"Banana\", \"Peach\", 'Potato']\n",
    "prices = [1.25, 1.75, 1.20]\n",
    "selection = 1\n",
    "if 0 <= selection < len(menu):\n",
    "    print(f\"A {menu[selection].lower()} costs {prices[selection]:.2f}\")\n",
    "else:\n",
    "    print(\"Invalid selection\")"
   ]
  },
  {
   "cell_type": "markdown",
   "id": "10d3907e-f649-47c2-8f69-870592cdcaec",
   "metadata": {},
   "source": [
    "### \"Truthyness\"\n",
    "\n",
    "In many languages, certain values are automatically converted to a boolean if used in a boolean expression.\n",
    "**Remember**: In Python, any value is considered `True`, except the following:\n",
    " * `False` and `None`\n",
    " * `0`, `0.0`, `0j`, `Decimal(0)`, `Fraction(0, 1)`\n",
    " * `''`, `()`, `[]`, `{}`, `set()`, `range(0)`\n",
    " * A few other values that are not so important right now\n",
    "\n",
    "See the [Official documentation](https://docs.python.org/3/library/stdtypes.html#truth-value-testing) for all the details, or this [StackOverflow post](https://stackoverflow.com/a/39984051) for a casual list.\n",
    "\n",
    "You can easily check which boolean something evaluates to by using the `bool` function:"
   ]
  },
  {
   "cell_type": "code",
   "execution_count": null,
   "id": "49df6e70-6849-4649-aa8c-4af910c602ee",
   "metadata": {},
   "outputs": [],
   "source": [
    "bool(0)"
   ]
  },
  {
   "cell_type": "code",
   "execution_count": null,
   "id": "e6608ae0-272a-41a7-b041-9ae1f204bc1b",
   "metadata": {},
   "outputs": [],
   "source": [
    "bool(25)"
   ]
  },
  {
   "cell_type": "code",
   "execution_count": null,
   "id": "778e7a9d-e24b-4d5c-a683-9604483ad7ca",
   "metadata": {},
   "outputs": [],
   "source": [
    "bool([\"not\", \"empty\", \"list\"])"
   ]
  },
  {
   "cell_type": "code",
   "execution_count": null,
   "id": "6cf9ab43-4d31-4736-b9bb-9eb9bded18d4",
   "metadata": {},
   "outputs": [],
   "source": [
    "bool([])"
   ]
  },
  {
   "cell_type": "code",
   "execution_count": null,
   "id": "06e246c3-11af-4af2-afc2-21fb60221134",
   "metadata": {},
   "outputs": [],
   "source": [
    "bool(\"Just a string\")"
   ]
  },
  {
   "cell_type": "code",
   "execution_count": null,
   "id": "9bafe736-8115-4213-a41e-207857de5111",
   "metadata": {},
   "outputs": [],
   "source": [
    "bool(\"\")"
   ]
  },
  {
   "cell_type": "markdown",
   "id": "5f28cd61-2605-4f0a-a985-f4188f598d40",
   "metadata": {},
   "source": [
    "That's why you can use an arbitrary value as the condition in an if statement, even if that value is not a boolean:"
   ]
  },
  {
   "cell_type": "code",
   "execution_count": null,
   "id": "35fb0823-2ddc-4af2-834f-b742db57909a",
   "metadata": {},
   "outputs": [],
   "source": [
    "if 3+5:\n",
    "    print(\"Banana\")\n",
    "if 3-3:\n",
    "    print(\"Not going to happen\")"
   ]
  },
  {
   "cell_type": "markdown",
   "id": "0db6fcd3-3bc0-4dd1-91d4-548e9f13a720",
   "metadata": {},
   "source": [
    "This is most commonly done for differentiating between empty and populated collections:"
   ]
  },
  {
   "cell_type": "code",
   "execution_count": null,
   "id": "fbcdfb83-7e01-4da2-9117-055d549426fe",
   "metadata": {},
   "outputs": [],
   "source": [
    "names = []\n",
    "if not names:\n",
    "    print(\"No names!\")\n",
    "else:\n",
    "    print(names)"
   ]
  },
  {
   "cell_type": "markdown",
   "id": "3f613156-b0b2-41d2-819e-adcd9caa4214",
   "metadata": {},
   "source": [
    "<span style=\"color:purple;font-weight:bold\">Exercise</span>\n",
    "\n",
    "Write a function `sign` that takes a single integer as a parameter `number` and returns a string. If `number` is negative, the function should return `\"negative\"`, if `number` is positive, it should return `\"positive\"`, and otherwise it should return `\"zero\"`"
   ]
  },
  {
   "cell_type": "code",
   "execution_count": null,
   "id": "bf62b582-4e67-4a4f-b2d6-bad86e290320",
   "metadata": {},
   "outputs": [],
   "source": [
    "# exercise solution\n"
   ]
  },
  {
   "cell_type": "markdown",
   "id": "5715c671-929a-435e-a767-154201ef18f9",
   "metadata": {},
   "source": [
    "<span style=\"color:purple;font-weight:bold\">Exercise</span>\n",
    "\n",
    "Write a function `within` that takes two parameters:\n",
    " 1. a single integer `target`\n",
    " 2. a list of numbers `numbers`, which may be in any order\n",
    "\n",
    "The function should return `True` if `target` is (strictly) between the smallest and largest values in `target`, otherwise it should return `False`"
   ]
  },
  {
   "cell_type": "code",
   "execution_count": null,
   "id": "736794bc-1d8c-4a9e-b48b-f09ac12494c5",
   "metadata": {},
   "outputs": [],
   "source": [
    "# exercise solution\n"
   ]
  },
  {
   "cell_type": "markdown",
   "id": "80aba04e-29a5-4c9a-b6a9-4281bb53983d",
   "metadata": {},
   "source": [
    "# Maps (Dictionaries)\n",
    "\n",
    "Let's look at the previous example with the mediocre kiosk:"
   ]
  },
  {
   "cell_type": "code",
   "execution_count": null,
   "id": "8847b66e-33fb-46d5-b6cc-af6fda392e52",
   "metadata": {},
   "outputs": [],
   "source": [
    "# A kiosk with a very limited selection...\n",
    "menu = [\"Banana\", \"Peach\", 'Potato']\n",
    "prices = [1.25, 1.75, 1.20]\n",
    "selection = 2\n",
    "if 0 <= selection < len(menu):\n",
    "    print(f\"A {menu[selection].lower()} costs {prices[selection]:.2f}\")\n",
    "else:\n",
    "    print(\"Invalid selection\")"
   ]
  },
  {
   "cell_type": "markdown",
   "id": "8af0b2cb-3624-4c5f-bb3e-9241f15487d6",
   "metadata": {},
   "source": [
    "First of all, let's\n",
    " * Move the conditional into a function, so we can call it with different selections over and over again\n",
    " * Replace the `print` statements with `return` statements, because maybe we want to further process the result"
   ]
  },
  {
   "cell_type": "code",
   "execution_count": null,
   "id": "468867c4-2056-45d6-9276-1aabb752ca71",
   "metadata": {},
   "outputs": [],
   "source": [
    "menu = [\"Banana\", \"Peach\", 'Potato']\n",
    "prices = [1.25, 1.75, 1.20]\n",
    "def select(selection):\n",
    "    if 0 <= selection < len(menu):\n",
    "        return f\"A {menu[selection].lower()} costs {prices[selection]:.2f}\"\n",
    "    else:\n",
    "        return \"Invalid selection\""
   ]
  },
  {
   "cell_type": "markdown",
   "id": "51902126-da7b-47a1-8f7d-e2d43d9f1cae",
   "metadata": {},
   "source": [
    "So now we can call it and see what it evaluates to"
   ]
  },
  {
   "cell_type": "code",
   "execution_count": null,
   "id": "7d2e688b-d096-46c9-8d0b-fc4ac0ff1c9a",
   "metadata": {},
   "outputs": [],
   "source": [
    "select(2)"
   ]
  },
  {
   "cell_type": "markdown",
   "id": "a0fc9600-6ec9-498e-be3c-37ec10be9ab6",
   "metadata": {},
   "source": [
    "In this code, we're managing two separate lists, `menu` and `prices`, and address individual elements by their index. If the kiosk changes its menu, we have to *very carefully* edit both lists to avoid a mess:"
   ]
  },
  {
   "cell_type": "code",
   "execution_count": null,
   "id": "aae7e659-751c-4ac8-a344-5f97048337ad",
   "metadata": {},
   "outputs": [],
   "source": [
    "menu = [\"Banana\", \"Peach\", 'Potato']\n",
    "prices = [1.25, 1.75, 1.20]\n",
    "# change the price of a product\n",
    "prices[2] = 1.80                # what is product number 2???\n",
    "# remove a product\n",
    "del(menu[1])\n",
    "del(prices[1])                  # better use the same index or it'll be a mess\n",
    "# add a product\n",
    "menu.append(\"Water\")\n",
    "prices.append(1.50)\n",
    "# replace a product\n",
    "menu[0] = \"Gummybears\"          # which product did we replace???\n",
    "prices[0] = 0.95"
   ]
  },
  {
   "cell_type": "code",
   "execution_count": null,
   "id": "787ff3ae-b4ee-4bec-b341-2800dc9b0921",
   "metadata": {},
   "outputs": [],
   "source": [
    "select(2)"
   ]
  },
  {
   "cell_type": "markdown",
   "id": "1feb4938-fa8f-4187-afb6-dc27793d9e74",
   "metadata": {},
   "source": [
    "Wouldn't it be convenient if we had some way of clearly associating a product with a price?\n",
    "\n",
    "This is where *maps* come in. In software engineering, a *map* (which Python calls a \"dictionary\", we're going to use those terms interchangeably) has nothing to do with geography. A map is a data structure where each key is *mapped* to a corresponding value. Let's store the menu in a dictionary:"
   ]
  },
  {
   "cell_type": "code",
   "execution_count": null,
   "id": "7694ae49-91b6-4e81-bbf2-a33f64362a7d",
   "metadata": {},
   "outputs": [],
   "source": [
    "menu = {\"Banana\": 1.25, \"Peach\": 1.75, 'Potato': 1.20}\n",
    "len(menu)"
   ]
  },
  {
   "cell_type": "markdown",
   "id": "3b5f73a5-0b66-476e-a5e1-0ba71447f166",
   "metadata": {},
   "source": [
    "Note that `\"Banana\"` is a *key*, while `1.25` is a *value*.\n",
    "\n",
    "The dictionary allows us to retrieve values by their key. This is done with a notation similar to accessing list elements via their index, but instead we use a key. For example:"
   ]
  },
  {
   "cell_type": "code",
   "execution_count": null,
   "id": "fbf461b3-0ce7-458d-bead-d3e2286c1b97",
   "metadata": {},
   "outputs": [],
   "source": [
    "menu[\"Potato\"]"
   ]
  },
  {
   "cell_type": "markdown",
   "id": "ba43443f-05a8-44ad-a7cb-d29f80ada1c9",
   "metadata": {},
   "source": [
    "Now we can rewrite and call our selection function like so:"
   ]
  },
  {
   "cell_type": "code",
   "execution_count": null,
   "id": "376af293-3c33-4c05-b2f2-dc3ce683787e",
   "metadata": {},
   "outputs": [],
   "source": [
    "menu = {\"Banana\": 1.25, \"Peach\": 1.75, 'Potato': 1.20}\n",
    "def select(selection):\n",
    "    #if 0 <= selection < len(menu):\n",
    "    if selection in menu:\n",
    "        #return f\"A {menu[selection].lower()} costs {prices[selection]:.2f}\"\n",
    "        return f\"A {selection.lower()} costs {menu[selection]:.2f}\"\n",
    "    else:\n",
    "        return \"Invalid selection\"\n",
    "select(\"Banana\")"
   ]
  },
  {
   "cell_type": "markdown",
   "id": "abef5f31-5caa-4334-9577-d47f24b8f197",
   "metadata": {},
   "source": [
    "Note that to check whether a *key* exists in a dictionary, you can use the `in` operator. You cannot directly check whether a *value* exists in a dictionary."
   ]
  },
  {
   "cell_type": "code",
   "execution_count": null,
   "id": "4968e92d-3f11-4f06-b0de-320e141775ec",
   "metadata": {},
   "outputs": [],
   "source": [
    "\"Peach\" in menu"
   ]
  },
  {
   "cell_type": "markdown",
   "id": "8320c3ea-6f81-4dfe-9a86-bf09c6ff8964",
   "metadata": {},
   "source": [
    "And if we want to change the menu, that's now easy. To change a price, we just assign a new value to an existing key:"
   ]
  },
  {
   "cell_type": "code",
   "execution_count": null,
   "id": "5e7a3009-f48d-4242-a567-4701bae46157",
   "metadata": {},
   "outputs": [],
   "source": [
    "menu[\"Banana\"] = 6.55       # \"Because of inflation!\"\n",
    "select(\"Banana\")"
   ]
  },
  {
   "cell_type": "markdown",
   "id": "009a6a77-a93b-47cc-b467-ffdf21f85e81",
   "metadata": {},
   "source": [
    "Adding a new product looks exactly the same, just with a new key:"
   ]
  },
  {
   "cell_type": "code",
   "execution_count": null,
   "id": "e4688961-9a91-4147-a55d-3839418e31f1",
   "metadata": {},
   "outputs": [],
   "source": [
    "menu[\"Water\"] = 1.50\n",
    "menu"
   ]
  },
  {
   "cell_type": "markdown",
   "id": "18d7b08a-fd96-4f86-882c-1af02bf56acd",
   "metadata": {},
   "source": [
    "To remove a product, we just delete the key (the value also gets deleted):"
   ]
  },
  {
   "cell_type": "code",
   "execution_count": null,
   "id": "4607fcb9-429f-4d77-9aa5-dcae06793d2d",
   "metadata": {},
   "outputs": [],
   "source": [
    "del(menu[\"Banana\"])\n",
    "menu"
   ]
  },
  {
   "cell_type": "markdown",
   "id": "3090dabc-84ce-48ba-bec5-abce16b29a6c",
   "metadata": {},
   "source": [
    "A few things to know about dictionaries in Python:\n",
    " * key/value pairs in a dictionary do not have any particular ordering (just like values in a set)\n",
    " * `{}` is the empty dictionary (you can add elements later)\n",
    " * any *key* can only appear once in a dictionary (that's the point), but multiple keys can reference the same *value*\n",
    " * the *values* in a dictionary can be of any arbitrary type\n",
    " * the *keys*, however, must be **immutable**"
   ]
  },
  {
   "cell_type": "code",
   "execution_count": null,
   "id": "a6b66426-3e52-428b-b541-8c330a5f2cac",
   "metadata": {},
   "outputs": [],
   "source": [
    "things = {}                        # empty dictionary\n",
    "things[0] = \"nil\"                  # 0 is the key, not an index\n",
    "things[0] = \"zero\"                 # overwrites the value \"nil\"\n",
    "things[\"two\"] = 2\n",
    "things[2] = 2                      # same value can appear multiple times\n",
    "things[\"a list\"] = [1, 2, 3]       # values can be of mutable types\n",
    "things[('a', 'tuple', 123)] = 13   # even a tuple can be a key, as long all the contents are immutable\n",
    "\n",
    "# NOT possible because lists are mutable; they cannot be dictionary keys:\n",
    "#things[['a', 'list']] = \"invalid\"\n",
    "\n",
    "print(things[('a', 'tuple', 123)]) # that tuple really works as a key!\n",
    "print(things)"
   ]
  },
  {
   "cell_type": "markdown",
   "id": "4f75135b-c52d-404e-aa9d-280674920b4b",
   "metadata": {},
   "source": [
    "You'll often want to only deal with the keys or the values of the dictionary. For this, simply call `.keys()` or `.values()`, respectively. "
   ]
  },
  {
   "cell_type": "code",
   "execution_count": null,
   "id": "9fb350c5-078b-4d21-afad-afe77841d97f",
   "metadata": {},
   "outputs": [],
   "source": [
    "menu = {\"Banana\": 1.25, \"Peach\": 1.75, 'Potato': 1.20}\n",
    "menu.keys()"
   ]
  },
  {
   "cell_type": "code",
   "execution_count": null,
   "id": "0623f176-945b-4ea5-887c-4c40a03bb2d7",
   "metadata": {},
   "outputs": [],
   "source": [
    "menu.values()"
   ]
  },
  {
   "cell_type": "markdown",
   "id": "8cb550fe-9d2d-430f-92a3-ec64ba38b975",
   "metadata": {},
   "source": [
    "You can more or less ignore that this gives you `dict_keys` and `dict_values`, but you could convert them to lists:"
   ]
  },
  {
   "cell_type": "code",
   "execution_count": null,
   "id": "4043117e-b4f3-4348-b662-35c6bffbff2a",
   "metadata": {},
   "outputs": [],
   "source": [
    "list(menu.keys())"
   ]
  },
  {
   "cell_type": "markdown",
   "id": "b75df9f0-1174-46e5-99ad-6770dd2334ac",
   "metadata": {},
   "source": [
    "Finally, you may want to get the key/value-pairs as a list of tuples. You can do this using `items()`:"
   ]
  },
  {
   "cell_type": "code",
   "execution_count": null,
   "id": "0369dc49-fe4f-4443-9592-14cda391fb7e",
   "metadata": {},
   "outputs": [],
   "source": [
    "menu.items()"
   ]
  },
  {
   "cell_type": "code",
   "execution_count": null,
   "id": "e6eea991-6239-4e6e-9c6c-7af6a754ee4e",
   "metadata": {},
   "outputs": [],
   "source": [
    "list(menu.items())"
   ]
  },
  {
   "cell_type": "markdown",
   "id": "2449f99d-cee4-4cff-a8e8-c41e6b28717a",
   "metadata": {},
   "source": [
    "<span style=\"color:purple;font-weight:bold\">Exercise</span>\n",
    "\n",
    "Implement a phonebook. Note the following:\n",
    " * The implementation should assume that contacts are stored in a dictionary where keys are the names of people and values are their phone numbers (as strings).\n",
    " * Implement a function `add_contact(phonebook, name, number)` which adds a new entry to `phonebook`, but only if `name` is not already in the phonebook. In the latter case, it should print `\"Already in phonebook\"`\n",
    " * Implement a function `delete_contact(phonebook, name)` which removes an entry from `phonebook` and ignores the case where the given name is not in `phonebook`.\n",
    " * Implement a function `find_contact(phonebook, name)` which *returns* the number of the given contact. If the contact is not in `phonebook`, it should *print* `\"Not found\"`."
   ]
  },
  {
   "cell_type": "code",
   "execution_count": null,
   "id": "351fb43c-5b21-4a52-a2f8-bb17996a8bde",
   "metadata": {},
   "outputs": [],
   "source": [
    "# exercise solution\n",
    "my_contacts = {\n",
    "    \"Joe\": \"+41440002341\",\n",
    "    \"Anne\": \"+41441112341\",\n",
    "}\n",
    "\n",
    "def add_contact(phonebook, name, number):\n",
    "    if name in phonebook:\n",
    "        print(\"Already in phonebook\")\n",
    "    else:\n",
    "        phonebook[name] = number\n",
    "    \n",
    "def delete_contact(phonebook, name):\n",
    "    if name not in phonebook:\n",
    "        print(\"not in phonebook\")\n",
    "    else:\n",
    "        del(phonebook[name])\n",
    "        \n",
    "def find_contact(phonebook, name):\n",
    "    if name not in phonebook:\n",
    "        print(\"not in phonebook\")\n",
    "    else:\n",
    "        return phonebook[name]\n",
    "\n",
    "add_contact(my_contacts, \"Bob\", \"+41449999912\")\n",
    "my_contacts\n",
    "add_contact(my_contacts, \"Alice\", \"+41440000012\")\n",
    "delete_contact(my_contacts, \"Bob\")\n",
    "find_contact(my_contacts, \"Alice\")"
   ]
  },
  {
   "cell_type": "markdown",
   "id": "0b431220-be19-4491-b055-3796b9f5fa95",
   "metadata": {},
   "source": [
    "# List comprehensions\n",
    "\n",
    "Sometimes, you have a collection of values, and you want to do the same thing to each of the values to create a new list. This is where Python uses *list comprehensions*."
   ]
  },
  {
   "cell_type": "code",
   "execution_count": null,
   "id": "a6a7b58c-e4d1-4041-9759-621de735d81c",
   "metadata": {},
   "outputs": [],
   "source": [
    "names = [\"bob\", \"alice\", \"tony\"]\n",
    "[name.capitalize() for name in names]"
   ]
  },
  {
   "cell_type": "markdown",
   "id": "521e590d-2d5d-4d3a-895f-58c9cbb9c564",
   "metadata": {},
   "source": [
    "Note that `names` has **not** been changed! The list comprehension creates a *new* list with the transformed values:"
   ]
  },
  {
   "cell_type": "code",
   "execution_count": null,
   "id": "e85c49f5-077d-486a-9c5b-4260502799ba",
   "metadata": {},
   "outputs": [],
   "source": [
    "capitalized_names = [n.capitalize() for n in names]\n",
    "print(names)\n",
    "print(capitalized_names)"
   ]
  },
  {
   "cell_type": "markdown",
   "id": "4e3f24a9-40a3-47e5-8f8a-38d4283e700b",
   "metadata": {},
   "source": [
    "A few more examples:"
   ]
  },
  {
   "cell_type": "code",
   "execution_count": null,
   "id": "3a849fe0-9a3a-4004-a971-59bf68ff0469",
   "metadata": {},
   "outputs": [],
   "source": [
    "[n*2 for n in range(10, 2, -2)]"
   ]
  },
  {
   "cell_type": "code",
   "execution_count": null,
   "id": "42f630b5-3be8-44a7-8953-042758b0e8bb",
   "metadata": {},
   "outputs": [],
   "source": [
    "[f\"{n} squared is {n**2}\" for n in range(5)]"
   ]
  },
  {
   "cell_type": "markdown",
   "id": "38cf322b-2e23-4713-bc1b-9be02c8afcbc",
   "metadata": {},
   "source": [
    "<div>\n",
    "<img src=\"sum.png\" alt=\"Sum Formula\" style=\"width: 100px;\"/>\n",
    "</div>"
   ]
  },
  {
   "cell_type": "code",
   "execution_count": null,
   "id": "1b7e4b6f-13e0-422e-9787-f16b4866c185",
   "metadata": {},
   "outputs": [],
   "source": [
    "sum([i**2 for i in range(3,7)])"
   ]
  },
  {
   "cell_type": "markdown",
   "id": "29d1962e-2099-40d6-a997-75f8ea196761",
   "metadata": {},
   "source": [
    "When using a list comprehension, you can conveniently filter the input collection by appending an `if` condition at the end, for example:"
   ]
  },
  {
   "cell_type": "code",
   "execution_count": null,
   "id": "ded729f4-32f4-494e-9262-ea2879045bc6",
   "metadata": {},
   "outputs": [],
   "source": [
    "[f\"{n} squared is {n**2}\" for n in range(10) if n % 2 == 0]"
   ]
  },
  {
   "cell_type": "code",
   "execution_count": null,
   "id": "f48645a1-8f01-4fc9-9484-a9842382fba9",
   "metadata": {},
   "outputs": [],
   "source": [
    "[character for character in \"Hello, World!\" if character.isalpha()]"
   ]
  },
  {
   "cell_type": "code",
   "execution_count": null,
   "id": "30b6bcec-e08a-4eda-a419-e2577e05a1cb",
   "metadata": {},
   "outputs": [],
   "source": [
    "[character for character in \"Hello, World!\" if character.lower() in \"aeiou\"]"
   ]
  },
  {
   "cell_type": "code",
   "execution_count": null,
   "id": "35078c1c-6492-4472-85aa-c78eed9fd645",
   "metadata": {},
   "outputs": [],
   "source": [
    "sum([int(character) for character in \"c1h291hgf93e\" if character.isdigit()])"
   ]
  },
  {
   "cell_type": "markdown",
   "id": "fd0d7b45-bb3b-472a-b989-5ee758b8258b",
   "metadata": {},
   "source": [
    "This illustrates the general syntax:\n",
    "\n",
    "<div>\n",
    "<img src=\"list_comp.png\" width=\"800\"/>\n",
    "</div>"
   ]
  },
  {
   "cell_type": "code",
   "execution_count": null,
   "id": "3dd8b632-b427-4ef4-89d9-599a8263f3c3",
   "metadata": {},
   "outputs": [],
   "source": [
    "def cleanup(name):\n",
    "    return name.strip().capitalize()\n",
    "def is_string(name):\n",
    "    return type(name) == str\n",
    "[cleanup(name) for name in [\"   alice  \", 123, False, \"bob\"] if is_string(name)]"
   ]
  },
  {
   "cell_type": "markdown",
   "id": "3421b640-8061-4e3d-b003-520947397802",
   "metadata": {},
   "source": [
    "<span style=\"color:purple;font-weight:bold\">Exercise</span>\n",
    "\n",
    "Write an expression that determines the length of the longest word in a list of words."
   ]
  },
  {
   "cell_type": "code",
   "execution_count": null,
   "id": "a6294c08-2ea2-4fc9-a049-44b66c0fde95",
   "metadata": {},
   "outputs": [],
   "source": [
    "# exercise solution\n",
    "words = \"The latter consisted simply of six hydrocoptic marzlevanes\".split()\n"
   ]
  },
  {
   "cell_type": "markdown",
   "id": "eac3ee1c-7ebd-46bf-9672-3d64d2902e76",
   "metadata": {},
   "source": [
    "# Dict comprehensions\n",
    "\n",
    "The exact same concept exists for dictionaries as well. If you have a collection of values and would like to create a new dictionary from them, use a similar syntax. The important thing to understand is that instead of producing *one* value at a time, like for a list comprehensions, you're producing *key*: *value* pairs (`key: value`)."
   ]
  },
  {
   "cell_type": "markdown",
   "id": "ef650eff-e2aa-4f82-be15-174c4e132795",
   "metadata": {},
   "source": [
    "Instead of just creating one number at a time for the resulting list..."
   ]
  },
  {
   "cell_type": "code",
   "execution_count": null,
   "id": "ade8e6cf-3f45-4605-99e6-4824560dfec4",
   "metadata": {},
   "outputs": [],
   "source": [
    "[n**2 for n in range(10)]"
   ]
  },
  {
   "cell_type": "markdown",
   "id": "20c8fe75-ad56-4466-bb0c-19d6a68d15cc",
   "metadata": {},
   "source": [
    "...this example creates a key: value pair for the resulting dictionary:"
   ]
  },
  {
   "cell_type": "code",
   "execution_count": null,
   "id": "87208f24-8245-4f10-82ff-3b6ac58c74e0",
   "metadata": {},
   "outputs": [],
   "source": [
    "{n: n**2 for n in range(10)}"
   ]
  },
  {
   "cell_type": "markdown",
   "id": "4a00d852-7392-4626-8a27-686a06c2491f",
   "metadata": {},
   "source": [
    "Here's a dictionary where the keys are the characters that appear in a string and the values are how many times that character appears:"
   ]
  },
  {
   "cell_type": "code",
   "execution_count": null,
   "id": "45a5651c-33fa-4fa4-8217-b7aa9e3069cd",
   "metadata": {},
   "outputs": [],
   "source": [
    "sentence = \"Hello, world!\"\n",
    "{char: sentence.count(char) for char in set(sentence)}"
   ]
  },
  {
   "cell_type": "markdown",
   "id": "1fa1d1fb-b244-46c3-9e4e-4b7f2365e27d",
   "metadata": {},
   "source": [
    "Again, you can add a filter at the end. Here, we're ignoring vowels:"
   ]
  },
  {
   "cell_type": "code",
   "execution_count": null,
   "id": "50a6fd03-faf5-411b-b2b0-d1fe5f9b17c6",
   "metadata": {},
   "outputs": [],
   "source": [
    "{char: sentence.count(char) for char in set(sentence) if char not in \"aeiou\"}"
   ]
  },
  {
   "cell_type": "markdown",
   "id": "abce128a-d169-4621-9d85-a73e6da7dba4",
   "metadata": {},
   "source": [
    "Here's our menu dictionary again:"
   ]
  },
  {
   "cell_type": "code",
   "execution_count": null,
   "id": "04847b37-f692-4d98-8991-22afafc90482",
   "metadata": {},
   "outputs": [],
   "source": [
    "menu = {\"Banana\": 1.25, \"Peach\": 1.75, 'Potato': 1.20}"
   ]
  },
  {
   "cell_type": "markdown",
   "id": "8ef11064-d82e-49b3-b869-998d37f8d256",
   "metadata": {},
   "source": [
    "Let's create a list of all products which start with a \"P\", using a list comprehension, using only the dictionary keys as input:"
   ]
  },
  {
   "cell_type": "code",
   "execution_count": null,
   "id": "d8fab5ad-0ca7-40b6-8e83-73546b149b18",
   "metadata": {},
   "outputs": [],
   "source": [
    "[product for product in menu.keys() if product.startswith(\"P\")]"
   ]
  },
  {
   "cell_type": "markdown",
   "id": "643acedc-c47b-4bea-ba74-ddc9e46deb44",
   "metadata": {
    "scrolled": true
   },
   "source": [
    "Or, if we want to also keep the prices, then we use a dict comprehension with the same filter:"
   ]
  },
  {
   "cell_type": "code",
   "execution_count": null,
   "id": "c78ea8d9-a1e8-46ca-97aa-46cbe2ede641",
   "metadata": {},
   "outputs": [],
   "source": [
    "{product: price for product, price in menu.items() if product.startswith(\"P\")}"
   ]
  },
  {
   "cell_type": "markdown",
   "id": "902f2715-7fa5-47e6-95b9-ec88af884016",
   "metadata": {},
   "source": [
    "Note that we state `for product, price in menu.items()`, meaning each individual element that's being transformed will be a tuple like `(\"Peach\", 1.75)`, which is why we can assign the two tuple values to the local variables product and price. Remember that you can assign multiple values on the left side of an expression, e.g.:"
   ]
  },
  {
   "cell_type": "code",
   "execution_count": null,
   "id": "4a1de5eb-2006-4de8-a0bc-e4960119444b",
   "metadata": {},
   "outputs": [],
   "source": [
    "name, age = \"Alice\", 37"
   ]
  },
  {
   "cell_type": "markdown",
   "id": "e7d12140-4643-4235-9c6f-1d96dc8deb3a",
   "metadata": {},
   "source": [
    "So `for product, price in menu.items()` is essentially the same thing, for each individual key-value pair in `menu.items()`"
   ]
  },
  {
   "cell_type": "markdown",
   "id": "c7980a69-98b6-419d-a021-921350f97e9e",
   "metadata": {},
   "source": [
    "This illustrates the general syntax:\n",
    "<div>\n",
    "<img src=\"dict_comp.png\" width=\"800\"/>\n",
    "</div>"
   ]
  },
  {
   "cell_type": "code",
   "execution_count": null,
   "id": "90ccd3e5-8253-40b7-83e0-eb7f102392d4",
   "metadata": {},
   "outputs": [],
   "source": [
    "def cleanup_key(name):\n",
    "    return name.strip().capitalize()\n",
    "def number_as_binary(number):\n",
    "    return bin(number)\n",
    "def is_integer(value):\n",
    "    return type(value) == int\n",
    "{cleanup(name): number_as_binary(number) for name, number in {\"bob\": 3.5, \"alice\": 3}.items() if is_integer(number)}"
   ]
  },
  {
   "cell_type": "markdown",
   "id": "3a88a4f6-7ba4-4a18-9868-cc3efe3242fc",
   "metadata": {},
   "source": [
    "<span style=\"color:purple;font-weight:bold\">Exercise</span>\n",
    "\n",
    "Write a dict comprehension that takes in a list of words and produces a dictionary mapping words to their length. All keys should be lower-case."
   ]
  },
  {
   "cell_type": "code",
   "execution_count": null,
   "id": "155f534c-365d-494c-acf0-d9965d76e27c",
   "metadata": {
    "editable": true,
    "slideshow": {
     "slide_type": ""
    },
    "tags": []
   },
   "outputs": [],
   "source": [
    "# exercise solution\n",
    "words = \"How much wood would a woodchuck chuck if a woodchuck could chuck wood\".split()\n"
   ]
  }
 ],
 "metadata": {
  "authors": [
   {
    "name": "Carol V. Alexandru-Funakoshi"
   }
  ],
  "kernelspec": {
   "display_name": "Python 3 (ipykernel)",
   "language": "python",
   "name": "python3"
  },
  "language_info": {
   "codemirror_mode": {
    "name": "ipython",
    "version": 3
   },
   "file_extension": ".py",
   "mimetype": "text/x-python",
   "name": "python",
   "nbconvert_exporter": "python",
   "pygments_lexer": "ipython3",
   "version": "3.12.4"
  },
  "title": "Info1 Python Tutorial - Part II"
 },
 "nbformat": 4,
 "nbformat_minor": 5
}
