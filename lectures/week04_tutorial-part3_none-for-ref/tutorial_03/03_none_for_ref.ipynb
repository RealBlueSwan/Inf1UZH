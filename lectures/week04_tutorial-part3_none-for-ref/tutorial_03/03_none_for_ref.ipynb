{
 "cells": [
  {
   "cell_type": "markdown",
   "id": "474b42d9-31ff-40e2-b519-b698dd9ab707",
   "metadata": {},
   "source": [
    "# Important Info!\n",
    "\n",
    "The Info1 Midterm on 04.11.2024 will NOT take place in the previously announced rooms (KO2-F-180, HAH-E-03, and HAH-E-11). Instead, the following rooms (**all at Irchel Campus**) will be used:\n",
    "\n",
    " * Y24-G-45\n",
    " * Y15-G-19\n",
    " * Y15-G-40\n",
    " * Y15-G-60\n",
    "\n",
    "You will be assigned one specific room 1+ week before the exam (everyone will receive an email to their UZH address). For now, just be aware that on 04.11.2024 between 18:00-20:00, you have to **be at Irchel Campus**, not Center Campus."
   ]
  },
  {
   "cell_type": "markdown",
   "id": "ab7dfbec-3b76-475a-baae-3d9a52ad0f73",
   "metadata": {},
   "source": [
    "# Quick recap from last week\n",
    "\n",
    "### Useful built-in functionality"
   ]
  },
  {
   "cell_type": "code",
   "execution_count": null,
   "id": "5b2e87d6-b65e-42de-ae6f-dc5c475653f9",
   "metadata": {},
   "outputs": [],
   "source": [
    "list(range(10,-10, -3))"
   ]
  },
  {
   "cell_type": "code",
   "execution_count": null,
   "id": "92491742-6339-4171-b32c-48a7a20f5b66",
   "metadata": {},
   "outputs": [],
   "source": [
    "[x+100 for x in range(5,10)]"
   ]
  },
  {
   "cell_type": "code",
   "execution_count": null,
   "id": "43704efb-37ff-4214-88e0-e36a6d9d93e5",
   "metadata": {},
   "outputs": [],
   "source": [
    "list(enumerate([\"Gold\", \"Silver\", \"Bronze\"], 1))"
   ]
  },
  {
   "cell_type": "code",
   "execution_count": null,
   "id": "8f2d35c8-9722-41b3-81a1-548d1102d46f",
   "metadata": {},
   "outputs": [],
   "source": [
    "sum(range(1, 6, 2))"
   ]
  },
  {
   "cell_type": "code",
   "execution_count": null,
   "id": "85211711-0c61-4b46-bff5-803f9dafcc8e",
   "metadata": {},
   "outputs": [],
   "source": [
    "min([6, 3, 9])"
   ]
  },
  {
   "cell_type": "code",
   "execution_count": null,
   "id": "6dc2065c-b1a8-4aa0-acd4-a99596b535d6",
   "metadata": {},
   "outputs": [],
   "source": [
    "max([6, 3, 9])"
   ]
  },
  {
   "cell_type": "markdown",
   "id": "167191d9-2608-4d37-b9fe-b137b3235bc0",
   "metadata": {},
   "source": [
    "### `if`, `elif`, `else`"
   ]
  },
  {
   "cell_type": "code",
   "execution_count": null,
   "id": "0b7c756b-3bd6-465b-9b5a-e9d99c0d5b1f",
   "metadata": {},
   "outputs": [],
   "source": [
    "if \"x\" in \"apple\":\n",
    "    print(\"x is in apple\")    # not executed"
   ]
  },
  {
   "cell_type": "code",
   "execution_count": null,
   "id": "99ced894-2067-4df7-9f4c-4dc1d402793e",
   "metadata": {},
   "outputs": [],
   "source": [
    "if True:\n",
    "    print(\"First True\")\n",
    "elif True:\n",
    "    print(\"Also True, but not executed because the previous condition was already True\")\n",
    "else:\n",
    "    print(\"Else\")"
   ]
  },
  {
   "cell_type": "code",
   "execution_count": null,
   "id": "7a53fcac-1c0e-4dde-862c-848e8c061573",
   "metadata": {},
   "outputs": [],
   "source": [
    "grades = {\"Alice\": 5.5, \"Bob\": 3.5}\n",
    "def get_or_default(data, key):\n",
    "    if key not in data:\n",
    "        return 1.0\n",
    "    else:\n",
    "        return data[key]\n",
    "get_or_default(grades, \"Terrance\")"
   ]
  },
  {
   "cell_type": "markdown",
   "id": "92558145-8f52-4e34-be47-a2fe68324f3b",
   "metadata": {},
   "source": [
    "### Thruthiness"
   ]
  },
  {
   "cell_type": "code",
   "execution_count": null,
   "id": "0703e574-ec1e-40f0-bd9c-58b071c580e1",
   "metadata": {},
   "outputs": [],
   "source": [
    "if [\"a\", \"non-empty\", \"list\"]:\n",
    "    print(\"evaluates as True\")"
   ]
  },
  {
   "cell_type": "code",
   "execution_count": null,
   "id": "0844b13c-8ad6-4f34-a375-56826843b9bd",
   "metadata": {},
   "outputs": [],
   "source": [
    "if []:\n",
    "    print(\"bool([]) evaluates to True\")\n",
    "else:\n",
    "    print(\"bool([]) evaluates to False\")"
   ]
  },
  {
   "cell_type": "code",
   "execution_count": null,
   "id": "f58ceb03-e468-4c58-8d08-9f0299b4723a",
   "metadata": {},
   "outputs": [],
   "source": [
    "bool(1+1)"
   ]
  },
  {
   "cell_type": "code",
   "execution_count": null,
   "id": "53415263-cf4a-45aa-9b2f-d590b7de7b21",
   "metadata": {},
   "outputs": [],
   "source": [
    "bool(1-1)"
   ]
  },
  {
   "cell_type": "markdown",
   "id": "e7c011ab-ff80-4a1e-8697-343cf033e304",
   "metadata": {},
   "source": [
    "### Dictionary"
   ]
  },
  {
   "cell_type": "code",
   "execution_count": null,
   "id": "e9b8c4b1-2548-4123-acf4-bb9d7716ed49",
   "metadata": {},
   "outputs": [],
   "source": [
    "grades = {\"Alice\": 5.5, \"Bob\": 3.5}\n",
    "grades[\"Jack\"] = 3.75\n",
    "del(grades[\"Bob\"])\n",
    "print(grades.keys())\n",
    "print(grades.values())\n",
    "print(grades.items())"
   ]
  },
  {
   "cell_type": "markdown",
   "id": "e02d2edf-9e9f-4273-87d5-6f70ecfe28a9",
   "metadata": {},
   "source": [
    "### List comprehensions"
   ]
  },
  {
   "cell_type": "code",
   "execution_count": null,
   "id": "43dadb7e-ee47-4dc1-8081-a74381f1ea9d",
   "metadata": {},
   "outputs": [],
   "source": [
    "[country[:3].upper() for country in [\"Germany\", \"Switzerland\", \"Italy\", \"France\"]] "
   ]
  },
  {
   "cell_type": "code",
   "execution_count": null,
   "id": "45e585c9-2025-4451-8a93-242e21e15641",
   "metadata": {},
   "outputs": [],
   "source": [
    "[f\"{name}'s grade is {grade}\" for name, grade in grades.items()] "
   ]
  },
  {
   "cell_type": "code",
   "execution_count": null,
   "id": "9beda8d9-66da-4c76-a25a-7057cf72e301",
   "metadata": {
    "scrolled": true
   },
   "outputs": [],
   "source": [
    "# a list of tuples, where every tuple contains lat. and long. coordinates and a city name\n",
    "# CC BY 4.0 https://simplemaps.com/\n",
    "cities = [\n",
    "    (35.6839,  139.7744, \"Tokyo\"),\n",
    "    (40.6943,  -73.9249, \"New York\"),\n",
    "    (19.4333,  -99.1333, \"Mexico City\"),\n",
    "    (18.9667,   72.8333, \"Mumbai\"),\n",
    "    (-23.5504, -46.6339, \"Sao Paulo\"),\n",
    "]"
   ]
  },
  {
   "cell_type": "code",
   "execution_count": null,
   "id": "a7ad551e-e66e-4e33-87fd-c1ca89d412fd",
   "metadata": {},
   "outputs": [],
   "source": [
    "[f\"{city} is located at {lat}, {lon}\" for lat, lon, city in cities]"
   ]
  },
  {
   "cell_type": "code",
   "execution_count": null,
   "id": "bf06b4e4-8690-4df2-93b4-2a3a9451668c",
   "metadata": {},
   "outputs": [],
   "source": [
    "# filter for cities in the southern hemisphere\n",
    "[f\"{city} is located at {lat}, {lon}\" for lat, lon, city in cities if lat < 0]"
   ]
  },
  {
   "cell_type": "markdown",
   "id": "c4913b80-412f-427f-8b1d-1cb74dfa0f2b",
   "metadata": {},
   "source": [
    "### Dict comprehensions"
   ]
  },
  {
   "cell_type": "code",
   "execution_count": null,
   "id": "4ccf6c18-b356-42cb-b820-966e2e464c54",
   "metadata": {},
   "outputs": [],
   "source": [
    "{country[:3].upper(): country for country in [\"Germany\", \"Switzerland\", \"Italy\", \"France\"]}"
   ]
  },
  {
   "cell_type": "code",
   "execution_count": null,
   "id": "43053d8d-8774-4ef2-a34b-f5609687e35a",
   "metadata": {},
   "outputs": [],
   "source": [
    "grades = {\"Alice\": 5.5, \"Bob\": 3.5}\n",
    "{name: grade >= 4 for name, grade in grades.items()}"
   ]
  },
  {
   "cell_type": "code",
   "execution_count": null,
   "id": "24baac94-1686-463b-826a-5c71c908a949",
   "metadata": {},
   "outputs": [],
   "source": [
    "# create a dictionary for looking up city coordinates\n",
    "{city: (lat, lon) for lat, lon, city in cities}"
   ]
  },
  {
   "cell_type": "markdown",
   "id": "bc841c17-2bfb-45db-b02d-9a14ed18b7bd",
   "metadata": {},
   "source": [
    "<p style=\"height:100px\"></p>\n",
    "<hr>\n",
    "<p style=\"height:100px\"></p>\n",
    "\n",
    "\n",
    "\n"
   ]
  },
  {
   "cell_type": "markdown",
   "id": "c7fad355-cbf9-4ffb-b9dc-6dbd18569067",
   "metadata": {},
   "source": [
    "# Ternary operator\n",
    "\n",
    "Sometimes you want an expression to have one value if a condition is true and another value if a condition is false. Using `if`/`else` normally, you might write:"
   ]
  },
  {
   "cell_type": "code",
   "execution_count": 2,
   "id": "48d5066f-1c07-48a6-9244-76b6d289dfeb",
   "metadata": {},
   "outputs": [
    {
     "data": {
      "text/plain": [
       "'hot'"
      ]
     },
     "execution_count": 2,
     "metadata": {},
     "output_type": "execute_result"
    }
   ],
   "source": [
    "temperature = 32\n",
    "if temperature < 27:\n",
    "    feeling = \"cold\"\n",
    "else:\n",
    "    feeling = \"hot\"\n",
    "feeling"
   ]
  },
  {
   "cell_type": "markdown",
   "id": "fc234bd2-edf0-489c-85a2-8975fd054c12",
   "metadata": {},
   "source": [
    "Most languages provide a shorthand *ternary operator* for these situations, and the syntax usually looks something like this:\n",
    "\n",
    "```isConditionTrue ? 'then this value' : 'otherwise this value'```.\n",
    "\n",
    "In python, the syntax looks like an `if`/`else` squeezed onto a single line: "
   ]
  },
  {
   "cell_type": "code",
   "execution_count": 3,
   "id": "93799442-b2c9-4c99-ab2b-1f5f1a12b04e",
   "metadata": {},
   "outputs": [
    {
     "data": {
      "text/plain": [
       "'hot'"
      ]
     },
     "execution_count": 3,
     "metadata": {},
     "output_type": "execute_result"
    }
   ],
   "source": [
    "temperature = 32\n",
    "feeling = \"cold\" if temperature < 27 else \"hot\"\n",
    "feeling"
   ]
  },
  {
   "cell_type": "markdown",
   "id": "55565c00-3e6f-4587-86f1-8514d291c594",
   "metadata": {},
   "source": [
    "Remember that any part of such an expression could be replaced by another expression, and that you don't necessarily need to assign the result to a variable. More generally, the syntax can be expressed as:\n",
    "\n",
    "```whenTrueExpression if checkConditionExpression else whenFalseExpression```.\n",
    "\n",
    "For example:"
   ]
  },
  {
   "cell_type": "code",
   "execution_count": 4,
   "id": "4d826bac-0593-45e1-9c0b-3e3f94e545dc",
   "metadata": {},
   "outputs": [
    {
     "name": "stdout",
     "output_type": "stream",
     "text": [
      "call 1\n",
      "call 3\n"
     ]
    },
    {
     "data": {
      "text/plain": [
       "'hot'"
      ]
     },
     "execution_count": 4,
     "metadata": {},
     "output_type": "execute_result"
    }
   ],
   "source": [
    "temperature = 32\n",
    "\n",
    "def is_cold(temperature):\n",
    "    print(\"call 1\")\n",
    "    return temperature < 27\n",
    "    \n",
    "def cold_feedback():\n",
    "    print(\"call 2\")\n",
    "    return \"cold\"\n",
    "    \n",
    "def hot_feedback():\n",
    "    print(\"call 3\")\n",
    "    return \"hot\"\n",
    "    \n",
    "cold_feedback() if is_cold(temperature) else hot_feedback()"
   ]
  },
  {
   "cell_type": "markdown",
   "id": "6455a5ff-174b-4be2-b402-981e8a80c3e0",
   "metadata": {},
   "source": [
    "The ternary operator is also adds more flexibility when transforming values in a comprehension. For example, here we use a different value depending on the second tuple value:"
   ]
  },
  {
   "cell_type": "code",
   "execution_count": null,
   "id": "06104d1e-b758-48a2-b375-08bef69861a8",
   "metadata": {},
   "outputs": [],
   "source": [
    "grades = {\"Alice\": 5.5, \"Bob\": 3.5}\n",
    "{name: \"failed\" if grade <= 4 else \"passed\" for name, grade in grades.items()}"
   ]
  },
  {
   "cell_type": "markdown",
   "id": "da2e7722-519a-4b81-bc7a-2a4f00659857",
   "metadata": {},
   "source": [
    "Here, we construct a string depending on the first tuple value (which we name `lat` in the comprehension). Note that if you're iterating over tuple values, and you don't need some of them, you can name it `_` by convention:"
   ]
  },
  {
   "cell_type": "code",
   "execution_count": null,
   "id": "10316585-cb6a-41c7-99e3-3b9cb85b6d0e",
   "metadata": {},
   "outputs": [],
   "source": [
    "[f\"{city} is located in the {'northern' if lat > 0 else 'southern'} hemisphere\" for lat, _, city in cities]"
   ]
  },
  {
   "cell_type": "markdown",
   "id": "4ae0a88e-c557-4464-97e5-f0214ed6dd9f",
   "metadata": {},
   "source": [
    "<span style=\"color:purple;font-weight:bold\">Exercise</span>\n",
    "\n",
    "Write a dict-comprehension that creates a dictionary of student-name to grade, but adds a 0.25 \"bonus\" to any passing grade (e.g. 4.25 should become 4.50 but 3.75 should remain 3.75)"
   ]
  },
  {
   "cell_type": "code",
   "execution_count": 6,
   "id": "45093282-2228-408f-bc23-401c3ba2cf5b",
   "metadata": {},
   "outputs": [
    {
     "data": {
      "text/plain": [
       "{'Alice': 5.75, 'Bob': 3.5, 'Linda': 6.0}"
      ]
     },
     "execution_count": 6,
     "metadata": {},
     "output_type": "execute_result"
    }
   ],
   "source": [
    "# exercise solution\n",
    "grades = {\"Alice\": 5.5, \"Bob\": 3.5, \"Linda\": 6.0}\n",
    "# write a dict comprehension that produces: {'Alice': 5.75, 'Bob': 3.5, 'Linda': 6.0}\n",
    "{name: grade+0.25 if 4 <= grade <= 5.75 else grade for name, grade in grades.items()} \n"
   ]
  },
  {
   "cell_type": "markdown",
   "id": "02ac4f7f-1609-43e6-91d9-b588a88307f0",
   "metadata": {},
   "source": [
    "# `NoneType` and `None`\n",
    "\n",
    "So far, we proclaimed that every function takes zero or more parameters and returns *something*. This is in fact true. Here's our familiar `power2` function:"
   ]
  },
  {
   "cell_type": "code",
   "execution_count": null,
   "id": "3e26f501-fd5c-48d8-93c5-85c9b96ffe10",
   "metadata": {},
   "outputs": [],
   "source": [
    "def power2(x):\n",
    "    return x ** 2\n",
    "power2(4)"
   ]
  },
  {
   "cell_type": "markdown",
   "id": "42dff1ad-3f7a-48f1-b902-b8be0b1826d2",
   "metadata": {},
   "source": [
    "Just for clarity, let's move the `x ** 2` expression out of the return statement and store it in a variable; then return that variable. This is semantically equivalent:"
   ]
  },
  {
   "cell_type": "code",
   "execution_count": null,
   "id": "3acb1c1e-da29-4036-84ff-0d755c6778df",
   "metadata": {},
   "outputs": [],
   "source": [
    "def power2(x):\n",
    "    result = x ** 2\n",
    "    return result\n",
    "power2(4)"
   ]
  },
  {
   "cell_type": "markdown",
   "id": "abf69f62-301a-4d37-aaef-b6316acc42e2",
   "metadata": {},
   "source": [
    "Let's also store the return value from calling the function in a new variable:"
   ]
  },
  {
   "cell_type": "code",
   "execution_count": null,
   "id": "cf307184-c9cc-4691-a787-8987b6524f4c",
   "metadata": {},
   "outputs": [],
   "source": [
    "four_squared = power2(4)"
   ]
  },
  {
   "cell_type": "markdown",
   "id": "ec54f6b6-32dd-4a6a-abdb-06c2018fcf7d",
   "metadata": {},
   "source": [
    "And then use that variable to construct an f-string which also checks the type of the return value:"
   ]
  },
  {
   "cell_type": "code",
   "execution_count": null,
   "id": "1342bd01-b934-4136-be49-c427dd45b8fe",
   "metadata": {},
   "outputs": [],
   "source": [
    "f\"{four_squared} is of type {type(four_squared)}\""
   ]
  },
  {
   "cell_type": "markdown",
   "id": "994b8073-076d-4a2c-be5e-b0ea861f27ff",
   "metadata": {},
   "source": [
    "But watch what happens, if we \"forget\" to return the result:"
   ]
  },
  {
   "cell_type": "code",
   "execution_count": null,
   "id": "8e546615-7a02-4a65-9b60-1e58eaf7df8c",
   "metadata": {},
   "outputs": [],
   "source": [
    "def power2_no_return(x):\n",
    "    result = x ** 2          # the result is assigned to the 'result' variable, but never returned\n",
    "\n",
    "four_squared = power2_no_return(4)\n",
    "f\"{four_squared} is of type {type(four_squared)}\""
   ]
  },
  {
   "cell_type": "markdown",
   "id": "a9675b78-3119-4e12-a3ed-497248e84bd4",
   "metadata": {},
   "source": [
    "As you can see, a function that \"doesn't return anything\", returns the value `None`, which has the type `NoneType`.\n",
    "\n",
    "`None` is really just a value like any other (say, `\"Hello!\"`, `False` or `4.6`). But while the `int` type has many possible values (like `3` or `9001`), and the `bool` has two possible values (`True` and `False`), the `NoneType` just has a single possible value: `None`.\n",
    "\n",
    "**Remember: *every* function in Python returns a value. If nothing else is returned, then that value is `None`.**\n",
    "\n",
    "The following code is equivalent:"
   ]
  },
  {
   "cell_type": "code",
   "execution_count": null,
   "id": "e2d15342-3fb5-4a30-92f5-f57a3f245c15",
   "metadata": {},
   "outputs": [],
   "source": [
    "def power2_no_return(x):\n",
    "    result = x ** 2\n",
    "    return None"
   ]
  },
  {
   "cell_type": "markdown",
   "id": "6817ff2b-9463-4657-9334-dace390ffcf4",
   "metadata": {},
   "source": [
    "This means that you can return `None` explicitely, if you want. But if a function's body executes without ever returning anything explicitely, the function will eventually return `None` (unless it crashes, of course).\n",
    "\n",
    "This is also why it's very important to realize that `print` is really nothing like `return`. See the following two functions:"
   ]
  },
  {
   "cell_type": "code",
   "execution_count": null,
   "id": "b1c466a2-8780-4619-904c-7d8cf6508e27",
   "metadata": {},
   "outputs": [],
   "source": [
    "def returning(x):\n",
    "    return x + 1\n",
    "\n",
    "def printing(x):\n",
    "    print(x + 1)"
   ]
  },
  {
   "cell_type": "markdown",
   "id": "1e18ea7d-0234-4a4e-85c0-67129253590a",
   "metadata": {},
   "source": [
    "Both of these functions take a number as the only parameter `x`. But one of these functions **returns** the value of `x + 1`, while the other **prints** it. The difference may appear subtle, but it is very significant. See what happens if we store the return values of calling `returning` and `printing`:"
   ]
  },
  {
   "cell_type": "code",
   "execution_count": null,
   "id": "7f0bb3b5-9c59-4135-9990-33b93817c480",
   "metadata": {},
   "outputs": [],
   "source": [
    "result = returning(10)\n",
    "f\"{result} is of type {type(result)}\""
   ]
  },
  {
   "cell_type": "code",
   "execution_count": null,
   "id": "d1b871e6-359a-4fd9-bb9c-a2d5c958bd51",
   "metadata": {},
   "outputs": [],
   "source": [
    "result = printing(10)\n",
    "f\"{result} is of type {type(result)}\""
   ]
  },
  {
   "cell_type": "markdown",
   "id": "e8b04205-ccb7-43f2-ba93-3ccdd60de7cc",
   "metadata": {},
   "source": [
    "As you can see, `returning` returns an integer, which we store as `result`. However, if we do the same by calling `printing`, then the variable result will not contain an integer, but `None` instead.\n",
    "\n",
    "This can be confusing, because if you just run both examples in Jupyter Notebook, they look *almost* identical:"
   ]
  },
  {
   "cell_type": "code",
   "execution_count": null,
   "id": "4e3604de-4412-444d-91a1-b302ff8bf589",
   "metadata": {},
   "outputs": [],
   "source": [
    "# snippet 1\n",
    "def returning(x):\n",
    "    return x + 1\n",
    "returning(10)            # this evaluates to: 11, so Jupyter prints it"
   ]
  },
  {
   "cell_type": "code",
   "execution_count": null,
   "id": "b8b95997-ae4a-47a5-ac96-f2d821ad35fd",
   "metadata": {},
   "outputs": [],
   "source": [
    "# snippet 2\n",
    "def printing(x):\n",
    "    print(x + 1)        # this prints 11\n",
    "printing(10)            # this evaluates to: None, so Jupyter doesn't print anything"
   ]
  },
  {
   "cell_type": "markdown",
   "id": "d7111194-004b-4fa4-9910-3b72fa138c8e",
   "metadata": {},
   "source": [
    "Looks the same, right? But it isn't:\n",
    "\n",
    " * When executing snippet 1, these things happen in order:\n",
    "   1. `returning` is called with parameter `10`\n",
    "   2. the function body of `returning` is executed with `x = 10`\n",
    "   3. `x + 1` is computed, resulting in the value `11`\n",
    "   4. The value `11` is **returned** from the function; the function is done executing\n",
    "   5. The final statement of the snippet, `returning(10)`, is done evaluating and Jupyter Notebook prints its value: `11`\n",
    " * When executing snippet 2, these things happen in order:\n",
    "   1. `printing` is called with parameter `10`\n",
    "   2. the function body of `printing` is executed with `x = 10`\n",
    "   3. `x + 1` is computed, resulting in the value `11`\n",
    "   4. The value `11` is **printed** as part of executing the function body\n",
    "   5. The value `None` is **returned** from the function; the function is done executing\n",
    "   6. The final statement of the snippet, `printing(10)`, is done evaluating and Jupyter Notebook does not print anything, because this statement evaluated to `None`.\n",
    "  \n",
    "It's crucial to understand that in snippet 1, we see the number `11` because Jupyter Notebook evaluates the call `returning(x)`, which results in the value `11`. By contrast, in snippet 2, we see the number `11` because the `printing` function prints it."
   ]
  },
  {
   "cell_type": "markdown",
   "id": "b0603ae6-cf63-483a-9d3e-edeab53f9494",
   "metadata": {},
   "source": [
    "We can properly see this, if we print the type of the resulting variables:"
   ]
  },
  {
   "cell_type": "code",
   "execution_count": null,
   "id": "1ef05d3d-c198-4d11-baca-5e8e1682e4bd",
   "metadata": {},
   "outputs": [],
   "source": [
    "print(type(returning(10)))\n",
    "print(type(printing(10)))"
   ]
  },
  {
   "cell_type": "markdown",
   "id": "60037a08-f50f-49f3-b172-00d461edd57e",
   "metadata": {},
   "source": [
    "So while it **is** is true that every function returns something, that something can be a special value which indicates nothingness: `None`.\n",
    "\n",
    "Note that `print` also returns `None`:"
   ]
  },
  {
   "cell_type": "code",
   "execution_count": null,
   "id": "4fcebcdb-35af-40a9-94b8-291d1886dbd4",
   "metadata": {},
   "outputs": [],
   "source": [
    "type(print(\"Hello\"))"
   ]
  },
  {
   "cell_type": "code",
   "execution_count": null,
   "id": "3e45a65f-9b24-42de-912f-07642e01e903",
   "metadata": {},
   "outputs": [],
   "source": [
    "my_contacts = {\n",
    "    \"Joe\": \"+41440002341\",\n",
    "    \"Anne\": \"+41441112341\",\n",
    "}\n",
    "\n",
    "def add_contact(phonebook, name, number):\n",
    "    if name in phonebook:\n",
    "        print(\"Already in phonebook\")\n",
    "    else:\n",
    "        phonebook[name] = number\n",
    "        \n",
    "result = add_contact(my_contacts, \"Bob\", \"+41449999912\")\n",
    "print(result)"
   ]
  },
  {
   "cell_type": "markdown",
   "id": "904612ec-a90c-419e-b56a-9dfec118c95c",
   "metadata": {},
   "source": [
    "As you can see, `add_contact` doesn't even contain any `return` statements. It might `print` something, but it always returns `None`. By contrast, `None` can also be used when it makes sense semantically for a function to either return *something* or *nothing*. You also know this example:"
   ]
  },
  {
   "cell_type": "code",
   "execution_count": null,
   "id": "859fe3ec-7489-47c2-873f-9aa95773d99e",
   "metadata": {},
   "outputs": [],
   "source": [
    "def find_contact(phonebook, name):\n",
    "    if name not in phonebook:\n",
    "        print(\"not in phonebook\")\n",
    "    else:\n",
    "        return phonebook[name]\n",
    "\n",
    "result = find_contact(my_contacts, \"Bob\")\n",
    "print(result)\n",
    "result = find_contact(my_contacts, \"Unicorn\")\n",
    "print(result)"
   ]
  },
  {
   "cell_type": "markdown",
   "id": "8dc46aa9-ff1b-4284-96eb-474be05cdd11",
   "metadata": {},
   "source": [
    "As you can see, `find_contact` returns the number for a contact only if the number is in the phonebook. Otherwise, it returns `None`. This makes sense, because it's a *good* return value if the contact could not be found. It is always better to return `None` in such cases, rather than \"magic values\" like `\"Nothing\"`, `\"Not found\"`, `-1`, `False` or anything like that."
   ]
  },
  {
   "cell_type": "markdown",
   "id": "10a41cf1-ce71-4203-811e-1c7984441b4c",
   "metadata": {},
   "source": [
    "<span style=\"color:purple;font-weight:bold\">Exercise</span>\n",
    "\n",
    "What will the following snippet print?"
   ]
  },
  {
   "cell_type": "code",
   "execution_count": null,
   "id": "a9ff41c7-c2cb-4401-a2ec-fc34ce21ccd0",
   "metadata": {},
   "outputs": [],
   "source": [
    "def even(x):\n",
    "    if x % 2 == 1:\n",
    "        return False\n",
    "\n",
    "if even(2):\n",
    "    print(\"Even\")\n",
    "else:\n",
    "    print(\"Odd\")"
   ]
  },
  {
   "cell_type": "markdown",
   "id": "3db6dc45-170f-4951-adef-0291405b330b",
   "metadata": {},
   "source": [
    "# Early `return`\n",
    "\n",
    "We've seen that a function always returns a value. Sometimes it makes sense to write code using *early* `return` statements. In the following example, we want to generate a suitable string based on the given temperature:"
   ]
  },
  {
   "cell_type": "code",
   "execution_count": null,
   "id": "30356e89-3563-4e2c-a6d1-35dc12c26774",
   "metadata": {},
   "outputs": [],
   "source": [
    "def feeling(temperature):\n",
    "    result = \"?\"\n",
    "    if temperature < 0:\n",
    "        result = \"freezing\"\n",
    "    elif temperature < 15:\n",
    "        result = \"cold\"\n",
    "    elif temperature < 25:\n",
    "        result = \"mild\"\n",
    "    else:\n",
    "        result = \"hot\"\n",
    "    return result\n",
    "feeling(23)"
   ]
  },
  {
   "cell_type": "markdown",
   "id": "fadacedb-87e4-42ef-a733-8f0a75c043f4",
   "metadata": {},
   "source": [
    "We can rewrite this using early `return`s by simply returning the result as soon as it's ready:"
   ]
  },
  {
   "cell_type": "code",
   "execution_count": null,
   "id": "17cf4864-d7e1-41e1-8be3-a19b7e448084",
   "metadata": {},
   "outputs": [],
   "source": [
    "def feeling(temperature):\n",
    "    if temperature < 0:\n",
    "        return \"freezing\"\n",
    "    elif temperature < 15:\n",
    "        return \"cold\"\n",
    "    elif temperature < 25:\n",
    "        return \"mild\"\n",
    "    else:\n",
    "        return \"hot\"\n",
    "feeling(23)"
   ]
  },
  {
   "cell_type": "markdown",
   "id": "4940aac7-3b4b-440d-b499-18f241cabaa2",
   "metadata": {},
   "source": [
    "Or even:"
   ]
  },
  {
   "cell_type": "code",
   "execution_count": null,
   "id": "fd7b1193-7997-4581-ae64-b672e64c3b2e",
   "metadata": {},
   "outputs": [],
   "source": [
    "def feeling(temperature):\n",
    "    if temperature < 0:\n",
    "        return \"freezing\"\n",
    "    if temperature < 15:\n",
    "        return \"cold\"\n",
    "    if temperature < 25:\n",
    "        return \"mild\"\n",
    "    return \"hot\"\n",
    "feeling(23)"
   ]
  },
  {
   "cell_type": "markdown",
   "id": "37adc39d-83f9-438d-94fe-59c1eed68134",
   "metadata": {},
   "source": [
    "Because once a return statement is reached, the function ends execution and returns the given value. Of course, you can also return `None` at any point, if that makes sense:"
   ]
  },
  {
   "cell_type": "code",
   "execution_count": null,
   "id": "31446b69-00d5-463c-99db-3b2b089fc09c",
   "metadata": {},
   "outputs": [],
   "source": [
    "my_cities = {\n",
    "    \"Tokyo\":       (35.6839,  139.7744),\n",
    "    \"New York\":    (40.6943,  -73.9249),\n",
    "    \"Mexico City\": (19.4333,  -99.1333),\n",
    "    \"Mumbai\":      (18.9667,   72.8333),\n",
    "    \"Sao Paulo\":   (-23.5504, -46.6339),\n",
    "}\n",
    "def find_city(cities, city):\n",
    "    if city not in cities:\n",
    "        return None\n",
    "    return cities[city]\n",
    "print(find_city(my_cities, \"Mumbai\"))\n",
    "print(find_city(my_cities, \"Zurich\"))"
   ]
  },
  {
   "cell_type": "markdown",
   "id": "f117aef2-2bd5-44d7-882d-e871d6cd025d",
   "metadata": {},
   "source": [
    "The following implementation is equivalent, but does not explicitely return `None`. Even though this is the same, the previous version is better, because it's easier to understand."
   ]
  },
  {
   "cell_type": "code",
   "execution_count": null,
   "id": "4293baa8-6eb1-44a7-9009-2b3f1b91af4f",
   "metadata": {},
   "outputs": [],
   "source": [
    "def find_city(cities, city):\n",
    "    if city in cities:\n",
    "        return cities[city]\n",
    "print(find_city(my_cities, \"Mumbai\"))\n",
    "print(find_city(my_cities, \"Zurich\"))"
   ]
  },
  {
   "cell_type": "markdown",
   "id": "bdb27c44-6c0b-4efd-8663-46dfa7c2d0a6",
   "metadata": {},
   "source": [
    "# `for` loops\n",
    "\n",
    "Finally, the cat is out of the bag. Python, like many other programming languages, provides `for` loops. Using `for`, we can execute a block of code *for every item in a collection*."
   ]
  },
  {
   "cell_type": "code",
   "execution_count": null,
   "id": "ce370a51-3c71-4652-bfb4-affa6164774f",
   "metadata": {},
   "outputs": [],
   "source": [
    "for name in [\"Alice\", \"Bob\"]:\n",
    "    print(f\"This is {name}!\")"
   ]
  },
  {
   "cell_type": "code",
   "execution_count": null,
   "id": "2d26e292-e684-4961-8ad1-e5effaee051b",
   "metadata": {},
   "outputs": [],
   "source": [
    "sentence = \"Buy into this new audio idea\".split()\n",
    "result = []\n",
    "for word in sentence:\n",
    "    result.append(word.capitalize())\n",
    "print(result)"
   ]
  },
  {
   "cell_type": "markdown",
   "id": "8bb71516-e51f-4160-b125-aabdd26da3f2",
   "metadata": {},
   "source": [
    "You may imagine that you could write this as a list comprehension:"
   ]
  },
  {
   "cell_type": "code",
   "execution_count": null,
   "id": "2a92cbb9-9c53-4e48-b391-4208c2679ec7",
   "metadata": {},
   "outputs": [],
   "source": [
    "sentence = \"Buy into this new audio idea\".split()\n",
    "result = [word.capitalize() for word in sentence]\n",
    "print(result)"
   ]
  },
  {
   "cell_type": "markdown",
   "id": "7ed2d265-e847-415f-9a69-31aa4f8640c8",
   "metadata": {},
   "source": [
    "So as a rule of thumb:\n",
    " * If you're just filtering an existing collection and transforming certain elements for a new collection, use a comprehension\n",
    " * If you have more complicated things to do, use a `for` loop."
   ]
  },
  {
   "cell_type": "markdown",
   "id": "391e6e95-6e38-4112-b591-064da0c07c55",
   "metadata": {},
   "source": [
    "In the following example, we iterate over a list of words and place the words in three different lists, depending on how many vowels and consonants the words contain:"
   ]
  },
  {
   "cell_type": "code",
   "execution_count": null,
   "id": "ebdeee59-e519-43b0-b3ea-c7ceb057593e",
   "metadata": {},
   "outputs": [],
   "source": [
    "sentence = \"Buy into this new audio idea\".split()    # ['Buy', 'into', 'this', 'new', 'audio', 'idea']\n",
    "\n",
    "more_vowels = []\n",
    "equal = []\n",
    "more_consonants = []\n",
    "\n",
    "for word in sentence:\n",
    "    vowel_count = sum([1 for character in word if character in \"aeiou\"])\n",
    "    cons_count = len(word) - vowel_count\n",
    "    if vowel_count > cons_count:\n",
    "        more_vowels.append(word)\n",
    "    elif cons_count > vowel_count:\n",
    "        more_consonants.append(word)\n",
    "    else:\n",
    "        equal.append(word)\n",
    "        \n",
    "print(more_vowels)\n",
    "print(equal)\n",
    "print(more_consonants)"
   ]
  },
  {
   "cell_type": "markdown",
   "id": "db9280a3-4d8c-4f3e-8d60-d89202e97cc5",
   "metadata": {},
   "source": [
    "You *could* achieve the same result using three comprehensions. You decide which approach is more readable."
   ]
  },
  {
   "cell_type": "code",
   "execution_count": null,
   "id": "c04ee293-8247-4f76-9770-21b2994b9aac",
   "metadata": {},
   "outputs": [],
   "source": [
    "more_vowels =     [word for word in sentence if len([char for char in word if char in \"aeiou\"]) > len(word)/2]\n",
    "equal =           [word for word in sentence if len([char for char in word if char in \"aeiou\"]) == len(word)/2]\n",
    "more_consonants = [word for word in sentence if len([char for char in word if char not in \"aeiou\"]) > len(word)/2]\n",
    "print(more_vowels)\n",
    "print(equal)\n",
    "print(more_consonants)"
   ]
  },
  {
   "cell_type": "markdown",
   "id": "367f734a-0343-47f7-becf-3cb3037e63e0",
   "metadata": {},
   "source": [
    "Let's have a few more examples for comprehensions and their equivalent `for` loops:"
   ]
  },
  {
   "cell_type": "code",
   "execution_count": null,
   "id": "48ef7cc9-9e23-49ff-84fd-a1a2c5bbd3ae",
   "metadata": {},
   "outputs": [],
   "source": [
    "result = [x**2 for x in range(10) if x % 2 == 0]\n",
    "print(result)"
   ]
  },
  {
   "cell_type": "markdown",
   "id": "570e49fc-1e6f-475a-84d9-bdc1f8634015",
   "metadata": {},
   "source": [
    "...as..."
   ]
  },
  {
   "cell_type": "code",
   "execution_count": null,
   "id": "febbdbe8-4ab0-47ef-8627-fae735cd5ce3",
   "metadata": {},
   "outputs": [],
   "source": [
    "result = []\n",
    "for x in range(10):\n",
    "    if x % 2 == 0:\n",
    "        result.append(x**2)\n",
    "print(result)"
   ]
  },
  {
   "cell_type": "markdown",
   "id": "3e4a5ceb-ce62-4d40-be99-b5ad21ef0d95",
   "metadata": {},
   "source": [
    "Or here's an example how a dict comprehension..."
   ]
  },
  {
   "cell_type": "code",
   "execution_count": null,
   "id": "9fa22b95-6652-4cc5-a687-10a2ab006330",
   "metadata": {},
   "outputs": [],
   "source": [
    "result = {x: x**2 for x in range(10) if x % 2 == 0}\n",
    "print(result)"
   ]
  },
  {
   "cell_type": "markdown",
   "id": "02831a88-894e-4401-a19a-66b6ad314a48",
   "metadata": {},
   "source": [
    "...could be written as..."
   ]
  },
  {
   "cell_type": "code",
   "execution_count": null,
   "id": "fb05963d-20d4-4567-9971-f18404c3a67e",
   "metadata": {},
   "outputs": [],
   "source": [
    "result = {}\n",
    "for x in range(10):\n",
    "    if x % 2 == 0:\n",
    "        result[x] = x**2\n",
    "print(result)"
   ]
  },
  {
   "cell_type": "markdown",
   "id": "e62c2382-51e6-4fd6-85f4-1f07ba9abca2",
   "metadata": {},
   "source": [
    "<span style=\"color:purple;font-weight:bold\">Exercise</span>\n",
    "\n",
    "Here's a classic programming interview question:\n",
    "\n",
    "Write a function that prints the numbers from 1 to 20, but...\n",
    " * if the number is divisible by `3` print `\"Fizz\"`\n",
    " * if the number is divisible by `5` print `\"Buzz\"`\n",
    " * if the number is divisible by both `3` and `5` print `FizzBuzz` "
   ]
  },
  {
   "cell_type": "code",
   "execution_count": null,
   "id": "523c1aa3-2de9-4f12-a4c1-b46d754c6636",
   "metadata": {},
   "outputs": [],
   "source": [
    "# exercise solution\n"
   ]
  },
  {
   "cell_type": "markdown",
   "id": "b79eade8-bcc7-485a-93f3-25d1f5c66d90",
   "metadata": {},
   "source": [
    "### Iterating over different collection types\n",
    "\n",
    "Let's look at a few more common examples for how `for` loops can be used to iterate over different kinds of collections. You've already seen how to iterate over a list, and of course, iterating over a tuple is basically the same:"
   ]
  },
  {
   "cell_type": "code",
   "execution_count": null,
   "id": "91452e7e-5762-4ffa-9746-93c905a44332",
   "metadata": {},
   "outputs": [],
   "source": [
    "names = (\"Alice\", \"Bob\", \"Bert\")\n",
    "for name in names:\n",
    "    print(f\"{name} starts with {name[0]}\")"
   ]
  },
  {
   "cell_type": "markdown",
   "id": "f1630dd8-3f9b-4398-ac5a-1f6ad5a42b68",
   "metadata": {},
   "source": [
    "Iterating over a set is also the same (but remember that there is no way of knowing in which order the elements will be treated):"
   ]
  },
  {
   "cell_type": "code",
   "execution_count": null,
   "id": "fbaf4c20-14a2-43fe-9048-a8adb164bb2b",
   "metadata": {},
   "outputs": [],
   "source": [
    "names = {\"Alice\", \"Bob\", \"Bert\"}\n",
    "for name in names:\n",
    "    print(f\"{name} starts with {name[0]}\")"
   ]
  },
  {
   "cell_type": "markdown",
   "id": "3bb2d2d7-3abf-45b4-9854-c93d3014ab93",
   "metadata": {},
   "source": [
    "When iterating over a dictionary, you could...\n",
    " * iterate over just the keys (`my_dict.keys()`)\n",
    " * iterate over just the values (`my_dict.values()`)\n",
    " * iterate over key/value pairs (`my_dict.items()`)\n",
    "One example for each:"
   ]
  },
  {
   "cell_type": "code",
   "execution_count": null,
   "id": "3c3b034c-ca1f-4c22-830d-4bb093ec51a4",
   "metadata": {},
   "outputs": [],
   "source": [
    "birthdays = {\"Alice\": \"1984-12-24\", \"Bob\": \"2001-01-02\", \"Bert\": \"1999-12-01\"}\n",
    "for name in birthdays.keys():\n",
    "    print(f\"We know {name}'s birthday\")"
   ]
  },
  {
   "cell_type": "code",
   "execution_count": null,
   "id": "17072088-b3f7-4749-b357-b5bac36861b5",
   "metadata": {},
   "outputs": [],
   "source": [
    "for day in birthdays.values():\n",
    "    if not day.startswith(\"2\"):\n",
    "        print(f\"{day} feels like it was yesterday\")"
   ]
  },
  {
   "cell_type": "code",
   "execution_count": null,
   "id": "8e8783af-ebf4-4f95-8bd3-feb87e5d6055",
   "metadata": {},
   "outputs": [],
   "source": [
    "for name, day in birthdays.items():\n",
    "    print(f\"{name}'s birthday is {day}\")"
   ]
  },
  {
   "cell_type": "markdown",
   "id": "98bd346c-61da-4e88-90c9-02c1924f55f9",
   "metadata": {},
   "source": [
    "Remember that `.items()` returns a list of tuples, where each tuple contains a key and its corresponding value:"
   ]
  },
  {
   "cell_type": "code",
   "execution_count": null,
   "id": "21685f3b-15c6-44fd-a2d4-0a097e0849a6",
   "metadata": {},
   "outputs": [],
   "source": [
    "birthdays.items()"
   ]
  },
  {
   "cell_type": "markdown",
   "id": "bebc8940-f2af-4a6f-a0bf-aabdf14edab8",
   "metadata": {},
   "source": [
    "<span style=\"color:purple;font-weight:bold\">Exercise</span>\n",
    "\n",
    "Write a function `remember` that takes a dictionary `birthdays`, which contains names and birthdays as keys and values. The function should take an additional parameter `month` which should be an integer between 1 and 12. The function should *return* a string like `\"Birthdays in MONTH: name1, name2, ...\"`, containing the names of all those people who have their birthday in the given month."
   ]
  },
  {
   "cell_type": "code",
   "execution_count": null,
   "id": "bf20ae2a-c0c8-4369-917f-6eda35192460",
   "metadata": {},
   "outputs": [],
   "source": [
    "# exercise solution\n",
    "bdays = {\"Alice\": \"1984-12-24\", \"Bob\": \"2001-01-02\", \"Bert\": \"1999-12-01\"}\n",
    "\n",
    "def remember(birthdays, month):\n",
    "    pass\n",
    "\n",
    "remember(bdays, 12)"
   ]
  },
  {
   "cell_type": "markdown",
   "id": "257d20ad-21c9-4e8a-bfec-48b036628453",
   "metadata": {},
   "source": [
    "# `while` loops\n",
    "\n",
    "A `while` loop is abit like a an `if` condition that repeats until the condition becomes `False`. If the condition is `False` from the start, the `while` body never executes even once (just like an `if` with a `False` condition)."
   ]
  },
  {
   "cell_type": "code",
   "execution_count": null,
   "id": "bef6b92a-f450-49e3-b443-12ac7916aa93",
   "metadata": {},
   "outputs": [],
   "source": [
    "n = 3\n",
    "while n > 3:\n",
    "    print(n)\n",
    "    n = n - 1"
   ]
  },
  {
   "cell_type": "markdown",
   "id": "c8d7530d-0795-4cd1-84e9-8d997af478bf",
   "metadata": {},
   "source": [
    "The big problem with `while` loops is that they may never end:"
   ]
  },
  {
   "cell_type": "code",
   "execution_count": null,
   "id": "0a24bd42-2d59-47de-a22e-f6aff22eb8d4",
   "metadata": {},
   "outputs": [],
   "source": [
    "# Running this may crash your jupyter notebook:\n",
    "\n",
    "#n = 3\n",
    "#while n > 3:\n",
    "#    print(n)"
   ]
  },
  {
   "cell_type": "markdown",
   "id": "11c965cf-e0c9-4bc9-86c3-510010421852",
   "metadata": {},
   "source": [
    "In general, you **don't** want to use `while` loops.\n",
    "\n",
    "It does not make sense to replace..."
   ]
  },
  {
   "cell_type": "code",
   "execution_count": null,
   "id": "4eceba2f-6cfe-4dcb-8607-32492c4a615e",
   "metadata": {},
   "outputs": [],
   "source": [
    "for i in range(3):\n",
    "    print(i)"
   ]
  },
  {
   "cell_type": "markdown",
   "id": "7b1220a7-f93f-43af-9d4c-e5413b79373f",
   "metadata": {},
   "source": [
    "with"
   ]
  },
  {
   "cell_type": "code",
   "execution_count": null,
   "id": "f36f76c4-80c4-463e-bce1-458f6102f44d",
   "metadata": {},
   "outputs": [],
   "source": [
    "n = 0\n",
    "while n < 3:\n",
    "    print(n)\n",
    "    n += 1"
   ]
  },
  {
   "cell_type": "markdown",
   "id": "ec0b3b4d-be5b-4fb0-aa7b-855bc4115930",
   "metadata": {},
   "source": [
    "because you **know** in advance that this loop runs for a fixed number of times (3). The same is true for any collection.\n",
    "\n",
    "\n",
    "By contrast, imagine you are programming a game, which receives button presses from the game controller, and which displays graphics on the screen, say, 60 times per second. In this case,  you don't know how many frames will be rendered onto the screen in advance. In that case, your code might look something like this:"
   ]
  },
  {
   "cell_type": "code",
   "execution_count": null,
   "id": "63defab8-db1f-4cb9-bf4d-643842121946",
   "metadata": {},
   "outputs": [],
   "source": [
    "from random import randrange\n",
    "\n",
    "player_is_alive = True\n",
    "while player_is_alive:\n",
    "    print(\"Player is stomping goombas and collecting coins\")\n",
    "    player_is_alive = not randrange(5) == 0            # in 1 out of 5 runs, the player will die randomly"
   ]
  },
  {
   "cell_type": "markdown",
   "id": "847af4b7-85d3-462e-9890-77be08576d5a",
   "metadata": {},
   "source": [
    "**Remember: Only use a `while` loop if you do not know the number of executions in advance**\n",
    "\n",
    "(Or to keep it very simple: just don't use while loops at all.)"
   ]
  },
  {
   "cell_type": "markdown",
   "id": "6d8807b7-a528-449c-a9ec-a632b9f5ed61",
   "metadata": {},
   "source": [
    "# References\n",
    "\n",
    "The word *reference* has a very specific meaning in programming, and it's very important to understand. Have a look at this example, where we create a list of numbers and assign it to the variable `l`:"
   ]
  },
  {
   "cell_type": "code",
   "execution_count": null,
   "id": "b632d4a3-7d8b-4e1c-b1dc-43b00eed2246",
   "metadata": {},
   "outputs": [],
   "source": [
    "l = [1, 2, 3]\n",
    "print(l)"
   ]
  },
  {
   "cell_type": "markdown",
   "id": "b8296221-7e8f-4455-a80d-6a05e0f3c39e",
   "metadata": {},
   "source": [
    "What Python does internally is:\n",
    " 1. Create a list with 3 elements and store it in memory\n",
    " 2. Create a variable `l` and make it *reference* (i.e.: \"point at\") the list stored in memory.\n",
    "\n",
    "<img src=\"ref_01.png\" alt=\"Drawing\" style=\"width: 150px;\"/>\n",
    "\n",
    "Now what happens if we assign the variable `l` to yet another variable `x`?"
   ]
  },
  {
   "cell_type": "code",
   "execution_count": null,
   "id": "4d3698a7-9a2d-459e-8754-77499df72543",
   "metadata": {},
   "outputs": [],
   "source": [
    "x = l\n",
    "print(l)\n",
    "print(x)"
   ]
  },
  {
   "cell_type": "markdown",
   "id": "02338251-f54c-4dd3-9005-f4f80e54c834",
   "metadata": {},
   "source": [
    "We can see that printing `l` and `x` both yield the same result. But this is **not** because `x` is a *copy* of `l`. Rather than that, `x` just *points at* the same list as `l` does.\n",
    "\n",
    "<img src=\"ref_02.png\" alt=\"Drawing\" style=\"width: 150px;\"/>\n",
    "\n",
    "So what happens if we change one of the elements in `x`?"
   ]
  },
  {
   "cell_type": "code",
   "execution_count": null,
   "id": "8878ca7b-ca84-4774-b1cb-71b0d039673b",
   "metadata": {},
   "outputs": [],
   "source": [
    "x[0] = 7\n",
    "print(l)\n",
    "print(x)"
   ]
  },
  {
   "cell_type": "markdown",
   "id": "1b4d4890-d6fa-4483-9c26-7535f41c5091",
   "metadata": {},
   "source": [
    "As you can see, now the element at index 0 has changed for both `x` **and** `l`! This is because both variables **referenced** the same list, so modifying `x` means modifying `l`!\n",
    "\n",
    "<img src=\"ref_03.png\" alt=\"Drawing\" style=\"width: 150px;\"/> <img src=\"ref_04.png\" alt=\"Drawing\" style=\"width: 150px;\"/> <img src=\"ref_05.png\" alt=\"Drawing\" style=\"width: 150px;\"/> \n"
   ]
  },
  {
   "cell_type": "markdown",
   "id": "9b378c7c-d397-4d1b-a7a0-37757e323376",
   "metadata": {},
   "source": [
    "Recognize the difference between *creating* an object and *referencing* it. In the examples above, a list object is *created* using `[1, 2, 3]`, and then *referenced* using `l = ...` and `x = ...`. Two *references* refer to the same list *object*."
   ]
  },
  {
   "cell_type": "markdown",
   "id": "fad23956-cb94-49e5-8242-0dce0b0f80af",
   "metadata": {},
   "source": [
    "# Checking for Equality\n",
    "\n",
    "Now that you know references, you can understand the distinction between `==` and `is`:\n",
    " * `==` checks if two things are *equivalent*\n",
    " * `is` checks if two things are the exact same thing.\n",
    "This is best illustrated using an example:"
   ]
  },
  {
   "cell_type": "code",
   "execution_count": null,
   "id": "98346b4a-cdc3-4cfb-96d9-651ac03d4799",
   "metadata": {},
   "outputs": [],
   "source": [
    "l = [7, 2, 3]\n",
    "x = l\n",
    "y = [7, 2, 3]\n",
    "print(l == x)   # True\n",
    "print(y == x)   # True\n",
    "print(l is x)   # True\n",
    "print(y is x)   # False"
   ]
  },
  {
   "cell_type": "markdown",
   "id": "304bee3c-0253-4d56-889a-fcada1698b31",
   "metadata": {},
   "source": [
    "<img src=\"ref_06.png\" alt=\"Drawing\" style=\"width: 320px;\"/>\n"
   ]
  },
  {
   "cell_type": "markdown",
   "id": "cfe9aa1b-f8b7-417f-963d-d2f298e32a95",
   "metadata": {},
   "source": [
    "`is` will only be true if the two things being compared *refer to* the exact same object in memory, so it's a very basic comparator. `==` on the other hand depends on the types of values involved:"
   ]
  },
  {
   "cell_type": "code",
   "execution_count": null,
   "id": "5a23d6a4-5f50-4adc-85c0-4a906bb86152",
   "metadata": {},
   "outputs": [],
   "source": [
    "1.0 == 1"
   ]
  },
  {
   "cell_type": "code",
   "execution_count": null,
   "id": "4690b663-26b2-4b33-a212-fe68e621c731",
   "metadata": {},
   "outputs": [],
   "source": [
    "\"1\" == 1"
   ]
  },
  {
   "cell_type": "code",
   "execution_count": null,
   "id": "a2fbe635-416d-496d-9d0b-2f325e51b5ce",
   "metadata": {},
   "outputs": [],
   "source": [
    "{1: \"one\", 2: \"two\"} == {2: \"two\", 1: \"one\"}"
   ]
  },
  {
   "cell_type": "markdown",
   "id": "01cd75b1-ea74-42ba-be09-950bac20dd6c",
   "metadata": {},
   "source": [
    "This means `==` is implemented individually for any particular type. In a future lecture, you will learn how to make obejcts comparable yourself.\n",
    "\n",
    "For now, you will likely want to use `==` to make comparisons in most situations. `None` is an exception to this rule: the Python style guide ([PEP8](https://peps.python.org/pep-0008)) recommends using `is` when comparing to `None`. So you should do"
   ]
  },
  {
   "cell_type": "code",
   "execution_count": null,
   "id": "dec67887-a39d-40b8-99ba-4eb11ddd461d",
   "metadata": {},
   "outputs": [],
   "source": [
    "l = [1, None, \"hello\"]\n",
    "if l[1] is None:\n",
    "    print(\"It's None\")"
   ]
  },
  {
   "cell_type": "markdown",
   "id": "24d3a7e8-9e6c-4386-ac09-fb68a436680c",
   "metadata": {},
   "source": [
    "and not"
   ]
  },
  {
   "cell_type": "code",
   "execution_count": null,
   "id": "d2ec44ea-d85c-4820-99af-8dd0450eefc1",
   "metadata": {},
   "outputs": [],
   "source": [
    "l = [1, None, \"hello\"]\n",
    "if l[1] == None:\n",
    "    print(\"It's None\")"
   ]
  },
  {
   "cell_type": "markdown",
   "id": "318ab61f-11fd-42b2-a661-d2c220bfb673",
   "metadata": {},
   "source": [
    "This is ultimately a design choice. In general, referencing variables from outside the local scope can lead to more errors."
   ]
  },
  {
   "cell_type": "markdown",
   "id": "9d453384-0f24-4c88-8f94-2531ccb48ebc",
   "metadata": {},
   "source": [
    "# Everything's an object (in Python)\n",
    "\n",
    "By now, you're familiar with the idea that new objects are created in memory in a variety of circumstances, and that one or more references can point to an object:"
   ]
  },
  {
   "cell_type": "code",
   "execution_count": null,
   "id": "e4383ed5-d4cc-4593-ba5f-70db91981273",
   "metadata": {},
   "outputs": [],
   "source": [
    "l = [1, 2, 3]   # a new object of type list is created and assigned to l\n",
    "x = l           # the object referenced by l is also assigned to x\n",
    "x is l          # x and l refer to the same object"
   ]
  },
  {
   "cell_type": "markdown",
   "id": "8db640b5-53ab-413d-875a-c0d89501586f",
   "metadata": {},
   "source": [
    "The truth is, that (in Python) any kind of value is, fundamentally, an **object**. This includes \"simple\" values such as integers, but also complex things like functions and classes (and not just class instances!). To see why, consider what you can do with your typical object.\n",
    "\n",
    "An object can, among other things, be...\n",
    " 1. created\n",
    " 2. assgined to a variable\n",
    " 3. stored a collection, like a list or dictionary\n",
    " 4. passed as a function parameter\n",
    " 5. returned as a function return value\n",
    "\n",
    "...as shown here:"
   ]
  },
  {
   "cell_type": "code",
   "execution_count": null,
   "id": "90e0467d-a19d-4eeb-b22b-36a14f7b00e6",
   "metadata": {},
   "outputs": [],
   "source": [
    "l = [1, 2, 3]          # create and assign\n",
    "x = l                  # assign\n",
    "x"
   ]
  },
  {
   "cell_type": "code",
   "execution_count": null,
   "id": "a4c5e129-313e-4d30-a28c-6fc4536429a1",
   "metadata": {},
   "outputs": [],
   "source": [
    "outer = [l, \"hello\"]   # store in a collection\n",
    "print(outer[0][2])"
   ]
  },
  {
   "cell_type": "code",
   "execution_count": null,
   "id": "e315c628-0168-4b8a-937f-ef9f52b360ed",
   "metadata": {},
   "outputs": [],
   "source": [
    "def print_thing(thing):\n",
    "    print(thing)\n",
    "print_thing(l)         # pass to a function as a parameter"
   ]
  },
  {
   "cell_type": "code",
   "execution_count": null,
   "id": "6da02e4e-a787-4a7c-84c8-91675575bab3",
   "metadata": {},
   "outputs": [],
   "source": [
    "def pair():\n",
    "    l = [10, 15]\n",
    "    return l           # return from a function\n",
    "print(pair())"
   ]
  },
  {
   "cell_type": "markdown",
   "id": "b3f7391a-1214-49c2-8d05-7961bda428ee",
   "metadata": {},
   "source": [
    "What's important is that all the same things are indeed true also for functions..."
   ]
  },
  {
   "cell_type": "code",
   "execution_count": null,
   "id": "27a58587-3713-4cee-a04e-95a9bbbca69a",
   "metadata": {},
   "outputs": [],
   "source": [
    "def power2(x):              # create and \"assign\" (i.e. name)\n",
    "    return x ** 2\n",
    "power2"
   ]
  },
  {
   "cell_type": "code",
   "execution_count": null,
   "id": "e0b4da81-b717-4370-bdc9-c84ceb599adc",
   "metadata": {},
   "outputs": [],
   "source": [
    "also_power2 = power2        # assign\n",
    "print(also_power2(2))       # same as power2(2)"
   ]
  },
  {
   "cell_type": "code",
   "execution_count": null,
   "id": "d9aceeb8-2819-4e04-b9b9-0f513dd18282",
   "metadata": {},
   "outputs": [],
   "source": [
    "also_power2"
   ]
  },
  {
   "cell_type": "code",
   "execution_count": null,
   "id": "7f4e7825-28c1-4aed-aa6b-3c9ebb36c821",
   "metadata": {},
   "outputs": [],
   "source": [
    "l = [also_power2, \"hello\"]  # store in a collection\n",
    "print(l[0](3))              # same as power2(3)"
   ]
  },
  {
   "cell_type": "code",
   "execution_count": null,
   "id": "73c181f1-8e3d-4c9c-833b-0b864f7f1c2d",
   "metadata": {},
   "outputs": [],
   "source": [
    "def call_with_4(thing):\n",
    "    res = thing(4)          # same as power2(4)\n",
    "    print(res)\n",
    "call_with_4(power2)         # pass to a function as a parameter"
   ]
  },
  {
   "cell_type": "code",
   "execution_count": null,
   "id": "4b4b9427-e1de-40fd-8b25-04f752464d5a",
   "metadata": {},
   "outputs": [],
   "source": [
    "def give_power2():\n",
    "    def y(x):              # create and \"assign\" (i.e. name)\n",
    "        return x ** 2\n",
    "    return y           # return from a function\n",
    "print(give_power2()(5))       # same as power2(5)"
   ]
  },
  {
   "cell_type": "code",
   "execution_count": null,
   "id": "6895251e-3986-4c74-9a2c-8f116edc4eb9",
   "metadata": {},
   "outputs": [],
   "source": [
    "def give_power(y):\n",
    "    def power(x):\n",
    "        return x ** y\n",
    "    return power\n",
    "\n",
    "power3 = give_power(3)\n",
    "power3(4)"
   ]
  },
  {
   "cell_type": "markdown",
   "id": "ef8527fa-0ee6-46d3-b099-a4cab511c4c9",
   "metadata": {},
   "source": [
    "This is what we call *\"Higher-order functions\"*, or *\"Functions as 1st class citizens\"*. It simply means that functions can be treated like any other value\n",
    " * functions can be stored in data structures, e.g. in a list\n",
    " * functions can be assigned to variables\n",
    " * functions can be accepted as parameters\n",
    " * functions can be return values"
   ]
  },
  {
   "cell_type": "markdown",
   "id": "7e3f88db-baa8-49c5-a6d2-39dffde0bb0e",
   "metadata": {},
   "source": [
    "# What you learned today\n",
    "\n",
    " * Testing in ACCESS (copy/paste and rename the sample test to add more tests!)\n",
    " * Ternary Operator (`int(x) if x.isdigit() else x`)\n",
    " * `NoneType` and `None`\n",
    " * Early `return`\n",
    " * `for` and `while` loops\n",
    " * References\n",
    " * Equivalence (`==`) and identity (`is`)\n",
    " * Everything's an object (and higher-order functions)"
   ]
  }
 ],
 "metadata": {
  "authors": [
   {
    "name": "Carol V. Alexandru-Funakoshi"
   }
  ],
  "kernelspec": {
   "display_name": "Python 3 (ipykernel)",
   "language": "python",
   "name": "python3"
  },
  "language_info": {
   "codemirror_mode": {
    "name": "ipython",
    "version": 3
   },
   "file_extension": ".py",
   "mimetype": "text/x-python",
   "name": "python",
   "nbconvert_exporter": "python",
   "pygments_lexer": "ipython3",
   "version": "3.12.6"
  },
  "title": "Info1 Python Tutorial - Part III"
 },
 "nbformat": 4,
 "nbformat_minor": 5
}
