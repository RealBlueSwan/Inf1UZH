{
 "cells": [
  {
   "cell_type": "markdown",
   "id": "cf77c386-29bf-4478-a577-bae913ffe2f6",
   "metadata": {},
   "source": [
    "# Mock exam with Supertab and Inspera\n",
    "\n",
    "The mock exam has no impact on your grade. It serves to prepare you for the real exam next week.\n",
    "\n",
    "1. Log in to [https://supertab.ifi.uzh.ch/](https://supertab.ifi.uzh.ch/), select the mock exam and share your *entire* screen\n",
    "3. Log into https://uzh.inspera.com/ and work on the mock exam. Practice...\n",
    "    * ...copy-pasting the template into your programming environment,\n",
    "    * ...implementing a solution,\n",
    "    * ...copy-pasting only the relevant part (anything that is necessary to run your code) into Inspera.\n",
    "\n",
    "Your submissions will not be graded. This is just an exercise.\n",
    "\n",
    "The mock exam will be open until midnight."
   ]
  },
  {
   "cell_type": "markdown",
   "id": "ba320aa5-f9f3-46c0-9124-85e9c2edb151",
   "metadata": {},
   "source": [
    "# The final exam\n",
    "\n",
    "Binding information on the exam will be sent to your UZH email address by tomorrow. The rules and the style of the exam will be similar to what you already saw in the midterm. The following information is not binding."
   ]
  },
  {
   "cell_type": "markdown",
   "id": "b4ef5c44-d9c4-4599-9be7-c63e254371fd",
   "metadata": {},
   "source": [
    "### What will be in the exam?\n",
    "\n",
    "Anything we discussed in the lecture may be tested in the exam. However:\n",
    "\n",
    " * There will be no coding tasks involving Git.\n",
    " * You need to be able to recognize and understand type hints, but you are not required to use them.\n",
    " * You need to be able to recognize and understand `lambda` functions, but you will not have to write them yourself.\n",
    " * You need to be able to recognize and understand `@dataclass`, but you are not *required* to use it.\n",
    "\n",
    "Of course, the ability to not only recognize but also use the concepts listed above may be advantagous."
   ]
  },
  {
   "cell_type": "markdown",
   "id": "7c36e756-f120-4547-b5f4-dc4392997482",
   "metadata": {},
   "source": [
    "### What is the structure of the exam?\n",
    "\n",
    "You can achieve 60 points.\n",
    "\n",
    " * There will be 3 kprim (4 true or false statements, each) questions, each awarding 3 points for a total of 9 points.\n",
    " * There will be 7 programming tasks, ranging from 6 to 11 points for a total of 51 points.\n",
    "\n",
    "A perfect grade will be achievable without obtaining all points. Some of the programming tasks are very straight-forward if you got enough practice and should take no longer than a few minutes to solve."
   ]
  },
  {
   "cell_type": "markdown",
   "id": "73e206f7-3dfb-49c0-bb2f-4de44185ab51",
   "metadata": {
    "jp-MarkdownHeadingCollapsed": true
   },
   "source": [
    "### Kprim questions\n",
    "\n",
    "Please don't waste these 9 points.\n",
    "\n",
    "For each of 4 statements, you need to decide whether they are true or false. If you decide correctly for all 4, you get 3 points. If you make one mistake, you get 1.5 points. You get 0 points otherwise.\n",
    "\n",
    " * If a Kprim question asks \"The expression ... evaluates as ...\", then just take the 10 seconds to evaluate the expression in the Python terminal. Don't guess, unless you're 100% sure.\n",
    " * You can use a search engine, the lecture materials and the Python documentation to answer theory questions. Become adept at Ctrl-F."
   ]
  },
  {
   "cell_type": "markdown",
   "id": "2d3d736a-ec2d-4297-87ff-b56ac5bc7817",
   "metadata": {},
   "source": [
    "### What about \"private\"?\n",
    "\n",
    "You don't have to use leading underscores (`._internal`, `.__nonpublic`). You *can* use them if you want, but your code must adhere to the task description, and it must be compatible with the provided examples. So if the task description says that instances of a class should have an `age` attribute, then it really has to be `.age`, not `._age` or `.__age`."
   ]
  },
  {
   "cell_type": "markdown",
   "id": "5412e383-6433-48ba-a594-a876970bb6bc",
   "metadata": {},
   "source": [
    "### What is allowed?\n",
    "\n",
    "The exam is essentially \"open book\", meaning you can use the Python documentation, search engines, sites such as StackOverflow or any other online resources you might find useful.\n",
    "\n",
    "You can use any functionality from the [Python Standard Library](https://docs.python.org/3/library/index.html), unless the task explicitely forbids something.\n",
    "\n",
    "However, the following are **strictly forbidden**:\n",
    "\n",
    " * Communication with other people (chats, asking questions and receiving answers, etc.).\n",
    " * Any kind of LLM AI (ChatGPT, Claude, Copilot, etc.), and any \"AI-based\" coding assistants.\n",
    "\n",
    "You are allowed to bring **one** laptop. **You are not allowed to use other computing devices such as tablets or cell phones.**\n",
    "\n",
    "You are allowed to bring paper and pencil to take notes."
   ]
  },
  {
   "cell_type": "markdown",
   "id": "6e8291a9-2cba-4126-b1a4-c88b64110d8b",
   "metadata": {},
   "source": [
    "### What about IDE auto-completion features?\n",
    "\n",
    "If the completion feature does not rely on large language models (such as Copilot, ChatGPT, and many more), you are allowed to use it.\n",
    "\n",
    "PyCharm's (*Professional Edition*, free for students) \"Full Line Completion\" and VSCodes IntelliSense are explicitely permitted. Be careful with the suggestions they provide. They can't really be trusted."
   ]
  },
  {
   "cell_type": "markdown",
   "id": "68644068-54f5-457b-ab33-52c285ffde6e",
   "metadata": {},
   "source": [
    "### What to bring to the exam?\n",
    "\n",
    " * A fully charged, fully updated, well maintained laptop that will get you through 60 minutes without any technical issues. Powerbank if necessary. Make sure you can connect to UZH or eduroam. Using a personal hot spot is not permitted.\n",
    " * Something to drink/eat if necessary.\n",
    " * Paper and pencil to take notes if you like.\n",
    "\n",
    "You are allowed to bring a dictionary or or other books. Not sure how this would help you, though.\n",
    "\n",
    "Be sure to carefully read the exam information sheet (which will be sent to your UZH email address) regarding fraud and cheating."
   ]
  },
  {
   "cell_type": "markdown",
   "id": "306ce243-3b56-4cef-8f9c-cc2d7d01265b",
   "metadata": {},
   "source": [
    "### How will the exam be graded?\n",
    "\n",
    "Similarily to the midterm. That means that for any task, multiple test cases will be executed. You receive partial points for parts of the implementation which work as expected.\n",
    "\n",
    "**Warning**: If your solution cannot be imported/executed, you will receive zero points for the task. More on this in a bit."
   ]
  },
  {
   "cell_type": "markdown",
   "id": "8a4be029-6bbf-4e43-ab7f-2002d791d35e",
   "metadata": {},
   "source": [
    "### How many points are needed to pass?\n",
    "\n",
    "We do not publish the number of points needed to pass (grade 4.0) in advance, but historically, if you have more than 60% of the points, you are fine. For a perfect grade (6.0), you do not need 100% of the points."
   ]
  },
  {
   "cell_type": "markdown",
   "id": "a3e41e7b-1985-4f6a-8a02-393eee9981df",
   "metadata": {},
   "source": [
    "### Chance for corrections after the exam\n",
    "\n",
    "We don't want people to fail because of a small technicality. Given how a small mistake (such as a forgotten comma) can have a big impact on the grading, we allow students to make corrections to their submissions after the exam. The process is as follows:\n",
    "\n",
    " * You write your exam.\n",
    " * The exam will be graded (probably in the first week of January).\n",
    " * You will receive feedback on your exam on OLAT, similar to the midterm exam (but without sample solutions). You'll be notified of this via Email. Check your UZH Email regularily. Forwarding your email may not work as expected.\n",
    " * You will have the chance to edit your submission. You will have around 5 days to do this. Typically, around 10 characters can be changed per solution. Mind that these really are very small changes, but this is intended to save you from completely failing a task because of minor problems in your code. These changes won't be able to majorly affect your code. Some \"minor\" problems can't be solved this way. Be careful to get your code right in the exam.\n",
    " * Your exam will be re-graded including your corrections. This will determine your final score in the exam. Sample solutions will be released.\n",
    "\n",
    "Do not **expect** that the permitted corrections will somehow save the day. Be very careful how you submit your solutions in the exam."
   ]
  },
  {
   "cell_type": "markdown",
   "id": "ef6d0fe0-f7d5-49dd-94f8-d7de28fd0768",
   "metadata": {},
   "source": [
    "### Programming tasks\n",
    "\n",
    "*Understanding* the task is probably the most important thing. You could spend 1 minute reading the task and 10 minutes messing around with code, or you could spend 3 minutes reading the task and 3 minutes writing code. Some tasks need surprisingly little code. Don't get bogged down. If you find yourself writing a novel, you're probably on the wrong path. Keep things simple.\n",
    "\n",
    "Most importantly, make sure the code you write works with the provided examples!\n"
   ]
  },
  {
   "cell_type": "markdown",
   "id": "615b102e-4026-48a4-97e9-504550a03324",
   "metadata": {},
   "source": [
    "### How to optimize for points in the exam?\n",
    "\n",
    "In some tasks, it should be easy to get at least some points. For example:\n",
    "\n",
    " * Correctly implementing the specified constructor, even if not implementing the rest of a class.\n",
    " * Correctly implementing a base case for a recursive function, even when not implementing the recursive calls correctly.\n",
    " * Just returning an empty list or just returning `True` could give you a point.\n",
    "\n",
    "There is *no reason* to leave a submission empty. If it only takes a few seconds, submit at least *something*. Of course, this will only grant you a few points here and there, but at a very low price in terms of time spent.\n",
    "\n",
    " * When reading a task description, quickly decide whether you understand it well or not. If the task seems challenging, solve other tasks first.\n",
    " * 1 point ~= 1 minute. It's best to realize early whether a task is worth solving or not.\n",
    "\n",
    "For coding tasks, you need to ensure that **your solution works with the provided examples**. It doesn't matter how much code you write: if the examples don't work, you probably won't get many points for your solution. Note that the examples will not cover all possible inputs."
   ]
  },
  {
   "cell_type": "markdown",
   "id": "f046ca55-149d-4642-afb1-6fcf9bf42b5c",
   "metadata": {},
   "source": [
    "### Valid submissions\n",
    "\n",
    "**Make absolutely sure your solution does not contain any syntax errors or other issues that prevent it from being imported and executed!**\n",
    "\n",
    "In particular, your submission must include...\n",
    "\n",
    " * any necessary imports\n",
    " * the class / function signatures\n",
    "\n",
    "On the other hand, you should not submit the example calls. There is no penalty for submitting them."
   ]
  },
  {
   "cell_type": "markdown",
   "id": "31699155-c4da-4bbc-bc45-b48d4e2ca8a1",
   "metadata": {},
   "source": [
    "### How to solve an exam task?\n",
    "\n",
    " 1. The number one most important thing is to **read the task description carefully**. Make sure you read the description word-by-word. Take notes if that helps you.\n",
    " 2. Copy the code template into your programming enviornment. Copy over the including the examples.\n",
    " 3. Work on your solution. Test thoroughly.\n",
    " 4. If your solution works with the examples and you are confident to hand it in, then copy your solution **without the examples**, but **including any nececssary imports and class / function signatures** into the answer box."
   ]
  },
  {
   "cell_type": "markdown",
   "id": "f8eccf76-592f-4dd1-96d9-52c5c86bac1f",
   "metadata": {},
   "source": [
    "### How to prepare for the exam?\n",
    "\n",
    "Make sure you're not wasting time messing around with your code files and your IDE.\n",
    "\n",
    " * Maybe it makes sense to prepare 7 empty Python files, one for each task.\n",
    " * Ensure Python 3.12 or 3.13 is installed and being used by your IDE\n",
    " * **Make sure you have disabled or uninstalled any LLM-based \"AI\" assistants**"
   ]
  },
  {
   "cell_type": "code",
   "execution_count": null,
   "id": "8897a0f2-9d91-4646-87ac-34ead1fdc060",
   "metadata": {},
   "outputs": [],
   "source": []
  },
  {
   "cell_type": "markdown",
   "id": "d72e8ea8-f426-4341-b63e-4bfd9d1d8a53",
   "metadata": {},
   "source": [
    "# What's next?\n",
    "\n",
    "If you want to become a better engineer, here are some extra-curricular activities you might wanna try:\n",
    "\n",
    "### Install and use Linux\n",
    "\n",
    "Try a \"live distro\" first so you can explore without touching your existing system. Later, dual-boot with Windows/OSX so you can always go back. Any distro will do, just pick one [Ubuntu](https://ubuntu.com/), [Pop! OS](https://pop.system76.com/), [Linux Mint](https://linuxmint.com/), ...\n",
    "\n",
    "### Learn another programming language\n",
    "\n",
    "The best programming language is the one you use! Some suggestions:\n",
    "\n",
    "   * If you wanna write Android, web and enterprise apps: [Kotlin](https://kotlinlang.org/), many good guides oneline: [official tutorial](https://kotlinlang.org/docs/getting-started.html), [Android guides](https://developer.android.com/kotlin/learn)\n",
    "   * If you wanna write iOS apps: [Swift](https://docs.swift.org/swift-book/documentation/the-swift-programming-language/aboutswift)\n",
    "   * If you wanna write Windows apps: [C#](https://dotnet.microsoft.com/en-us/languages/csharp)\n",
    "   * If you wanna write web apps: Kotlin, Java, C#, Python, Ruby... + [JavaScript](https://en.wikipedia.org/wiki/JavaScript), pro tip: trust [mdn (Mozilla Development Docs)](https://developer.mozilla.org/en-US/docs/Learn/Getting_started_with_the_web/JavaScript_basics) over other websites.\n",
    "   * If you wanna board the hype-train: [Rust](https://www.rust-lang.org/), ([getting started](https://www.rust-lang.org/learn/get-started), [the book](https://doc.rust-lang.org/book/))\n",
    "   * If you wanna become a functional programming wizard: [Haskell](https://www.haskell.org/), great free beginner book: [Learn You a Haskell for Great Good!](https://learnyouahaskell.github.io/chapters.html)\n",
    "   * If you wanna do systems programming: [C](https://en.wikipedia.org/wiki/C_(programming_language)) (you can write [C-extensions](https://docs.python.org/3/extending/index.html#extending-index) for Python! See also [Cython](https://cython.org/))\n",
    "\n",
    "### Start working on your own projects\n",
    "\n",
    "   * Make your own website or web app ([CherryPy](https://cherrypy.dev/) is an easy way to start, since you already know Python!)\n",
    "   * Automate your home (get a Raspberry Pi or clone)\n",
    "   * Automate your homework\n",
    "   * Add custom functionality to your phone or laptop"
   ]
  }
 ],
 "metadata": {
  "authors": [
   {
    "name": "Carol V. Alexandru-Funakoshi"
   }
  ],
  "kernelspec": {
   "display_name": "Python 3 (ipykernel)",
   "language": "python",
   "name": "python3"
  },
  "language_info": {
   "codemirror_mode": {
    "name": "ipython",
    "version": 3
   },
   "file_extension": ".py",
   "mimetype": "text/x-python",
   "name": "python",
   "nbconvert_exporter": "python",
   "pygments_lexer": "ipython3",
   "version": "3.12.7"
  },
  "title": "Private Attributes and References"
 },
 "nbformat": 4,
 "nbformat_minor": 5
}
