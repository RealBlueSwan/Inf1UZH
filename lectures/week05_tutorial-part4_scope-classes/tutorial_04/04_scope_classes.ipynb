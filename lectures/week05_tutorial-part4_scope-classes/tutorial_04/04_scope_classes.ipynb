{
 "cells": [
  {
   "cell_type": "markdown",
   "id": "e1c1618a-9c11-4e81-a798-eda749946704",
   "metadata": {
    "jp-MarkdownHeadingCollapsed": true
   },
   "source": [
    "# Important Info!\n",
    "\n",
    "## Infrastructure-Test at Messe Oerlikon\n",
    "\n",
    "If you are an Info1-Student, **you must go to the physical infrastructure test** at Messe Oerlikon on October 28.\n",
    "\n",
    "More information on the \"Functional Test\" and required software will follow next week."
   ]
  },
  {
   "cell_type": "markdown",
   "id": "2c76b847-716d-484c-93ed-3c49d8ce7902",
   "metadata": {},
   "source": [
    "# Office hours\n",
    "\n",
    "* Mon 10-11: many people\n",
    "* Thu 12-13: almost no people -----> change time and location to Tue 10-11 at Center campus?\n",
    "* Fri 10-11: few people\n",
    "\n",
    "**Should the office hours from Thu 12-13 be moved to Center Campus at Tue 10-11?**"
   ]
  },
  {
   "cell_type": "markdown",
   "id": "cf019520-2102-45ea-8765-8bd0f56337b6",
   "metadata": {},
   "source": [
    "# Ensure your edu-ID is linked to your University Account\n",
    "\n",
    "Log into [https://eduid.uzh.ch](https://eduid.uzh.ch) and ensure that the University of Zurich shows up under \"Organizations\". If it does not, click \"Add organizational identity\" and follow the steps.\n",
    "\n",
    "<img src=\"eduid.png\" alt=\"Drawing\" style=\"width: 1000px;\"/>"
   ]
  },
  {
   "cell_type": "markdown",
   "id": "42ec4fac-c7ab-4d08-aa7a-af07fbf2244e",
   "metadata": {},
   "source": [
    "## Midterm location: Irchel Campus\n",
    "\n",
    "The Info1 Midterm on 04.11.2024 will NOT take place in the previously announced rooms (KO2-F-180, HAH-E-03, and HAH-E-11). Instead, the following rooms (**all at Irchel Campus**) will be used:\n",
    "\n",
    " * Y24-G-45\n",
    " * Y15-G-19\n",
    " * Y15-G-40\n",
    " * Y15-G-60\n",
    "\n",
    "You will be assigned one specific room 1+ week before the exam (everyone will receive an email to their UZH address). For now, just be aware that on 04.11.2024 between 18:00-20:00, you have to **be at Irchel Campus**, not Center Campus."
   ]
  },
  {
   "cell_type": "markdown",
   "id": "bf57aa47-665f-432a-9c8c-e60b34f0d01c",
   "metadata": {},
   "source": [
    "# Quick recap from last week\n",
    "\n",
    "### Ternary conditional operator"
   ]
  },
  {
   "cell_type": "code",
   "execution_count": 38,
   "id": "f30eba60-e5be-4747-8ff1-673c8ead19c6",
   "metadata": {},
   "outputs": [
    {
     "name": "stdout",
     "output_type": "stream",
     "text": [
      "5\n",
      "5\n"
     ]
    }
   ],
   "source": [
    "x = -5\n",
    "x_abs = x if x >= 0 else -x\n",
    "print(x_abs)\n",
    "# FYI, Python ships with an abs() function:\n",
    "print(abs(x))"
   ]
  },
  {
   "cell_type": "code",
   "execution_count": 39,
   "id": "e2c05d08-41c1-48c9-a309-d63cdd4c37bf",
   "metadata": {},
   "outputs": [
    {
     "data": {
      "text/plain": [
       "{'Alice': 5.75, 'Bob': 3.5, 'Linda': 6.0}"
      ]
     },
     "execution_count": 39,
     "metadata": {},
     "output_type": "execute_result"
    }
   ],
   "source": [
    "grades = {\"Alice\": 5.5, \"Bob\": 3.5, \"Linda\": 6.0}\n",
    "{name: grade + 0.25 if 4 <= grade <= 5.75 else grade for name, grade in grades.items()}"
   ]
  },
  {
   "cell_type": "markdown",
   "id": "0a7bf796-1f89-48b0-b51b-c6176517d711",
   "metadata": {},
   "source": [
    "### `None` and `NoneType`"
   ]
  },
  {
   "cell_type": "code",
   "execution_count": 40,
   "id": "28106f61-1da8-4f81-98aa-07e1a50eebeb",
   "metadata": {},
   "outputs": [
    {
     "name": "stdout",
     "output_type": "stream",
     "text": [
      "<class 'int'>\n",
      "<class 'bool'>\n",
      "<class 'NoneType'>\n"
     ]
    }
   ],
   "source": [
    "print(type(123))\n",
    "print(type(True))\n",
    "print(type(None))"
   ]
  },
  {
   "cell_type": "markdown",
   "id": "2452eee8-c5dd-4fac-807a-0c1b62ff7562",
   "metadata": {},
   "source": [
    "Functions in Python implicitly return `None` unless they explicitely return something else"
   ]
  },
  {
   "cell_type": "code",
   "execution_count": 41,
   "id": "64749450-1b15-4124-9447-9a0e12271bc9",
   "metadata": {},
   "outputs": [
    {
     "name": "stdout",
     "output_type": "stream",
     "text": [
      "11\n"
     ]
    }
   ],
   "source": [
    "def printing(x):\n",
    "    print(x + 1)        # this prints 11; the function eventually returns None after that\n",
    "printing(10)            # this evaluates to: None, so Jupyter doesn't print anything"
   ]
  },
  {
   "cell_type": "markdown",
   "id": "7f1c9dcd-3f83-4de3-a0e0-5f094ba6f511",
   "metadata": {},
   "source": [
    "The `print` function returns `None`"
   ]
  },
  {
   "cell_type": "code",
   "execution_count": 42,
   "id": "1bbedf88-c690-43cd-9e2a-579a8103d920",
   "metadata": {},
   "outputs": [
    {
     "name": "stdout",
     "output_type": "stream",
     "text": [
      "Hello\n",
      "None\n",
      "<class 'NoneType'>\n"
     ]
    }
   ],
   "source": [
    "def x():\n",
    "    res = print(\"Hello\")\n",
    "    return res\n",
    "result = x()\n",
    "print(result)\n",
    "print(type(result))"
   ]
  },
  {
   "cell_type": "markdown",
   "id": "948694e4-65f1-4400-8d54-4d51d2cef944",
   "metadata": {},
   "source": [
    "Be careful if you're dealing with values which could be *Falsy* or `None`. When used in a conditional expression, both will result in `None`:"
   ]
  },
  {
   "cell_type": "code",
   "execution_count": 43,
   "id": "1c425519-33c2-41b0-8c15-b16d4120b8c3",
   "metadata": {},
   "outputs": [
    {
     "data": {
      "text/plain": [
       "False"
      ]
     },
     "execution_count": 43,
     "metadata": {},
     "output_type": "execute_result"
    }
   ],
   "source": [
    "None == False"
   ]
  },
  {
   "cell_type": "code",
   "execution_count": 44,
   "id": "17f732b5-d829-4413-8a78-32be67b1318e",
   "metadata": {},
   "outputs": [
    {
     "data": {
      "text/plain": [
       "True"
      ]
     },
     "execution_count": 44,
     "metadata": {},
     "output_type": "execute_result"
    }
   ],
   "source": [
    "bool(None) == bool(False)"
   ]
  },
  {
   "cell_type": "code",
   "execution_count": 45,
   "id": "b75fb56d-5a3a-439f-83dd-b8168b20ff07",
   "metadata": {},
   "outputs": [
    {
     "name": "stdout",
     "output_type": "stream",
     "text": [
      "None is falsy\n",
      "False is falsy\n"
     ]
    }
   ],
   "source": [
    "if not None:\n",
    "    print(\"None is falsy\")\n",
    "if not False:\n",
    "    print(\"False is falsy\")"
   ]
  },
  {
   "cell_type": "code",
   "execution_count": 46,
   "id": "d1b02795-22f7-4938-86d1-a770005d3260",
   "metadata": {},
   "outputs": [
    {
     "name": "stdout",
     "output_type": "stream",
     "text": [
      "0 is positive\n"
     ]
    }
   ],
   "source": [
    "def is_negative(x):\n",
    "    if x < 0:\n",
    "        return True\n",
    "    if x > 0:\n",
    "        return False\n",
    "\n",
    "if is_negative(0):\n",
    "    print(\"0 is negative\")\n",
    "else:\n",
    "    print(\"0 is positive\") # but by most definitions, zero is neither positive nor negative"
   ]
  },
  {
   "cell_type": "markdown",
   "id": "fad32072-3484-4c9c-b524-4da4293320b9",
   "metadata": {},
   "source": [
    "### Early return"
   ]
  },
  {
   "cell_type": "code",
   "execution_count": 47,
   "id": "dba3c8a6-5c36-4be2-aa00-94299dbe67b9",
   "metadata": {},
   "outputs": [
    {
     "name": "stdout",
     "output_type": "stream",
     "text": [
      "(18.9667, 72.8333)\n",
      "None\n"
     ]
    }
   ],
   "source": [
    "my_cities = {\n",
    "    \"New York\":    (40.6943,  -73.9249),\n",
    "    \"Mumbai\":      (18.9667,   72.8333),\n",
    "}\n",
    "def find_city(cities, city):\n",
    "    if city not in cities:\n",
    "        return None            # function ends execution here if city was not in cities\n",
    "    return cities[city]        # this line is only reached if city IS in cities\n",
    "print(find_city(my_cities, \"Mumbai\"))\n",
    "print(find_city(my_cities, \"Zurich\"))"
   ]
  },
  {
   "cell_type": "markdown",
   "id": "5975d06f-6ea5-4590-b768-5c1abcec756d",
   "metadata": {},
   "source": [
    "### `for` loops"
   ]
  },
  {
   "cell_type": "code",
   "execution_count": 48,
   "id": "677db3c1-1aa1-4b98-b888-d74481706136",
   "metadata": {},
   "outputs": [
    {
     "name": "stdout",
     "output_type": "stream",
     "text": [
      "0\n",
      "1\n",
      "2\n"
     ]
    }
   ],
   "source": [
    "for x in range(3):\n",
    "    print(x)"
   ]
  },
  {
   "cell_type": "code",
   "execution_count": 49,
   "id": "d1aa93a5-1756-4468-809c-49e6fa9dd0bd",
   "metadata": {},
   "outputs": [
    {
     "name": "stdout",
     "output_type": "stream",
     "text": [
      "New York is located at 40.6943, -73.9249\n",
      "Mumbai is located at 18.9667, 72.8333\n"
     ]
    }
   ],
   "source": [
    "my_cities = {\n",
    "    \"New York\":    (40.6943,  -73.9249),\n",
    "    \"Mumbai\":      (18.9667,   72.8333),\n",
    "}\n",
    "# note that city is a string and coordinates is a tuple with 2 elements, because items() returns key/value pairs.\n",
    "for city, coordinates in my_cities.items():\n",
    "    print(f\"{city} is located at {coordinates[0]}, {coordinates[1]}\")"
   ]
  },
  {
   "cell_type": "markdown",
   "id": "87bab477-32f4-4185-a397-f9ad830e64aa",
   "metadata": {},
   "source": [
    "### `while` loops"
   ]
  },
  {
   "cell_type": "code",
   "execution_count": 50,
   "id": "a7941868-d011-4df4-a67e-3a32df872559",
   "metadata": {},
   "outputs": [
    {
     "name": "stdout",
     "output_type": "stream",
     "text": [
      "Latest rate is 1.167; not high enough. Will check again in 500ms...\n",
      "Latest rate is 1.193; not high enough. Will check again in 500ms...\n",
      "Latest rate is 1.194; not high enough. Will check again in 500ms...\n",
      "Latest rate is 1.196; not high enough. Will check again in 500ms...\n",
      "Latest rate is 1.205; Buy now!\n"
     ]
    }
   ],
   "source": [
    "from random import uniform\n",
    "from time import sleep\n",
    "    \n",
    "# This just returns a random value. In a real scenario this would look up the rate on the internet.\n",
    "def get_latest_rate():\n",
    "    return uniform(1.16, 1.21)\n",
    "\n",
    "# FYI, here's how you might actually check the real exchange rate:\n",
    "def real_get_latest_rate():\n",
    "    import requests\n",
    "    response = requests.get(\"https://api.exchangerate-api.com/v4/latest/CHF\") # JSON document containing exchange rates\n",
    "    if response.status_code == 200:\n",
    "        return response.json()['rates']['USD']\n",
    "    else:\n",
    "        raise Exception(\"Failed to retrieve data\")\n",
    "\n",
    "\n",
    "desired_rate = 1.20\n",
    "latest_rate = get_latest_rate()\n",
    "while desired_rate > latest_rate:\n",
    "    print(f\"Latest rate is {latest_rate:.3f}; not high enough. Will check again in 500ms...\")\n",
    "    sleep(0.5)\n",
    "    latest_rate = get_latest_rate()\n",
    "print(f\"Latest rate is {latest_rate:.3f}; Buy now!\")"
   ]
  },
  {
   "cell_type": "markdown",
   "id": "23be2769-204a-4cb2-8e74-6aaa10e12759",
   "metadata": {},
   "source": [
    "**Important**: Use `while` loops **only if the number of effective iterations is unknown**. Use `for` loops to iterate over collections!"
   ]
  },
  {
   "cell_type": "markdown",
   "id": "d4e260db-057d-42e0-a813-e60c4d0b3fc0",
   "metadata": {},
   "source": [
    "### References"
   ]
  },
  {
   "cell_type": "code",
   "execution_count": 51,
   "id": "4d3698a7-9a2d-459e-8754-77499df72543",
   "metadata": {},
   "outputs": [],
   "source": [
    "l = [1, 2, 3]\n",
    "x = l"
   ]
  },
  {
   "cell_type": "markdown",
   "id": "02338251-f54c-4dd3-9005-f4f80e54c834",
   "metadata": {},
   "source": [
    "<img src=\"ref_02.png\" alt=\"Drawing\" style=\"width: 150px;\"/>"
   ]
  },
  {
   "cell_type": "code",
   "execution_count": 52,
   "id": "8878ca7b-ca84-4774-b1cb-71b0d039673b",
   "metadata": {},
   "outputs": [
    {
     "name": "stdout",
     "output_type": "stream",
     "text": [
      "[7, 2, 3]\n",
      "[7, 2, 3]\n"
     ]
    }
   ],
   "source": [
    "x[0] = 7\n",
    "print(l)\n",
    "print(x)"
   ]
  },
  {
   "cell_type": "markdown",
   "id": "1b4d4890-d6fa-4483-9c26-7535f41c5091",
   "metadata": {},
   "source": [
    "<img src=\"ref_03.png\" alt=\"Drawing\" style=\"width: 150px;\"/> <img src=\"ref_04.png\" alt=\"Drawing\" style=\"width: 150px;\"/> <img src=\"ref_05.png\" alt=\"Drawing\" style=\"width: 150px;\"/> "
   ]
  },
  {
   "cell_type": "markdown",
   "id": "fad23956-cb94-49e5-8242-0dce0b0f80af",
   "metadata": {},
   "source": [
    "### Checking for Equality\n",
    "\n",
    " * `==` checks if the two sides are *equivalent*\n",
    " * `is` checks if the two sides are the exact same thing (i.e., the same object in memory)."
   ]
  },
  {
   "cell_type": "code",
   "execution_count": 53,
   "id": "98346b4a-cdc3-4cfb-96d9-651ac03d4799",
   "metadata": {},
   "outputs": [
    {
     "name": "stdout",
     "output_type": "stream",
     "text": [
      "True\n",
      "True\n",
      "True\n",
      "False\n"
     ]
    }
   ],
   "source": [
    "l = [7, 2, 3]\n",
    "x = l\n",
    "y = [7, 2, 3]\n",
    "print(l == x)   # True\n",
    "print(y == x)   # True as well, because the lists referred to by l and y both contain the exact same elements\n",
    "print(l is x)   # True, because l and x refer to the exact same object in memory\n",
    "print(y is x)   # False, because y and x are two different objects in memory"
   ]
  },
  {
   "cell_type": "markdown",
   "id": "304bee3c-0253-4d56-889a-fcada1698b31",
   "metadata": {},
   "source": [
    "<img src=\"ref_06.png\" alt=\"Drawing\" style=\"width: 320px;\"/>\n"
   ]
  },
  {
   "cell_type": "markdown",
   "id": "9af72ddc-d391-4bf3-b5d3-9aa0c912ad8a",
   "metadata": {},
   "source": [
    "<p style=\"height:100px\"></p>\n",
    "<hr>\n",
    "<p style=\"height:100px\"></p>\n",
    "\n",
    "\n",
    "\n"
   ]
  },
  {
   "cell_type": "markdown",
   "id": "a7663374-834a-448b-9ff7-83531ec1b919",
   "metadata": {},
   "source": [
    "# Pass-by-reference\n",
    "\n",
    "Python function calls use \"pass-by-reference\". This means that if a function is called with a reference (i.e., a variable), then only that reference is passed into the function. The value referenced is *not* copied (that would be called \"pass-by-value\").\n",
    "\n",
    "In the following example we\n",
    " * declare a function `foo` which takes one parameter (\"a list\" `l`) and appends a value to it\n",
    " * create a list containing three elements\n",
    " * create a variable `x` referencing that list\n",
    " * call the function `foo` with `x` as the parameter. `x` is a reference to the list we created. The function receives this reference and appends an element to the referenced list. The function does not return anything. It just edited `l`. Because `l` references the same list as `x`, `x` appears to have been modified as well.\n",
    "\n",
    "We also print whatever `x` refers to before and after calling `foo`."
   ]
  },
  {
   "cell_type": "code",
   "execution_count": 54,
   "id": "4de8bfcd-c5c3-416a-9715-97621576d4fb",
   "metadata": {},
   "outputs": [
    {
     "name": "stdout",
     "output_type": "stream",
     "text": [
      "[1, 2, 3]\n",
      "[1, 2, 3, 4]\n"
     ]
    }
   ],
   "source": [
    "def foo(l):\n",
    "    l.append(4)\n",
    "\n",
    "x = [1, 2, 3]\n",
    "print(x)\n",
    "foo(x)\n",
    "print(x)"
   ]
  },
  {
   "cell_type": "markdown",
   "id": "67cf39cf-6a02-4195-be94-7ae897218715",
   "metadata": {},
   "source": [
    "Things to keep in mind:\n",
    "\n",
    " * A variable is a **reference** to something in memory.\n",
    " * A variable is not the same thing as its value.\n",
    " * Multiple variables can reference the same thing in memory.\n",
    " * When passing a variable to a function, it's only the reference that is place into the function. Values are not copied."
   ]
  },
  {
   "cell_type": "markdown",
   "id": "7ec8eba0-c736-4910-88be-31a9d31f1fcd",
   "metadata": {},
   "source": [
    "<img src=\"ref_07.png\" alt=\"Drawing\" style=\"width: 350px;\"/>"
   ]
  },
  {
   "cell_type": "markdown",
   "id": "622730b2-ab00-44c0-901e-d59d2bf12add",
   "metadata": {},
   "source": [
    "So semantically, the following would result in the exact same outcome:"
   ]
  },
  {
   "cell_type": "code",
   "execution_count": 55,
   "id": "88f10cd7-c07a-4770-a902-a70c15b44e35",
   "metadata": {},
   "outputs": [
    {
     "name": "stdout",
     "output_type": "stream",
     "text": [
      "[1, 2, 3]\n",
      "[1, 2, 3, 4]\n"
     ]
    }
   ],
   "source": [
    "x = [1, 2, 3]\n",
    "def foo():\n",
    "    x.append(4)\n",
    "print(x)\n",
    "foo()\n",
    "print(x)"
   ]
  },
  {
   "cell_type": "markdown",
   "id": "10afb48e-1fdd-48a6-b601-9ff7a3dbab03",
   "metadata": {},
   "source": [
    "In this example, `foo` does not actually take any arguments. Instead, we reference `x` directly, rather than taking the detour of using `l`. However, this also means that our `foo` function only works for this one specific `x`."
   ]
  },
  {
   "cell_type": "markdown",
   "id": "6b9a1101-3401-4e61-bee4-5620ff0bc9e3",
   "metadata": {},
   "source": [
    "<span style=\"color:purple;font-weight:bold\">Exercise</span>\n",
    "\n",
    "What would the following snippet print?"
   ]
  },
  {
   "cell_type": "code",
   "execution_count": 56,
   "id": "3a62fba2-ac79-434f-94ca-db60b8649468",
   "metadata": {},
   "outputs": [],
   "source": [
    "x = [1, 2, 3]\n",
    "y = [4, x, 5]\n",
    "x.append(y)\n",
    "def prepend(head, l):\n",
    "    l.insert(0, head)\n",
    "    return l\n",
    "#print(prepend(y, x)[0][1][2])"
   ]
  },
  {
   "cell_type": "markdown",
   "id": "03db53a3-90a6-4121-96ec-e3bb3cafd3e1",
   "metadata": {},
   "source": [
    "[https://pythontutor.com/](https://pythontutor.com/)\n",
    "\n",
    "This brings us to the next topic..."
   ]
  },
  {
   "cell_type": "markdown",
   "id": "c8a58f6f-8243-4efb-af80-db2cfab23c7d",
   "metadata": {},
   "source": [
    "# Scope\n",
    "\n",
    "Scope determines where in a program a given variable or function can be accessed and modified.\n",
    "\n",
    "For example, `x` is *in scope* both inside and outside of the `foo` function, because `x` is defined in the *module scope*:"
   ]
  },
  {
   "cell_type": "code",
   "execution_count": 57,
   "id": "3df43007-8066-4692-8b73-a078527fcfd9",
   "metadata": {},
   "outputs": [
    {
     "name": "stdout",
     "output_type": "stream",
     "text": [
      "[1, 2, 3, 4]\n"
     ]
    }
   ],
   "source": [
    "x = [1, 2, 3]     # x is in the module scope\n",
    "def foo():\n",
    "    x.append(4)   # we can do things with x inside the function, because x lives in a higher-up / outer-more scope\n",
    "foo()\n",
    "print(x)"
   ]
  },
  {
   "cell_type": "markdown",
   "id": "f27e2afe-4183-48c7-a709-4f03af510527",
   "metadata": {},
   "source": [
    "In other words, inner-more scopes (such as the `foo()` function scope) can **access** variables defined in outer-more scopes (such as the module scope).\n",
    "\n",
    "However, and this is the most important thing to realize about scope in Python, everytime we use an **assignment** operation, such as `=`, `+=`, `*=` or any other functionality that **assigns** or **re-assigns** a **variable**, then a **new variable** is created **in the local scope**. For example:"
   ]
  },
  {
   "cell_type": "code",
   "execution_count": 58,
   "id": "f3766928-32d7-436e-85dd-b5928ad92bf0",
   "metadata": {},
   "outputs": [
    {
     "name": "stdout",
     "output_type": "stream",
     "text": [
      "10\n"
     ]
    }
   ],
   "source": [
    "m = 10\n",
    "def reassign():         # Doesn't actually reassign anything\n",
    "    m = 20              # Variable m is newly created in the local function scope and assigned 20. Global m is not changed.\n",
    "reassign()\n",
    "print(m)                # Global m unmodified"
   ]
  },
  {
   "cell_type": "markdown",
   "id": "344bd32e-5e4d-436a-a8e3-51c3946c4d91",
   "metadata": {},
   "source": [
    "And if you try to use other assignment operations (like `-=`, `+=`, `*=`, ...), you will get an exception that the variable you're trying to reassign doesn't even exist in scope:"
   ]
  },
  {
   "cell_type": "code",
   "execution_count": 59,
   "id": "7fc62796-761e-4840-a800-624df155828d",
   "metadata": {},
   "outputs": [],
   "source": [
    "m = 10\n",
    "def add_20():\n",
    "    m += 20             # In scope, m does not exist, so reassigning it is not possible!\n",
    "#add_20()"
   ]
  },
  {
   "cell_type": "markdown",
   "id": "891356a8-e2e8-44a2-a8fc-0e29e4080b8e",
   "metadata": {},
   "source": [
    "That's because `add_20` is the same as:"
   ]
  },
  {
   "cell_type": "code",
   "execution_count": 60,
   "id": "db4a9160-4e75-453b-b96f-addbf7dd4d89",
   "metadata": {},
   "outputs": [],
   "source": [
    "m = 10\n",
    "def add_20():\n",
    "    m = m + 20         # Python will FIRST create the local variable m; then it will evaluate the right side, but this m doesn't have a value yet!\n",
    "#add_20()"
   ]
  },
  {
   "cell_type": "markdown",
   "id": "e4d146b8-0c7f-4478-beea-c653f4d98ecc",
   "metadata": {},
   "source": [
    "Note that using the `=` operator by itself is *not* the point. For example, you can reassign list or dict elements using `=`. This has nothing to do with variable assignment:"
   ]
  },
  {
   "cell_type": "code",
   "execution_count": 61,
   "id": "afa01e48-6331-4072-af0e-22991b71bd16",
   "metadata": {},
   "outputs": [
    {
     "name": "stdout",
     "output_type": "stream",
     "text": [
      "[1, 2000, 3]\n"
     ]
    }
   ],
   "source": [
    "l = [1, 2, 3]\n",
    "def reassign_list_element():\n",
    "    l[1] = 2000                # assignment is NOT creating a new variable, it's just modifying a value\n",
    "reassign_list_element()\n",
    "print(l)"
   ]
  },
  {
   "cell_type": "markdown",
   "id": "0fb26a8d-6abb-4da1-94f2-a70bb30ddb68",
   "metadata": {},
   "source": [
    "The same scoping rules apply for function parameters, whose scope is limited to the inside of the function. Here's our familiar `power2` function, which takes a single parameter, `n`. When calling this function, for example `power2(4)`, then the variable `n` inside the function is assigned the value `4`:"
   ]
  },
  {
   "cell_type": "code",
   "execution_count": 62,
   "id": "795e462a-6d9d-4792-8a91-c93ef6aeca00",
   "metadata": {},
   "outputs": [
    {
     "data": {
      "text/plain": [
       "16"
      ]
     },
     "execution_count": 62,
     "metadata": {},
     "output_type": "execute_result"
    }
   ],
   "source": [
    "def power2(n):\n",
    "    return n ** 2\n",
    "power2(4)"
   ]
  },
  {
   "cell_type": "markdown",
   "id": "88bfee58-e412-4d2f-85bf-60cf2a05da16",
   "metadata": {},
   "source": [
    "However, outside the function, `n` is undefined:"
   ]
  },
  {
   "cell_type": "code",
   "execution_count": 63,
   "id": "395a43b0-3c6d-4f13-ba52-4feaed288a65",
   "metadata": {},
   "outputs": [
    {
     "data": {
      "text/plain": [
       "16"
      ]
     },
     "execution_count": 63,
     "metadata": {},
     "output_type": "execute_result"
    }
   ],
   "source": [
    "def power2(n):\n",
    "    return n ** 2\n",
    "power2(4)\n",
    "#print(n)           # impossible, because y is not defined in the module scope!"
   ]
  },
  {
   "cell_type": "markdown",
   "id": "08d3f485-5990-4fca-ba0d-7a59d1f6048a",
   "metadata": {},
   "source": [
    "### Shadowing\n",
    "\n",
    "In the following example, the declaration of `y` as a parameter inside `power2` **shadows** the definition of `y` in the module scope. The `y` inside the function is **not** the same as the `y` outside the function."
   ]
  },
  {
   "cell_type": "code",
   "execution_count": 64,
   "id": "e8ee93de-4d2a-4959-81b7-1ad201ba174c",
   "metadata": {},
   "outputs": [
    {
     "data": {
      "text/plain": [
       "16"
      ]
     },
     "execution_count": 64,
     "metadata": {},
     "output_type": "execute_result"
    }
   ],
   "source": [
    "y = 10\n",
    "def power2(y):        # Function parameter y is a NEW variable, and has nothing to do with the module-scope y\n",
    "    return y ** 2\n",
    "power2(4)"
   ]
  },
  {
   "cell_type": "markdown",
   "id": "c209b41b-6400-4434-92d0-7e5c5ee85541",
   "metadata": {},
   "source": [
    " This can be illustrated easily by printing the variable in multiple places:"
   ]
  },
  {
   "cell_type": "code",
   "execution_count": 65,
   "id": "5f729aaa-dd13-46b8-8d06-9af04688a8ab",
   "metadata": {},
   "outputs": [
    {
     "name": "stdout",
     "output_type": "stream",
     "text": [
      "10\n",
      "4\n",
      "10\n"
     ]
    }
   ],
   "source": [
    "y = 10\n",
    "def power2(y):\n",
    "    print(y)        # second print output: value of y which is passed to the function, has nothing to do with the y on line 1\n",
    "    return y ** 2\n",
    "print(y)            # first print output: value of y defined on line 1\n",
    "power2(4)\n",
    "print(y)"
   ]
  },
  {
   "cell_type": "markdown",
   "id": "d6b61f73-e5a8-479e-85fc-ad60f550b9b1",
   "metadata": {},
   "source": [
    "Even reassigning `y` within the function has no effect on the `y` outside the function!"
   ]
  },
  {
   "cell_type": "code",
   "execution_count": 66,
   "id": "19dedc35-f448-4a49-82bc-8245efd0547e",
   "metadata": {},
   "outputs": [
    {
     "name": "stdout",
     "output_type": "stream",
     "text": [
      "10\n",
      "6\n",
      "36\n",
      "10\n",
      "6\n",
      "36\n"
     ]
    }
   ],
   "source": [
    "y = 10\n",
    "def power2(y):\n",
    "    y = 6           # reassigning y just overwrites the y passed to the function on line 2!\n",
    "    print(y)        # value of y which was assigned on line 3\n",
    "    return y ** 2\n",
    "print(y)            # still the value of y defined on line 1, reassignment inside power2 had no impact on this!\n",
    "print(power2(4))\n",
    "print(y)\n",
    "print(power2(4))"
   ]
  },
  {
   "cell_type": "markdown",
   "id": "245759ad-9e6d-42df-9f2b-0b04fb3664d4",
   "metadata": {},
   "source": [
    "This is true even if the variable being assigned was not passed as a parameter!\n",
    "\n",
    "**Again**: any **assignment** you make inside the function will create a new variable within the function scope, even if *a* variable with the same name exists before the assignment!"
   ]
  },
  {
   "cell_type": "code",
   "execution_count": 67,
   "id": "c0ec7039-568c-43a9-9d28-caba1d46df32",
   "metadata": {},
   "outputs": [
    {
     "name": "stdout",
     "output_type": "stream",
     "text": [
      "10\n",
      "6\n",
      "36\n",
      "10\n",
      "6\n",
      "36\n"
     ]
    }
   ],
   "source": [
    "y = 10\n",
    "def power2():\n",
    "    y = 6           # this does NOT reassign the y from line 1, but creates a new y inside the function scope!\n",
    "    print(y)        # value of y which was assigned on line 3\n",
    "    return y ** 2\n",
    "print(y)            # still the value of y defined on line 1, reassignment inside power2 had no impact on this!\n",
    "print(power2())\n",
    "print(y)            # y is STILL 10, despite y = 6 inside the function!\n",
    "print(power2())"
   ]
  },
  {
   "cell_type": "markdown",
   "id": "072b3657-9e37-4ff4-aecc-6d3ba8f0531f",
   "metadata": {},
   "source": [
    "It's best to avoid this kind of thing from happening altogether: if you're already using a variable name in a higher-level scope (for example the module scope), then use different variable names for parameters or variables in general in lower-level scopes:"
   ]
  },
  {
   "cell_type": "code",
   "execution_count": 68,
   "id": "a8a324c8-b14d-433d-a0d6-4197fe617c78",
   "metadata": {},
   "outputs": [
    {
     "name": "stdout",
     "output_type": "stream",
     "text": [
      "10\n",
      "16\n"
     ]
    }
   ],
   "source": [
    "y = 10\n",
    "def power2(num):        # avoid shadowing by giving this variable a name that does not shadow anything from the higher-level scope\n",
    "    return num ** 2\n",
    "print(y)\n",
    "print(power2(4))"
   ]
  },
  {
   "cell_type": "markdown",
   "id": "26257568-a4f4-42c0-8b24-bad84d79f11b",
   "metadata": {},
   "source": [
    "A new scope is created for any\n",
    " * Module (i.e. a new file/script)\n",
    " * Function (i.e. anything declared using `def` or `lambda`)\n",
    " * Class (i.e. anything declared using `class`)\n",
    " * Comprehension\n",
    "\n",
    "However, the following do *not* create a new scope:\n",
    " * `if`/`elif`/`else` blocks\n",
    " * `for` and `while` loops"
   ]
  },
  {
   "cell_type": "code",
   "execution_count": 69,
   "id": "2e3a8a8b-512a-460d-bfcd-01742da9fdd6",
   "metadata": {},
   "outputs": [
    {
     "name": "stdout",
     "output_type": "stream",
     "text": [
      "10\n",
      "10\n"
     ]
    }
   ],
   "source": [
    "if True:\n",
    "    x = 10\n",
    "print(x)       # x is in scope, because if statements do not create a new scope\n",
    "def foo():\n",
    "    x = 20     # this x defined here does NOT overwrite the x from the module scope! It's a different x.\n",
    "foo()\n",
    "print(x)"
   ]
  },
  {
   "cell_type": "markdown",
   "id": "fcf99e46-e0e8-4354-9454-19cd473195c0",
   "metadata": {},
   "source": [
    "### Modifying module-scope variables vs. using function parameters\n",
    "\n",
    "So far, in most examples of functions, we assumed that the function receives **everything** it needs as parameters. This is also true for most exercises on ACCESS. For example, we pass to `find_city` both the dictionary to be searched as the parameter `cities` and the name of the city as parameter `city`:\n",
    "\n",
    "```\n",
    "def find_city(cities, city):\n",
    "```\n",
    "\n",
    "And then we call the function passing values for both parameters:\n",
    "\n",
    "```\n",
    "find_city(my_cities, \"Mumbai\")\n",
    "```\n",
    "such that inside the function `cities` *refers to* the dictionary assigned to `my_cities`"
   ]
  },
  {
   "cell_type": "code",
   "execution_count": 70,
   "id": "5927e91d-1620-4e7a-9f96-916a9f65a3bf",
   "metadata": {},
   "outputs": [
    {
     "name": "stdout",
     "output_type": "stream",
     "text": [
      "(18.9667, 72.8333)\n",
      "None\n"
     ]
    }
   ],
   "source": [
    "my_cities = {\n",
    "    \"Tokyo\":       (35.6839,  139.7744),\n",
    "    \"New York\":    (40.6943,  -73.9249),\n",
    "    \"Mexico City\": (19.4333,  -99.1333),\n",
    "    \"Mumbai\":      (18.9667,   72.8333),\n",
    "    \"Sao Paulo\":   (-23.5504, -46.6339),\n",
    "}\n",
    "def find_city(cities, city):\n",
    "    if city not in cities:\n",
    "        return None\n",
    "    return cities[city]\n",
    "print(find_city(my_cities, \"Mumbai\"))\n",
    "print(find_city(my_cities, \"Zurich\"))"
   ]
  },
  {
   "cell_type": "markdown",
   "id": "ed4e8ee4-dbcb-4672-bf80-9a9b7a65a360",
   "metadata": {},
   "source": [
    "But if we wanted to, we could rewrite this function to simply reference the module-scope variable `my_cities`:"
   ]
  },
  {
   "cell_type": "code",
   "execution_count": 71,
   "id": "da57aa4c-5ae1-4e98-9762-ee2d51dc9fbd",
   "metadata": {},
   "outputs": [
    {
     "name": "stdout",
     "output_type": "stream",
     "text": [
      "(18.9667, 72.8333)\n",
      "None\n"
     ]
    }
   ],
   "source": [
    "my_cities = {\n",
    "    \"Tokyo\":       (35.6839,  139.7744),\n",
    "    \"New York\":    (40.6943,  -73.9249),\n",
    "    \"Mexico City\": (19.4333,  -99.1333),\n",
    "    \"Mumbai\":      (18.9667,   72.8333),\n",
    "    \"Sao Paulo\":   (-23.5504, -46.6339),\n",
    "}\n",
    "def find_city(city):\n",
    "    if city not in my_cities:\n",
    "        return None\n",
    "    return my_cities[city]\n",
    "print(find_city(\"Mumbai\"))\n",
    "print(find_city(\"Zurich\"))"
   ]
  },
  {
   "cell_type": "markdown",
   "id": "318ab61f-11fd-42b2-a661-d2c220bfb673",
   "metadata": {},
   "source": [
    "This was true for the comprehension task on ACCESS, where each comprehension used the `words` variable already defined on the global scope:"
   ]
  },
  {
   "cell_type": "code",
   "execution_count": 72,
   "id": "62438cca-0cfe-4e99-a379-2cfd11b11df0",
   "metadata": {},
   "outputs": [
    {
     "data": {
      "text/plain": [
       "['planet', 'pineapple', 'penguin']"
      ]
     },
     "execution_count": 72,
     "metadata": {},
     "output_type": "execute_result"
    }
   ],
   "source": [
    "words = [\"apple\", \"mountain\", \"river\", \"asteroid\", \"armadillo\", \"guitar\",\n",
    "         \"sapphire\", \"keyboard\", \"planet\", \"mango\", \"mirror\", \"jazz\", \"robot\",\n",
    "         \"lighthouse\", \"pineapple\", \"wizard\", \"cloud\", \"penguin\", \"spaghetti\"]\n",
    "\n",
    "# WORSE: functions accesses module-scope variable words\n",
    "def words_containing_string(s):                               \n",
    "    return [word for word in words if s in word.lower()]\n",
    "\n",
    "def words_starting_with_character(c):\n",
    "    return [word for word in words if word.startswith(c)]\n",
    "\n",
    "words_starting_with_character(\"p\")"
   ]
  },
  {
   "cell_type": "markdown",
   "id": "6229a6b0-9661-4563-9510-0f19b47bfa6d",
   "metadata": {},
   "source": [
    "Generally, it would have been better to pass along the words as an additional parameter to each function, like so:"
   ]
  },
  {
   "cell_type": "code",
   "execution_count": 73,
   "id": "ed2bfe58-f1e6-4f51-bdb4-cbd3c2ea862d",
   "metadata": {},
   "outputs": [
    {
     "data": {
      "text/plain": [
       "['planet', 'pineapple', 'penguin']"
      ]
     },
     "execution_count": 73,
     "metadata": {},
     "output_type": "execute_result"
    }
   ],
   "source": [
    "my_words = [\"apple\", \"mountain\", \"river\", \"asteroid\", \"armadillo\", \"guitar\",\n",
    "         \"sapphire\", \"keyboard\", \"planet\", \"mango\", \"mirror\", \"jazz\", \"robot\",\n",
    "         \"lighthouse\", \"pineapple\", \"wizard\", \"cloud\", \"penguin\", \"spaghetti\"]\n",
    "\n",
    "# BETTER: function only accesses variables local to its own scope\n",
    "def words_containing_string(words, s):                         \n",
    "    return [word for word in words if s in word.lower()]\n",
    "\n",
    "def words_starting_with_character(words, c):\n",
    "    return [word for word in words if word.startswith(c)]\n",
    "\n",
    "words_starting_with_character(my_words, \"p\")"
   ]
  },
  {
   "cell_type": "markdown",
   "id": "dad7ec5e-f4b4-471d-87ea-617c5059da04",
   "metadata": {},
   "source": [
    "Note that for some ACCESS exercises, you are forced to use the \"worse\" way.\n",
    "\n",
    "In general, you can avoid bugs and confusion by always providing functions with all they need, instead of accessing module-scope variables."
   ]
  },
  {
   "cell_type": "markdown",
   "id": "d256d1fb-7781-4e8a-a947-08f3c4fc2fc2",
   "metadata": {},
   "source": [
    "### `global`\n",
    "\n",
    "Remember that any *assignment* inside a function will create a new local variable, even if a variable with the same name exists in a higher-level scope. There is a way of making a function-scope variable be the same as a variable from a higher scope:"
   ]
  },
  {
   "cell_type": "code",
   "execution_count": 74,
   "id": "f3e1238e-085d-4abb-92bf-bebf12c78f75",
   "metadata": {},
   "outputs": [
    {
     "name": "stdout",
     "output_type": "stream",
     "text": [
      "10\n",
      "11\n"
     ]
    }
   ],
   "source": [
    "y = 10\n",
    "def dont_do_this():\n",
    "    global y           # this pulls the higher-level 'y' into the function scope\n",
    "    y += 1              # now, (re-)assigning y actually changes y in the module scope\n",
    "print(y)\n",
    "dont_do_this()\n",
    "print(y)"
   ]
  },
  {
   "cell_type": "markdown",
   "id": "46befd2d-2b3b-4427-8347-c239c0236b80",
   "metadata": {},
   "source": [
    "However: **don't do this**. There are some fringe reasons where it makes sense to do this, but it's practically **never** necessary and is generally considered a very bad code smell.\n",
    "\n",
    "Bottom line: **never use the `global` keyword**\n",
    "\n",
    "Sidenote: if you wanted to make a modification to `y` using a function, the correct way would be:"
   ]
  },
  {
   "cell_type": "code",
   "execution_count": 75,
   "id": "0452ecfd-b92e-40b2-9ddc-6bba7228c610",
   "metadata": {},
   "outputs": [
    {
     "name": "stdout",
     "output_type": "stream",
     "text": [
      "10\n",
      "11\n"
     ]
    }
   ],
   "source": [
    "y = 10\n",
    "def do_this(num):\n",
    "    return num + 1        # function doesn't mess with global variables\n",
    "print(y)\n",
    "y = do_this(y)            # pass y into the function and use the return value to reassign y\n",
    "print(y)"
   ]
  },
  {
   "cell_type": "markdown",
   "id": "0645b977-c03a-44fe-97d8-1d49540a44e6",
   "metadata": {},
   "source": [
    "# Classes and objects\n",
    "\n",
    "You can imagine that lists, tuples, sets and dictionaries can be used to represent a wide variety of real-world data. Let's say, for example, that we're writing a vector drawing program (like Adobe Illustrator or Inkscape).\n",
    "\n",
    "<img src=\"shapes.png\" alt=\"Drawing\" style=\"width: 400px;\"/>\n"
   ]
  },
  {
   "cell_type": "markdown",
   "id": "88cdadad-d65f-4f16-8a56-deb27ef3c739",
   "metadata": {},
   "source": [
    "### A vector graphics drawing program\n",
    "\n",
    "Our program should be able to render various shapes on the screen. For this purpose, it will certainly need to have some internal representation for these shapes. Of course, some shapes can be defined in more than one way, but let's say we settle on these defining features for three of the most basic shapes:\n",
    "\n",
    " * Square: side length\n",
    " * Rectangle: width and height\n",
    " * Circle: radius\n",
    "\n",
    "We can use dictionaries and functions to store and transform these shapes. Say we store a dictionary with appropriate properties to describe any instance of each shape:"
   ]
  },
  {
   "cell_type": "code",
   "execution_count": 76,
   "id": "8761a0dd-7f02-41bf-bbcc-987c1fb1cda2",
   "metadata": {},
   "outputs": [
    {
     "name": "stdout",
     "output_type": "stream",
     "text": [
      "[{'type': 'square', 'side': 15}, {'type': 'square', 'side': 10}, {'type': 'rectangle', 'height': 5, 'width': 100}, {'type': 'circle', 'radius': 2}]\n"
     ]
    }
   ],
   "source": [
    "s1 = {\"type\": \"square\", \"side\": 15}\n",
    "s2 = {\"type\": \"square\", \"side\": 10}\n",
    "r1 = {\"type\": \"rectangle\", \"height\": 5, \"width\": 100}\n",
    "c1 = {\"type\": \"circle\", \"radius\": 2}\n",
    "shapes = [s1, s2, r1, c1]                # Each shape is stored as a dictionary\n",
    "print(shapes)"
   ]
  },
  {
   "cell_type": "markdown",
   "id": "f8178957-1ab2-402b-86b0-cbe214ee5c39",
   "metadata": {},
   "source": [
    "And we could write functions to calculate the `area` of any shape:"
   ]
  },
  {
   "cell_type": "code",
   "execution_count": 77,
   "id": "082dae15-9f1f-44cd-9ddc-462049cb6e6c",
   "metadata": {},
   "outputs": [
    {
     "data": {
      "text/plain": [
       "[225, 100, 500, 12.566370614359172]"
      ]
     },
     "execution_count": 77,
     "metadata": {},
     "output_type": "execute_result"
    }
   ],
   "source": [
    "import math\n",
    "def area(it):\n",
    "    if it[\"type\"] == \"square\":\n",
    "        return it[\"side\"]**2\n",
    "    if it[\"type\"] == \"rectangle\":\n",
    "        return it[\"height\"] * it[\"width\"]\n",
    "    if it[\"type\"] == \"circle\":\n",
    "        return math.pi * it[\"radius\"] ** 2\n",
    "[area(shape) for shape in shapes]"
   ]
  },
  {
   "cell_type": "markdown",
   "id": "8bfbd2d7-36db-4199-becd-7ad4edb90c5c",
   "metadata": {},
   "source": [
    "This *works*, but there are a couple of potential issues with this approach:\n",
    " * Creating new objects is a bit tedious: we have to spell out dictionary keys and values (...`\"type\": \"rectangle\"`...) a lot. Lot's of room for errors!\n",
    " * Working on these objects is also tedious: again we have to spell out the dictionary keys: (...`it[\"type\"] == \"rectangle\"`...)\n",
    " * The `area` function is split apart by `if` conditions.\n",
    "\n",
    "It all seems rather brittle. Because this kind of scenario is extremely common in real-world programming, most programming languages have mechanisms for structuring and abstracting it. Python (like many other languages) supports *classes*.\n",
    "\n",
    "For now, let's ignore the other shapes and just look at **Circle**:"
   ]
  },
  {
   "cell_type": "code",
   "execution_count": 78,
   "id": "ed8fc6d0-639d-4b2a-a9a5-cb652471c16e",
   "metadata": {},
   "outputs": [],
   "source": [
    "c1  = {\"type\": \"circle\", \"radius\": 25}       # a specific circle, crudely represented using a dictionary\n",
    "def area(it):                                # a function that takes a dictionary (which hopefully has the right keys to be a circle)\n",
    "    if it[\"type\"] == \"circle\":               # if the dictionary appears to be a circle\n",
    "        return math.pi * it[\"radius\"] ** 2   # calculate and return its area"
   ]
  },
  {
   "cell_type": "markdown",
   "id": "4bedc2c9-05ae-40a7-92a7-d6debb38bc76",
   "metadata": {},
   "source": [
    "### Introducing `class`\n",
    "\n",
    "Instead of using `\"type\"` and `\"radius\"` keys in some arbitrary dictionary, we can define a `class` that describes what circles are like and what can be done with them.\n",
    "\n",
    "A class defines the **attributes** and **behavior** of a thing. For our circle:"
   ]
  },
  {
   "cell_type": "code",
   "execution_count": 79,
   "id": "c2c2c17c-a319-47cc-bb55-13f577033fea",
   "metadata": {},
   "outputs": [],
   "source": [
    "class Circle:                              # NOT a specific circle! Just a description of what a circle is and does\n",
    "    def __init__(self, radius):            # __init__ is called when a new Circle is created\n",
    "        self.radius = radius               # we store radius as an attribute of a newly created Circle\n",
    "    def area(self):                        # now instead of taking a dictionary \"it\", the function just takes a Circle object \"self\"\n",
    "        return math.pi * self.radius ** 2  # we compute and return the area just like before, but reading self.radius instead of it[\"radius\"]"
   ]
  },
  {
   "cell_type": "markdown",
   "id": "eb0963f3-9a6f-4baa-98a4-e3f567f56853",
   "metadata": {},
   "source": [
    "Now we have a class `Circle` (note that class names are written using `CamelCase` by convention), with two functions:\n",
    " * `__init__` determines what happens when we want to create a new circle\n",
    " * `area` calculates the area like the old function previously did\n",
    "\n",
    "When functions are part of a class, we usually call them *methods* instead of *functions*.\n",
    "\n",
    "Now instead of"
   ]
  },
  {
   "cell_type": "code",
   "execution_count": 80,
   "id": "ab20d1fd-d520-47a3-b352-197e78158adc",
   "metadata": {},
   "outputs": [
    {
     "data": {
      "text/plain": [
       "dict"
      ]
     },
     "execution_count": 80,
     "metadata": {},
     "output_type": "execute_result"
    }
   ],
   "source": [
    "c1  = {\"type\": \"circle\", \"radius\": 2}\n",
    "type(c1)"
   ]
  },
  {
   "cell_type": "markdown",
   "id": "8ca34e25-2ac9-45b3-a067-ef8ce4efbaed",
   "metadata": {},
   "source": [
    "we will do"
   ]
  },
  {
   "cell_type": "code",
   "execution_count": 81,
   "id": "3f7ac3ef-69aa-42d5-8bc7-ab67b64812ce",
   "metadata": {},
   "outputs": [],
   "source": [
    "c1 = Circle(2)"
   ]
  },
  {
   "cell_type": "markdown",
   "id": "d0deef0c-506c-40ca-ab23-2b024505987a",
   "metadata": {},
   "source": [
    "The number `2` we pass along is received by the special `__init__` function.\n",
    "\n",
    "It's obvious that the type is a `Circle` because that's the point of having classes. In fact, Python will happily tell us its type, while before, the type would have been `dict`:"
   ]
  },
  {
   "cell_type": "code",
   "execution_count": 82,
   "id": "d15a8231-98c7-4ede-ad6a-47f71e838d37",
   "metadata": {},
   "outputs": [
    {
     "data": {
      "text/plain": [
       "__main__.Circle"
      ]
     },
     "execution_count": 82,
     "metadata": {},
     "output_type": "execute_result"
    }
   ],
   "source": [
    "type(c1)"
   ]
  },
  {
   "cell_type": "markdown",
   "id": "b00ba392-53a5-4682-92fe-3b90383d1cfb",
   "metadata": {},
   "source": [
    "And instead of calculating the area of a circle like this:"
   ]
  },
  {
   "cell_type": "code",
   "execution_count": 83,
   "id": "b3d4e1eb-bde1-476f-be46-5307f2e6c3fe",
   "metadata": {},
   "outputs": [
    {
     "data": {
      "text/plain": [
       "12.566370614359172"
      ]
     },
     "execution_count": 83,
     "metadata": {},
     "output_type": "execute_result"
    }
   ],
   "source": [
    "c1  = {\"type\": \"circle\", \"radius\": 2}\n",
    "area(c1)"
   ]
  },
  {
   "cell_type": "markdown",
   "id": "f3885f5c-dcfa-4f99-b0dd-005b10100162",
   "metadata": {},
   "source": [
    "we can do this:"
   ]
  },
  {
   "cell_type": "code",
   "execution_count": 84,
   "id": "336efb49-6cbc-4b1b-8ffe-755074044c08",
   "metadata": {},
   "outputs": [
    {
     "data": {
      "text/plain": [
       "12.566370614359172"
      ]
     },
     "execution_count": 84,
     "metadata": {},
     "output_type": "execute_result"
    }
   ],
   "source": [
    "c1 = Circle(2)\n",
    "Circle.area(c1)    # call the area method of the Circle class, and provide the 'c1' circle object as the parameter"
   ]
  },
  {
   "cell_type": "markdown",
   "id": "7c936285-1f20-487f-a902-7a1335638f78",
   "metadata": {},
   "source": [
    "Notice how the old function..."
   ]
  },
  {
   "cell_type": "code",
   "execution_count": 85,
   "id": "15a3086f-4181-40f4-88dd-ccc39a84dc6a",
   "metadata": {},
   "outputs": [],
   "source": [
    "def area(it): # it is the circle (as a dictionary object)\n",
    "    if it[\"type\"] == \"circle\":\n",
    "        return math.pi * it[\"radius\"] ** 2"
   ]
  },
  {
   "cell_type": "markdown",
   "id": "ae890600-a8d4-49be-b1e2-ce0297d73278",
   "metadata": {},
   "source": [
    "...took an object `it` (which at that point was just a simple dictionary representing a circle) and changed the value for the `radius` key.\n",
    "\n",
    "The new method..."
   ]
  },
  {
   "cell_type": "code",
   "execution_count": 86,
   "id": "9f8859a0-305d-4870-8b9f-e79bd5589b02",
   "metadata": {},
   "outputs": [],
   "source": [
    "    def area(self): # self is the circle (as a Circle object)\n",
    "        return math.pi * self.radius ** 2 "
   ]
  },
  {
   "cell_type": "markdown",
   "id": "0ef59d43-9ebc-415d-a2cf-4c5189068382",
   "metadata": {},
   "source": [
    "does exactly the same. Just like `it` previously, `self` is the actual circle that we're calculating the area for.\n",
    "\n",
    "However, this is such a common thing to do, that Python provides the dot-notation syntax for accessing class methods given an object:"
   ]
  },
  {
   "cell_type": "code",
   "execution_count": 87,
   "id": "1f482f2e-bd2a-4f3d-b6fc-c315b8e94ba2",
   "metadata": {},
   "outputs": [
    {
     "data": {
      "text/plain": [
       "12.566370614359172"
      ]
     },
     "execution_count": 87,
     "metadata": {},
     "output_type": "execute_result"
    }
   ],
   "source": [
    "# Instead of calling the Circle.area method and provide the 'c1' object as a parameter ... \n",
    "Circle.area(c1)    # circle object 'c1' passed as parameter\n",
    "# ... you can simply call the area method directly on the 'c1' Circle object:\n",
    "c1.area()          # no parameter passed, because 'self' is clearly the object 'c1'"
   ]
  },
  {
   "cell_type": "markdown",
   "id": "3d022e40-a955-4d43-86d7-31dbf6be4cda",
   "metadata": {},
   "source": [
    "You already saw this kind of notation when manipulating strings, for example:"
   ]
  },
  {
   "cell_type": "code",
   "execution_count": 88,
   "id": "c5b8a275-038d-4aca-83b3-a8b6026530a8",
   "metadata": {},
   "outputs": [
    {
     "data": {
      "text/plain": [
       "'hello'"
      ]
     },
     "execution_count": 88,
     "metadata": {},
     "output_type": "execute_result"
    }
   ],
   "source": [
    "s = \"Hello\"\n",
    "s.lower()"
   ]
  },
  {
   "cell_type": "markdown",
   "id": "ff37bdf9-68ef-4383-b651-5c90139687ba",
   "metadata": {},
   "source": [
    "And indeed, just like you could call `Circle.area` method and give it a circle object (`c1`), you can also call the `str.lower` method and give it a string object (`s`):"
   ]
  },
  {
   "cell_type": "code",
   "execution_count": 89,
   "id": "65b43b5b-3193-4e57-b051-adfeb7e44ede",
   "metadata": {},
   "outputs": [
    {
     "data": {
      "text/plain": [
       "'hello'"
      ]
     },
     "execution_count": 89,
     "metadata": {},
     "output_type": "execute_result"
    }
   ],
   "source": [
    "s = \"Hello\"\n",
    "str.lower(s)           # 'str' is the class for strings, just like 'Circle' is the class for circles"
   ]
  },
  {
   "cell_type": "markdown",
   "id": "8f147157-d9ab-4434-89b7-5a3c36c90d66",
   "metadata": {},
   "source": [
    "To be clear, there is no need to call `Circle.area(c1)`, because the dot-notation for object will always fill in `self`, the first parameter, with the object that you're calling the method on.\n",
    "\n",
    "Instead of `Circle.area(c1)` you will always do `c1.area()`, which is the same thing, just like you would do `\"Hello\".lower()` instead of `str.lower(\"Hello\")`."
   ]
  },
  {
   "cell_type": "markdown",
   "id": "41e01d47-f455-4d04-bf04-5a4c08f2e937",
   "metadata": {
    "scrolled": true
   },
   "source": [
    "Inside the `area` method, instead of specifying a dictionary key `it[\"radius\"]`, we refer to the objects radius via the  `self.radius` attribute. Remember, we createad that attribute when the object was created using `__init__`. Here's the whole class again:"
   ]
  },
  {
   "cell_type": "code",
   "execution_count": 90,
   "id": "7b924be6-369d-4297-8f96-395296ebf5db",
   "metadata": {},
   "outputs": [
    {
     "name": "stdout",
     "output_type": "stream",
     "text": [
      "12.566370614359172\n",
      "HELLO\n"
     ]
    }
   ],
   "source": [
    "class Circle:\n",
    "    def __init__(self, radius):\n",
    "        self.radius = radius\n",
    "    def area(self):\n",
    "        return math.pi * self.radius ** 2\n",
    "c1 = Circle(2)              # c1.radius is set by __init__ (where self refers to the same object as c1)\n",
    "print(c1.area())            # area calculated based on c1.radius in area (where self refers to the same object as c1)\n",
    "\n",
    "x = \"hello\"\n",
    "print(x.upper())            # class str: ... def upper(self): ..."
   ]
  },
  {
   "cell_type": "markdown",
   "id": "58bd0982-e0cb-4bf6-b638-bf02e215b490",
   "metadata": {},
   "source": [
    "### `print`ing objects\n",
    "\n",
    "One thing you'll notice rather quickly is that printing your proud creation will not be particularily insightful:"
   ]
  },
  {
   "cell_type": "code",
   "execution_count": 91,
   "id": "d6a712f1-b9d9-471e-99b0-4dfcd379c27e",
   "metadata": {},
   "outputs": [
    {
     "name": "stdout",
     "output_type": "stream",
     "text": [
      "<__main__.Circle object at 0x106515520>\n"
     ]
    }
   ],
   "source": [
    "print(c1)"
   ]
  },
  {
   "cell_type": "markdown",
   "id": "fe3481dd-b925-4686-934d-8094b24ac820",
   "metadata": {},
   "source": [
    "You have to gift your classes a nice string representation yourself. You do this by implementing the `__str__` and `__repr__` methods, both of which must return a string:\n",
    " * \"`__str__` is for customers\". It should return a pretty representation of the object\n",
    " * \"`__repr__` is for developers\". It should return an unambiguous representation (ideally one that could be used to recreate the object)\n",
    "\n",
    "For our simple `Circle`, this should suffice:"
   ]
  },
  {
   "cell_type": "code",
   "execution_count": 92,
   "id": "f6617224-3bc8-4a8d-baed-7c7ddea313ed",
   "metadata": {},
   "outputs": [
    {
     "name": "stdout",
     "output_type": "stream",
     "text": [
      "A circle with radius 25\n"
     ]
    },
    {
     "data": {
      "text/plain": [
       "'Circle(25)'"
      ]
     },
     "execution_count": 92,
     "metadata": {},
     "output_type": "execute_result"
    }
   ],
   "source": [
    "class Circle:\n",
    "    def __init__(self, radius):\n",
    "        self.radius = radius\n",
    "    def area(self):\n",
    "        return math.pi * self.radius ** 2\n",
    "    def __str__(self):\n",
    "        return f\"A circle with radius {self.radius}\"\n",
    "    def __repr__(self):\n",
    "        return f\"Circle({self.radius})\"\n",
    "c1 = Circle(25)\n",
    "print(c1)\n",
    "repr(c1)"
   ]
  },
  {
   "cell_type": "markdown",
   "id": "7e33998d-e77e-469f-81e2-ec0f5dd41e08",
   "metadata": {},
   "source": [
    "You'll notice that when you `print` an object, the `__str__` method will be used. However, when you print some other data structure that just refers to your object, then the `__repr__` method will be used. This is easily illustrated if we put some `Circle`s in a list and then print the **list**:"
   ]
  },
  {
   "cell_type": "code",
   "execution_count": 93,
   "id": "52443130-27ac-4021-957b-b1848ae1fbb0",
   "metadata": {},
   "outputs": [
    {
     "name": "stdout",
     "output_type": "stream",
     "text": [
      "A circle with radius 70\n",
      "[Circle(25), Circle(70), Circle(1)]\n"
     ]
    }
   ],
   "source": [
    "my_circles = [c1, Circle(70), Circle(1)]\n",
    "print(my_circles[1])    # __str__ is called to print the single instance at index 1 \n",
    "print(my_circles)       # __repr__ is called for each instance in the list"
   ]
  },
  {
   "cell_type": "markdown",
   "id": "2068b9ba-b524-45d6-82d9-a545bb510cd7",
   "metadata": {},
   "source": [
    "The existing method `area` reads properties of a given shape and returns a value. Naturally, doing this doesn't change the object. But just like we can modify collections like lists and dictionaries, we can also modify our custom objects.\n",
    "\n",
    "Let's implement another method for our `Circle` class which will be able to change the size of the circle. But before that, let's remember how we would have done it in the past, using just dictionaries and plain functions:"
   ]
  },
  {
   "cell_type": "code",
   "execution_count": 94,
   "id": "f02939ab-5dff-4f7f-9cbd-c52f3db7f419",
   "metadata": {},
   "outputs": [
    {
     "data": {
      "text/plain": [
       "{'type': 'circle', 'radius': 75}"
      ]
     },
     "execution_count": 94,
     "metadata": {},
     "output_type": "execute_result"
    }
   ],
   "source": [
    "c1  = {\"type\": \"circle\", \"radius\": 25}       # a specific circle, crudely represented using a dictionary\n",
    "def scale(it, factor):                       # a function that takes a dictionary (which hopefully has the right keys to be a circle) and a factor\n",
    "    if it[\"type\"] == \"circle\":               # if the dictionary appears to be a circle\n",
    "        it[\"radius\"] *= factor               # modify the dictionary\n",
    "scale(c1, 3)\n",
    "c1"
   ]
  },
  {
   "cell_type": "markdown",
   "id": "083239d7-bcab-48b2-84cb-a05d2d53808f",
   "metadata": {},
   "source": [
    "In contrast to the `area` function, which does not take any additional parameters beyond `it`, the `scale` function takes one additional parameter `factor`. Likewise, our `Circle` method will take an additional parameter beyond `self`:"
   ]
  },
  {
   "cell_type": "code",
   "execution_count": 95,
   "id": "a5115d36-51a9-460b-8db7-4334e5f1beb3",
   "metadata": {},
   "outputs": [],
   "source": [
    "class Circle:                       # NOT a specific circle! Just a description of what a circle is and does\n",
    "    def __init__(self, radius):     # __init__ is called when a new Circle is created\n",
    "        self.radius = radius        # we store radius as an attribute of a newly created Circle\n",
    "    def scale(self, factor):        # now the function just takes \"self\" instead of \"it\", and it's a Circle object, rather than just a dictionary\n",
    "        self.radius *= factor       # we modify the Circle objects radius, just like before\n",
    "\n",
    "    # the other methods\n",
    "    def area(self):\n",
    "        return math.pi * self.radius ** 2\n",
    "    def __str__(self):\n",
    "        return f\"A circle with radius {self.radius}\"\n",
    "    def __repr__(self):\n",
    "        return f\"Circle({self.radius})\""
   ]
  },
  {
   "cell_type": "markdown",
   "id": "93ee2294-5010-4830-8c58-c9afa6688b0d",
   "metadata": {},
   "source": [
    "Now instead of scaling a circle like this:"
   ]
  },
  {
   "cell_type": "code",
   "execution_count": 96,
   "id": "43831d15-6cfc-449d-b91f-c4d88f1f4fd7",
   "metadata": {},
   "outputs": [
    {
     "name": "stdout",
     "output_type": "stream",
     "text": [
      "25\n",
      "75\n"
     ]
    }
   ],
   "source": [
    "c1  = {\"type\": \"circle\", \"radius\": 25}\n",
    "print(c1[\"radius\"])\n",
    "scale(c1, 3)\n",
    "print(c1[\"radius\"])"
   ]
  },
  {
   "cell_type": "markdown",
   "id": "809d69a3-0f31-426b-8770-9d364a9e6c38",
   "metadata": {},
   "source": [
    "we can do this:"
   ]
  },
  {
   "cell_type": "code",
   "execution_count": 97,
   "id": "61344781-4767-4e18-b4e7-22d8b6039753",
   "metadata": {},
   "outputs": [
    {
     "name": "stdout",
     "output_type": "stream",
     "text": [
      "25\n",
      "75\n"
     ]
    }
   ],
   "source": [
    "c1 = Circle(25)\n",
    "print(c1.radius)\n",
    "c1.scale(3)\n",
    "print(c1.radius)"
   ]
  },
  {
   "cell_type": "markdown",
   "id": "65b57826-f70e-46ea-bd0c-9b6bf9e60330",
   "metadata": {},
   "source": [
    "<span style=\"color:purple;font-weight:bold\">Exercise</span>\n",
    "\n",
    "Fully implement `Square` and `Rect` classes, both with appropriate `area` and `scale` functions.\n",
    "\n",
    "Note that the style guide recommends leaving a blank line between methods (makes it much easier to read):"
   ]
  },
  {
   "cell_type": "code",
   "execution_count": 98,
   "id": "4db7b482-804a-42a5-b546-c7621e3f295b",
   "metadata": {},
   "outputs": [
    {
     "name": "stdout",
     "output_type": "stream",
     "text": [
      "[100, 25, 500, 1963.4954084936207]\n",
      "[<class '__main__.Square'>, <class '__main__.Square'>, <class '__main__.Rect'>, <class '__main__.Circle'>]\n",
      "[Square(30), Square(15), Rect(15300), Circle(75)]\n",
      "A square with side lenght 30\n",
      "A square with side lenght 15\n",
      "A Rectangle with width 15 and height 300\n",
      "A circle with radius 75\n"
     ]
    }
   ],
   "source": [
    "class Circle:\n",
    "    def __init__(self, radius):\n",
    "        self.radius = radius\n",
    "        \n",
    "    def area(self):\n",
    "        return math.pi * self.radius ** 2\n",
    "        \n",
    "    def scale(self, factor):\n",
    "        self.radius *= factor\n",
    "        \n",
    "    def __str__(self):\n",
    "        return f\"A circle with radius {self.radius}\"\n",
    "        \n",
    "    def __repr__(self):\n",
    "        return f\"Circle({self.radius})\"\n",
    "\n",
    "class Square:\n",
    "    def __init__(self, side):\n",
    "        self.side = side\n",
    "        \n",
    "    def area(self):\n",
    "        return self.side**2\n",
    "        \n",
    "    def scale(self, factor):\n",
    "        self.side *= factor\n",
    "        \n",
    "    def __str__(self):\n",
    "        return f\"A square with side lenght {self.side}\"\n",
    "        \n",
    "    def __repr__(self):\n",
    "        return f\"Square({self.side})\"\n",
    "\n",
    "class Rect:\n",
    "    def __init__(self, width, height):\n",
    "        self.width = width\n",
    "        self.height = height\n",
    "        \n",
    "    def area(self):\n",
    "        return self.width * self.height\n",
    "        \n",
    "    def scale(self, factor):\n",
    "        self.width *= factor\n",
    "        self.height *= factor\n",
    "        \n",
    "    def __str__(self):\n",
    "        return f\"A Rectangle with width {self.width} and height {self.height}\"\n",
    "        \n",
    "    def __repr__(self):\n",
    "        return f\"Rect({self.width}{self.height})\" #????? this one, do i need both \n",
    "\n",
    "# when you've implemented all three, this should work:\n",
    "def do():\n",
    "    shapes = [Square(10), Square(5), Rect(5, 100), Circle(25)]\n",
    "    print([shape.area() for shape in shapes])\n",
    "    print([type(shape) for shape in shapes])\n",
    "    for shape in shapes:\n",
    "        shape.scale(3)\n",
    "    print(shapes)            # uses __repr__\n",
    "    for shape in shapes:\n",
    "        print(shape)         # uses __str__\n",
    "\n",
    "# uncomment to try:\n",
    "do()"
   ]
  },
  {
   "cell_type": "markdown",
   "id": "4b1a72d6-7fa3-41c1-8df0-91a04a97be62",
   "metadata": {},
   "source": [
    "# Where can I get more exercises?\n",
    "\n",
    "Besides ACCESS and the old exams in the \"Materials\" folder on OLAT, one of the best exercises is to re-implement functionality from the Python standard library yourself. Just pick some documentation, for example [String methods](https://docs.python.org/3/library/stdtypes.html#string-methods) or [Math functions](https://docs.python.org/3/library/math.html#number-theoretic-and-representation-functions), and then\n",
    "\n",
    " 1) Pick a function\n",
    " 2) Understand how it works by reading the documentation and trying it out\n",
    " 3) Come up with all possible conditions how the functionality may be used\n",
    " 4) Implement a function that replicates the exact behavior\n",
    " 5) Test if it works the same as the original\n",
    "\n",
    "For example...\n",
    "\n",
    " 1) let's take the the [.title()](https://docs.python.org/3/library/stdtypes.html#str.title) function\n",
    " 2) To understand how it works, you can read the documentation...\n",
    "\n",
    "<div>\n",
    "<img src=\"title.png\" width=\"800\"/>\n",
    "</div>\n",
    "\n",
    " ... and try out what it does, for example:"
   ]
  },
  {
   "cell_type": "code",
   "execution_count": 99,
   "id": "37249c5b-96fd-4c46-bda1-4938e0f7d3e6",
   "metadata": {},
   "outputs": [
    {
     "data": {
      "text/plain": [
       "'Hello World'"
      ]
     },
     "execution_count": 99,
     "metadata": {},
     "output_type": "execute_result"
    }
   ],
   "source": [
    "'Hello world'.title()"
   ]
  },
  {
   "cell_type": "code",
   "execution_count": 100,
   "id": "429d5457-f5b4-48cc-9f89-9de6891ffd95",
   "metadata": {},
   "outputs": [
    {
     "data": {
      "text/plain": [
       "\"They'Re Bill'S Friends From The Uk\""
      ]
     },
     "execution_count": 100,
     "metadata": {},
     "output_type": "execute_result"
    }
   ],
   "source": [
    "\"they're bill's friends from the UK\".title()"
   ]
  },
  {
   "cell_type": "code",
   "execution_count": 101,
   "id": "b0b54c7b-7752-424f-882a-8fcc7bd08ed5",
   "metadata": {},
   "outputs": [
    {
     "data": {
      "text/plain": [
       "'What     Happens Now?'"
      ]
     },
     "execution_count": 101,
     "metadata": {},
     "output_type": "execute_result"
    }
   ],
   "source": [
    "\"WHAT     happens now?\".title()"
   ]
  },
  {
   "cell_type": "markdown",
   "id": "35e60b56-cad6-41f4-a6be-d449fb115193",
   "metadata": {},
   "source": [
    " 3) Try to think of each set of conditions in which `title()` might be used:"
   ]
  },
  {
   "cell_type": "code",
   "execution_count": 102,
   "id": "1940dede-f49b-4d62-a4e8-490de0440c85",
   "metadata": {},
   "outputs": [],
   "source": [
    "examples = [\n",
    "    \"\",                  # empty string\n",
    "    \"lower case\",        # some lower case sentence\n",
    "    \"lower UPPER\",       # all-lower and all-upper case words\n",
    "    \"this     sentence contains subsequent spaces, tabs, \\tand some супер スペシャル characters!\",\n",
    "]"
   ]
  },
  {
   "cell_type": "code",
   "execution_count": 103,
   "id": "b72f1b91-922f-40d0-9ee3-3a430ebbdc93",
   "metadata": {},
   "outputs": [
    {
     "data": {
      "text/plain": [
       "['',\n",
       " 'Lower Case',\n",
       " 'Lower Upper',\n",
       " 'This     Sentence Contains Subsequent Spaces, Tabs, \\tAnd Some Супер スペシャル Characters!']"
      ]
     },
     "execution_count": 103,
     "metadata": {},
     "output_type": "execute_result"
    }
   ],
   "source": [
    "[e.title() for e in examples] # see what .title() does for each example"
   ]
  },
  {
   "cell_type": "markdown",
   "id": "e18930ed-1bf3-485d-adcb-c82416a0334c",
   "metadata": {},
   "source": [
    "4) Implement a possible solution:"
   ]
  },
  {
   "cell_type": "code",
   "execution_count": 104,
   "id": "6258671f-d55a-482f-92c8-362681f51203",
   "metadata": {},
   "outputs": [
    {
     "data": {
      "text/plain": [
       "'Lower Case'"
      ]
     },
     "execution_count": 104,
     "metadata": {},
     "output_type": "execute_result"
    }
   ],
   "source": [
    "def my_title(s):\n",
    "    res = \"\"\n",
    "    prev = None\n",
    "    for char in s:\n",
    "        if prev is None:\n",
    "            res += char.upper()\n",
    "        else:\n",
    "            if prev == \" \":\n",
    "                res += char.upper()\n",
    "            else:\n",
    "                res += char.lower()\n",
    "        prev = char\n",
    "    return res\n",
    "\n",
    "my_title(\"lower case\")"
   ]
  },
  {
   "cell_type": "markdown",
   "id": "a9cbd3f0-85e7-470d-a0bb-5260d209b957",
   "metadata": {},
   "source": [
    "5) Test if it works as expected:"
   ]
  },
  {
   "cell_type": "code",
   "execution_count": 105,
   "id": "c0f1c3fa-7e42-46c9-b61f-cfd988e9da76",
   "metadata": {},
   "outputs": [
    {
     "data": {
      "text/plain": [
       "[True, True, True, False]"
      ]
     },
     "execution_count": 105,
     "metadata": {},
     "output_type": "execute_result"
    }
   ],
   "source": [
    "[my_title(e) == e.title() for e in examples]"
   ]
  },
  {
   "cell_type": "markdown",
   "id": "c4f170ad-8c41-4d1b-bc43-0212e3aed217",
   "metadata": {},
   "source": [
    "As you can see, the possible implementation doesn't work correctly for every example yet. Go ahead and practice your skills by writing an implementation that works correctly!\n"
   ]
  },
  {
   "cell_type": "code",
   "execution_count": 106,
   "id": "ddc4f2d7-ead5-4455-aa1a-8f6212287fb1",
   "metadata": {},
   "outputs": [
    {
     "name": "stdout",
     "output_type": "stream",
     "text": [
      "This     Sentence Contains Subsequent Spaces, Tabs, \tand Some Супер スペシャル Characters!\n",
      "This     Sentence Contains Subsequent Spaces, Tabs, \tAnd Some Супер スペシャル Characters!\n"
     ]
    }
   ],
   "source": [
    "for f in my_title, str.title:\n",
    "    print(f(examples[-1]))"
   ]
  },
  {
   "cell_type": "markdown",
   "id": "5ebdc8ec-e48b-4e1f-a851-29d94163e2ee",
   "metadata": {},
   "source": [
    "\n",
    "Re-implementing Python functionality as an exercise has several benefits:\n",
    "\n",
    " * You learn about built-in Python functionality so you can use it later\n",
    " * You learn how to read documentation (which is also an important skill)\n",
    " * You practice coming up with edge-cases and how to test your own code"
   ]
  }
 ],
 "metadata": {
  "authors": [
   {
    "name": "Carol V. Alexandru-Funakoshi"
   }
  ],
  "kernelspec": {
   "display_name": "Python 3",
   "language": "python",
   "name": "python3"
  },
  "language_info": {
   "codemirror_mode": {
    "name": "ipython",
    "version": 3
   },
   "file_extension": ".py",
   "mimetype": "text/x-python",
   "name": "python",
   "nbconvert_exporter": "python",
   "pygments_lexer": "ipython3",
   "version": "3.12.6"
  },
  "title": "Info1 Python Tutorial - Part IV"
 },
 "nbformat": 4,
 "nbformat_minor": 5
}
