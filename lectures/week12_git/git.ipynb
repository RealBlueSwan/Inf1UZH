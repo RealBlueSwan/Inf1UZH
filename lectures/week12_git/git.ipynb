{
 "cells": [
  {
   "cell_type": "markdown",
   "metadata": {},
   "source": [
    "# Version Control and Git Notebook\n",
    "\n",
    "This notebook is designed to be a complementary resource for the **Version Control and Git** chapter of the **Informatics I** lecture at the **University of Zurich**, authored by Melih Catal (catal@ifi.uzh.ch).  \n",
    "It demonstrates how to use Git and GitHub for version control and collaboration. The outline of the notebook is as follows:\n",
    "\n",
    "- [1. Getting Started with Git](#1.-Getting-Started-with-Git)  \n",
    "- [2. Creating a Repository](#2.-Creating-a-Repository)  \n",
    "- [3. Git Workflow](#3.-Git-Workflow)  \n",
    "    - [3.1. Updating the Working Directory](##3.1.-Updating-the-Working-Directory)\n",
    "    - [3.2 Adding Changes to the Staging Area](##3.2.-Adding-Changes-to-the-Staging-Area)\n",
    "    - [3.3. Committing Changes to the Repository](##3.3.-Committing-Changes-to-the-Repository)\n",
    "    - [3.4. Viewing the Commit History](##3.4.-Viewing-the-Commit-History)\n",
    "    - [3.5 Checking the Differences](##3.5.-Checking-the-Differences)\n",
    "        - [3.5.1 Comparing the Working Directory with the Staging Area](###3.5.1-Comparing-the-Working-Directory-with-the-Staging-Area)\n",
    "        - [3.5.2 Comparing the Staging Area with the Repository](###3.5.2-Comparing-the-Staging-Area-with-the-Repository)\n",
    "        - [3.5.3 Comparing the Working Directory with the Repository](###3.5.3-Comparing-the-Working-Directory-with-the-Repository)\n",
    "- [4. Collaborating with Git](#4.-Collaborating-with-Git)  \n",
    "    - [4.1 Cloning a Remote Repository](##4.1.-Cloning-a-Remote-Repository)\n",
    "    - [4.2 Working with Branches](##4.2.-Working-with-Branches)\n",
    "      - [4.2.1 Creating a New Branch](###4.2.1-Creating-a-New-Branch)\n",
    "    - [4.3. Pushing Changes to the Remote Repository](##4.3.-Pushing-Changes-to-the-Remote-Repository)\n",
    "    - [4.4. Merging Branches](##4.4.-Merging-Branches)\n",
    "        - [4.4.1 Merge Conflicts](###4.4.1.-Merge-Conflicts)\n",
    "    - [4.5. Pull Requests](##4.5.-Pull-Requests)\n",
    "- [5. Exclude Files from Git](#5.-Exclude-Files-from-Git)  \n",
    "- [6. Conclusion](#6.-Conclusion) \n",
    "- [7. Further Reading](#7.-Further-Reading)\n",
    "    - [7.1. Fetch vs. Pull](##7.1.-Fetch-vs.-Pull)\n",
    "    - [7.2. Rebasing vs. Merging](##7.2.-Rebasing-vs.-Merging)\n",
    "---"
   ]
  },
  {
   "cell_type": "markdown",
   "metadata": {},
   "source": [
    "# 0. Before You Start\n",
    "\n",
    "Code cells contain commands for working with Git. Most commands begin with an exclamation mark (`!`) to indicate they are shell commands, which is necessary when running them in a Jupyter notebook. If you wish to execute these commands in your terminal, you can remove the exclamation mark.  \n",
    "\n",
    "Some commands begin with a percent sign (`%`), denoting Jupyter magic commands. These commands are specific to Jupyter notebooks and are not applicable in the terminal. They are used to modify the notebook's behavior or environment.  \n",
    "\n",
    "Please run the following examples to better understand how shell commands work in Jupyter notebooks."
   ]
  },
  {
   "cell_type": "code",
   "execution_count": null,
   "metadata": {
    "vscode": {
     "languageId": "shellscript"
    }
   },
   "outputs": [],
   "source": [
    "# echo command is used to print the message on the screen. In the terminal, we would use as echo \"Hello World\". But in the notebook, we need to add ! before the command to execute it. \n",
    "# The command is the same but with ! in front of it. This prefix applies to all the commands in the notebook.\n",
    "\n",
    "!echo \"Hello World\"\n",
    "\n",
    "# Now please copy the above command and remove the ! from it and run it in the terminal. You will see the same output as in the notebook."
   ]
  },
  {
   "cell_type": "markdown",
   "metadata": {
    "jp-MarkdownHeadingCollapsed": true
   },
   "source": [
    "# 1. Getting Started with Git"
   ]
  },
  {
   "cell_type": "markdown",
   "metadata": {},
   "source": [
    "### Git Configuration\n",
    "\n",
    "Before starting, we need to ensure Git is installed on our local machine. You can find installation instructions [here](https://git-scm.com/book/en/v2/Getting-Started-Installing-Git).\n",
    "\n",
    "To verify if Git is installed, run the following command in your terminal:"
   ]
  },
  {
   "cell_type": "code",
   "execution_count": null,
   "metadata": {
    "vscode": {
     "languageId": "shellscript"
    }
   },
   "outputs": [],
   "source": [
    "# Lets check if the git is installed\n",
    "!git --version"
   ]
  },
  {
   "cell_type": "markdown",
   "metadata": {},
   "source": [
    "If this is your first time using Git, you need to configure your username and email address. This information is used to identify you as the author of the changes you make. Git configurations can be set at the **global** level (affecting all repositories) or the **local** level (specific to one repository).\n",
    "\n",
    "To check your current Git configurations, use the following commands:\n",
    "\n",
    "```bash\n",
    "git config --local --list\n",
    "git config --global --list\n",
    "or\n",
    "git config --list\n",
    "or\n",
    "git config --get <key> i.e. git config --get user.name\n",
    "```\n",
    "\n",
    "To set your username and email globally (applies to all repositories):\n",
    "\n",
    "```bash\n",
    "git config --global user.name \"Your Name\"\n",
    "git config --global user.email \"Your Email\"\n",
    "```\n",
    "\n",
    "To set your username and email for a specific repository only:\n",
    "\n",
    "```bash\n",
    "git config user.name \"Your Name\"\n",
    "git config user.email \"Your Email\"\n",
    "```\n",
    "\n",
    "You can learn more about username and email configuration [here](https://docs.github.com/en/get-started/getting-started-with-git/setting-your-username-in-git) and [here](https://docs.github.com/en/account-and-profile/setting-up-and-managing-your-personal-account-on-github/managing-email-preferences/setting-your-commit-email-address).\n"
   ]
  },
  {
   "cell_type": "code",
   "execution_count": null,
   "metadata": {
    "vscode": {
     "languageId": "shellscript"
    }
   },
   "outputs": [],
   "source": [
    "!git config --global --list\n",
    "!git config --global --get user.name"
   ]
  },
  {
   "cell_type": "code",
   "execution_count": null,
   "metadata": {
    "vscode": {
     "languageId": "shellscript"
    }
   },
   "outputs": [],
   "source": [
    "!git config --global user.name \"Your Name\"\n",
    "!git config --global user.email \"your_email@example.com\""
   ]
  },
  {
   "cell_type": "markdown",
   "metadata": {
    "jp-MarkdownHeadingCollapsed": true
   },
   "source": [
    "# 2. Creating a Repository\n",
    "\n",
    "Repositories serve as containers for organizing your project files and tracking changes to them over time. They store the complete history of modifications, making it easy to manage and review your project’s development process.\n",
    "\n",
    "You can create a new repository on your local machine to start tracking a project. A repository initializes a Git directory within your project folder, enabling version control. Once initialized, you can add files, commit changes, and collaborate with others by linking to a remote repository. We are going to create a new repository named `info1_local`."
   ]
  },
  {
   "cell_type": "markdown",
   "metadata": {},
   "source": [
    "First, create a new directory named info1_local in the current working directory and navigate into it. This will serve as the location for your new project:"
   ]
  },
  {
   "cell_type": "code",
   "execution_count": null,
   "metadata": {
    "vscode": {
     "languageId": "shellscript"
    }
   },
   "outputs": [],
   "source": [
    "# `%` is used to run magic commands in Jupyter Notebook. These commands will allow us to work within the `info1_local` directory for the rest of the notebook.\n",
    "# Creating a new directory named `info1_local` in the current working directory.\n",
    "!mkdir info1_local \n",
    "%cd info1_local "
   ]
  },
  {
   "cell_type": "markdown",
   "metadata": {},
   "source": [
    "We can now initialize a new Git repository in this directory. This action will create a hidden directory, `.git`, which contains all the necessary files for version control.\n",
    "\n",
    "A repository serves as a virtual storage for your project. It tracks changes to your files, allows you to revert to previous versions, and facilitates collaboration with others.\n",
    "\n",
    "The command `git init` initializes a new repository in the current directory. If everything is set up correctly, you should see a message like:  \n",
    "`Initialized empty Git repository in .../info1_local/.git/`>"
   ]
  },
  {
   "cell_type": "code",
   "execution_count": null,
   "metadata": {
    "vscode": {
     "languageId": "shellscript"
    }
   },
   "outputs": [],
   "source": [
    "!git init"
   ]
  },
  {
   "cell_type": "markdown",
   "metadata": {},
   "source": [
    "Software development is a collaborative process, and Git enables multiple developers to work on the same project simultaneously. To distinguish between contributors, Git requires a username and email address, which are used to identify the author of changes.\n",
    "\n",
    "You can configure this information at three levels: **local**, **global**, and **system**. Previously, we set the global configuration, which applies to all repositories on your machine. For this project, however, let’s assume you want to use a different email address. Git allows you to set a **local configuration**, which is specific to the current repository (in this case, `info1_local`).\n",
    "\n",
    "By using local configuration, you can customize your username or email address for individual repositories, while global configuration serves as a default. System configuration, on the other hand, is applied universally to all users on the machine.\n",
    "\n",
    "Below, we’ll set the local configuration for the `info1_local` repository."
   ]
  },
  {
   "cell_type": "code",
   "execution_count": null,
   "metadata": {
    "vscode": {
     "languageId": "shellscript"
    }
   },
   "outputs": [],
   "source": [
    "!git config --local user.name \"Your Name\" # Add your name\n",
    "!git config --local user.email \"your_email@example.com\" # Add your email\n"
   ]
  },
  {
   "cell_type": "markdown",
   "metadata": {},
   "source": [
    "We can easily check the configuration settings using the `git config --list` command. This command displays all the configuration settings for the current repository. In the output, you should see the username and email address specific to the local configuration, which may differ from the global configurations."
   ]
  },
  {
   "cell_type": "code",
   "execution_count": null,
   "metadata": {
    "vscode": {
     "languageId": "shellscript"
    }
   },
   "outputs": [],
   "source": [
    "!git config --local --list"
   ]
  },
  {
   "cell_type": "code",
   "execution_count": null,
   "metadata": {
    "vscode": {
     "languageId": "shellscript"
    }
   },
   "outputs": [],
   "source": [
    "!git config --global --list"
   ]
  },
  {
   "cell_type": "markdown",
   "metadata": {},
   "source": [
    "# 3. Git Workflow\n",
    "<div style=\"text-align: center;\">\n",
    "  <img src=\"https://drive.switch.ch/index.php/s/dMsl3zygSYZSdMX/download\" alt=\"merge\" width=\"800\"/>\n",
    "</div>\n",
    "\n",
    "The typical Git workflow consists of three main stages: **working directory**, **staging area**, and **repository**. \n",
    "\n",
    "- The **working directory** is where you make changes to your files.  \n",
    "- The **staging area** is where you prepare changes to be committed.  \n",
    "- The **repository** is where the committed changes are stored.  \n",
    "\n",
    "The `git add` command moves changes from the working directory to the staging area, and the `git commit` command moves changes from the staging area to the repository. \n",
    "\n",
    "This workflow applies only to the local repository. To synchronize your local repository with a remote repository (e.g., GitHub), you need to use the commands `git pull` and `git push`. We will cover these commands in detail later in the notebook. Specifically, `git pull` retrieves changes from the remote repository and integrates them into your local repository, while `git push` uploads your local commits to the remote repository.\n",
    "\n",
    "In this section, we will focus on the local workflow: specifically, creating a new file, adding it to the staging area, and committing it to the repository.\n",
    "\n",
    "\n",
    "\n"
   ]
  },
  {
   "cell_type": "markdown",
   "metadata": {},
   "source": [
    "## 3.1 Updating the Working Directory\n",
    "\n",
    "In this step, we will create a new file named `hello.txt` in the `info1_local` directory. To do this, we can use the `echo` command, which writes text to the standard output. By redirecting the output with the `>` operator, we can create a new file or overwrite an existing file. If you want to append text to an existing file instead, you can use the `>>` operator, which adds text to the end of the file.\n",
    "\n",
    "Initially, our working directory was empty, as can be seen in the `git status` output. After creating the `hello.txt` file, the working directory will no longer be empty. We can confirm this by running the `git status` command again. The output will indicate that there is an **untracked file**, `hello.txt`, in the working directory.\n",
    "\n",
    "An untracked file is a file that Git is not currently tracking. To start tracking the file, we need to add it to the **staging area** using the `git add` command.\n",
    "\n",
    "We can check the status of the repository using the `git status` command. This command displays the state of the **working directory** and the **staging area**. If there are any changes, they will be listed as **untracked**, **modified**, or **deleted**. If there are no changes, the output will display:\n",
    "`nothing to commit, working tree clean`.\n",
    "\n",
    "<div style=\"text-align: center;\">\n",
    "  <img src=\"https://drive.switch.ch/index.php/s/aJtFRRzK6veHpnD/download\" alt=\"merge\" width=\"800\"/>\n",
    "</div>"
   ]
  },
  {
   "cell_type": "code",
   "execution_count": null,
   "metadata": {
    "vscode": {
     "languageId": "shellscript"
    }
   },
   "outputs": [],
   "source": [
    "!git status"
   ]
  },
  {
   "cell_type": "code",
   "execution_count": null,
   "metadata": {
    "vscode": {
     "languageId": "shellscript"
    }
   },
   "outputs": [],
   "source": [
    "!echo \"Hello World from info1 lecture!\" > hello.txt"
   ]
  },
  {
   "cell_type": "markdown",
   "metadata": {},
   "source": [
    "We can verify if the file was created successfully by using the `ls` command. This command lists all files and directories in the current directory. The output should include the `hello.txt` file, confirming its creation.\n",
    "\n",
    "We can also verify the contents of the `hello.txt` file using the `cat` command. This command reads the file and displays its contents. The output should show the text:  \n",
    "`Hello World from info1 lecture!`"
   ]
  },
  {
   "cell_type": "code",
   "execution_count": null,
   "metadata": {
    "vscode": {
     "languageId": "shellscript"
    }
   },
   "outputs": [],
   "source": [
    "!ls "
   ]
  },
  {
   "cell_type": "code",
   "execution_count": null,
   "metadata": {
    "vscode": {
     "languageId": "shellscript"
    }
   },
   "outputs": [],
   "source": [
    "!cat hello.txt\n"
   ]
  },
  {
   "cell_type": "markdown",
   "metadata": {},
   "source": [
    "<div style=\"text-align: center;\">\n",
    "  <img src=\"https://drive.switch.ch/index.php/s/08XxU2Cs2w3atME/download\" alt=\"merge\" width=\"800\"/>\n",
    "</div>\n",
    "\n",
    "Finally, let's check the status of the repository again using the `git status` command. The output should indicate that there is an **untracked file**, `hello.txt`, in the working directory. \n",
    "\n",
    "An untracked file is one that Git is not currently monitoring. To begin tracking this file, we need to add it to the **staging area**, which we will do in the next section."
   ]
  },
  {
   "cell_type": "code",
   "execution_count": null,
   "metadata": {
    "vscode": {
     "languageId": "shellscript"
    }
   },
   "outputs": [],
   "source": [
    "!git status"
   ]
  },
  {
   "cell_type": "markdown",
   "metadata": {},
   "source": [
    "## 3.2 Adding Changes to the Staging Area\n",
    "\n",
    "\n",
    "<div style=\"text-align: center;\">\n",
    "  <img src=\"https://drive.switch.ch/index.php/s/GKo4oYWeOYFM4ZI/download\" alt=\"merge\" width=\"800\"/>\n",
    "</div>\n",
    "\n",
    "\n",
    "Staging is the process of preparing changes to be committed to the repository. The **staging area** allows you to group related changes together before committing them. \n",
    "\n",
    "You can add changes to the staging area using the `git add` command, which moves changes from the **working directory** to the **staging area**. Changes can be added individually, by directory, or all at once. In this case, we will add the `hello.txt` file to the staging area.\n",
    "\n",
    "
