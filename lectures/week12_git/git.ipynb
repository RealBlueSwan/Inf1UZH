{
 "cells": [
  {
   "cell_type": "markdown",
   "metadata": {},
   "source": [
    "# Version Control and Git Notebook\n",
    "\n",
    "This notebook is designed to be a complementary resource for the **Version Control and Git** chapter of the **Informatics I** lecture at the **University of Zurich**, authored by Melih Catal (catal@ifi.uzh.ch).  \n",
    "It demonstrates how to use Git and GitHub for version control and collaboration. The outline of the notebook is as follows:\n",
    "\n",
    "- [1. Getting Started with Git](#1.-Getting-Started-with-Git)  \n",
    "- [2. Creating a Repository](#2.-Creating-a-Repository)  \n",
    "- [3. Git Workflow](#3.-Git-Workflow)  \n",
    "    - [3.1. Updating the Working Directory](##3.1.-Updating-the-Working-Directory)\n",
    "    - [3.2 Adding Changes to the Staging Area](##3.2.-Adding-Changes-to-the-Staging-Area)\n",
    "    - [3.3. Committing Changes to the Repository](##3.3.-Committing-Changes-to-the-Repository)\n",
    "    - [3.4. Viewing the Commit History](##3.4.-Viewing-the-Commit-History)\n",
    "    - [3.5 Checking the Differences](##3.5.-Checking-the-Differences)\n",
    "        - [3.5.1 Comparing the Working Directory with the Staging Area](###3.5.1-Comparing-the-Working-Directory-with-the-Staging-Area)\n",
    "        - [3.5.2 Comparing the Staging Area with the Repository](###3.5.2-Comparing-the-Staging-Area-with-the-Repository)\n",
    "        - [3.5.3 Comparing the Working Directory with the Repository](###3.5.3-Comparing-the-Working-Directory-with-the-Repository)\n",
    "- [4. Collaborating with Git](#4.-Collaborating-with-Git)  \n",
    "    - [4.1 Cloning a Remote Repository](##4.1.-Cloning-a-Remote-Repository)\n",
    "    - [4.2 Working with Branches](##4.2.-Working-with-Branches)\n",
    "      - [4.2.1 Creating a New Branch](###4.2.1-Creating-a-New-Branch)\n",
    "    - [4.3. Pushing Changes to the Remote Repository](##4.3.-Pushing-Changes-to-the-Remote-Repository)\n",
    "    - [4.4. Merging Branches](##4.4.-Merging-Branches)\n",
    "        - [4.4.1 Merge Conflicts](###4.4.1.-Merge-Conflicts)\n",
    "    - [4.5. Pull Requests](##4.5.-Pull-Requests)\n",
    "- [5. Exclude Files from Git](#5.-Exclude-Files-from-Git)  \n",
    "- [6. Conclusion](#6.-Conclusion) \n",
    "- [7. Further Reading](#7.-Further-Reading)\n",
    "    - [7.1. Fetch vs. Pull](##7.1.-Fetch-vs.-Pull)\n",
    "    - [7.2. Rebasing vs. Merging](##7.2.-Rebasing-vs.-Merging)\n",
    "---"
   ]
  },
  {
   "cell_type": "markdown",
   "metadata": {},
   "source": [
    "# 0. Before You Start\n",
    "\n",
    "Code cells contain commands for working with Git. Most commands begin with an exclamation mark (`!`) to indicate they are shell commands, which is necessary when running them in a Jupyter notebook. If you wish to execute these commands in your terminal, you can remove the exclamation mark.  \n",
    "\n",
    "Some commands begin with a percent sign (`%`), denoting Jupyter magic commands. These commands are specific to Jupyter notebooks and are not applicable in the terminal. They are used to modify the notebook's behavior or environment.  \n",
    "\n",
    "Please run the following examples to better understand how shell commands work in Jupyter notebooks."
   ]
  },
  {
   "cell_type": "code",
   "execution_count": null,
   "metadata": {
    "vscode": {
     "languageId": "shellscript"
    }
   },
   "outputs": [],
   "source": [
    "# echo command is used to print the message on the screen. In the terminal, we would use as echo \"Hello World\". But in the notebook, we need to add ! before the command to execute it. \n",
    "# The command is the same but with ! in front of it. This prefix applies to all the commands in the notebook.\n",
    "\n",
    "!echo \"Hello World\"\n",
    "\n",
    "# Now please copy the above command and remove the ! from it and run it in the terminal. You will see the same output as in the notebook."
   ]
  },
  {
   "cell_type": "markdown",
   "metadata": {
    "jp-MarkdownHeadingCollapsed": true
   },
   "source": [
    "# 1. Getting Started with Git"
   ]
  },
  {
   "cell_type": "markdown",
   "metadata": {},
   "source": [
    "### Git Configuration\n",
    "\n",
    "Before starting, we need to ensure Git is installed on our local machine. You can find installation instructions [here](https://git-scm.com/book/en/v2/Getting-Started-Installing-Git).\n",
    "\n",
    "To verify if Git is installed, run the following command in your terminal:"
   ]
  },
  {
   "cell_type": "code",
   "execution_count": null,
   "metadata": {
    "vscode": {
     "languageId": "shellscript"
    }
   },
   "outputs": [],
   "source": [
    "# Lets check if the git is installed\n",
    "!git --version"
   ]
  },
  {
   "cell_type": "markdown",
   "metadata": {},
   "source": [
    "If this is your first time using Git, you need to configure your username and email address. This information is used to identify you as the author of the changes you make. Git configurations can be set at the **global** level (affecting all repositories) or the **local** level (specific to one repository).\n",
    "\n",
    "To check your current Git configurations, use the following commands:\n",
    "\n",
    "```bash\n",
    "git config --local --list\n",
    "git config --global --list\n",
    "or\n",
    "git config --list\n",
    "or\n",
    "git config --get <key> i.e. git config --get user.name\n",
    "```\n",
    "\n",
    "To set your username and email globally (applies to all repositories):\n",
    "\n",
    "```bash\n",
    "git config --global user.name \"Your Name\"\n",
    "git config --global user.email \"Your Email\"\n",
    "```\n",
    "\n",
    "To set your username and email for a specific repository only:\n",
    "\n",
    "```bash\n",
    "git config user.name \"Your Name\"\n",
    "git config user.email \"Your Email\"\n",
    "```\n",
    "\n",
    "You can learn more about username and email configuration [here](https://docs.github.com/en/get-started/getting-started-with-git/setting-your-username-in-git) and [here](https://docs.github.com/en/account-and-profile/setting-up-and-managing-your-personal-account-on-github/managing-email-preferences/setting-your-commit-email-address).\n"
   ]
  },
  {
   "cell_type": "code",
   "execution_count": null,
   "metadata": {
    "vscode": {
     "languageId": "shellscript"
    }
   },
   "outputs": [],
   "source": [
    "!git config --global --list\n",
    "!git config --global --get user.name"
   ]
  },
  {
   "cell_type": "code",
   "execution_count": null,
   "metadata": {
    "vscode": {
     "languageId": "shellscript"
    }
   },
   "outputs": [],
   "source": [
    "!git config --global user.name \"Your Name\"\n",
    "!git config --global user.email \"your_email@example.com\""
   ]
  },
  {
   "cell_type": "markdown",
   "metadata": {
    "jp-MarkdownHeadingCollapsed": true
   },
   "source": [
    "# 2. Creating a Repository\n",
    "\n",
    "Repositories serve as containers for organizing your project files and tracking changes to them over time. They store the complete history of modifications, making it easy to manage and review your project’s development process.\n",
    "\n",
    "You can create a new repository on your local machine to start tracking a project. A repository initializes a Git directory within your project folder, enabling version control. Once initialized, you can add files, commit changes, and collaborate with others by linking to a remote repository. We are going to create a new repository named `info1_local`."
   ]
  },
  {
   "cell_type": "markdown",
   "metadata": {},
   "source": [
    "First, create a new directory named info1_local in the current working directory and navigate into it. This will serve as the location for your new project:"
   ]
  },
  {
   "cell_type": "code",
   "execution_count": null,
   "metadata": {
    "vscode": {
     "languageId": "shellscript"
    }
   },
   "outputs": [],
   "source": [
    "# `%` is used to run magic commands in Jupyter Notebook. These commands will allow us to work within the `info1_local` directory for the rest of the notebook.\n",
    "# Creating a new directory named `info1_local` in the current working directory.\n",
    "!mkdir info1_local \n",
    "%cd info1_local "
   ]
  },
  {
   "cell_type": "markdown",
   "metadata": {},
   "source": [
    "We can now initialize a new Git repository in this directory. This action will create a hidden directory, `.git`, which contains all the necessary files for version control.\n",
    "\n",
    "A repository serves as a virtual storage for your project. It tracks changes to your files, allows you to revert to previous versions, and facilitates collaboration with others.\n",
    "\n",
    "The command `git init` initializes a new repository in the current directory. If everything is set up correctly, you should see a message like:  \n",
    "`Initialized empty Git repository in .../info1_local/.git/`>"
   ]
  },
  {
   "cell_type": "code",
   "execution_count": null,
   "metadata": {
    "vscode": {
     "languageId": "shellscript"
    }
   },
   "outputs": [],
   "source": [
    "!git init"
   ]
  },
  {
   "cell_type": "markdown",
   "metadata": {},
   "source": [
    "Software development is a collaborative process, and Git enables multiple developers to work on the same project simultaneously. To distinguish between contributors, Git requires a username and email address, which are used to identify the author of changes.\n",
    "\n",
    "You can configure this information at three levels: **local**, **global**, and **system**. Previously, we set the global configuration, which applies to all repositories on your machine. For this project, however, let’s assume you want to use a different email address. Git allows you to set a **local configuration**, which is specific to the current repository (in this case, `info1_local`).\n",
    "\n",
    "By using local configuration, you can customize your username or email address for individual repositories, while global configuration serves as a default. System configuration, on the other hand, is applied universally to all users on the machine.\n",
    "\n",
    "Below, we’ll set the local configuration for the `info1_local` repository."
   ]
  },
  {
   "cell_type": "code",
   "execution_count": null,
   "metadata": {
    "vscode": {
     "languageId": "shellscript"
    }
   },
   "outputs": [],
   "source": [
    "!git config --local user.name \"Your Name\" # Add your name\n",
    "!git config --local user.email \"your_email@example.com\" # Add your email\n"
   ]
  },
  {
   "cell_type": "markdown",
   "metadata": {},
   "source": [
    "We can easily check the configuration settings using the `git config --list` command. This command displays all the configuration settings for the current repository. In the output, you should see the username and email address specific to the local configuration, which may differ from the global configurations."
   ]
  },
  {
   "cell_type": "code",
   "execution_count": null,
   "metadata": {
    "vscode": {
     "languageId": "shellscript"
    }
   },
   "outputs": [],
   "source": [
    "!git config --local --list"
   ]
  },
  {
   "cell_type": "code",
   "execution_count": null,
   "metadata": {
    "vscode": {
     "languageId": "shellscript"
    }
   },
   "outputs": [],
   "source": [
    "!git config --global --list"
   ]
  },
  {
   "cell_type": "markdown",
   "metadata": {},
   "source": [
    "# 3. Git Workflow\n",
    "<div style=\"text-align: center;\">\n",
    "  <img src=\"https://drive.switch.ch/index.php/s/dMsl3zygSYZSdMX/download\" alt=\"merge\" width=\"800\"/>\n",
    "</div>\n",
    "\n",
    "The typical Git workflow consists of three main stages: **working directory**, **staging area**, and **repository**. \n",
    "\n",
    "- The **working directory** is where you make changes to your files.  \n",
    "- The **staging area** is where you prepare changes to be committed.  \n",
    "- The **repository** is where the committed changes are stored.  \n",
    "\n",
    "The `git add` command moves changes from the working directory to the staging area, and the `git commit` command moves changes from the staging area to the repository. \n",
    "\n",
    "This workflow applies only to the local repository. To synchronize your local repository with a remote repository (e.g., GitHub), you need to use the commands `git pull` and `git push`. We will cover these commands in detail later in the notebook. Specifically, `git pull` retrieves changes from the remote repository and integrates them into your local repository, while `git push` uploads your local commits to the remote repository.\n",
    "\n",
    "In this section, we will focus on the local workflow: specifically, creating a new file, adding it to the staging area, and committing it to the repository.\n",
    "\n",
    "\n",
    "\n"
   ]
  },
  {
   "cell_type": "markdown",
   "metadata": {},
   "source": [
    "## 3.1 Updating the Working Directory\n",
    "\n",
    "In this step, we will create a new file named `hello.txt` in the `info1_local` directory. To do this, we can use the `echo` command, which writes text to the standard output. By redirecting the output with the `>` operator, we can create a new file or overwrite an existing file. If you want to append text to an existing file instead, you can use the `>>` operator, which adds text to the end of the file.\n",
    "\n",
    "Initially, our working directory was empty, as can be seen in the `git status` output. After creating the `hello.txt` file, the working directory will no longer be empty. We can confirm this by running the `git status` command again. The output will indicate that there is an **untracked file**, `hello.txt`, in the working directory.\n",
    "\n",
    "An untracked file is a file that Git is not currently tracking. To start tracking the file, we need to add it to the **staging area** using the `git add` command.\n",
    "\n",
    "We can check the status of the repository using the `git status` command. This command displays the state of the **working directory** and the **staging area**. If there are any changes, they will be listed as **untracked**, **modified**, or **deleted**. If there are no changes, the output will display:\n",
    "`nothing to commit, working tree clean`.\n",
    "\n",
    "<div style=\"text-align: center;\">\n",
    "  <img src=\"https://drive.switch.ch/index.php/s/aJtFRRzK6veHpnD/download\" alt=\"merge\" width=\"800\"/>\n",
    "</div>"
   ]
  },
  {
   "cell_type": "code",
   "execution_count": null,
   "metadata": {
    "vscode": {
     "languageId": "shellscript"
    }
   },
   "outputs": [],
   "source": [
    "!git status"
   ]
  },
  {
   "cell_type": "code",
   "execution_count": null,
   "metadata": {
    "vscode": {
     "languageId": "shellscript"
    }
   },
   "outputs": [],
   "source": [
    "!echo \"Hello World from info1 lecture!\" > hello.txt"
   ]
  },
  {
   "cell_type": "markdown",
   "metadata": {},
   "source": [
    "We can verify if the file was created successfully by using the `ls` command. This command lists all files and directories in the current directory. The output should include the `hello.txt` file, confirming its creation.\n",
    "\n",
    "We can also verify the contents of the `hello.txt` file using the `cat` command. This command reads the file and displays its contents. The output should show the text:  \n",
    "`Hello World from info1 lecture!`"
   ]
  },
  {
   "cell_type": "code",
   "execution_count": null,
   "metadata": {
    "vscode": {
     "languageId": "shellscript"
    }
   },
   "outputs": [],
   "source": [
    "!ls "
   ]
  },
  {
   "cell_type": "code",
   "execution_count": null,
   "metadata": {
    "vscode": {
     "languageId": "shellscript"
    }
   },
   "outputs": [],
   "source": [
    "!cat hello.txt\n"
   ]
  },
  {
   "cell_type": "markdown",
   "metadata": {},
   "source": [
    "<div style=\"text-align: center;\">\n",
    "  <img src=\"https://drive.switch.ch/index.php/s/08XxU2Cs2w3atME/download\" alt=\"merge\" width=\"800\"/>\n",
    "</div>\n",
    "\n",
    "Finally, let's check the status of the repository again using the `git status` command. The output should indicate that there is an **untracked file**, `hello.txt`, in the working directory. \n",
    "\n",
    "An untracked file is one that Git is not currently monitoring. To begin tracking this file, we need to add it to the **staging area**, which we will do in the next section."
   ]
  },
  {
   "cell_type": "code",
   "execution_count": null,
   "metadata": {
    "vscode": {
     "languageId": "shellscript"
    }
   },
   "outputs": [],
   "source": [
    "!git status"
   ]
  },
  {
   "cell_type": "markdown",
   "metadata": {},
   "source": [
    "## 3.2 Adding Changes to the Staging Area\n",
    "\n",
    "\n",
    "<div style=\"text-align: center;\">\n",
    "  <img src=\"https://drive.switch.ch/index.php/s/GKo4oYWeOYFM4ZI/download\" alt=\"merge\" width=\"800\"/>\n",
    "</div>\n",
    "\n",
    "\n",
    "Staging is the process of preparing changes to be committed to the repository. The **staging area** allows you to group related changes together before committing them. \n",
    "\n",
    "You can add changes to the staging area using the `git add` command, which moves changes from the **working directory** to the **staging area**. Changes can be added individually, by directory, or all at once. In this case, we will add the `hello.txt` file to the staging area.\n",
    "\n",
    "```bash\n",
    "git add hello.txt\n",
    "```\n",
    "\n",
    "If you want to add all changes in the working directory to the staging area, you can use the following command:\n",
    "\n",
    "```bash\n",
    "git add .\n",
    "```\n",
    "\n",
    "Here, the . represents the current directory and includes all changes within it.\n",
    "\n",
    "After adding the changes, we can verify the status of the repository using the git status command. The output should indicate that the hello.txt file has been added to the staging area, making it ready to be committed to the repository."
   ]
  },
  {
   "cell_type": "code",
   "execution_count": null,
   "metadata": {
    "vscode": {
     "languageId": "shellscript"
    }
   },
   "outputs": [],
   "source": [
    "!git add hello.txt"
   ]
  },
  {
   "cell_type": "code",
   "execution_count": null,
   "metadata": {
    "vscode": {
     "languageId": "shellscript"
    }
   },
   "outputs": [],
   "source": [
    "!git status"
   ]
  },
  {
   "cell_type": "markdown",
   "metadata": {},
   "source": [
    "## 3.3 Committing Changes to the Repository\n",
    "\n",
    "<div style=\"text-align: center;\">\n",
    "  <img src=\"https://drive.switch.ch/index.php/s/0JZQtqNmF28Mkio/download\" alt=\"merge\" width=\"800\"/>\n",
    "</div>\n",
    "\n",
    "\n",
    "\n",
    "After adding changes to the staging area, we can commit them to the repository using the `git commit` command. A **commit** represents a snapshot of the changes made to your files, effectively saving a checkpoint in your project's history.\n",
    "\n",
    "To ensure the integrity of the snapshot, Git hashes the contents of the commit along with its metadata (e.g., author, date, commit message), generating a unique commit hash. This hash uniquely identifies the commit, prevents data corruption, ensures the integrity of the commit history, and optimizes memory usage, making it faster to access previous commits.\n",
    "\n",
    "The `git commit` command moves changes from the **staging area** to the **repository**. When committing changes, you need to provide a concise and descriptive commit message. This can be done inline using the `-m` flag, followed by the message in quotes. For example:\n",
    "\n",
    "```bash\n",
    "git commit -m \"Create hello.txt file\"\n",
    "```\n",
    "\n",
    "After committing the changes, you can verify the repository’s status using the git status command. The output should display:\n",
    "\n",
    "`nothing to commit, working tree clean`\n",
    "\n",
    "This indicates that all changes have been committed to the repository, and the working directory is clean.\n",
    "\n",
    "\n"
   ]
  },
  {
   "cell_type": "code",
   "execution_count": null,
   "metadata": {
    "vscode": {
     "languageId": "shellscript"
    }
   },
   "outputs": [],
   "source": [
    "!git commit -m \"Create hello.txt file\""
   ]
  },
  {
   "cell_type": "code",
   "execution_count": null,
   "metadata": {
    "vscode": {
     "languageId": "shellscript"
    }
   },
   "outputs": [],
   "source": [
    "!git status"
   ]
  },
  {
   "cell_type": "markdown",
   "metadata": {},
   "source": [
    "So, we have successfully walked through the Git workflow, from updating the working directory to committing changes to the repository. This process allows you to track changes to your files, create snapshots of your project at different stages, and collaborate with others by sharing your repository. After the commit, the working directory and staging area are empty, and the repository contains the committed changes.\n",
    "\n",
    "<div style=\"text-align: center;\">\n",
    "  <img src=\"https://drive.switch.ch/index.php/s/3kxTxwFwowyuBHK/download\" alt=\"merge\" width=\"800\"/>\n",
    "</div>\n",
    "\n",
    "\n"
   ]
  },
  {
   "cell_type": "markdown",
   "metadata": {},
   "source": [
    "It is also possible to combine the `git add` and `git commit` commands into a single step using the `-a` flag with the `git commit` command. The `-a` flag automatically stages **all modified** files before committing them. For example:\n",
    "\n",
    "```bash\n",
    "git commit -a -m \"Add another line to hello.txt\"\n",
    "```\n",
    "\n",
    "This command stages all modified files and commits them with the specified message, providing a convenient way to commit changes without explicitly adding them to the staging area.\n",
    "\n",
    "However, the -a flag does not work for new files that have not been previously tracked by Git. For untracked files, you still need to use git add before committing.\n",
    "\n",
    "To demonstrate the use of the -a -m flag, we will update the contents of the hello.txt file and commit the changes in one step."
   ]
  },
  {
   "cell_type": "code",
   "execution_count": null,
   "metadata": {
    "vscode": {
     "languageId": "shellscript"
    }
   },
   "outputs": [],
   "source": [
    "!echo \"Another line\" >> hello.txt"
   ]
  },
  {
   "cell_type": "code",
   "execution_count": null,
   "metadata": {
    "vscode": {
     "languageId": "shellscript"
    }
   },
   "outputs": [],
   "source": [
    "!git status"
   ]
  },
  {
   "cell_type": "code",
   "execution_count": null,
   "metadata": {
    "vscode": {
     "languageId": "shellscript"
    }
   },
   "outputs": [],
   "source": [
    "!git commit -a -m \"Add another line to hello.txt\""
   ]
  },
  {
   "cell_type": "code",
   "execution_count": null,
   "metadata": {
    "vscode": {
     "languageId": "shellscript"
    }
   },
   "outputs": [],
   "source": [
    "!git status"
   ]
  },
  {
   "cell_type": "markdown",
   "metadata": {},
   "source": [
    "## 3.4 Viewing the Commit History\n",
    "\n",
    "Tracking the changes you make to your files is crucial for understanding your project's development. The **commit history** provides detailed information about the changes, including who made them, when they were made, and the commit messages describing them.\n",
    "\n",
    "You can view the commit history using the `git log` command. This command displays the commits in reverse chronological order, showing details such as:\n",
    "\n",
    "- The commit hash\n",
    "- The author\n",
    "- The date\n",
    "- The commit message\n",
    "\n",
    "To make the log easier to read, you can also visualize it using additional options or tools. For example:\n",
    "\n",
    "- `git log --oneline`: Displays a compact view with one commit per line.\n",
    "- `git log --graph`: Adds a visual representation of the branch structure.\n",
    "- `git log --graph --oneline`: Combines both for a clean and visual summary.\n",
    "\n",
    "These options allow you to explore the commit history more effectively."
   ]
  },
  {
   "cell_type": "code",
   "execution_count": null,
   "metadata": {
    "vscode": {
     "languageId": "shellscript"
    }
   },
   "outputs": [],
   "source": [
    "!git log"
   ]
  },
  {
   "cell_type": "code",
   "execution_count": null,
   "metadata": {
    "vscode": {
     "languageId": "shellscript"
    }
   },
   "outputs": [],
   "source": [
    "!git log --oneline"
   ]
  },
  {
   "cell_type": "code",
   "execution_count": null,
   "metadata": {
    "vscode": {
     "languageId": "shellscript"
    }
   },
   "outputs": [],
   "source": [
    "!git log --graph"
   ]
  },
  {
   "cell_type": "code",
   "execution_count": null,
   "metadata": {
    "vscode": {
     "languageId": "shellscript"
    }
   },
   "outputs": [],
   "source": [
    "!git log --graph --oneline"
   ]
  },
  {
   "cell_type": "markdown",
   "metadata": {},
   "source": [
    "## 3.5 Checking the Differences\n",
    "\n",
    "<div style=\"text-align: center;\">\n",
    "  <img src=\"https://drive.switch.ch/index.php/s/e2MwHlPUtRh2ZjD/download\" alt=\"merge\" width=\"800\"/>\n",
    "</div>\n",
    "\n",
    "When working on a project, it is essential to understand the changes you have made to your files. Git provides a way to compare the current state of your files with previous versions, allowing you to see what has been added, modified, or deleted. This comparison is known as a **diff**. We will demonstrate how to view the differences between the working directory, the staging area, and the repository.\n",
    "\n",
    "To view the differences between the working directory and the staging area, you can use the `git diff` command. This command compares the files in the working directory with the staging area, showing the changes that have not been staged yet.\n",
    "\n",
    "To view the differences between the staging area and the repository, you can use the `git diff --staged` command. This command compares the files in the staging area with the repository, showing the changes that have been staged but not committed yet.\n",
    "\n",
    "It is also possible to compare the working directory with the repository directly using the `git diff HEAD` command. This command compares the files in the working directory with the repository, showing all changes made since the last commit.\n"
   ]
  },
  {
   "cell_type": "markdown",
   "metadata": {},
   "source": [
    "### 3.5.1 Comparing the Working Directory with the Staging Area\n",
    "\n",
    "Comparing the working directory with the staging area allows you to identify which changes are staged for commit and which are still unstaged. This comparison is essential for reviewing your modifications, ensuring that only the desired changes are committed, and maintaining a clear and organized project history."
   ]
  },
  {
   "cell_type": "code",
   "execution_count": null,
   "metadata": {
    "vscode": {
     "languageId": "shellscript"
    }
   },
   "outputs": [],
   "source": [
    "!echo \"Adding a new line\" >> hello.txt"
   ]
  },
  {
   "cell_type": "code",
   "execution_count": null,
   "metadata": {
    "vscode": {
     "languageId": "shellscript"
    }
   },
   "outputs": [],
   "source": [
    "!git diff"
   ]
  },
  {
   "cell_type": "markdown",
   "metadata": {},
   "source": [
    "### 3.5.2 Comparing the Staging Area with the Repository\n",
    "Let's add the changes to the staging area. We can then compare the staging area with the repository using the `git diff --staged` command. This command displays the differences between the files in the staging area and the repository, highlighting the changes that have been staged but not committed yet."
   ]
  },
  {
   "cell_type": "code",
   "execution_count": null,
   "metadata": {
    "vscode": {
     "languageId": "shellscript"
    }
   },
   "outputs": [],
   "source": [
    "!git add hello.txt"
   ]
  },
  {
   "cell_type": "code",
   "execution_count": null,
   "metadata": {
    "vscode": {
     "languageId": "shellscript"
    }
   },
   "outputs": [],
   "source": [
    "!git diff --staged"
   ]
  },
  {
   "cell_type": "markdown",
   "metadata": {},
   "source": [
    "### 3.5.3 Comparing the Working Directory with the Repository\n",
    "\n",
    "Finally, we can compare the working directory with the repository using the `git diff HEAD` command. This command shows the differences between the files in the working directory and the repository, providing a comprehensive overview of all changes made since the last commit. `HEAD` refers to the most recent commit in the repository, allowing you to compare the current state of your files with the latest snapshot."
   ]
  },
  {
   "cell_type": "code",
   "execution_count": null,
   "metadata": {
    "vscode": {
     "languageId": "shellscript"
    }
   },
   "outputs": [],
   "source": [
    "!echo \"Adding one more line\" >> hello.txt"
   ]
  },
  {
   "cell_type": "code",
   "execution_count": null,
   "metadata": {
    "vscode": {
     "languageId": "shellscript"
    }
   },
   "outputs": [],
   "source": [
    "!git diff HEAD"
   ]
  },
  {
   "cell_type": "markdown",
   "metadata": {},
   "source": [
    "# 4. Collaborating with Git\n",
    "\n",
    "Collaboration is a fundamental aspect of software development, and Git facilitates seamless teamwork by allowing multiple developers to work on the same project simultaneously. Effective collaboration requires synchronizing changes, managing branches, and resolving conflicts.\n",
    "\n",
    "In this section, we will cover the basic commands and workflows for collaborating with Git, including:\n",
    "\n",
    "- Cloning a remote repository\n",
    "- Creating and working with branches\n",
    "- Making changes and committing them\n",
    "- Resolving merge conflicts\n",
    "- Pushing changes to the remote repository\n",
    "\n",
    "These concepts and commands form the foundation of collaborative development with Git."
   ]
  },
  {
   "cell_type": "markdown",
   "metadata": {},
   "source": [
    "## 4.1 Cloning a Remote Repository\n",
    "\n",
    "So far, you have worked on your local repository. Now, to collaborate with others, you need a **central repository** where you can share your code and synchronize changes with other developers. Such a central repository is called a **remote repository**. Popular Git hosting services like GitHub, GitLab, and Bitbucket provide remote repositories for collaboration.\n",
    "\n",
    "Suppose you found a repository on GitHub that you want to work on. You can create a local copy of the remote repository by **cloning** it. Cloning copies all the files, directories, and history from the remote repository to your machine. This is done using the `git clone` command followed by the URL of the remote repository.\n",
    "\n",
    "In this example, we will clone the repository '[melihcatal/info1_remote](https://github.com/melihcatal/info1_remote.git)' from GitHub. Once the cloning process is complete, you can navigate into the cloned repository's directory using the `cd` command. The cloned directory will contain all the files and folders from the remote repository.\n",
    "\n",
    "Before cloning, ensure that you are in the directory where you want to create the local copy of the remote repository. Since we created the `info1_local` directory earlier and are currently in it, we first need to navigate back to the parent directory. After that, we can clone the remote repository there."
   ]
  },
  {
   "cell_type": "code",
   "execution_count": null,
   "metadata": {
    "vscode": {
     "languageId": "shellscript"
    }
   },
   "outputs": [],
   "source": [
    "# Note the magic command % again.\n",
    "%cd .."
   ]
  },
  {
   "cell_type": "code",
   "execution_count": null,
   "metadata": {
    "vscode": {
     "languageId": "shellscript"
    }
   },
   "outputs": [],
   "source": [
    "!git clone https://github.com/melihcatal/info1_remote.git"
   ]
  },
  {
   "cell_type": "markdown",
   "metadata": {},
   "source": [
    "Now, you should see the `info1_remote` directory in the current directory. You can navigate into the `info1_remote` directory using the `cd` command."
   ]
  },
  {
   "cell_type": "code",
   "execution_count": null,
   "metadata": {
    "vscode": {
     "languageId": "shellscript"
    }
   },
   "outputs": [],
   "source": [
    "# We are again using the magic command `%` to change the directory. This ensures that the notebook is set to use the `info1_remote` directory for the rest of the operations.\n",
    "%cd info1_remote"
   ]
  },
  {
   "cell_type": "markdown",
   "metadata": {},
   "source": [
    "Let's check the contents of the `info1_remote` directory using the `ls` command. The output should show a file named `greetings.txt`. This file contains a greeting message from the remote repository."
   ]
  },
  {
   "cell_type": "code",
   "execution_count": null,
   "metadata": {
    "vscode": {
     "languageId": "shellscript"
    }
   },
   "outputs": [],
   "source": [
    "!ls"
   ]
  },
  {
   "cell_type": "code",
   "execution_count": null,
   "metadata": {
    "vscode": {
     "languageId": "shellscript"
    }
   },
   "outputs": [],
   "source": [
    "!cat greetings.txt\n"
   ]
  },
  {
   "cell_type": "markdown",
   "metadata": {},
   "source": [
    "What about the commit history of this repository? We can view it using the `git log` command. The output will display the commit history of the remote repository, including details like commit hashes, authors, dates, and messages."
   ]
  },
  {
   "cell_type": "code",
   "execution_count": null,
   "metadata": {
    "vscode": {
     "languageId": "shellscript"
    }
   },
   "outputs": [],
   "source": [
    "!git log"
   ]
  },
  {
   "cell_type": "markdown",
   "metadata": {},
   "source": [
    "## 4.2 Working with Branches\n",
    "\n",
    "<div style=\"text-align: center;\">\n",
    "  <img src=\"https://miro.medium.com/v2/resize:fit:1400/0*jTl3JhJiDoI3ncml\" alt=\"merge\" width=\"800\"/>\n",
    "</div>\n",
    "\n",
    "Branches are independent lines of development in Git, enabling you to work on different features or fixes simultaneously without impacting the main codebase. Each branch is a unique copy of the codebase along with its history. Branches facilitate parallel workflows, support collaborative development, and protect the main codebase from experimental changes.\n",
    "\n"
   ]
  },
  {
   "cell_type": "markdown",
   "metadata": {},
   "source": [
    "### 4.2.1 Creating a New Branch\n",
    "\n",
    "So far, we have been working on a single branch, the **main branch**. A branch is a parallel version of the codebase that allows you to work on new features, bug fixes, or experiments without impacting the main codebase. \n",
    "\n",
    "Branches are lightweight and easy to create. You can create a new branch using the `git branch` command followed by the branch name. To start working on the new branch, you must switch to it using the `git checkout` command followed by the branch name.\n",
    "\n",
    "In this example, we will:\n",
    "1. Create a new branch named `greetings_YOURNAME`.\n",
    "2. Switch to the new branch.\n",
    "\n",
    "Once you are on the new branch, any changes you make will be isolated from the main branch. These changes will not affect the main branch until you explicitly merge them back."
   ]
  },
  {
   "cell_type": "markdown",
   "metadata": {},
   "source": [
    "We can check the current branch using the `git branch` command. The output will list all the branches in the repository, with an asterisk (*) indicating the current branch. Initially, we should see the `main` branch with an asterisk next to it."
   ]
  },
  {
   "cell_type": "code",
   "execution_count": null,
   "metadata": {
    "vscode": {
     "languageId": "shellscript"
    }
   },
   "outputs": [],
   "source": [
    "!git branch"
   ]
  },
  {
   "cell_type": "markdown",
   "metadata": {},
   "source": [
    "Let's create our own `greetings` branch and edit the `greetings.txt` file to add our own greeting message.\n",
    "\n",
    "<div style=\"text-align: center;\">\n",
    "  <img src=\"https://drive.switch.ch/index.php/s/MLNQmiNRvvKQBIV/download\" alt=\"merge\" width=\"800\"/>\n",
    "</div>"
   ]
  },
  {
   "cell_type": "code",
   "execution_count": null,
   "metadata": {
    "vscode": {
     "languageId": "shellscript"
    }
   },
   "outputs": [],
   "source": [
    "!git branch greetings_YOURNAME # i.e. greeetings_melih"
   ]
  },
  {
   "cell_type": "markdown",
   "metadata": {},
   "source": [
    "Let's check the branch list again using the `git branch` command. This time, we should see both the `main` and `greetings_YOURNAME` branches. However, the asterisk (*) will still be next to the `main` branch, indicating that we are currently on the `main` branch. To make changes to the file without affecting the `main` branch, we need to switch to the `greetings_YOURNAME` branch."
   ]
  },
  {
   "cell_type": "code",
   "execution_count": null,
   "metadata": {
    "vscode": {
     "languageId": "shellscript"
    }
   },
   "outputs": [],
   "source": [
    "!git branch"
   ]
  },
  {
   "cell_type": "markdown",
   "metadata": {},
   "source": [
    "<div style=\"text-align: center;\">\n",
    "  <img src=\"https://drive.switch.ch/index.php/s/7avEmuMi02MA5tn/download\" alt=\"merge\" width=\"800\"/>\n",
    "</div>\n",
    "\n",
    "How do we switch to the new branch, `greetings_YOURNAME` branch? We can use the `git checkout` command followed by the name of the branch we want to switch to. In this case, we will run the following command to switch to the `greetings_YOURNAME` branch:"
   ]
  },
  {
   "cell_type": "code",
   "execution_count": null,
   "metadata": {
    "vscode": {
     "languageId": "shellscript"
    }
   },
   "outputs": [],
   "source": [
    "!git checkout greetings_YOURNAME"
   ]
  },
  {
   "cell_type": "code",
   "execution_count": null,
   "metadata": {
    "vscode": {
     "languageId": "shellscript"
    }
   },
   "outputs": [],
   "source": [
    "!git branch"
   ]
  },
  {
   "cell_type": "markdown",
   "metadata": {},
   "source": [
    "Now we can work on the file with peace of mind, knowing that our changes will not affect the `main` branch. Let's edit the `greetings.txt` file to add our own greeting message.\n",
    "\n",
    "We can use the `echo` command to append text to the file. In this example, we will add the text `Hello from Melih` to the file. Feel free to replace \"Melih\" with your own name! 😄\n",
    "\n",
    "To append text to the end of the file, we will use the `>>` operator:\n",
    "\n",
    "```bash\n",
    "echo \"Hello from Melih\" >> greetings.txt\n",
    "```\n",
    "\n",
    "If we had used the > operator instead, it would have overwritten the file instead of appending to it.\n"
   ]
  },
  {
   "cell_type": "code",
   "execution_count": null,
   "metadata": {
    "vscode": {
     "languageId": "shellscript"
    }
   },
   "outputs": [],
   "source": [
    "!echo \"Greetings from Melih!\" >> greetings.txt"
   ]
  },
  {
   "cell_type": "code",
   "execution_count": null,
   "metadata": {
    "vscode": {
     "languageId": "shellscript"
    }
   },
   "outputs": [],
   "source": [
    "!cat greetings.txt"
   ]
  },
  {
   "cell_type": "markdown",
   "metadata": {},
   "source": [
    "Now, this change simulates the type of modifications you would make to a code file. After making the changes, we can check the status of the repository using the `git status` command. \n",
    "\n",
    "The output should indicate that the `greetings.txt` file has been modified. At this stage, the modified file is still in the **working directory**. To commit these changes to the repository, we first need to add them to the **staging area** using the `git add` command."
   ]
  },
  {
   "cell_type": "code",
   "execution_count": null,
   "metadata": {
    "vscode": {
     "languageId": "shellscript"
    }
   },
   "outputs": [],
   "source": [
    "!git status"
   ]
  },
  {
   "cell_type": "markdown",
   "metadata": {},
   "source": [
    "We can also view the changes we made to the file using the `git diff` command. This command displays the differences between the **working directory** and the **staging area**.\n",
    "\n",
    "The output will show the specific changes made to the file. In this case, it will highlight the addition of the text:  \n",
    "`Hello from Melih`  \n",
    "to the `greetings.txt` file."
   ]
  },
  {
   "cell_type": "code",
   "execution_count": null,
   "metadata": {
    "vscode": {
     "languageId": "shellscript"
    }
   },
   "outputs": [],
   "source": [
    "!git diff"
   ]
  },
  {
   "cell_type": "code",
   "execution_count": null,
   "metadata": {
    "vscode": {
     "languageId": "shellscript"
    }
   },
   "outputs": [],
   "source": [
    "!git add ."
   ]
  },
  {
   "cell_type": "markdown",
   "metadata": {},
   "source": [
    "What is the current status of the repository?"
   ]
  },
  {
   "cell_type": "code",
   "execution_count": null,
   "metadata": {
    "vscode": {
     "languageId": "shellscript"
    }
   },
   "outputs": [],
   "source": [
    "!git status"
   ]
  },
  {
   "cell_type": "markdown",
   "metadata": {},
   "source": [
    "<div style=\"text-align: center;\">\n",
    "  <img src=\"https://drive.switch.ch/index.php/s/I9jqv7CTTsi9Pmg/download\" alt=\"merge\" width=\"800\"/>\n",
    "</div>\n",
    "\n",
    "Alright, the output is self-explanatory. It indicates that the `greetings.txt` file has been modified and is ready to be committed. \n",
    "\n",
    "Let’s go ahead and commit the changes to the repository. Even though we initially cloned this repository from a remote repository, we are currently working on our **local repository**. All these changes are local, and Git’s three stages—**working directory**, **staging area**, and **repository**—operate within the local environment.\n",
    "\n",
    "You don’t interact with the remote repository until you explicitly **push** changes to it or **pull** changes from it."
   ]
  },
  {
   "cell_type": "code",
   "execution_count": null,
   "metadata": {
    "vscode": {
     "languageId": "shellscript"
    }
   },
   "outputs": [],
   "source": [
    "!git commit -m \"Edit greetings.txt file with greetings from Melih\""
   ]
  },
  {
   "cell_type": "code",
   "execution_count": null,
   "metadata": {
    "vscode": {
     "languageId": "shellscript"
    }
   },
   "outputs": [],
   "source": [
    "!git status"
   ]
  },
  {
   "cell_type": "markdown",
   "metadata": {},
   "source": [
    "We have successfully committed the changes to the repository. Make sure to always provide a **descriptive commit message** that clearly explains the changes you made. \n",
    "\n",
    "Good commit messages are crucial for helping your future self or your team members understand the purpose of a commit. They make it easier to track changes, debug issues, and find specific modifications when needed. Trust me, it will save you from a lot of headaches down the road—we’ve all been there! 😄"
   ]
  },
  {
   "cell_type": "markdown",
   "metadata": {},
   "source": [
    "## 4.3 Pushing Changes to the Remote Repository\n",
    "\n",
    "Awesome! Now we are ready to push our changes to the remote repository so that others can see them and collaborate with us. To push changes to the remote repository, use the `git push` command followed by the **remote name** and **branch name**.\n",
    "\n",
    "- The remote name is typically `origin`, which is the default name for the remote repository when cloned.\n",
    "- The branch name is the name of the branch you want to push. \n",
    "\n",
    "In this case, we will push the changes to the `greetings_YOURNAME` branch. Since the remote repository currently does not have a `greetings_YOURNAME` branch, Git will create it when we push the changes. Feel free to replace `greetings_YOURNAME` with your own branch name.\n",
    "\n",
    "The basic template for the `git push` command is:\n",
    "\n",
    "```bash\n",
    "git push <remote_name> <branch_name>\n",
    "```\n",
    "\n",
    "For example, to push the changes to the `greetings_YOURNAME` branch, we will use:\n",
    "\n",
    "```bash\n",
    "git push origin greetings_YOURNAME\n",
    "```\n",
    "\n",
    "If you want to push changes from your local branch to a differently named branch in the remote repository, you can use the following syntax:\n",
    "\n",
    "```bash\n",
    "git push <remote_name> <local_branch_name>:<remote_branch_name>\n",
    "```\n",
    "\n",
    "For example, to push changes from the `greetings_YOURNAME` branch to a differently named branch `greetings_YOURNAME_remote` in the remote repository, you can use:\n",
    "\n",
    "```bash\n",
    "git push origin greetings_YOURNAME:greetings_YOURNAMEremote\n",
    "```\n",
    "\n",
    "You can list all remote repositories associated with your local repository using the git remote command. This will display the remote repository names, such as origin. To view all branches in the remote repository, use the `git branch -r` command. The `-r` flag stands for \"remote2. In this case, the output should show the main branch as it exists in the remote repository.\n"
   ]
  },
  {
   "cell_type": "code",
   "execution_count": null,
   "metadata": {
    "vscode": {
     "languageId": "shellscript"
    }
   },
   "outputs": [],
   "source": [
    "!git remote"
   ]
  },
  {
   "cell_type": "code",
   "execution_count": null,
   "metadata": {
    "vscode": {
     "languageId": "shellscript"
    }
   },
   "outputs": [],
   "source": [
    "!git remote -v"
   ]
  },
  {
   "cell_type": "code",
   "execution_count": null,
   "metadata": {
    "vscode": {
     "languageId": "shellscript"
    }
   },
   "outputs": [],
   "source": [
    "!git branch -r"
   ]
  },
  {
   "cell_type": "code",
   "execution_count": null,
   "metadata": {
    "vscode": {
     "languageId": "shellscript"
    }
   },
   "outputs": [],
   "source": [
    "!git push origin greetings_YOURNAME"
   ]
  },
  {
   "cell_type": "markdown",
   "metadata": {},
   "source": [
    "Again, the output tells us a lot. It confirms that a new branch, `greetings_YOURNAME`, has been created in the remote repository. This branch is now available for others to view and collaborate on.\n",
    "\n",
    "The output also displays the URL of the remote repository. This URL is used to push changes to the remote repository and serves as the link for synchronization between the local and remote repositories."
   ]
  },
  {
   "cell_type": "markdown",
   "metadata": {},
   "source": [
    "## 4.4 Merging Branches\n",
    "\n",
    "<div style=\"text-align: center;\">\n",
    "  <img src=\"https://drive.switch.ch/index.php/s/bIEQL7CIR7S6ZOS/download\" alt=\"merge\" width=\"800\"/>\n",
    "</div>\n",
    "\n",
    "Now that we have successfully edited a file on a separate branch and pushed the changes to the remote repository, we are confident that our changes are correct and production-ready. It’s time to merge these changes into the `main` branch.\n",
    "\n",
    "**Merging** is the process of combining changes from one branch into another. You can use the `git merge` command followed by the branch name to perform the merge. In this case, we will merge the `greetings_YOURNAME` branch into the `main` branch.\n",
    "\n",
    "The `git merge` command combines the changes from the specified branch into the current branch. To incorporate the changes from the `greetings_YOURNAME` branch into the `main` branch, follow these steps:\n",
    "\n",
    "1. **Switch to the `main` branch**:\n",
    "   Use the `git checkout` command to switch to the `main` branch:\n",
    "   ```bash\n",
    "   git checkout main\n",
    "    ```\n",
    "2. **Merge the `greetings_YOURNAME` branch**:\n",
    "Use the git merge command to merge the changes from the greetings_YOURNAME branch:\n",
    "```bash\n",
    "git merge greetings_YOURNAME\n",
    "```\n",
    "\n",
    "The template for the git merge command is:\n",
    "```bash\n",
    "git merge <branch_name>\n",
    "```\n",
    "\n",
    "This merges the specified branch into the current branch.\n",
    "\n"
   ]
  },
  {
   "cell_type": "code",
   "execution_count": null,
   "metadata": {
    "vscode": {
     "languageId": "shellscript"
    }
   },
   "outputs": [],
   "source": [
    "!git checkout main"
   ]
  },
  {
   "cell_type": "code",
   "execution_count": null,
   "metadata": {
    "vscode": {
     "languageId": "shellscript"
    }
   },
   "outputs": [],
   "source": [
    "!git branch"
   ]
  },
  {
   "cell_type": "code",
   "execution_count": null,
   "metadata": {
    "vscode": {
     "languageId": "shellscript"
    }
   },
   "outputs": [],
   "source": [
    "!git merge greetings_YOURNAME"
   ]
  },
  {
   "cell_type": "code",
   "execution_count": null,
   "metadata": {
    "vscode": {
     "languageId": "shellscript"
    }
   },
   "outputs": [],
   "source": [
    "!cat greetings.txt"
   ]
  },
  {
   "cell_type": "markdown",
   "metadata": {},
   "source": [
    "### 4.4.1 Merge Conflicts\n",
    "\n",
    "**Merge conflicts** occur when two branches have made changes to the same line in a file, and Git cannot automatically determine which change to keep. In such cases, you must manually resolve the conflict.\n",
    "\n",
    "In this section, we will simulate a merge conflict by making changes to the same line in the `greetings.txt` file on both the `main` branch and the `greetings_YOURNAME` branch. We will then attempt to merge the branches to observe how Git identifies and handles the conflict.\n",
    "\n",
    "This process will demonstrate how to resolve conflicts and proceed with the merge."
   ]
  },
  {
   "cell_type": "markdown",
   "metadata": {},
   "source": [
    "First, let's ensure that we are on the `main` branch. We can use the `git branch` command to check the current branch. The output will list all branches, with an asterisk (*) indicating the current branch.\n",
    "\n",
    "If you are not on the `main` branch, switch to it using the `git checkout` command:\n",
    "\n",
    "```bash\n",
    "git checkout main\n",
    "```"
   ]
  },
  {
   "cell_type": "code",
   "execution_count": null,
   "metadata": {
    "vscode": {
     "languageId": "shellscript"
    }
   },
   "outputs": [],
   "source": [
    "!git branch\n",
    "# !git checkout main\n",
    "# !git branch\n"
   ]
  },
  {
   "cell_type": "markdown",
   "metadata": {},
   "source": [
    "Now that we are on the `main` branch, let's edit the `greetings.txt` file to add a new greeting message. \n",
    "\n",
    "We will use the `echo` command to append text to the file. This time, we will add the text `Hello from the main branch` to the file. To append the text without overwriting the existing content, we will use the `>>` operator:"
   ]
  },
  {
   "cell_type": "code",
   "execution_count": null,
   "metadata": {
    "vscode": {
     "languageId": "shellscript"
    }
   },
   "outputs": [],
   "source": [
    "!echo \"Hello from the main branch. Waiting for the merge conflict :P\" >> greetings.txt\n"
   ]
  },
  {
   "cell_type": "markdown",
   "metadata": {},
   "source": [
    "Let's ensure the file has been edited successfully. Use the `cat` command to display the contents of the file."
   ]
  },
  {
   "cell_type": "code",
   "execution_count": null,
   "metadata": {
    "vscode": {
     "languageId": "shellscript"
    }
   },
   "outputs": [],
   "source": [
    "!cat greetings.txt"
   ]
  },
  {
   "cell_type": "markdown",
   "metadata": {},
   "source": [
    "Great! The file has been edited successfully. Now, let's add the changes to the **staging area** and commit them to the **repository**:\n",
    "\n",
    "1. Add the changes to the staging area:\n",
    "   ```bash\n",
    "   git add .\n",
    "    ```\n",
    "\n",
    "2. Commit the changes with a descriptive message:\n",
    "    ```bash\n",
    "    git commit -m \"Edit greetings.txt file with greetings from main branch\"\n",
    "     ```"
   ]
  },
  {
   "cell_type": "code",
   "execution_count": null,
   "metadata": {
    "vscode": {
     "languageId": "shellscript"
    }
   },
   "outputs": [],
   "source": [
    "!git add .\n",
    "!git commit -m \"Edit greetings.txt file with greetings from main branch\""
   ]
  },
  {
   "cell_type": "code",
   "execution_count": null,
   "metadata": {
    "vscode": {
     "languageId": "shellscript"
    }
   },
   "outputs": [],
   "source": [
    "!git log"
   ]
  },
  {
   "cell_type": "markdown",
   "metadata": {},
   "source": [
    "For our simulation, we will switch back to the `greetings_YOURNAME` branch and edit the same file, `greetings.txt`. This time, we will add the text `Greetings from Melih! I am waiting for the merge conflict as well :P` to the file. By using the >> operator, the new text will be appended to the end of the file.\n"
   ]
  },
  {
   "cell_type": "code",
   "execution_count": null,
   "metadata": {
    "vscode": {
     "languageId": "shellscript"
    }
   },
   "outputs": [],
   "source": [
    "!git checkout greetings_YOURNAME"
   ]
  },
  {
   "cell_type": "code",
   "execution_count": null,
   "metadata": {
    "vscode": {
     "languageId": "shellscript"
    }
   },
   "outputs": [],
   "source": [
    "!echo \"Greetings from Melih! I am waiting for the merge conflict as well :P\" >> greetings.txt\n"
   ]
  },
  {
   "cell_type": "markdown",
   "metadata": {},
   "source": [
    "Lets repeat the Let's repeat the same steps: move the changes from the **working directory** to the **staging area**, and then commit them to the **repository**."
   ]
  },
  {
   "cell_type": "code",
   "execution_count": null,
   "metadata": {
    "vscode": {
     "languageId": "shellscript"
    }
   },
   "outputs": [],
   "source": [
    "!git add .\n",
    "!git commit -m \"Edit the greetings.txt file to include greetings from Melih\""
   ]
  },
  {
   "cell_type": "markdown",
   "metadata": {},
   "source": [
    "At this point, we have made changes to the same line in the `greetings.txt` file on both the `main` branch and the `greetings_YOURNAME` branch. This simulates a real-world scenario where two developers make changes to the same line of code without knowing about each other's edits. \n",
    "\n",
    "When we try to merge the branches, Git will detect a **merge conflict** and ask us to resolve it manually. This happens because Git cannot decide which change to prioritize. Should the last change win? Should one developer's changes always take precedence? Or should the changes from the `main` branch always be kept? These decisions depend on the project’s context and cannot be made automatically by Git, which is why manual resolution is required.\n",
    "\n",
    "---\n",
    "\n",
    "To merge the `greetings_YOURNAME` branch into the `main` branch, follow these steps:\n",
    "\n",
    "1. Ensure you are on the branch you want to merge changes **into**. In this case, we need to switch to the `main` branch:\n",
    "   ```bash\n",
    "   git checkout main\n",
    "    ```\n",
    "\n",
    "2. Merge the `greetings_YOURNAME` branch into the `main` branch:\n",
    "    ```bash\n",
    "    git merge greetings_YOURNAME\n",
    "     ```\n",
    "    \n",
    "    When you attempt to merge the branches, Git will detect the conflict and display a message indicating that the merge was unsuccessful due to a conflict. The message will prompt you to resolve the conflict manually."
   ]
  },
  {
   "cell_type": "code",
   "execution_count": null,
   "metadata": {
    "vscode": {
     "languageId": "shellscript"
    }
   },
   "outputs": [],
   "source": [
    "!git checkout main"
   ]
  },
  {
   "cell_type": "code",
   "execution_count": null,
   "metadata": {
    "vscode": {
     "languageId": "shellscript"
    }
   },
   "outputs": [],
   "source": [
    "!git merge greetings_YOURNAME"
   ]
  },
  {
   "cell_type": "markdown",
   "metadata": {},
   "source": [
    "As you can see from the output, auto-merging failed. Git was unable to automatically merge the changes because of a conflict in the `greetings.txt` file. This happens when changes made to the same lines in both branches cannot be reconciled without human intervention.\n",
    "\n",
    "Git marks the conflicting lines in the file with **conflict markers**:\n",
    "- `<<<<<<<`: Marks the beginning of the changes from the current branch (in this case, the `main` branch).\n",
    "- `=======`: Separates the changes from the two branches.\n",
    "- `>>>>>>>`: Marks the beginning of the changes from the other branch (in this case, the `greetings_YOURNAME` branch).\n",
    "\n",
    "The lines between these markers represent the conflicting changes. You need to decide which changes to keep and remove the conflict markers.\n",
    "\n",
    "---\n",
    "\n",
    "### Steps to Resolve the Conflict\n",
    "\n",
    "1. **View the File**:\n",
    "   First, check the contents of the file to understand the conflict:\n",
    "   ```bash\n",
    "   cat greetings.txt\n",
    "    ```\n",
    "\n",
    "2. **Edit the File**:\n",
    "    Open the file in a text editor and view the conflict markers.\n",
    "\n",
    "3. **Resolve the Conflict**:\n",
    "    Decide which changes to keep:\n",
    "        •\tKeep one branch’s changes.\n",
    "        •\tCombine both changes.\n",
    "        •\tWrite entirely new content.\n",
    "    \n",
    "    In this case, we will keep the changes from the `main` branch and remove the conflicting changes from the `greetings_YOURNAME` branch. Remove the conflict markers and unnecessary content to resolve the conflict.\n",
    "\n",
    "4. **Add the Changes**:\n",
    "    After resolving the conflict, add the changes to the staging area:\n",
    "    ```bash\n",
    "    git add greetings.txt\n",
    "    ```\n",
    "\n",
    "5. **Commit the Changes**:\n",
    "    Commit the changes with a message indicating that the conflict has been resolved:\n",
    "    ```bash\n",
    "    git commit -m \"Resolve the merge conflict and retain the changes from the main branch\"\n",
    "    ```\n",
    "\n",
    "Now the merge conflict has been resolved, and the branches have been successfully merged!\n",
    "\n"
   ]
  },
  {
   "cell_type": "code",
   "execution_count": null,
   "metadata": {
    "vscode": {
     "languageId": "shellscript"
    }
   },
   "outputs": [],
   "source": [
    "!cat greetings.txt"
   ]
  },
  {
   "cell_type": "markdown",
   "metadata": {},
   "source": [
    "<div style=\"text-align: center;\">\n",
    "  <img src=\"https://drive.switch.ch/index.php/s/Pqp2Wtvg9CTXqRJ/download\" alt=\"merge\" width=\"800\"/>\n",
    "</div>\n",
    "\n",
    "Demonstration of the merge conflict message and conflict markers in the `greetings.txt` file. The conflict markers indicate the conflicting changes from the `main` branch and the `greetings_YOURNAME` branch.\n"
   ]
  },
  {
   "cell_type": "markdown",
   "metadata": {},
   "source": [
    "At this stage, we assume you have successfully resolved the merge conflict. Now, you can check the status of the repository using the `git status` command to verify the state of the working directory and staging area."
   ]
  },
  {
   "cell_type": "code",
   "execution_count": null,
   "metadata": {
    "vscode": {
     "languageId": "shellscript"
    }
   },
   "outputs": [],
   "source": [
    "!git add ."
   ]
  },
  {
   "cell_type": "code",
   "execution_count": null,
   "metadata": {
    "vscode": {
     "languageId": "shellscript"
    }
   },
   "outputs": [],
   "source": [
    "!git status"
   ]
  },
  {
   "cell_type": "markdown",
   "metadata": {},
   "source": [
    "As you can see, the output states that all conflicts have been fixed, but the merging process is not yet complete. Git prompts us to use the `git commit` command to conclude the merge."
   ]
  },
  {
   "cell_type": "code",
   "execution_count": null,
   "metadata": {
    "vscode": {
     "languageId": "shellscript"
    }
   },
   "outputs": [],
   "source": [
    "!git commit -m \"Resolve the merge conflict and retain the changes from the main branch\""
   ]
  },
  {
   "cell_type": "code",
   "execution_count": null,
   "metadata": {
    "vscode": {
     "languageId": "shellscript"
    }
   },
   "outputs": [],
   "source": [
    "!git status"
   ]
  },
  {
   "cell_type": "code",
   "execution_count": null,
   "metadata": {
    "vscode": {
     "languageId": "shellscript"
    }
   },
   "outputs": [],
   "source": [
    "!git log"
   ]
  },
  {
   "cell_type": "code",
   "execution_count": null,
   "metadata": {
    "vscode": {
     "languageId": "shellscript"
    }
   },
   "outputs": [],
   "source": [
    "!cat greetings.txt"
   ]
  },
  {
   "cell_type": "markdown",
   "metadata": {},
   "source": [
    "## 4.5 Pull Requests\n",
    "\n",
    "<div style=\"text-align: center;\">\n",
    "  <img src=\"https://www.svgrepo.com/show/431022/git-pull-request.svg\" alt=\"merge\" width=\"200\"/>\n",
    "</div>\n",
    "\n",
    "<div style=\"text-align: center;\">\n",
    "  <img src=\"https://drive.switch.ch/index.php/s/PfXfVx1uuDLyzKG/download\" alt=\"merge\" width=\"800\"/>\n",
    "</div>\n",
    "\n",
    "\n",
    "**Pull requests** are a way to propose changes to a repository and collaborate on them. They allow you to submit your changes for review and approval before they are merged into the repository.\n",
    "\n",
    "Imagine you're creating an international cookbook and it's your responsibility to add new recipes. You also want others to suggest recipes from their own cultures, but you need to ensure:\n",
    "- The recipes are accurate.\n",
    "- They use the correct ingredients.\n",
    "- They follow a consistent format.\n",
    "- They meet the cookbook’s quality standards.\n",
    "\n",
    "To achieve this, you don’t allow others to directly add their recipes. Instead, you ask them to submit their recipes to you for review. You evaluate the recipes, ensure they meet the standards, and then add them to the cookbook. \n",
    "\n",
    "This process is similar to how **pull requests** work in Git. A pull request is a proposal to merge changes into a repository:\n",
    "- The repository maintainers review the changes.\n",
    "- Feedback is provided, if needed.\n",
    "- Changes are merged into the repository once approved.\n",
    "\n",
    "The term \"pull request\" reflects that you’re requesting the maintainers to **pull** your changes into the repository—similar to requesting cookbook maintainers to incorporate your recipe. Thas's why it's called a pull request not a push request.\n",
    "\n",
    "---\n",
    "\n",
    "You can create a pull request through a Git hosting service like GitHub, GitLab, or Bitbucket. For a demonstration, visit the [info1_remote repository](https://github.com/melihcatal/info1_remote/pull/2) on GitHub. \n",
    "\n",
    "You’ll see:\n",
    "- A pull request to merge changes from the `greetings_YOURNAME` branch into the `main` branch.\n",
    "- The changes made to the `greetings.txt` file.\n",
    "- The commit messages and discussions between collaborators.\n",
    "\n",
    "This illustrates how pull requests enable collaboration.\n",
    "\n",
    "---\n",
    "\n",
    "Although the outcome of a pull request is the same as merging branches directly, pull requests provide a structured workflow:\n",
    "- Changes can be reviewed and discussed.\n",
    "- Automated tests can be run.\n",
    "- Code quality can be assessed.\n",
    "\n",
    "Pull requests are widely used in software development to ensure the quality, consistency, and maintainability of the codebase.\n",
    "\n",
    "\n",
    "<div style=\"text-align: center;\">\n",
    "    <img src=\"https://drive.switch.ch/index.php/s/andxf5uqSwUiVUr/download\" alt=\"merge\" width=\"900\"/>\n",
    "\n",
    "</div>"
   ]
  },
  {
   "cell_type": "markdown",
   "metadata": {
    "jp-MarkdownHeadingCollapsed": true
   },
   "source": [
    "# 5. Exclude Files from Git\n",
    "\n",
    "To keep your Git repository clean and efficient, it’s important to exclude unnecessary files. Examples of files that should not be tracked by Git include:\n",
    "\n",
    "- Temporary files\n",
    "- Compile-time logs\n",
    "- Build outputs\n",
    "- Large or sensitive data, such as API keys or personal credentials\n",
    "\n",
    "You can manage this effectively using a **`.gitignore`** file, which tells Git to ignore specified files or folders.\n",
    "\n",
    "---\n",
    "\n",
    "### Setting Up a `.gitignore` File\n",
    "\n",
    "1. **Create it Early**:\n",
    "   - Set up the `.gitignore` file at the start of your project to avoid tracking unnecessary files.\n",
    "   - Ideally, initialize your Git repository **after** creating the `.gitignore` file.\n",
    "\n",
    "2. **Manually Untrack Files**:\n",
    "   - If unwanted files are already being tracked, untrack them using:\n",
    "     ```bash\n",
    "     git rm --cached <file>\n",
    "     ```\n",
    "\n",
    "3. **Use Pre-configured Options**:\n",
    "   - When creating a new repository on platforms like GitHub, you can choose to include a pre-configured `.gitignore` file tailored for specific languages or frameworks.\n",
    "\n",
    "---\n",
    "\n",
    "### Simplifying `.gitignore` Creation\n",
    "\n",
    "Tools like [gitignore.io](https://www.toptal.com/developers/gitignore/) can generate a tailored `.gitignore` file for your project. Customize the generated file to include exclusions specific to your workflow, such as:\n",
    "\n",
    "- Temporary files (`*.log`, `*.tmp`)\n",
    "- Build artifacts (`/dist/`, `/build/`)\n",
    "- Sensitive data (`.env`, API key files)\n",
    "- Large files or libraries (`*.zip`, `/node_modules/`)\n",
    "\n",
    "---\n",
    "\n",
    "### Best Practices for Using `.gitignore`\n",
    "\n",
    "- **Start Early**: Include a `.gitignore` file from the beginning to avoid unnecessary files being added to the repository.\n",
    "- **Review and Update**: Regularly update the `.gitignore` file as your project evolves.\n",
    "- **Avoid Sensitive Data**: Never commit sensitive information; use `.gitignore` to prevent such files from being tracked.\n",
    "- **Use Templates**: Take advantage of community or tool-generated templates for common frameworks and languages.\n",
    "\n",
    "By following these practices, you can maintain a clean and organized codebase while avoiding unnecessary clutter in your Git repository."
   ]
  },
  {
   "cell_type": "markdown",
   "metadata": {},
   "source": [
    "Let’s see how `.gitignore` works in practice. First, we create a new file, `hello.txt`, that we want to exclude from Git. Then, we create a .gitignore file and add hello.txt to it. Finally, we check the status of the repository to confirm that the hello.txt file is excluded from Git."
   ]
  },
  {
   "cell_type": "code",
   "execution_count": null,
   "metadata": {
    "vscode": {
     "languageId": "shellscript"
    }
   },
   "outputs": [],
   "source": [
    "!echo \"hello, please ignore this file\" > hello.txt"
   ]
  },
  {
   "cell_type": "markdown",
   "metadata": {},
   "source": [
    "Let’s check if the `hello.txt` file exists in the working directory. We can use the `ls` command to list the files and directories in the current directory. The output should include the `hello.txt` file.\n",
    "\n",
    "Next, let’s view the contents of the file using the `cat` command to ensure it was created successfully."
   ]
  },
  {
   "cell_type": "code",
   "execution_count": null,
   "metadata": {
    "vscode": {
     "languageId": "shellscript"
    }
   },
   "outputs": [],
   "source": [
    "!ls"
   ]
  },
  {
   "cell_type": "code",
   "execution_count": null,
   "metadata": {
    "vscode": {
     "languageId": "shellscript"
    }
   },
   "outputs": [],
   "source": [
    "!cat hello.txt"
   ]
  },
  {
   "cell_type": "markdown",
   "metadata": {},
   "source": [
    "Now, let’s check the Git status. We should see the `hello.txt` file listed as an **untracked file**. This means that Git successfully detects the file, but it is not currently being tracked. \n",
    "\n",
    "As we’ve seen before, Git expects you to move untracked files from the working directory to the staging area and then to the repository. However, in this case, we don’t want to track the `hello.txt` file. Instead, we want to exclude it from Git’s tracking. If we don't exclude it, Git will continue to detect and list the file as untracked. We wouldn't be able to use `git add .` to stage all changes, as it would include the `hello.txt` file.\n",
    "\n",
    "To achieve this, we can create a `.gitignore` file and add `hello.txt` to it. The `.gitignore` file specifies files and directories that Git should ignore, ensuring they are not tracked in the repository."
   ]
  },
  {
   "cell_type": "code",
   "execution_count": null,
   "metadata": {
    "vscode": {
     "languageId": "shellscript"
    }
   },
   "outputs": [],
   "source": [
    "!git status"
   ]
  },
  {
   "cell_type": "markdown",
   "metadata": {},
   "source": [
    "Now, we create a `.gitignore` file and add the `hello.txt` file to it. Once the `.gitignore` file is created, let’s check the output of `git status` again. The `hello.txt` file should no longer appear as an untracked file, as Git will now ignore it based on the rules defined in the `.gitignore` file."
   ]
  },
  {
   "cell_type": "code",
   "execution_count": null,
   "metadata": {
    "vscode": {
     "languageId": "shellscript"
    }
   },
   "outputs": [],
   "source": [
    "!echo \"hello.txt\" > .gitignore"
   ]
  },
  {
   "cell_type": "code",
   "execution_count": null,
   "metadata": {
    "vscode": {
     "languageId": "shellscript"
    }
   },
   "outputs": [],
   "source": [
    "!git status"
   ]
  },
  {
   "cell_type": "markdown",
   "metadata": {},
   "source": [
    "You see? Now the `hello.txt` file is no longer listed in the output of `git status`. It has been successfully excluded from Git tracking. \n",
    "\n",
    "Currently, only the `.gitignore` file is shown as **untracked**. We can add this file to the staging area and commit it to the repository to ensure the ignore rules are preserved."
   ]
  },
  {
   "cell_type": "code",
   "execution_count": null,
   "metadata": {
    "vscode": {
     "languageId": "shellscript"
    }
   },
   "outputs": [],
   "source": [
    "!git add .gitignore\n",
    "!git commit -m \"Add .gitignore file\""
   ]
  },
  {
   "cell_type": "code",
   "execution_count": null,
   "metadata": {
    "vscode": {
     "languageId": "shellscript"
    }
   },
   "outputs": [],
   "source": [
    "!git status"
   ]
  },
  {
   "cell_type": "markdown",
   "metadata": {},
   "source": [
    "We check the status of the repository again. The output should say: **nothing to commit, working tree clean**. This indicates that the `.gitignore` file has been successfully added to the repository and the working directory is clean.\n",
    "\n",
    "The `hello.txt` file has been successfully excluded from Git. This does not mean the file was deleted—it is still present in the working directory. It is simply not being tracked by Git.\n",
    "\n",
    "If you ever want to track the file again, you can remove it from the `.gitignore` file and then add it to the staging area."
   ]
  },
  {
   "cell_type": "code",
   "execution_count": null,
   "metadata": {
    "vscode": {
     "languageId": "shellscript"
    }
   },
   "outputs": [],
   "source": [
    "!ls"
   ]
  },
  {
   "cell_type": "markdown",
   "metadata": {},
   "source": [
    "# 6. Conclusion\n",
    "\n",
    "That's it! You’ve now learned the fundamental concepts and commands of Git, equipping you to manage your projects efficiently. Git is a powerful version control system that allows you to track changes, collaborate seamlessly, and maintain a clean and organized codebase.\n",
    "\n",
    "While there is much more to explore in Git, the concepts and commands covered here are the ones you’ll encounter most frequently in your daily work. This guide provides you with a solid foundation to grow and expand your Git skills.\n",
    "\n",
    "Thank you for staying with us through this lecture! We hope you found it helpful and informative. Happy coding, and may your commits be meaningful! 😄"
   ]
  },
  {
   "cell_type": "markdown",
   "metadata": {},
   "source": [
    "# 7. Further Reading\n",
    "\n",
    "The following topics will not be part of your exam and exercises, but you may find them useful for your future projects and career."
   ]
  },
  {
   "cell_type": "markdown",
   "metadata": {},
   "source": [
    "## 7.1 Fetch vs. Pull\n",
    "\n",
    "**Fetch** and **pull** are two Git commands used to update your local repository with changes from a remote repository. The key difference between them lies in how they handle these updates:\n",
    "\n",
    "- **`git fetch`**:  \n",
    "  - Downloads changes from the remote repository to your local repository.  \n",
    "  - Does not modify your working directory or current branch.  \n",
    "  - Allows you to review the changes before deciding to `merge` them.  \n",
    "  - Safe for inspecting updates without affecting your work.\n",
    "\n",
    "- **`git pull`**:  \n",
    "  - Combines the `git fetch` and `git merge` commands.  \n",
    "  - Downloads changes from the remote repository and immediately merges them into your current branch.  \n",
    "  - Can lead to conflicts if there are changes in the remote repository that conflict with your local changes.  \n",
    "\n",
    "---\n",
    "\n",
    "- **When to use `git fetch`**:  \n",
    "  If you want to see what’s new on the remote repository without modifying your local repository. This is ideal for reviewing updates before integrating them.\n",
    "\n",
    "- **When to use `git pull`**:  \n",
    "  If you want to update your working directory immediately with the latest changes from the remote repository. This is convenient but can result in merge conflicts if there are conflicting changes.\n",
    "\n",
    "By understanding the difference between fetch and pull, you can choose the appropriate command based on your workflow and avoid unnecessary conflicts.\n"
   ]
  },
  {
   "cell_type": "code",
   "execution_count": null,
   "metadata": {
    "vscode": {
     "languageId": "shellscript"
    }
   },
   "outputs": [],
   "source": [
    "!git fetch"
   ]
  },
  {
   "cell_type": "code",
   "execution_count": null,
   "metadata": {
    "vscode": {
     "languageId": "shellscript"
    }
   },
   "outputs": [],
   "source": [
    "!git log origin/main"
   ]
  },
  {
   "cell_type": "markdown",
   "metadata": {},
   "source": [
    "## 7.2 Rebasing vs. Merging\n",
    "\n",
    "<div style=\"text-align: center;\">\n",
    "  <img src=\"https://drive.switch.ch/index.php/s/i1zcyCY3nGfI7Oz/download\" alt=\"merge\" width=\"400\"/>\n",
    "  <img src=\"https://drive.switch.ch/index.php/s/TjitDemg97RovK9/download\" alt=\"rebase\" width=\"400\"/>\n",
    "</div>\n",
    "\n",
    "Both **rebase** and **merge** are Git commands used to integrate changes from one branch into another. However, they differ in how they handle commit history:\n",
    "\n",
    "- **Rebase**:  \n",
    "  - Moves the commits from one branch to another and rewrites the commit history to create a clean, linear history.  \n",
    "  - Eliminates unnecessary merge commits.  \n",
    "  - Ideal for maintaining a tidy and readable commit history.  \n",
    "  - **Be cautious**: Rebase rewrites history, which can lead to conflicts and issues if used on branches already shared with others.  \n",
    "\n",
    "- **Merge**:  \n",
    "  - Combines the changes from two branches by creating a new **merge commit**.  \n",
    "  - Preserves the complete commit history of both branches.  \n",
    "  - Ideal for preserving the context of branch history in collaborative environments.  \n",
    "\n",
    "---\n",
    "\n",
    "#### When to Use Rebase or Merge\n",
    "\n",
    "- Use **rebase**:\n",
    "  - To keep the commit history clean and linear.  \n",
    "  - On **local branches** that have not been shared with others.  \n",
    "\n",
    "- Use **merge**:\n",
    "  - To preserve the commit history of all branches.  \n",
    "  - For **branches already shared with others**, to avoid rewriting history and causing conflicts.  \n",
    "\n",
    "---\n",
    "\n",
    "#### Key Differences\n",
    "\n",
    "| Feature           | Rebase                                   | Merge                                  |\n",
    "|-------------------|------------------------------------------|----------------------------------------|\n",
    "| Commit History    | Rewrites history to be linear            | Preserves full branch commit history   |\n",
    "| New Commit        | Does not create a new merge commit       | Creates a new merge commit             |\n",
    "| Use Case          | Clean, linear history                   | Collaborative environments             |\n",
    "| Safety            | Destructive (rewrites history)          | Non-destructive                        |\n",
    "\n",
    "---\n",
    "\n",
    "#### Important Note\n",
    "Rebase is a **destructive operation**, and it’s recommended to use it carefully, especially on private branches. Avoid rebasing public branches to prevent conflicts for collaborators.\n",
    "\n",
    "For more details, refer to the [documentation](https://www.atlassian.com/git/tutorials/merging-vs-rebasing)."
   ]
  },
  {
   "cell_type": "markdown",
   "metadata": {},
   "source": [
    "Let's see how we can rebase the `greetings_YOURNAME` branch onto the `main` branch. Rebasing rewrites the commit history by applying the commits of one branch onto another, creating a clean, linear history.\n",
    "\n",
    "---\n",
    "\n",
    "#### Steps to Rebase the `greetings_YOURNAME` Branch onto `main`\n",
    "\n",
    "1. **Switch to the `main` branch**:\n",
    "   Use the `git checkout` command to switch to the `main` branch:\n",
    "   ```bash\n",
    "   git checkout main\n",
    "    ```\n",
    "2. **Rebase the `greetings_YOURNAME` branch onto `main`**:\n",
    "    Use the `git rebase` command followed by the branch name to rebase the `greetings_YOURNAME` branch onto the `main` branch:\n",
    "    ```bash\n",
    "    git rebase greetings_YOURNAME\n",
    "     ```\n",
    "\n",
    "    The template for the `git rebase` command is:\n",
    "     ```bash\n",
    "        git rebase <branch_name>\n",
    "     ```\n",
    "    This applies the commits from the specified branch onto the current branch.\n",
    "\n"
   ]
  },
  {
   "cell_type": "code",
   "execution_count": null,
   "metadata": {
    "vscode": {
     "languageId": "shellscript"
    }
   },
   "outputs": [],
   "source": [
    "!git checkout greetings_YOURNAME"
   ]
  },
  {
   "cell_type": "code",
   "execution_count": null,
   "metadata": {
    "vscode": {
     "languageId": "shellscript"
    }
   },
   "outputs": [],
   "source": [
    "!git log"
   ]
  },
  {
   "cell_type": "code",
   "execution_count": null,
   "metadata": {
    "vscode": {
     "languageId": "shellscript"
    }
   },
   "outputs": [],
   "source": [
    "!git log --oneline --graph --all"
   ]
  },
  {
   "cell_type": "code",
   "execution_count": null,
   "metadata": {
    "vscode": {
     "languageId": "shellscript"
    }
   },
   "outputs": [],
   "source": [
    "!git rebase main"
   ]
  },
  {
   "cell_type": "markdown",
   "metadata": {},
   "source": [
    "As you can see, the `greetings_YOURNAME` branch has now been successfully rebased onto the `main` branch. The changes from the `greetings_YOURNAME` branch are applied on top of the `main` branch, creating a clean and linear commit history.\n",
    "\n",
    "Rebasing is particularly useful when you want to maintain a tidy commit history and eliminate unnecessary merge commits. However, remember that rebase is a **destructive operation** as it rewrites commit history. Use it carefully, especially on branches shared with others."
   ]
  },
  {
   "cell_type": "code",
   "execution_count": null,
   "metadata": {
    "vscode": {
     "languageId": "shellscript"
    }
   },
   "outputs": [],
   "source": [
    "!git log"
   ]
  },
  {
   "cell_type": "code",
   "execution_count": null,
   "metadata": {
    "vscode": {
     "languageId": "shellscript"
    }
   },
   "outputs": [],
   "source": [
    "!git log --oneline --graph --all"
   ]
  }
 ],
 "metadata": {
  "kernelspec": {
   "display_name": "adv2",
   "language": "python",
   "name": "python3"
  },
  "language_info": {
   "codemirror_mode": {
    "name": "ipython",
    "version": 3
   },
   "file_extension": ".py",
   "mimetype": "text/x-python",
   "name": "python",
   "nbconvert_exporter": "python",
   "pygments_lexer": "ipython3",
   "version": "3.11.5"
  }
 },
 "nbformat": 4,
 "nbformat_minor": 4
}
