{
 "cells": [
  {
   "cell_type": "markdown",
   "id": "e994c3df-9a22-4d83-810f-909947e7352d",
   "metadata": {},
   "source": [
    "# Recap"
   ]
  },
  {
   "cell_type": "markdown",
   "id": "60515739-909b-4895-a8f7-07e97f2d4e67",
   "metadata": {},
   "source": [
    "## Special Methods\n",
    "\n",
    "Each \"outside\" operation, like..."
   ]
  },
  {
   "cell_type": "code",
   "execution_count": null,
   "id": "992a97ec-9988-4668-ac71-7b6a4b114f86",
   "metadata": {},
   "outputs": [],
   "source": [
    "3 > 1"
   ]
  },
  {
   "cell_type": "markdown",
   "id": "10fcd051-d777-4836-aea8-61591884c536",
   "metadata": {},
   "source": [
    "....has a corresponding \"inside\" implementation:"
   ]
  },
  {
   "cell_type": "code",
   "execution_count": null,
   "id": "4b8d838d-4892-42aa-bbe8-b7a6103622f4",
   "metadata": {},
   "outputs": [],
   "source": [
    "(3).__gt__(1)     # same as 3 > 1"
   ]
  },
  {
   "cell_type": "markdown",
   "id": "a3c08784-a848-4d22-9c10-4b4ceb2d32e6",
   "metadata": {},
   "source": [
    "Some prominent examples are:\n",
    "\n",
    " * `__init__` for creating new objects\n",
    " * `__str__` for `str(...)`\n",
    " * `__repr__` for `repr(...)`\n",
    "\n",
    "Comparison operators:\n",
    "\n",
    " * `__gt__` for `>`: **g**reather **t**han\n",
    " * `__lt__` for `<`: **l**ess **t**han\n",
    " * `__ge__` for `>=`: **g**reater than or **e**qual to\n",
    " * `__le__` for `<=`: **l**ess than or **e**qual to\n",
    " * `__eq__` for `==`: **eq**ual to\n",
    " * `__ne__` for `!=`: **n**ot **e**qual to\n",
    "\n",
    "Other features:\n",
    "\n",
    " * `__hash__` for computing an objects hash number\n",
    " * `__len__` for `len(...)`\n",
    " * `__iter__` and `__next__` for `for x in my_object`\n",
    " * `__setattr__` for `my_object.some_attribute = a_value`\n",
    " * `__getattr__` for `my_object.some_attribute`\n"
   ]
  },
  {
   "cell_type": "markdown",
   "id": "5687e03d-0bbd-43d6-be10-8376ac733daa",
   "metadata": {},
   "source": [
    "## `NotImplemented` for rich comparison operators\n",
    "\n",
    "When implementing comparison operators, it's important to reject `other` types which are not supported for comparison:"
   ]
  },
  {
   "cell_type": "code",
   "execution_count": null,
   "id": "a67416c5-54d7-40c8-af43-693af10992dc",
   "metadata": {},
   "outputs": [],
   "source": [
    "class Bill:\n",
    "    def __init__(self, denomination):\n",
    "        self.denomination = denomination\n",
    "        \n",
    "    def __eq__(self, other):\n",
    "        if not isinstance(other, Bill):          # only compare to other Bill objects\n",
    "            return NotImplemented                # for foreign types, return NotImplemented instead\n",
    "        return self.denomination == other.denomination"
   ]
  },
  {
   "cell_type": "code",
   "execution_count": null,
   "id": "a8b00ea7-efdf-4aed-bcbe-23d131a5fd1e",
   "metadata": {},
   "outputs": [],
   "source": [
    "a = Bill(50)\n",
    "b = Bill(100)\n",
    "c = Bill(50)\n",
    "print(a == b)\n",
    "print(a == c)\n",
    "print(a == 50)   # Bill.__eq__ returns NotImplemented, which is coerced to meaning False\n",
    "print(50 == a)   # int.__eq__ also does"
   ]
  },
  {
   "cell_type": "markdown",
   "id": "aff72e61-1447-4e0c-b799-677bd9463d9b",
   "metadata": {},
   "source": [
    "**Important**: `NotImplemented` is a not an exception. You do **not** `raise NotImplemented`! You have to `return NotImplemented`."
   ]
  },
  {
   "cell_type": "markdown",
   "id": "51198bde-6d30-48f6-9edc-91b078e50a5f",
   "metadata": {},
   "source": [
    "## Hashing\n",
    "\n",
    "Generally speaking, a hash is a short string or number that can easily be computed from a more complex object. In Python, hashes are integers.\n",
    "\n",
    " * Computing the hash of an object multiple times should always return the same number\n",
    " * Two objects that have the same hash *could* be equivalent, but they don't have to be (if it's just a hash collision: when two different objects accidentally have the same hash).\n",
    " * Two objects that are equivalent (`a == b`) *must* have the same hash.\n",
    "\n",
    "Requirements for implementing `__hash__`:\n",
    "\n",
    " * `__hash__` must return an integer\n",
    " * `__eq__` must also be implemented\n",
    " * if two objects are equal (`==`), then the hash computed by `__hash__` should be the same\n",
    "\n",
    "In practice, implementing `__hash__` typically means:\n",
    " * Implementing `__eq__`\n",
    " * Taking the same object attributes which determine equality, adding them all to a tuple and returning `hash(on_that_tuple)`\n",
    "\n",
    "**Important:** All the attributes that go into the tuple to be hashed must also be hashable (i.e., immutable).\n",
    "\n",
    "In the following example, ingredients is a dictionary. But still, the contents matter for the hash. So in that case, we first need to transform the dictionary into some hashable data structure when implementing `__hash__`:"
   ]
  },
  {
   "cell_type": "code",
   "execution_count": null,
   "id": "1132303f-d31f-432b-aa21-ef2b92a0bab1",
   "metadata": {},
   "outputs": [],
   "source": [
    "class Recipe():\n",
    "    def __init__(self, name, ingredients):\n",
    "        self.name = name\n",
    "        self.ingredients = ingredients\n",
    "\n",
    "    def __str__(self):\n",
    "        return f\"A recipe for {self.name}\"\n",
    "\n",
    "    def __eq__(self, other):\n",
    "        if not isinstance(other, Recipe):\n",
    "            return NotImplemented \n",
    "        return self.ingredients == other.ingredients    # we don't care about the name of the recipe. Two recipies with the same ingredients are equivalent\n",
    "\n",
    "    def __hash__(self):\n",
    "        return hash(tuple(self.ingredients.items()))\n",
    "        \n",
    "i = {\"Butter (grams)\": 20, \"Garlic, smashed (cloves)\": 1, \"Salt (tsp)\": .25}\n",
    "r1 = Recipe(\"Garlic butter\", i)\n",
    "r2 = Recipe(\"Allium spread\", i)\n",
    "print(r1 == r2)\n",
    "print(hash(r1))\n",
    "print(hash(r2))"
   ]
  },
  {
   "cell_type": "markdown",
   "id": "123b008a-4ee2-4a7e-b272-a2164eeafde0",
   "metadata": {},
   "source": [
    "However, hashes see much more widespread use than you might think."
   ]
  },
  {
   "cell_type": "markdown",
   "id": "644ca390-4978-4d6e-beaa-c7f5a63de5b7",
   "metadata": {},
   "source": [
    "### Example 1: checking file integrity\n",
    "\n",
    "Hashes are an easy and convenient way to check whether a file is fully intact, or whether it has been changed somehow. Many file downloads ([such as the download for Windows 11](https://www.microsoft.com/en-us/software-download/windows11)) will advertise hashes for their files. After you download the file, you can compute its hash and compare it to the advertised hash. If it differs, it means your download got corrupted somehow."
   ]
  },
  {
   "cell_type": "markdown",
   "id": "bf2c1523-fafa-4521-8323-94d98728b303",
   "metadata": {},
   "source": [
    "### Example 2: storing passwords\n",
    "\n",
    "Any decent web service will **not** actually store any passwords. At best, they will store hashes of passwords. This still enables user authentication, but it mitigates the impact of data leaks.\n",
    "\n",
    "This first example illustrates the problem: When a user sets their password, it is stored in the \"database\" and if anyone ever gets access to the database, they will see all users' passwords in plain text! Since many people use the same password everywhere, this is a very, VERY bad technique."
   ]
  },
  {
   "cell_type": "code",
   "execution_count": null,
   "id": "89fa38a9-efb8-414c-9fd2-380083300624",
   "metadata": {},
   "outputs": [],
   "source": [
    "# Bad! Stores passwords in plain text!\n",
    "\n",
    "class UserDB:\n",
    "    def __init__(self):\n",
    "        self.users = {}\n",
    "\n",
    "    def set_password(self, username, password):\n",
    "        self.users[username] = password\n",
    "    \n",
    "    def login(self, username, password):\n",
    "        if self.users[username] == password:\n",
    "            print(\"Login successful\")\n",
    "        else:\n",
    "            print(\"Invalid password\")\n",
    "\n",
    "db = UserDB()\n",
    "db.set_password(\"bob89\", \"hunter2\")\n",
    "db.login(\"bob89\", \"pw\")\n",
    "db.login(\"bob89\", \"hunter2\")\n",
    "print(db.users)                     # passwords can be leaked easily!"
   ]
  },
  {
   "cell_type": "markdown",
   "id": "feb02db0-a7be-4473-bb45-93d6a2677500",
   "metadata": {},
   "source": [
    "This problem can be solved quite easily by only storing the hash of each password:\n",
    "\n",
    " 1. The user sets their password on the website\n",
    " 2. The password is hashed and only the hash is stored. The password is immediately forgotten\n",
    " 3. When the user wants to log in, they enter their password, and we just check if it has the same hash as the one in the database\n",
    "\n",
    "Because hash functions are generally non-reversible, it is not possible to determine the password (string) from a given hash."
   ]
  },
  {
   "cell_type": "code",
   "execution_count": null,
   "id": "700e7614-ead9-48fa-ab16-2fbc8577c9ad",
   "metadata": {},
   "outputs": [],
   "source": [
    "# Better. Only hashes are stored:\n",
    "\n",
    "class UserDB:\n",
    "    def __init__(self):\n",
    "        self.users = {}\n",
    "\n",
    "    def set_password(self, username, password):\n",
    "        self.users[username] = hash(password)\n",
    "    \n",
    "    def login(self, username, password):\n",
    "        if self.users[username] == hash(password):\n",
    "            print(\"Login successful\")\n",
    "        else:\n",
    "            print(\"Invalid password\")\n",
    "\n",
    "db = UserDB()\n",
    "db.set_password(\"bob89\", \"hunter2\")\n",
    "db.login(\"bob89\", \"pw\")             # authentication still works correctly, because (almost all) wrong passwords have a different hash\n",
    "db.login(\"bob89\", \"hunter2\")        \n",
    "print(db.users)                     # Password is not stored at all! Only hashes are stored."
   ]
  },
  {
   "cell_type": "markdown",
   "id": "f1a2cd8b-b909-40b4-8c2c-64919b5a8b10",
   "metadata": {},
   "source": [
    "Note that this is **not** enough in practice. That's because a nefarious attacker could easily generate hashes for millions of passwords. This is called a \"rainbow table\". Then, when they gain access to the database, they can compare their hashes to the existing ones and still reverse-engineer your personal password."
   ]
  },
  {
   "cell_type": "code",
   "execution_count": null,
   "id": "f44f1d82-b500-480c-9075-7da54edc92d6",
   "metadata": {},
   "outputs": [],
   "source": [
    "# generate a lookup table from hash to actual password:\n",
    "def generate_rainbow_table():\n",
    "    res = {}\n",
    "    for pw in [\"password\", \"admin\", \"hunter2\", \"password1\", \"querty\"]:\n",
    "        res[hash(pw)] = pw\n",
    "    return res"
   ]
  },
  {
   "cell_type": "code",
   "execution_count": null,
   "id": "f00089a3-9507-476d-abbe-531f3c5cd299",
   "metadata": {},
   "outputs": [],
   "source": [
    "# hack into the server and get the stored hash for bob89:\n",
    "print(db.users)"
   ]
  },
  {
   "cell_type": "code",
   "execution_count": null,
   "id": "dfc91bea-1c93-49b2-bf77-4c7defa3ff55",
   "metadata": {},
   "outputs": [],
   "source": [
    "rt = generate_rainbow_table()\n",
    "print(rt[7558422558281044130])    # attacker can simply look up the hash in the rainbow table"
   ]
  },
  {
   "cell_type": "markdown",
   "id": "da2fdcd9-c180-4778-b84d-b38cd94ddf63",
   "metadata": {},
   "source": [
    "Now, the attacker knows your password, even though the server only stored its hash! Now they can use your password on all the other website where you used the same password. This is only possible, because the attacker knows how the hash is computed. For this reason, hashes are typically \"salted\" on the server. In the simplest case, that could look like this:"
   ]
  },
  {
   "cell_type": "code",
   "execution_count": null,
   "id": "f648486c-ee07-4a44-a918-9d95137a937a",
   "metadata": {},
   "outputs": [],
   "source": [
    "class UserDB:\n",
    "    def __init__(self, salt):\n",
    "        self.salt = salt\n",
    "        self.users = {}\n",
    "\n",
    "    def set_password(self, username, password):\n",
    "        self.users[username] = hash((password, self.salt))\n",
    "    \n",
    "    def login(self, username, password):\n",
    "        if self.users[username] == hash((password, self.salt)):\n",
    "            print(\"Login successful\")\n",
    "        else:\n",
    "            print(\"Invalid password\")\n",
    "\n",
    "db = UserDB(\"secret_salt\")\n",
    "db.set_password(\"bob89\", \"hunter2\")\n",
    "db.login(\"bob89\", \"pw\")             # authentication still works correctly, because the salt is applied both when saving and checking the password\n",
    "db.login(\"bob89\", \"hunter2\")        \n",
    "print(db.users)                     # Password is not stored at all! Only hashes are stored.\n",
    "try:\n",
    "    print(rt[-1393476854987916374])\n",
    "except KeyError:\n",
    "    print(\"Hash for user bob89 not found\")"
   ]
  },
  {
   "cell_type": "markdown",
   "id": "d76b2e16-49ac-4205-8bdd-c0e2ca61558a",
   "metadata": {},
   "source": [
    "This at least prevents the attacker from generating rainbow tables that work in many scenarios. If they were able to obtain the secret salt, then they could still generate the rainbow table. That's why there's another technique called \"adding pepper\"... which is out of scope for this lecture.\n",
    "\n",
    "**Two important side-notes**:\n",
    "\n",
    " 1. NEVER implement your own cryptography. Re-use [tried and tested libraries](https://docs.python.org/3/library/crypto.html). If you build applications that require user management, use an existing service or implementation.\n",
    " 2. If it really matters, get a cryptograph expert to do things for you. Not every developer has to be a cryptography expert!"
   ]
  },
  {
   "cell_type": "markdown",
   "id": "b46d1b66-ae13-4d85-aec5-5337b625fea2",
   "metadata": {},
   "source": [
    "## Example 3: Blockchain 🤢 and Crytpocurrencies 🤮\n",
    "\n",
    "While blockchain has legitimate uses, traditional cryptocurrencies require \"proof of work\". Without getting into the details, all this \"work\" involves is computing millions of hashes until you, by pure chance, find one that has specific characteristics (typically a given number of leading `0`s). Here's an illustration of how that works: "
   ]
  },
  {
   "cell_type": "code",
   "execution_count": null,
   "id": "df85f8f4-bc86-40f9-bccf-5a98f6d24a92",
   "metadata": {},
   "outputs": [],
   "source": [
    "import hashlib\n",
    "from time import time\n",
    "\n",
    "def proof_of_work(difficulty):\n",
    "    target = '0' * difficulty\n",
    "    data = \"Does-not-really-matter\"\n",
    "    nonce = 0\n",
    "    start_time = time()\n",
    "\n",
    "    # compute hashes over and over again until we luck out\n",
    "    while True:\n",
    "        # By adding nonce to the data, we generate a new hash each iteration\n",
    "        test_string = f\"{data}{nonce}\"\n",
    "        # Compute hash (here we use sha256, one of many standardised hash functions)\n",
    "        hash_result = hashlib.sha256(test_string.encode()).hexdigest()\n",
    "        # Check if the hash starts with the required number of zeroes\n",
    "        if hash_result.startswith(target):\n",
    "            print(f\"\"\"Found solution after {nonce} tries, spending {time() - start_time:.2f} seconds: \"{test_string}\" -> {hash_result}\"\"\")\n",
    "            return # finally done with this nonsense\n",
    "        nonce += 1\n",
    "\n",
    "proof_of_work(2)   # easy\n",
    "proof_of_work(6)   # hard\n",
    "#proof_of_work(30) # burn the planet"
   ]
  },
  {
   "cell_type": "markdown",
   "id": "d2f0a13d-2781-4886-aae0-f198fcecc044",
   "metadata": {},
   "source": [
    "What an insane waste of energy!"
   ]
  },
  {
   "cell_type": "markdown",
   "id": "e6fcf1cb-860f-455f-8c55-f08d08213d29",
   "metadata": {},
   "source": [
    "## `try` / `except` / `finally` / `else`\n",
    "\n",
    "Just keep these things in mind:\n",
    "\n",
    " * It's better to except specific exeptions instead of using naked `except`.\n",
    " * When an `except` block triggers, the content of that block has nothing to do with the rest of the entire try/except construct. Any additional exceptions that happen there need to be caught separately."
   ]
  },
  {
   "cell_type": "code",
   "execution_count": null,
   "id": "b87dcb27-2e13-4318-bc7d-b1f4a6b967f5",
   "metadata": {},
   "outputs": [],
   "source": [
    "try:\n",
    "    print(\"trying...\")\n",
    "    raise ValueError\n",
    "except ValueError:\n",
    "    print(\"ValueError occured\")\n",
    "except IndexError:\n",
    "    print(\"IndexError occured\")\n",
    "except:\n",
    "    print(\"some other exception occurred\")\n",
    "else:\n",
    "    print(\"no exceptions occured\")\n",
    "finally:\n",
    "    print(\"finally always executes\")"
   ]
  },
  {
   "cell_type": "markdown",
   "id": "d96a1d99-5013-44af-ab18-88314ad17ac1",
   "metadata": {},
   "source": [
    "<p style=\"height:100px\"></p>\n",
    "<hr>\n",
    "<p style=\"height:100px\"></p>\n",
    "\n",
    "\n"
   ]
  },
  {
   "cell_type": "markdown",
   "id": "109531dc-099e-4f56-8e00-884628af26c9",
   "metadata": {},
   "source": [
    "# `type` vs `isinstance`\n",
    "\n",
    "The `type` function will give you the exact type of an object. `isinstance` on the other hand will check the entire inheritance tree and will return `True` not only if the given object matches the given type exactly, but also if it is a subclass of the given type.\n",
    "\n",
    "In the following example, `Sub` inherits from `Middle` and `Middle` inherits from `Topmost`:"
   ]
  },
  {
   "cell_type": "code",
   "execution_count": null,
   "id": "9ecfe236-ec43-49cf-9702-bb1b52cb079d",
   "metadata": {},
   "outputs": [],
   "source": [
    "class Topmost:\n",
    "    pass\n",
    "\n",
    "class Middle(Topmost):\n",
    "    pass\n",
    "\n",
    "class Sub(Middle):\n",
    "    pass\n",
    "\n",
    "s = Sub()\n",
    "print(s)"
   ]
  },
  {
   "cell_type": "markdown",
   "id": "31c2e25d-2bfb-441d-93c1-6562a3aa648c",
   "metadata": {},
   "source": [
    "As such, `type(x)` will give the exact type (`Sub`):"
   ]
  },
  {
   "cell_type": "code",
   "execution_count": null,
   "id": "1f6e94be-b852-4ebe-8348-5ee11f51057e",
   "metadata": {},
   "outputs": [],
   "source": [
    "type(s)"
   ]
  },
  {
   "cell_type": "markdown",
   "id": "912c9af3-f7b0-43fd-ad0f-dac9a3413eb0",
   "metadata": {},
   "source": [
    "But `isinstance` will return `True` for any type that the instance inherits from. So our `x`, which is of type `Sub` **also** inherits from `Middle` and `Topmost` eventually!"
   ]
  },
  {
   "cell_type": "code",
   "execution_count": null,
   "id": "b685c676-ce40-4156-be53-0a56915d9d3f",
   "metadata": {},
   "outputs": [],
   "source": [
    "print(isinstance(s, Sub))\n",
    "print(isinstance(s, Middle))\n",
    "print(isinstance(s, Topmost))\n",
    "print(isinstance(s, object))   # real top-most, as Topmost still inherits from object\n",
    "print(isinstance(s, str))"
   ]
  },
  {
   "cell_type": "markdown",
   "id": "b5a7f0e9-44e9-4019-8a20-f296c843a5a4",
   "metadata": {},
   "source": [
    "As a matter of fact `Topmost` is *not* the topmost class that `Sub` inherits from. Because in reality, `Topmost`, like all custom classes, inherits from `object`:"
   ]
  },
  {
   "cell_type": "code",
   "execution_count": null,
   "id": "3b0ed065-f080-4761-8cef-f93589450e58",
   "metadata": {},
   "outputs": [],
   "source": [
    "isinstance(s, object)"
   ]
  },
  {
   "cell_type": "code",
   "execution_count": null,
   "id": "1a9c1ee2-8f94-4639-befb-fde1ac76770b",
   "metadata": {},
   "outputs": [],
   "source": [
    "isinstance(\"hello\", str)"
   ]
  },
  {
   "cell_type": "code",
   "execution_count": null,
   "id": "702f1cf2-6595-47d1-b7ce-0ab584a261c6",
   "metadata": {},
   "outputs": [],
   "source": [
    "isinstance(\"hello\", object)"
   ]
  },
  {
   "cell_type": "markdown",
   "id": "01817eb1-80ba-47e9-9e25-42ea908ed636",
   "metadata": {},
   "source": [
    "Note how even functions inherit from `object`:"
   ]
  },
  {
   "cell_type": "code",
   "execution_count": null,
   "id": "55df225c-aae0-471f-b9ee-7ab0ec7139ab",
   "metadata": {},
   "outputs": [],
   "source": [
    "isinstance(logger_factory, object)"
   ]
  },
  {
   "cell_type": "markdown",
   "id": "c06a4b90-c067-44f0-a1e3-d12a90e7d48d",
   "metadata": {},
   "source": [
    "# Class attributes vs instance attributes\n",
    "\n",
    "You know that classes are like \"blueprints\" to make concrete objects. When we create a new instance of an object, the object will have instance-specific members:"
   ]
  },
  {
   "cell_type": "code",
   "execution_count": null,
   "id": "4bda6191-cfea-4bda-b364-f37974fca041",
   "metadata": {},
   "outputs": [],
   "source": [
    "class Toyota:\n",
    "    def __init__(self, model):\n",
    "        self.model = model\n",
    "\n",
    "    def honk(self):\n",
    "        return f\"HONK, I'm a {self.model} HONK\"\n",
    "\n",
    "\n",
    "t1 = Toyota(\"Yaris\")                  # t1 is an *instance* of Toyota\n",
    "print(t1.model)                       # t1 has a \"model\" attribute, which is specific to the instance t1 (it was set via self.model = model)\n",
    "print(t1.honk())                      # t1 also supports the \"honk\" method\n",
    "print(Toyota.honk(t1))                # honk is defined as a member of Toyota\n",
    "print(isinstance(t1, Toyota))         # t1 is an object of type 'Toyota'\n",
    "print(isinstance(Toyota, type))       # Toyota is an object of type 'type'\n",
    "print(isinstance(t1, object))         # all types inherit from object eventually\n",
    "print(isinstance(Toyota, object))"
   ]
  },
  {
   "cell_type": "code",
   "execution_count": null,
   "id": "4534be64-2f4e-43ce-96bd-0d1c853228f2",
   "metadata": {},
   "outputs": [],
   "source": [
    "print(type(t1))\n",
    "print(type(Toyota))"
   ]
  },
  {
   "cell_type": "markdown",
   "id": "a3f8d7ba-5e79-4c98-a627-50fd5ed9be12",
   "metadata": {},
   "source": [
    "So `t1` is an instance of `Toyota` and we can see that it has a variety of attributes, including `model`, but also `honk` (and `__init__`, etc.):"
   ]
  },
  {
   "cell_type": "code",
   "execution_count": null,
   "id": "805b95c6-b861-4914-ac7f-f1fe191282a6",
   "metadata": {},
   "outputs": [],
   "source": [
    "dir(t1)"
   ]
  },
  {
   "cell_type": "markdown",
   "id": "e120809e-9f41-47f8-b5c8-00592c135c01",
   "metadata": {},
   "source": [
    "However, **classes are also objects**. So not only do *instances* of a class have members, so does the *class* itself. It does not have `model` an an attribute (because model is set on `self`, not `Toyota`), but it does show `honk`:"
   ]
  },
  {
   "cell_type": "code",
   "execution_count": null,
   "id": "7fb6972a-e263-446b-83b6-260ae49c9c53",
   "metadata": {
    "scrolled": true
   },
   "outputs": [],
   "source": [
    "dir(Toyota)"
   ]
  },
  {
   "cell_type": "markdown",
   "id": "ab3b99a2-7b38-4859-8db4-9ac45e0bd94b",
   "metadata": {},
   "source": [
    "And we can **also** add attributes to the class (which is just another object). Notice how `some_attribute` is at the same indentation level as all the methods."
   ]
  },
  {
   "cell_type": "code",
   "execution_count": null,
   "id": "7b55147e-06bc-4d17-bbb5-bddc8de7dadd",
   "metadata": {},
   "outputs": [],
   "source": [
    "class Toyota:\n",
    "    \n",
    "    some_attribute = \"I'm an attribute of the Toyota class (NOT of an instance)\"\n",
    "    \n",
    "    def __init__(self, model):\n",
    "        self.model = model\n",
    "\n",
    "    def honk(self):\n",
    "        return f\"HONK, I'm a {self.model} HONK\"\n",
    "\n",
    "print(Toyota.some_attribute)      # NOT set via self.some_attribute ... but set directly on the class itself"
   ]
  },
  {
   "cell_type": "markdown",
   "id": "d1354b02-3150-4020-9d09-8dd1c0a9b2d8",
   "metadata": {},
   "source": [
    "Now, when we reflect on the `Toyota` object, we can see that it has an additional attribute:"
   ]
  },
  {
   "cell_type": "code",
   "execution_count": null,
   "id": "2b927906-683e-42f7-a0a8-dc159b4cbc1d",
   "metadata": {},
   "outputs": [],
   "source": [
    "dir(Toyota)"
   ]
  },
  {
   "cell_type": "markdown",
   "id": "e20d821e-0f9d-4c1a-b50d-c0b77a48b3aa",
   "metadata": {},
   "source": [
    "This may look like something new, but should not come as a surprise. After all, *methods* (which sit at the same level as `some_attribute`) are also members of the *class*:"
   ]
  },
  {
   "cell_type": "code",
   "execution_count": null,
   "id": "f683c590-c4d7-41b9-bcb8-7a7b379f196f",
   "metadata": {},
   "outputs": [],
   "source": [
    "print(Toyota.some_attribute)\n",
    "print(Toyota.__init__)\n",
    "print(Toyota.honk)"
   ]
  },
  {
   "cell_type": "markdown",
   "id": "7377e8dc-0947-4c97-bfe5-a907b85a59e4",
   "metadata": {},
   "source": [
    "So really, now that you know how functions are just regular objects, it's kind of obvious that you can not only specify methods (function attributes of class objects), but also other kinds of attributes, like a string: there is not much different between `some_attribute` and `__init__`, it's just that one is a string and one is a function, but they are both attributes of the `Toyota` class object. Note that just like with the method `honk`, the attribute `some_attribute` is also available both via the class itself (where it is actually defined), **and** through any specific instance of the class:"
   ]
  },
  {
   "cell_type": "code",
   "execution_count": null,
   "id": "e9cf6286-c013-405e-adc3-29b9c07f7ae8",
   "metadata": {},
   "outputs": [],
   "source": [
    "t1 = Toyota(\"Corolla\")\n",
    "print(Toyota.some_attribute)  # class attribute accessible via class\n",
    "print(Toyota.honk(t1))        # class method accessible via class\n",
    "print(t1.some_attribute)      # class attribute accessible via instance\n",
    "print(t1.honk())              # class method accessible via instance (self implicitely added as first parameter)"
   ]
  },
  {
   "cell_type": "markdown",
   "id": "7f53b780-2961-49ac-9c7b-2baa8eb47d45",
   "metadata": {},
   "source": [
    "The fact that we can store attributes as part of the class itself (rather than just individual instances) can come in handy. One particularly common use case is illustrated below. Imagine that every new Toyota instance should have a unique serial number. We can simply store a counter as a *class attribute* and increment it whenever a new instance is created:"
   ]
  },
  {
   "cell_type": "code",
   "execution_count": null,
   "id": "8cf1203f-86ab-4bad-a173-5d6ec9daeb03",
   "metadata": {},
   "outputs": [],
   "source": [
    "class Toyota:\n",
    "    serial_counter = 1\n",
    "    def __init__(self, model):\n",
    "        self.model = model\n",
    "        self.serial_number = Toyota.serial_counter   # access the class attribute to set the instance attribute\n",
    "        Toyota.serial_counter += 1                   # increment the class attribute by 1\n",
    "\n",
    "    def drive(self):\n",
    "        print(\"driving\")\n",
    "\n",
    "t1 = Toyota(\"Yaris\")\n",
    "t2 = Toyota(\"Yaris\")\n",
    "t3 = Toyota(\"Corolla\")\n",
    "t3.drive()\n",
    "print(t1.serial_number)\n",
    "print(t2.serial_number)\n",
    "print(t3.serial_number)"
   ]
  },
  {
   "cell_type": "markdown",
   "id": "801fe165-3a09-47ab-a37e-5f12d244adb8",
   "metadata": {},
   "source": [
    "Above, you can see that `self.serial_number` is an **instance attribute** while `Toyota.serial_counter` is a **class attribute**."
   ]
  },
  {
   "cell_type": "markdown",
   "id": "0c7935c3-7568-4158-96b3-2cdaeb781b13",
   "metadata": {},
   "source": [
    "Note, however, that all *instances* of `Toyota` will also hold references to the *class* variable:"
   ]
  },
  {
   "cell_type": "code",
   "execution_count": null,
   "id": "41f9ba39-e780-46cc-a6d4-22f6e650ce5d",
   "metadata": {},
   "outputs": [],
   "source": [
    "t1 = Toyota(\"Yaris\")\n",
    "t2 = Toyota(\"Yaris\")\n",
    "print(t1.serial_number)\n",
    "print(t2.serial_number)\n",
    "print(Toyota.serial_counter)\n",
    "print(t1.serial_counter)\n",
    "print(t2.serial_counter)\n",
    "# Both instances and the class itself refer to the SAME class attribute! Toyta.serial_counter only exists once, while serial_number is set for each individual instance.\n",
    "print(t1.serial_counter is t2.serial_counter is Toyota.serial_counter)"
   ]
  },
  {
   "cell_type": "markdown",
   "id": "d787de75-f1ad-47be-a2bf-a6420902838e",
   "metadata": {},
   "source": [
    "### Summarizing class attributes:\n",
    "\n",
    " * Classes are just objects, they can have attributes.\n",
    " * Methods are function attributes of a class, but you can add other kinds of attributes as well.\n",
    " * A class attribute only exists **once** as a member of the class itself.\n",
    " * All instances of the class will refer to the same class attribute. In contrast, instance attributes are set via `self.`.\n",
    " * A common use case that you should be able to replicate is a serial counter that is incremented with each instantiation of the class."
   ]
  },
  {
   "cell_type": "markdown",
   "id": "292fdcfc-ac57-4119-9eba-18961595ad83",
   "metadata": {},
   "source": [
    "# Static methods\n",
    "\n",
    "You know how each method of a class implicitly receives `self` as the first parameter?\n",
    "\n",
    "The following class represents a temperature sensor that might be installed in some HVAC system or factory. In a real scenario, `measure` would measure the temperature of a room or device. The sensor data is stored in an attribute `self.measurements`. A method `fahrenheit_measurements` returns the measurements, but with each value converted to Fahrenheit. The code to convert Celsius to Fahrenheit has been moved to a dedicated method `c_to_f`."
   ]
  },
  {
   "cell_type": "code",
   "execution_count": null,
   "id": "923b54e9-431f-439f-b324-607ef8107355",
   "metadata": {},
   "outputs": [],
   "source": [
    "from random import randrange\n",
    "\n",
    "class TempSensor:\n",
    "    def __init__(self):\n",
    "        self.measurements = []\n",
    "\n",
    "    def measure(self):\n",
    "        self.measurements.append(randrange(-20, 50))        # in the real world, this would gather a temperature from a real sensor, here it's just a random value\n",
    "\n",
    "    def __str__(self):\n",
    "        return f\"Sensor data: {self.measurements}\"\n",
    "\n",
    "    def fahrenheit_measurements(self):\n",
    "        return [self.c_to_f(m) for m in self.measurements]\n",
    "\n",
    "    def c_to_f(self, value):\n",
    "        return value * 1.8 + 32                             # self is not referred to anywhere in the method body! Compare this to the other methods, where self is always used in some way.\n",
    "\n",
    "s = TempSensor()\n",
    "for _ in range(5):\n",
    "    s.measure()         # records 5 random temperatures\n",
    "print(s)\n",
    "print(s.fahrenheit_measurements())"
   ]
  },
  {
   "cell_type": "markdown",
   "id": "3656185a-7815-4a87-9e81-3b949de43029",
   "metadata": {},
   "source": [
    "In the example above, notice how `c_to_f` is a method that **only depends on parameters passed to the method** (in this case, `value`), but **`self` is not used anywhere in the method body**\n",
    "\n",
    "In such cases, where a method of a class does not require any knowledge of `self` and its attributes, we can annotate the method as being a `@staticmethod`:"
   ]
  },
  {
   "cell_type": "code",
   "execution_count": null,
   "id": "393a975a-477e-4693-b9f6-2487a0320c5e",
   "metadata": {},
   "outputs": [],
   "source": [
    "from random import randrange\n",
    "\n",
    "class TempSensor:\n",
    "    def __init__(self):\n",
    "        self.measurements = []\n",
    "\n",
    "    def measure(self):\n",
    "        self.measurements.append(randrange(-20, 50))\n",
    "\n",
    "    def __str__(self):\n",
    "        return f\"Sensor data: {self.measurements}\"\n",
    "\n",
    "    def fahrenheit_measurements(self):\n",
    "        return [self.c_to_f(m) for m in self.measurements]\n",
    "\n",
    "    @staticmethod                                                # this method is \"static\", because it doesn't use 'self' anywhere in the method body. No need for the parameter.\n",
    "    def c_to_f(value):                                           # a @staticmethod does NOT get self provided implicitely!\n",
    "        return value * 1.8 + 32\n",
    "\n",
    "s = TempSensor()\n",
    "for _ in range(5):\n",
    "    s.measure()\n",
    "print(s)\n",
    "print(s.fahrenheit_measurements())\n",
    "print(TempSensor.__str__(s))                                     # regular methods require the first parameter to be the object (self).\n",
    "print(TempSensor.c_to_f(0))                                      # static methods can be called without providing self!\n",
    "print(s.c_to_f(0))                                               # you can call the static method on the object or the class; the result is the same."
   ]
  },
  {
   "cell_type": "markdown",
   "id": "c82f9533-f1e3-43b1-bd26-e8f80cef6e85",
   "metadata": {},
   "source": [
    "You don't *have to* annotate methods that don't use `self` (and drop the `self` parameter). You could just ignore the `self` parameter if you don't need it. However, semnatically, `@staticmethod` communicates to other developers that the functionality in this method does not relate to any of the object's state (like here, any specific temperatures recorded). The method `c_to_f` is basically like a plain function, only that it \"belongs\" to the `TempSensor` class. You don't need to have a `TempSensor` instance to use it."
   ]
  },
  {
   "cell_type": "markdown",
   "id": "9c23af3c-1ac0-4f23-bead-a1fb9d320bf5",
   "metadata": {},
   "source": [
    "### Summarizing static methods:\n",
    "\n",
    " * A static method of a class does **not** take `self` as a parameter.\n",
    " * Static methods are annotated with `@staticmethod` (which does not need to be imported)\n",
    " * Static methods are typically isolated pieces of behavior that are not connected with the state (i.e., `self`) of the class.\n",
    " * A common use case is helper functions that just convert or otherwise process values, without knowing about individual state."
   ]
  },
  {
   "cell_type": "markdown",
   "id": "836165cc-4f8f-4fd4-b938-3b4cba1fa8fd",
   "metadata": {},
   "source": [
    "# Testing\n",
    "\n",
    "If you're not familiar with testing, you probably just \"tried\" your code with different inputs to see (visually) if it appears to work correctly. Let's revisit the IP validator from the exercises and assume it were an interactive application:"
   ]
  },
  {
   "cell_type": "code",
   "execution_count": null,
   "id": "df8c2253-04d7-4a24-b6aa-306141bab433",
   "metadata": {},
   "outputs": [],
   "source": [
    "class IPValidator:\n",
    "    def run(self):\n",
    "        while True:\n",
    "            addr = input(\"Please enter an IP address and hit enter: \")\n",
    "            if addr == \"exit\":\n",
    "                return\n",
    "            print(f\"{addr} is valid: {self.is_valid(addr)}\")                          # could also call IPValidator.is_valid\n",
    "\n",
    "    @staticmethod    \n",
    "    def is_valid(ip):\n",
    "        octets = ip.split(\".\")\n",
    "        return (sum([IPValidator.is_valid_octet(octet) for octet in octets]) == 4)    # self doesn't exist, so definitely must use IPValidator.is_valid_octet\n",
    "        \n",
    "    @staticmethod    \n",
    "    def is_valid_octet(octet):\n",
    "        if not 1 <= len(octet) <= 3:\n",
    "            return False\n",
    "        for char in octet:\n",
    "            if not char.isdigit():\n",
    "                return False\n",
    "        return 0 <= int(octet) <= 255\n",
    "    \n",
    "v = IPValidator()\n",
    "v.run()"
   ]
  },
  {
   "cell_type": "markdown",
   "id": "16fcb1d1-eda4-4dd9-a7e9-ec9cff6030ae",
   "metadata": {},
   "source": [
    "Of course, you might recognize that you don't actually have to call run() to test this class. You could just try using the methods individually (like in the exercise):"
   ]
  },
  {
   "cell_type": "code",
   "execution_count": null,
   "id": "47268e6c-b91e-4c37-9a50-5df7e2d93a35",
   "metadata": {},
   "outputs": [],
   "source": [
    "class IPValidator:\n",
    "    def run(self):\n",
    "        while True:\n",
    "            addr = input(\"Please enter an IP address and hit enter: \")\n",
    "            if addr == \"exit\":\n",
    "                return\n",
    "            print(f\"{addr} is valid: {self.is_valid(addr)}\")\n",
    "\n",
    "    @staticmethod    \n",
    "    def is_valid(ip):\n",
    "        octets = ip.split(\".\")\n",
    "        return (sum([IPValidator.is_valid_octet(octet) for octet in octets]) == 4)\n",
    "        \n",
    "    @staticmethod    \n",
    "    def is_valid_octet(octet):\n",
    "        if not 1 <= len(octet) <= 3:\n",
    "            return False\n",
    "        for char in octet:\n",
    "            if not char.isdigit():\n",
    "                return False\n",
    "        return 0 <= int(octet) <= 255\n",
    "\n",
    "print(IPValidator.is_valid(\"127.0.0.1\"))\n",
    "print(IPValidator.is_valid(\"asdf\"))\n",
    "print(IPValidator.is_valid(\"127.0.0.1.100\"))"
   ]
  },
  {
   "cell_type": "markdown",
   "id": "4b6d6842-08e4-4fba-bfee-341fc8cfaf90",
   "metadata": {},
   "source": [
    "But of course that gets more and more tedious with more test cases. So you might just compare each test case to the expected value instead, so that you'll see \"all Trues\" when running your code:"
   ]
  },
  {
   "cell_type": "code",
   "execution_count": null,
   "id": "8a2b662a-5e60-43c8-bc70-c9c64980b402",
   "metadata": {},
   "outputs": [],
   "source": [
    "class IPValidator:\n",
    "    @staticmethod    \n",
    "    def is_valid(ip):\n",
    "        octets = ip.split(\".\")\n",
    "        return (sum([IPValidator.is_valid_octet(octet) for octet in octets]) == 4)\n",
    "        \n",
    "    @staticmethod    \n",
    "    def is_valid_octet(octet):\n",
    "        if not 1 <= len(octet) <= 3:\n",
    "            return False\n",
    "        for char in octet:\n",
    "            if not char.isdigit():\n",
    "                return False\n",
    "        return 0 <= int(octet) <= 255\n",
    "\n",
    "print(IPValidator.is_valid(\"127.0.0.1\") == True)\n",
    "print(IPValidator.is_valid(\"asdf\") == False)\n",
    "print(IPValidator.is_valid(\"127.0.0.1.100\") == False)"
   ]
  },
  {
   "cell_type": "markdown",
   "id": "42365547-9acb-4b6f-a249-16355d4d841f",
   "metadata": {},
   "source": [
    "But this still isn't very clear when you have many test cases and things go wrong. It would be nicer if we had a way to test our code that...\n",
    "\n",
    " * Clearly spells out what went wrong\n",
    " * Tells us where it went wrong\n",
    "\n",
    "For this reason, we have \"unit testing\". Python ships with a `unittest` module that provides these kinds of services.\n",
    "\n",
    "To implement a unit test, you...\n",
    " 1. create a new class that inherits from `unittest.TestCase`.\n",
    " 2. implement multiple methods, all taking no parameters (except `self`) and starting with `test` for their method name.\n",
    " 3. test exactly **one** feature or behavior per test case. You may want to instantiate a new instance of the class you're testing every time.\n",
    " 4. optionally provide a meaningful message for test failures"
   ]
  },
  {
   "cell_type": "code",
   "execution_count": null,
   "id": "e62560d9-4a83-4ac6-9803-ad23bbca9f25",
   "metadata": {},
   "outputs": [],
   "source": [
    "import unittest\n",
    "\n",
    "class IPValidatorTests(unittest.TestCase):\n",
    "\n",
    "    def test_home(self):\n",
    "        v = IPValidator()\n",
    "        self.assertTrue(v.is_valid(\"127.0.0.1\"))         # valid\n",
    "\n",
    "    def test_invalid_string(self):\n",
    "        v = IPValidator()\n",
    "        self.assertFalse(v.is_valid(\"asdf\"))             # not an IP\n",
    "\n",
    "    def test_five(self):\n",
    "        v = IPValidator()\n",
    "        self.assertFalse(v.is_valid(\"127.0.0.1.100\"))    # one too many octets\n",
    "\n",
    "unittest.main(argv=[''], verbosity=3, exit=False)        # these parameters are only here because of Jupyter Notebook. Normally, you could just do unittest.main()"
   ]
  },
  {
   "cell_type": "markdown",
   "id": "18da7863-90b3-478c-822d-d22a618ccfa9",
   "metadata": {},
   "source": [
    "Don't be confused by the red color of the output in Jupyter Notebook. All tests pass as indicated by \"OK\". We could add messages, if we wanted:"
   ]
  },
  {
   "cell_type": "code",
   "execution_count": null,
   "id": "0926dacd-a5db-4541-9c0d-50190e1d2c25",
   "metadata": {},
   "outputs": [],
   "source": [
    "import unittest\n",
    "\n",
    "class IPValidatorTests(unittest.TestCase):\n",
    "\n",
    "    def test_home(self):\n",
    "        v = IPValidator()\n",
    "        self.assertTrue(v.is_valid(\"127.0.0.1\"), \"127.0.0.1 wrongly identified as invalid\")\n",
    "\n",
    "    def test_invalid_string(self):\n",
    "        v = IPValidator()\n",
    "        self.assertFalse(v.is_valid(\"asdf\"), \"random string 'asdf' identified as valid IP\")\n",
    "\n",
    "    def test_five(self):\n",
    "        v = IPValidator()\n",
    "        self.assertFalse(v.is_valid(\"127.0.0.1.100\"), \"127.0.0.1.100 wrongly identified as valid\")\n",
    "\n",
    "unittest.main(argv=[''], verbosity=3, exit=False) # these parameters are only here because of Jupyter Notebook. Normally, you could just do unittest.main()"
   ]
  },
  {
   "cell_type": "markdown",
   "id": "ec18a2d9-8064-4439-a6af-c1c1c5469166",
   "metadata": {},
   "source": [
    "So if we now provide a faulty implementation, we'll receive some additional error message:"
   ]
  },
  {
   "cell_type": "code",
   "execution_count": null,
   "id": "9d0be1f5-ad0f-4ed1-9675-55f211670e3f",
   "metadata": {},
   "outputs": [],
   "source": [
    "class IPValidator:\n",
    "    @staticmethod    \n",
    "    def is_valid(ip):\n",
    "        return True\n",
    "\n",
    "import unittest\n",
    "\n",
    "class IPValidatorTests(unittest.TestCase):\n",
    "\n",
    "    def test_home(self):\n",
    "        v = IPValidator()\n",
    "        self.assertTrue(v.is_valid(\"127.0.0.1\"), \"127.0.0.1 wrongly identified as invalid\")\n",
    "\n",
    "    def test_invalid_string(self):\n",
    "        v = IPValidator()\n",
    "        self.assertFalse(v.is_valid(\"asdf\"), \"random string 'asdf' identified as valid IP\")\n",
    "\n",
    "    def test_five(self):\n",
    "        v = IPValidator()\n",
    "        self.assertFalse(v.is_valid(\"127.0.0.1.100\"), \"127.0.0.1.100 wrongly identified as valid\")\n",
    "\n",
    "unittest.main(argv=[''], verbosity=3, exit=False) # these parameters are only here because of Jupyter Notebook. Normally, you could just do unittest.main()\n"
   ]
  },
  {
   "cell_type": "markdown",
   "id": "9bdb12d8-71c7-460d-8ac0-789f1d5c3a78",
   "metadata": {},
   "source": [
    "The messages are not usually necessary. However, what's nice about testing like this is that it's easy to read whether or not the code is working as expected. It tells you where and why a test failed and why.\n",
    "\n",
    "The best thing about tests is that they can **prevent regressions**. A regression is when a feature that previously worked fine stops working correctly. This can actually happen very often when working on existing code. Say we want to improve our implementation by using the \"more pythonic\" `all` instead of `sum`. While `sum` calculates a sum of list elements, `all` just checks if each element is `True`. This seems right because we just want to check if each octet is valid. **But this misses the case where each ocetet is valid, but there aren't exactly 4 of them**:"
   ]
  },
  {
   "cell_type": "code",
   "execution_count": null,
   "id": "61886fae-d93b-43f6-bb79-8ec77c5258c6",
   "metadata": {},
   "outputs": [],
   "source": [
    "class IPValidator:\n",
    "    @staticmethod    \n",
    "    def is_valid(ip):\n",
    "        octets = ip.split(\".\")\n",
    "      # return (sum([IPValidator.is_valid_octet(octet) for octet in octets]) == 4)\n",
    "        return all(IPValidator.is_valid_octet(octet) for octet in octets)\n",
    "        \n",
    "    @staticmethod    \n",
    "    def is_valid_octet(octet):\n",
    "        if not 1 <= len(octet) <= 3:\n",
    "            return False\n",
    "        for char in octet:\n",
    "            if not char.isdigit():\n",
    "                return False\n",
    "        return 0 <= int(octet) <= 255\n",
    "\n",
    "import unittest\n",
    "class IPValidatorTests(unittest.TestCase):\n",
    "    def test_home(self):\n",
    "        v = IPValidator()\n",
    "        self.assertTrue(v.is_valid(\"127.0.0.1\"))\n",
    "        \n",
    "    def test_invalid_string(self):\n",
    "        v = IPValidator()\n",
    "        self.assertFalse(v.is_valid(\"asdf\"))\n",
    "        \n",
    "    def test_five(self):\n",
    "        v = IPValidator()\n",
    "        self.assertFalse(v.is_valid(\"127.0.0.1.100\"), \"127.0.0.1.100 wrongly identified as valid\")     # This test case saves us from introducing a regression bug\n",
    "\n",
    "unittest.main(argv=[''], verbosity=3, exit=False) "
   ]
  },
  {
   "cell_type": "markdown",
   "id": "07e78e4b-251d-44b5-b27a-3bfdf85c5df1",
   "metadata": {},
   "source": [
    "You can also get creative and generate a lot more test cases programmatically, for example:"
   ]
  },
  {
   "cell_type": "code",
   "execution_count": null,
   "id": "a1ea7819-bbbc-4632-b02f-9d8e1e07908f",
   "metadata": {},
   "outputs": [],
   "source": [
    "class IPValidator:\n",
    "    @staticmethod    \n",
    "    def is_valid(ip):\n",
    "        octets = ip.split(\".\")\n",
    "        return len(octets) == 4 and all(IPValidator.is_valid_octet(octet) for octet in octets)\n",
    "        \n",
    "    @staticmethod    \n",
    "    def is_valid_octet(octet):\n",
    "        if not 1 <= len(octet) <= 3:\n",
    "            return False\n",
    "        for char in octet:\n",
    "            if not char.isdigit():\n",
    "                return False\n",
    "        return 0 <= int(octet) <= 255\n",
    "\n",
    "import unittest\n",
    "class IPValidatorTests(unittest.TestCase):\n",
    "    def test_first_two_octets(self):\n",
    "        v = IPValidator()\n",
    "        for a in range(256):\n",
    "            for b in range(256):\n",
    "                    self.assertTrue(v.is_valid(f\"{a}.{b}.0.255\"))  # gets called over 65'000 times\n",
    "\n",
    "unittest.main(argv=[''], verbosity=3, exit=False) "
   ]
  },
  {
   "cell_type": "markdown",
   "id": "3bd77c7c-f0a9-4803-a1cd-1491dd053d4b",
   "metadata": {},
   "source": [
    "In this example, this is almost not necessary. You're probably better off testing edge cases. However, in some scenarios, generating test values like this can make a lot of sense."
   ]
  },
  {
   "cell_type": "markdown",
   "id": "49ff95dd-7477-4899-bf26-a691b1443898",
   "metadata": {},
   "source": [
    "The `unittest` framework also supports a couple of additional features. For example, you can implement the `setUp` method to execute some code *before each test method is run*:"
   ]
  },
  {
   "cell_type": "code",
   "execution_count": null,
   "id": "24952ac9-b572-4691-9db1-09f3f9dea698",
   "metadata": {},
   "outputs": [],
   "source": [
    "class IPValidator:\n",
    "    @staticmethod    \n",
    "    def is_valid(ip):\n",
    "        octets = ip.split(\".\")\n",
    "        return len(octets) == 4 and all(IPValidator.is_valid_octet(octet) for octet in octets)\n",
    "        \n",
    "    @staticmethod    \n",
    "    def is_valid_octet(octet):\n",
    "        if not 1 <= len(octet) <= 3:\n",
    "            return False\n",
    "        for char in octet:\n",
    "            if not char.isdigit():\n",
    "                return False\n",
    "        return 0 <= int(octet) <= 255\n",
    "        \n",
    "import unittest\n",
    "class IPValidatorTests(unittest.TestCase):\n",
    "\n",
    "    def setUp(self):                     # the setUp function is called before each test method execution!\n",
    "        self.v = IPValidator()\n",
    "        \n",
    "    def test_home(self):\n",
    "        self.assertTrue(self.v.is_valid(\"127.0.0.1\")) # now we refer to self.v\n",
    "        \n",
    "    def test_invalid_string(self):\n",
    "        self.assertFalse(self.v.is_valid(\"asdf\"))\n",
    "        \n",
    "    def test_five(self):\n",
    "        self.assertFalse(self.v.is_valid(\"127.0.0.1.100\"), \"127.0.0.1.100 wrongly identified as valid\") \n",
    "\n",
    "unittest.main(argv=[''], verbosity=3, exit=False)"
   ]
  },
  {
   "cell_type": "markdown",
   "id": "ca7f2e66-de3d-4e92-8db7-86e09d80baec",
   "metadata": {},
   "source": [
    "There also exist `tearDown`, called after each test method ends, and also `setUpClass` and `tearDownClass`, which are executed before and after an entire test class is used."
   ]
  },
  {
   "cell_type": "markdown",
   "id": "b95a22c3-4a47-43f2-9a9e-6c174c20f603",
   "metadata": {},
   "source": [
    "### Assertion methods\n",
    "\n",
    "In these examples, we only used `assertTrue`, but there are [many more assertion functions](https://docs.python.org/3/library/unittest.html#assert-methods).\n",
    "\n",
    "| Assertion Method | Equivalent To | Since Python |\n",
    "|-|-|-|\n",
    "| `assertEqual(a, b)` | `a == b` | - |\n",
    "| `assertNotEqual(a, b)` | `a != b` | - |\n",
    "| `assertTrue(x)` | `bool(x) is True` | - |\n",
    "| `assertFalse(x)` | `bool(x) is False` | - |\n",
    "| `assertIs(a, b)` | `a is b` | 3.1 |\n",
    "| `assertIsNot(a, b)` | `a is not b` | 3.1 |\n",
    "| `assertIsNone(x)` | `x is None` | 3.1 |\n",
    "| `assertIsNotNone(x)` | `x is not None` | 3.1 |\n",
    "| `assertIn(a, b)` | `a in b` | 3.1 |\n",
    "| `assertNotIn(a, b)` | `a not in b` | 3.1 |\n",
    "| `assertIsInstance(a, b)` | `isinstance(a, b)` | 3.2 |\n",
    "| `assertNotIsInstance(a, b)` | `not isinstance(a, b)` | 3.2 |\n",
    "| `assertAlmostEqual(a, b)` | `round(a-b, 7) == 0` | - |\n",
    "| `assertNotAlmostEqual(a, b)` | `round(a-b, 7) != 0` | - |\n",
    "| `assertGreater(a, b)` | `a > b` | 3.1 |\n",
    "| `assertGreaterEqual(a, b)` | `a >= b` | 3.1 |\n",
    "| `assertLess(a, b)` | `a < b` | 3.1 |\n",
    "| `assertLessEqual(a, b)` | `a <= b` | 3.1 |\n",
    "| `assertRegex(s, r)` | `r.search(s)` | 3.1 |\n",
    "| `assertNotRegex(s, r)` | `not r.search(s)` | 3.2 |\n",
    "| `assertCountEqual(a, b)` | *a* and *b* have the same elements in the same number, regardless of their order | 3.2 |"
   ]
  },
  {
   "cell_type": "markdown",
   "id": "314b967b-afb4-4724-a9f2-19bc31f95ddc",
   "metadata": {},
   "source": [
    "Long story short:\n",
    "\n",
    " * When you've \"tried\" the same inputs to your function, the same clicks in your frontend, the same call to your backend, more than 5 times: write a unit test\n",
    " * Unit tests will **save** you time.\n",
    " * To write unit tests, create a class inheriting from `unittest.TestCase` and implement methods starting with `def test`\n",
    " * Each test method should test exactly one thing\n",
    "\n",
    "You have several options how to run unittests for the exercises in your programming environment.\n",
    "\n",
    " 1. Configure your IDE. Here, again it will be important to have the correct *working directory* (CWD) set to the folder that **contains** the `task` folder.\n",
    " 1. On the command line, navigate to the folder containing `task` and then run one of these commands:\n",
    "\n",
    "To run a specific test file:\n",
    "\n",
    " ```bash\n",
    " python -m unittest task/tests.py\n",
    " ```\n",
    " \n",
    " or if you add `unittest.main()` at the end of the test file, you can also run it as a module:\n",
    " \n",
    " ```bash\n",
    " python -m task.tests\n",
    " ```\n",
    "\n",
    "To run all test files contained in the task folder:\n",
    "\n",
    " ```bash\n",
    " python -m unittest discover -v task\n",
    " ```"
   ]
  },
  {
   "cell_type": "markdown",
   "id": "dcfed837-713a-43c8-a3cc-e072255412d2",
   "metadata": {},
   "source": [
    "### A couple more testing terms\n",
    "\n",
    "#### Test-Driven Development (TDD)\n",
    "\n",
    "The idea to **first** implement tests, then write the actual implementation.\n",
    "\n",
    "#### Black-box testing\n",
    "\n",
    "When you do not have access to the implementation to see how it actually works, you're performing black-box testing. You only get to try the implementation, call the methods, etc., but you cannot see inside the implementation. This is common practice in large companies, where testers are responsible for testing, without caring about how the code is implemented.\n",
    "\n",
    "If working with compiled code, where the source is not available, black-box testing may also be the only option.\n",
    "\n",
    "#### White-box testing\n",
    "\n",
    "More regular testing where you, the tester, can also read the actual implementation code.\n",
    "\n",
    "#### Fuzz testing\n",
    "\n",
    "In fuzz testing, values used to test the implementation may be generated (semi-)randomly, similarly to what we did in `IPValidatorTests.test_first_two_octets`\n",
    "\n",
    "You will be practicing some of these in the exercises!"
   ]
  }
 ],
 "metadata": {
  "authors": [
   {
    "name": "Carol V. Alexandru-Funakoshi"
   }
  ],
  "kernelspec": {
   "display_name": "Python 3 (ipykernel)",
   "language": "python",
   "name": "python3"
  },
  "language_info": {
   "codemirror_mode": {
    "name": "ipython",
    "version": 3
   },
   "file_extension": ".py",
   "mimetype": "text/x-python",
   "name": "python",
   "nbconvert_exporter": "python",
   "pygments_lexer": "ipython3",
   "version": "3.12.6"
  },
  "title": "Exceptions & More on Functions"
 },
 "nbformat": 4,
 "nbformat_minor": 5
}
