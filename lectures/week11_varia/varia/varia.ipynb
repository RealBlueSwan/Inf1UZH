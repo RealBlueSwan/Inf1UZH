{
 "cells": [
  {
   "cell_type": "markdown",
   "id": "d57aec92-05ac-4bee-ae9e-bf03e535e3a9",
   "metadata": {},
   "source": [
    "# Final stretch\n",
    "\n",
    " * Today: some minor topics yet to be covered\n",
    " * Next week: Git\n",
    " * In two weeks: Last lecture, preparation for the exam\n",
    "\n",
    "The exam is going to take place on **Thursday 19.12.2024** some time between 11:30 and 14:00. More information will follow.\n",
    "\n",
    "Until then: practice, practice, practice!\n",
    "\n",
    "# Supertab\n",
    "\n",
    "In the lecture of 10.12.2024 (in two weeks), we will be testing Supertab in-class. **Participation is mandatory**, but you do not have to come physically: you may participate from home. Detailed instructions will follow next week and via Email.\n",
    "\n",
    "# Important Notice \n",
    "\n",
    "Soon, you will **no longer be able to use SMS** for two-factor authentication (2FA) on edu-ID. If you're already using an authenticator app, then you're OK. But if you receive an SMS code when logging in, then you must change your authentication method now. Make sure you do this before your exams! More information:\n",
    "\n",
    "[https://www.uzh.ch/blog/zi/2024/11/22/switch-edu-id-mit-zwei-faktor-authentifizierung-sms-option-faellt-weg/](https://www.uzh.ch/blog/zi/2024/11/22/switch-edu-id-mit-zwei-faktor-authentifizierung-sms-option-faellt-weg/)"
   ]
  },
  {
   "cell_type": "markdown",
   "id": "5fe67508-0961-4b14-ad17-8a3d3182feb9",
   "metadata": {},
   "source": [
    "## Recap: Recursion\n",
    "With recursion, **a whole can be broken up into smaller pieces which resemble the whole**.\n",
    "\n",
    "Here is how one might implement the functionality of getting the sum of a list `numbers` iteratively and recursively:"
   ]
  },
  {
   "cell_type": "code",
   "execution_count": null,
   "id": "13cc6114-5195-49c2-9069-47728d656922",
   "metadata": {},
   "outputs": [],
   "source": [
    "def iter_sum(numbers):\n",
    "    res = 0\n",
    "    for n in numbers:\n",
    "        res += n\n",
    "    return res\n",
    "\n",
    "def rec_sum(numbers):\n",
    "    if not numbers:\n",
    "        return 0\n",
    "    return numbers[0] + rec_sum(numbers[1:])           # the recursive call happens BEFORE the addition (+), which is the last thing that happens\n",
    "\n",
    "l = [1, 2, 3]\n",
    "print(iter_sum(l))\n",
    "print(rec_sum(l))"
   ]
  },
  {
   "cell_type": "markdown",
   "id": "24cfa2df-e3ef-4999-ac53-bfb091bac401",
   "metadata": {},
   "source": [
    "Know that a *tail-recursive* function has the recursive call as *the very last thing that really happens* in the function. Note that this is **not** the case in `rec_sum`, where the last thing that really happens is the addition using `+`. A tail-recursive solution usually needs to provide an accumulator which is passed down into each recursive call:"
   ]
  },
  {
   "cell_type": "code",
   "execution_count": null,
   "id": "c5d5f906-692e-4a4a-b433-9a2efcb51b0d",
   "metadata": {},
   "outputs": [],
   "source": [
    "def tail_sum(numbers, res=0):\n",
    "    if not numbers:\n",
    "        return res\n",
    "    return tail_sum(numbers[1:], res + numbers[0])     # the recursive call is truely what happens last\n",
    "print(tail_sum(l))"
   ]
  },
  {
   "cell_type": "markdown",
   "id": "45aa57d2-5f0d-429b-b8c5-fecb91caaa61",
   "metadata": {},
   "source": [
    "In both recursive implementations, there are three features common to most recursive code:\n",
    " 1. one or more base cases\n",
    " 2. one or more recursive calls\n",
    " 3. somehow combining *this* data with *the recursive rest*\n",
    "\n",
    "The most common ways you will encounter recursion is in recursive data structures (\"files and folders\")."
   ]
  },
  {
   "cell_type": "markdown",
   "id": "43418672-a36c-4b25-a09d-86144c987f2b",
   "metadata": {},
   "source": [
    "## A few words on testing\n",
    "\n",
    "It is very important that a test only tests **one specific thing**. For example, you were required to implement a test for the \"Game Moves\" task which ensures that a given implementation raises an exception if the game world dimensions are invalid. You might have come up with a test case like this:\n",
    "\n",
    "```python\n",
    "    def test_invalid_rowlength(self):\n",
    "        state = (\n",
    "            \"#####   \",\n",
    "            \"### o  #\",\n",
    "            \"#      #\",\n",
    "            \"  \"          # invalid row, not the same length as the others!\n",
    "        )\n",
    "        with self.assertRaises(Warning):\n",
    "            move(state, \"up\")\n",
    "```\n",
    "\n",
    "But there's a problem with this test case. An implementation which **does not** check for invalid row dimensions, but **does** check for invalid moves will \"correctly\" raise a `Warning` here. In this test, the player is running `UP` into a wall, so a `Warning` will be raised anyway! So this test will **pass** even for a buggy implementation that does not check if each row has the same length! \n",
    "\n",
    "Here is a test case that does not suffer from this problem:\n",
    "\n",
    "```python\n",
    "    def test_invalid_rowlength(self):\n",
    "        state = (\n",
    "            \"#####   \",\n",
    "            \"### o  #\",\n",
    "            \"#      #\",\n",
    "            \"  \"          # invalid row, not the same length as the others!\n",
    "        )\n",
    "        with self.assertRaises(Warning):\n",
    "            move(state, \"down\")\n",
    "```\n",
    "\n",
    "Now, the only thing wrong when calling `move` is that the world has rows of unequal length, everything else is valid. This way, the specific bug can actually be identified!"
   ]
  },
  {
   "cell_type": "markdown",
   "id": "b0e515c2-f877-49c0-a8da-2ea6e619011c",
   "metadata": {},
   "source": [
    "<p style=\"height:100px\"></p>\n",
    "<hr>\n",
    "<p style=\"height:100px\"></p>\n",
    "\n",
    "\n",
    "\n"
   ]
  },
  {
   "cell_type": "markdown",
   "id": "0abe20e7-8294-40ce-a13d-79c8317668cf",
   "metadata": {},
   "source": [
    "## `map` and `filter`\n",
    "\n",
    "In Python, if you want to *change* each value in a collection, or *filter* a collection, you would typically use a comprehension. For example, you might convert a list of strings to a list of integers like this:"
   ]
  },
  {
   "cell_type": "code",
   "execution_count": null,
   "id": "b0154b2f-b45c-436a-8fab-b11504928c01",
   "metadata": {},
   "outputs": [],
   "source": [
    "l = [\"1\", \"3\", \"5\"]\n",
    "[int(n) for n in l]"
   ]
  },
  {
   "cell_type": "markdown",
   "id": "0972dba3-34a4-41af-869a-f251f160fc63",
   "metadata": {},
   "source": [
    "Or to get rid of all strings which are not numbers, you might do:"
   ]
  },
  {
   "cell_type": "code",
   "execution_count": null,
   "id": "a9710067-06e5-450e-8faf-ec31b2653499",
   "metadata": {},
   "outputs": [],
   "source": [
    "l = [\"1\", \"a\", \"5\", \"11\", \"five\"]\n",
    "[n for n in l if n.isdigit()]"
   ]
  },
  {
   "cell_type": "markdown",
   "id": "cbe6728d-f8fd-4211-bdfc-5f98419b86c7",
   "metadata": {},
   "source": [
    "However, comprehensions are a fairly Python-specific idea. In most other programming languages, the functionality of comprehensions is covered by two functions called `map` and `filter`. Here is how we could implement these functions ourselves:\n",
    "\n",
    "`my_map` takes a function and a collection of values. It calls the function for each value in the collection and returns a list with the resulting values. We say that `fun` is *applied* to each value in the collection."
   ]
  },
  {
   "cell_type": "code",
   "execution_count": null,
   "id": "d1b5e283-e2e2-4f93-acd3-c8b2f61625ed",
   "metadata": {},
   "outputs": [],
   "source": [
    "def my_map(fun, collection):\n",
    "    res = []\n",
    "    for elem in collection:\n",
    "        res.append(fun(elem))      # apply fun to elem -> transform\n",
    "    return res                     # list of transformed values\n",
    "\n",
    "l = [\"1\", \"3\", \"5\"]\n",
    "my_map(int, l)                     # equivalent to [int(n) for n in l]"
   ]
  },
  {
   "cell_type": "markdown",
   "id": "dfd76f53-4415-4dc4-8664-7626c2e16c5e",
   "metadata": {},
   "source": [
    "Likewise, `my_filter` takes a function and a collection of values. It calls the function for each value in the collection to determine whether to keep the element of to discard it and returns a list containing only those values from the original collection, where the function call evaluated as truthy."
   ]
  },
  {
   "cell_type": "code",
   "execution_count": null,
   "id": "a1d42f79-be10-4f70-812c-a726a64466ab",
   "metadata": {},
   "outputs": [],
   "source": [
    "def my_filter(fun, collection):\n",
    "    res = []\n",
    "    for elem in collection:\n",
    "        if fun(elem):              # apply fun to elem -> filter\n",
    "            res.append(elem)\n",
    "    return res                     # list of values that passed the filter\n",
    "\n",
    "l = [\"1\", \"a\", \"5\", \"11\", \"five\"]\n",
    "my_filter(str.isdigit, l)          # equivalent to [n for n in l if n.isdigit()]"
   ]
  },
  {
   "cell_type": "markdown",
   "id": "2b82df87-3c43-4de3-b0e2-79cbf5c5079b",
   "metadata": {},
   "source": [
    "When comparing `my_filter(str.isdigit, l)` with `[n for n in l if n.isdigit()]`, remember that "
   ]
  },
  {
   "cell_type": "code",
   "execution_count": null,
   "id": "9a3b5102-efca-4e16-ac48-9af1787fb62c",
   "metadata": {},
   "outputs": [],
   "source": [
    "\"5\".isdigit()"
   ]
  },
  {
   "cell_type": "markdown",
   "id": "4fe4a48e-563b-462e-a607-dc15db56f427",
   "metadata": {},
   "source": [
    "is just syntactic sugar for:"
   ]
  },
  {
   "cell_type": "code",
   "execution_count": null,
   "id": "93800b06-2346-48f4-8557-64dd2eb81370",
   "metadata": {},
   "outputs": [],
   "source": [
    "str.isdigit(\"5\")"
   ]
  },
  {
   "cell_type": "markdown",
   "id": "7a2f590d-a287-47e8-b2f6-cd985beff118",
   "metadata": {},
   "source": [
    "So to illustrate that it's still `str.isdigit` which is applied to each value, you could rewrite the comprehension as"
   ]
  },
  {
   "cell_type": "code",
   "execution_count": null,
   "id": "bb9418ef-37d6-4033-89c6-df1071843b33",
   "metadata": {},
   "outputs": [],
   "source": [
    "[n for n in l if str.isdigit(n)]"
   ]
  },
  {
   "cell_type": "markdown",
   "id": "06029db0-60f5-4176-aaa1-bd5688c85c75",
   "metadata": {},
   "source": [
    "Python ships with these functions built-in. "
   ]
  },
  {
   "cell_type": "code",
   "execution_count": null,
   "id": "bc576cde-dda0-421d-af60-f43d5f118da6",
   "metadata": {},
   "outputs": [],
   "source": [
    "l = [\"1\", \"3\", \"5\"]\n",
    "map(int, l)"
   ]
  },
  {
   "cell_type": "code",
   "execution_count": null,
   "id": "e609237d-1a0b-4021-826b-ef03ae2dab6e",
   "metadata": {},
   "outputs": [],
   "source": [
    "l = [\"1\", \"a\", \"5\", \"11\", \"five\"]\n",
    "filter(str.isdigit, l)"
   ]
  },
  {
   "cell_type": "markdown",
   "id": "09bfd6e1-637a-4274-9744-d4ddfaf50ecc",
   "metadata": {},
   "source": [
    "Notice that these are lazy-loading iterators, so to \"see\" their contents in Jupyter Notebook, we need to convert the result to a collection."
   ]
  },
  {
   "cell_type": "code",
   "execution_count": null,
   "id": "70b8fa39-91d6-4c74-aee8-9763524adcf7",
   "metadata": {},
   "outputs": [],
   "source": [
    "l = [\"1\", \"3\", \"5\"]\n",
    "list(map(int, l))               # wrap in list(...) to see the result"
   ]
  },
  {
   "cell_type": "code",
   "execution_count": null,
   "id": "21785682-5bc1-4e9a-995c-d8882b91f839",
   "metadata": {},
   "outputs": [],
   "source": [
    "l = [\"1\", \"a\", \"5\", \"11\", \"five\"]\n",
    "list(filter(str.isdigit, l))    # wrap in list(...) to see the result"
   ]
  },
  {
   "cell_type": "markdown",
   "id": "7be5ac91-bd03-4feb-b64b-da84157f566d",
   "metadata": {},
   "source": [
    "As you can see, `map` and `filter` are very simple functions that implement the modification and filtering capabilities provided by comprehensions in Python. The Python designers indeed recommend using comprehensions over the use of these functions. Most other languages, however, don't have comprehensions and simply provide `map` and `filter`. You should get comfortable with the idea.\n",
    "\n",
    "The most important thing to understand is that the first parameter given to `map` and `filter` is always a function that takes one parameter.\n",
    " * In case of `map`, the return value (`5`) of the function call (`int(\"5\")`) replaces the original element (`\"5\"`) in the resulting collection.\n",
    " * In case of `filter`, the return value (`True`) of the function call (`str.isdigit(\"5\")`) determines whether the original item (`\"5\"`) should be kept in the resulting collection.\n",
    "\n",
    "Let's see a few more examples:"
   ]
  },
  {
   "cell_type": "code",
   "execution_count": null,
   "id": "7eb62b77-2aa7-438f-9eaf-d2175aa20bda",
   "metadata": {},
   "outputs": [],
   "source": [
    "# Get lengths of strings\n",
    "words = [\"apple\", \"banana\", \"cherry\", \"date\"]\n",
    "list(  map(len, words)         )          # [len(w) for w in words]"
   ]
  },
  {
   "cell_type": "code",
   "execution_count": null,
   "id": "f0dc3499-2046-465d-881c-0e3d42de3891",
   "metadata": {},
   "outputs": [],
   "source": [
    "# Filter for strings containing only whitespace\n",
    "l = [\"  \", \"hello\", \" \", \"world\", \"\\n\", \"\\t\"]\n",
    "list(  filter(str.isspace, l)  )          # [s for s in l if s.isspace()]"
   ]
  },
  {
   "cell_type": "code",
   "execution_count": null,
   "id": "b3549ab3-b1df-4a0f-a37a-12abe2afc25c",
   "metadata": {},
   "outputs": [],
   "source": [
    "# Round floating point numbers\n",
    "decimals = [3.14159, 2.71828, 1.41421]\n",
    "list(  map(round, decimals)    )          # [round(n) for n in decimals]"
   ]
  },
  {
   "cell_type": "code",
   "execution_count": null,
   "id": "90de6537-727c-4f86-9032-71dab5ba42ee",
   "metadata": {},
   "outputs": [],
   "source": [
    "# Filter for truthy values\n",
    "values = [0, None, False, \"\", 42, \"hello\", [], [1,2], {}]\n",
    "list(  filter(bool, values)    )          # [v for v in values if v]"
   ]
  },
  {
   "cell_type": "markdown",
   "id": "069ff3a2-5baa-44c7-8a10-f257246d2bd3",
   "metadata": {},
   "source": [
    "As you can see in each of those examples, the first parameter given to `map` or `filter` is a function that takes one parameter:\n",
    "\n",
    " * `map(len, words)`: `len` takes a collection and returns an integer\n",
    " * `filter(str.isspace, l)`: `str.isspace` takes a string and returns a boolean\n",
    " * `map(round, decimals)`: `round` takes a number and returns an integer\n",
    " * `filter(bool, values)`: `bool` takes anything and returns a boolean"
   ]
  },
  {
   "cell_type": "markdown",
   "id": "80e4882d-631b-411c-8adc-2fe78b1b5f3f",
   "metadata": {},
   "source": [
    "However, what can we do if our transformation function for `map`, or our criteria for `filter` are more complicated than just a plain function? Let's say in the following example, that we want to remove all elements from a collection unless they are a list, tuple or dictionary. Instead of providing a ready-made function to `filter`, we could just implement a new function that we can pass as the first parameter to `filter`:"
   ]
  },
  {
   "cell_type": "code",
   "execution_count": null,
   "id": "ff942a41-eb84-4dda-b72e-25273ee84c36",
   "metadata": {},
   "outputs": [],
   "source": [
    "values = [0, None, False, \"\", 42, \"hello\", [], [1,2], {}]\n",
    "\n",
    "def criteria(it):\n",
    "    return isinstance(it, (list, tuple, dict))  # returns a boolean\n",
    "    \n",
    "print(list(  filter(criteria, values)   ))      # criteria is applied to each element"
   ]
  },
  {
   "cell_type": "markdown",
   "id": "386412a7-ac96-433f-95ff-b24664a59414",
   "metadata": {},
   "source": [
    "As you can see, we implemented a function `criteria` which takes one argument. This function is called for each element in the collection to determine whether to keep it or not. The `criteria` function returns True if `it` is one of the desired types.\n",
    "\n",
    "Note that we cannot simply use `isinstance(it, (list, tuple, dict))` as the first parameter to `filter`, because that's not a function:\n",
    "\n",
    "```python\n",
    "# Here, the first parameter to filter is NOT a function\n",
    "# This wouldn't work because what is *it*?\n",
    "print(list(  filter(isinstance(it, (list, tuple, dict)), values)   ))\n",
    "```\n",
    "\n",
    "So that's why we had to create a function (`criteria`) first, and use it as a parameter to `filter`."
   ]
  },
  {
   "cell_type": "markdown",
   "id": "c5dfe118-328e-4481-8fe7-2165a89b9bcb",
   "metadata": {},
   "source": [
    "Here is a similar example for `map`. Say we want to add `1` to each number in a collection. Even for something so simple, we would still need to implement a separate function:"
   ]
  },
  {
   "cell_type": "code",
   "execution_count": null,
   "id": "c0e2af35-11a1-4966-a38d-270de7b3275c",
   "metadata": {},
   "outputs": [],
   "source": [
    "values = [1, 3, 5]\n",
    "def adder(x):\n",
    "    return x + 1\n",
    "print(list(  map(adder, values)   ))"
   ]
  },
  {
   "cell_type": "markdown",
   "id": "47e49ee4-dbc5-429c-9336-7b76db9d7be3",
   "metadata": {},
   "source": [
    "Again, we couldn't just use `x+1` as the first parameter:\n",
    "\n",
    "```python\n",
    "# Here, the first parameter to map is NOT a function\n",
    "# This wouldn't work because what is *x*?\n",
    "print(list(  map(x + 1, values)   ))\n",
    "```"
   ]
  },
  {
   "cell_type": "markdown",
   "id": "bd50dd10-f9e3-4a80-8f46-c02fe0ed986f",
   "metadata": {},
   "source": [
    "Having to define a new function and give it a name is a little bit cumbersome, especially if we're only going to use that function as part of a `map` or `filter` call but nowhere else. All we want to tell the `map` function is that \"given a value, add one\", or `x + 1`, without having to define the `adder` function."
   ]
  },
  {
   "cell_type": "markdown",
   "id": "3b696f2a-f4be-4479-ac12-0fe2fa753efd",
   "metadata": {},
   "source": [
    "## Lambdas / Anonymous functions\n",
    "\n",
    "In a situation where we just need some functionality that we could put in a function (like `adder` above), we can make use of a language feature called *anonymous functions*. In Python and some other languages, this is referred to as a *lambda function*. We can turn our non-working example from above by simply adding `lambda x : ` in front of the `x + 1` which we want to pass into the `map` function:"
   ]
  },
  {
   "cell_type": "code",
   "execution_count": null,
   "id": "39ac9e08-f2fe-405f-adcd-378740239bb4",
   "metadata": {},
   "outputs": [],
   "source": [
    "values = [1, 3, 5]\n",
    "print(list(  map(lambda x: x + 1, values)   ))    # the lambda acts the same as 'adder'"
   ]
  },
  {
   "cell_type": "markdown",
   "id": "774f514a-50dd-4dfe-b7a1-40bbe7abcfda",
   "metadata": {},
   "source": [
    "As you can see, it works exactly the same as if we were to pass in the `adder` function. However, instead of implementing `adder` as a separate, *named function*, we simply defined a lambda as the first parameter to `map`. The general syntax for lambdas in python is:\n",
    "\n",
    "```python\n",
    "lambda arguments: expression\n",
    "```\n",
    "\n",
    "`lambda` is really just another way to define functions. We could define a lambda function and then assign it to a variable. We would then have ended up with a regular function:"
   ]
  },
  {
   "cell_type": "code",
   "execution_count": null,
   "id": "ff2d0517-8b64-4ded-aa3d-750e541c80db",
   "metadata": {},
   "outputs": [],
   "source": [
    "adder = lambda x: x + 1       # this is a bit silly\n",
    "adder(3)"
   ]
  },
  {
   "cell_type": "code",
   "execution_count": null,
   "id": "0997ae61-0746-4ed9-bfc5-cbc09c33b0bb",
   "metadata": {},
   "outputs": [],
   "source": [
    "def adder(x):                 # identical\n",
    "    return x + 1\n",
    "adder(3)"
   ]
  },
  {
   "cell_type": "markdown",
   "id": "22a832ee-cba3-43b9-b8a3-e2f372f9ca76",
   "metadata": {},
   "source": [
    "However, if we do not assign the lambda to a variable, that means we cannot refer to it anywhere else (hence it is \"anonymous\"). Lambdas are a popular choice when defining ad-hoc functionality that is really only needed in place, such as\n",
    " * changing each value when calling `map`\n",
    " * filtering criteria when calling `filter`\n",
    " * sorting criteria  when calling `sorted` or `.sort()`\n",
    "\n",
    "Let's look at some more examples."
   ]
  },
  {
   "cell_type": "code",
   "execution_count": null,
   "id": "d5739050-6737-477b-9cae-8c6a42cc07c1",
   "metadata": {},
   "outputs": [],
   "source": [
    "# Filter list, tuple, dict from a collection \n",
    "values = [0, None, False, \"\", 42, \"hello\", [], [1,2], {}]\n",
    "list(  filter(lambda x: isinstance(x, (list, tuple, dict)), values)   )  # instead of defining the `criteria` function"
   ]
  },
  {
   "cell_type": "code",
   "execution_count": null,
   "id": "31da7263-4ccc-4f6e-9bce-cfcfcbcab735",
   "metadata": {},
   "outputs": [],
   "source": [
    "# Transform each string into a 2-tuple containing the length and upper-case version\n",
    "words = ['hello', 'world', 'python']\n",
    "list(  map(lambda x: (len(x), x.upper()), words)                      )"
   ]
  },
  {
   "cell_type": "code",
   "execution_count": null,
   "id": "a00b76ab-4c62-430b-a6fd-01be5794070d",
   "metadata": {},
   "outputs": [],
   "source": [
    "# Filter strings containing only whitespace\n",
    "l = [\"  \", \"hello\", \" \", \"world\", \"\\n\", \"\\t\"]\n",
    "list(  filter(str.isspace, l)                )    # no lambda needed"
   ]
  },
  {
   "cell_type": "code",
   "execution_count": null,
   "id": "d23cbcf7-36db-4bc8-975b-4eaed8ffe4c9",
   "metadata": {},
   "outputs": [],
   "source": [
    "# Filter strings NOT containing only whitespace\n",
    "l = [\"  \", \"hello\", \" \", \"world\", \"\\n\", \"\\t\"]\n",
    "list(  filter(lambda x: not x.isspace(), l)  )    # lambda to invert the condition"
   ]
  },
  {
   "cell_type": "markdown",
   "id": "5273e27a-1366-484c-97ef-935e70935594",
   "metadata": {},
   "source": [
    "Here's a function which simply compares if two functions produce the same result for a given argument:"
   ]
  },
  {
   "cell_type": "code",
   "execution_count": null,
   "id": "4a29b43e-438f-42bc-9568-fee8fd00c084",
   "metadata": {},
   "outputs": [],
   "source": [
    "def same_result(f, g, it):\n",
    "    return f(it) == g(it)\n",
    "print( same_result(len, sum, [1, 1]) )\n",
    "print( same_result(str.title, str.upper, \"world\") )\n",
    "print( same_result(bool, str.isdigit, \"1\") )"
   ]
  },
  {
   "cell_type": "markdown",
   "id": "1be2cee7-125e-47cd-931f-3d46bf885f5d",
   "metadata": {},
   "source": [
    "Now that you know about lambdas, you would also be able to use this function like so:"
   ]
  },
  {
   "cell_type": "code",
   "execution_count": null,
   "id": "d60daed5-98cc-4a16-a968-cb57bf3be08b",
   "metadata": {},
   "outputs": [],
   "source": [
    "print( same_result(abs, lambda x: x if x > 0 else -x, -100) )"
   ]
  },
  {
   "cell_type": "markdown",
   "id": "802f2962-a4d3-4e25-9985-75139c2a754e",
   "metadata": {},
   "source": [
    "You do not necessarily need to use lambdas, but you must be able to recognize what they do and how they work."
   ]
  },
  {
   "cell_type": "markdown",
   "id": "cbac6386-ca1f-46c3-8cf7-02f59eea675d",
   "metadata": {},
   "source": [
    "## `sorted` and `.sort`\n",
    "\n",
    "Another function which works rather similarily to `map` and `filter` is `sorted`. In the simplest case, it just takes a collection and returns it sorted according to the comparison operators (`__gt__` etc.) of the elments. Note that `sorted` does **not** modify the input collection. Here, it sorts a list of strings alphabetically (because that's how ordering of strings is implemented):"
   ]
  },
  {
   "cell_type": "code",
   "execution_count": null,
   "id": "8b3a7845-a3ce-4453-9818-439b822ac8b1",
   "metadata": {},
   "outputs": [],
   "source": [
    "words = [\"python\", \"c\", \"java\", \"javascript\", \"ada\"]\n",
    "sorted(words)"
   ]
  },
  {
   "cell_type": "markdown",
   "id": "edcd862e-9e7d-4b87-a315-202173118664",
   "metadata": {},
   "source": [
    "However, `sorted` can also take an optional keyword argument `key`:"
   ]
  },
  {
   "cell_type": "code",
   "execution_count": null,
   "id": "5fb6ff2f-4cbc-4aba-9a50-a003797f02fd",
   "metadata": {},
   "outputs": [],
   "source": [
    "words = [\"python\", \"c\", \"java\", \"javascript\", \"ada\"]\n",
    "sorted(words, key=len)"
   ]
  },
  {
   "cell_type": "markdown",
   "id": "2cff1cb8-39ca-4e53-8663-e462f93d78ef",
   "metadata": {},
   "source": [
    "As you can see, `key` is also expected to be a function (just like the first parameter to `map` or `filter`). In the example above, the function is `len`, which takes a collection as an argument and returns a number. `sorted` then uses that number to order the values in the collection. Thus, it sorts the strings by length, instead of alphabetically."
   ]
  },
  {
   "cell_type": "markdown",
   "id": "39d26434-cad7-48eb-b481-d603ee05ca15",
   "metadata": {},
   "source": [
    "This is another case where `lambda` comes in handy. Say we want to sort students by their grade:"
   ]
  },
  {
   "cell_type": "code",
   "execution_count": null,
   "id": "a0f8fbf0-857b-4bb9-9504-bcac631d6ac4",
   "metadata": {},
   "outputs": [],
   "source": [
    "students = [('Alice', 5.75), ('Bob', 3.75), ('Charlie', 5.00)]\n",
    "sorted(students, key=lambda x: x[1]) # does not modify students but returns a new collection"
   ]
  },
  {
   "cell_type": "markdown",
   "id": "203e1866-6d8a-4d85-9420-646e60be1e0f",
   "metadata": {},
   "source": [
    "Some collections also provide a method `.sort`. It works the same, but actually modifies the collection in-place:"
   ]
  },
  {
   "cell_type": "code",
   "execution_count": null,
   "id": "86a6e776-cbdd-478c-b40c-cfbdb891c146",
   "metadata": {},
   "outputs": [],
   "source": [
    "students = [('Alice', 5.75), ('Bob', 3.75), ('Charlie', 5.00)]\n",
    "print(students)\n",
    "students.sort(key=lambda x: x[1])   # sorts in-place, modifying students\n",
    "print(students)"
   ]
  },
  {
   "cell_type": "markdown",
   "id": "807dba57-91c4-4f49-bfba-d0893d319834",
   "metadata": {},
   "source": [
    "It's best to be familiar with `sorted` and `.sort` because it's such a common thing to do."
   ]
  },
  {
   "cell_type": "markdown",
   "id": "6b3c6a4a-acfa-46ac-aac6-9284bec10cc1",
   "metadata": {},
   "source": [
    "## `continue` and `break`\n",
    "\n",
    "`for` loops usually are intended to run for each element in a collection, and `while` loops usually run until the condition becomes false:"
   ]
  },
  {
   "cell_type": "code",
   "execution_count": null,
   "id": "2a666e43-6198-4534-be80-bfd28c478650",
   "metadata": {},
   "outputs": [],
   "source": [
    "# for loop typically iterates for each element\n",
    "for i in [\"Bob\", \"Anne\", \"Alice\"]:\n",
    "    print(i)\n",
    "\n",
    "# while loop typically iterates until the condition is false\n",
    "n = 3\n",
    "while n > 0:\n",
    "    print(n)\n",
    "    n -= 1"
   ]
  },
  {
   "cell_type": "markdown",
   "id": "98b029ff-57f4-41f0-b466-56d476e5b8a6",
   "metadata": {},
   "source": [
    "When a using a `for` or `while` loop, you have some additional ways to control the flow of execution.\n",
    "\n",
    " * `continue` will end the current iteration of the loop and jump back to the beginning to execute the next loop (if there is any)\n",
    " * `break` will end the iteration entirely\n",
    "\n",
    "In the following example, where a `for` loop iterates over each element in a list of strings, `continue` is used to jump to the next iteration if the string is essentially empty:"
   ]
  },
  {
   "cell_type": "code",
   "execution_count": null,
   "id": "6841abbc-bb5c-4e55-af33-4a34b1ce3787",
   "metadata": {},
   "outputs": [],
   "source": [
    "responses = [\n",
    "    \"Great service!\",\n",
    "    \"\",\n",
    "    \"   \",\n",
    "    \"Food was cold\",\n",
    "    \"\\n\",\n",
    "    \"Will come back again\"\n",
    "]\n",
    "\n",
    "for feedback in responses:\n",
    "    if not feedback.strip():          # if, after stripping whitespace, there's nothing left, this is an invalid feedback\n",
    "        continue                      # go to the next iteration\n",
    "    print(feedback)"
   ]
  },
  {
   "cell_type": "markdown",
   "id": "d876055e-1892-44f5-9893-9ef33e0a1887",
   "metadata": {},
   "source": [
    "Similarily, the following example uses `break` to completely end the loop early under certain conditions:"
   ]
  },
  {
   "cell_type": "code",
   "execution_count": null,
   "id": "638be8a8-8cc9-4788-9215-e3d21ac1fee3",
   "metadata": {},
   "outputs": [],
   "source": [
    "responses = [\n",
    "    \"Good service\",\n",
    "    \"Waiter was friendly\",\n",
    "    \"Found hair in my food!\",\n",
    "    \"Nice atmosphere\",\n",
    "    \"Enjoyed the music\"\n",
    "]\n",
    "for feedback in responses:    \n",
    "    if \"hair\" in feedback.lower() or \"bug\" in feedback.lower():\n",
    "        print(f\"ALERT: Critical issue found: {feedback} -- act immediately!\")\n",
    "        break                        # end the for loop right here\n",
    "    print(feedback)"
   ]
  },
  {
   "cell_type": "markdown",
   "id": "f2506ad4-ea44-485f-bd86-ea221e64f456",
   "metadata": {},
   "source": [
    "Note that in many cases, your functionality will be contained in functions. If that's the case, then it's quite likely that you can simply use an early `return` instead of `break`, unless you want to continue with some more code after the `for` loop."
   ]
  },
  {
   "cell_type": "code",
   "execution_count": null,
   "id": "aca0c70e-c4f3-4518-9ef6-4d8a3a6c7296",
   "metadata": {},
   "outputs": [],
   "source": [
    "def analyze_feedback(responses):\n",
    "    for feedback in responses:    \n",
    "        if \"hair\" in feedback.lower() or \"bug\" in feedback.lower():\n",
    "            print(f\"ALERT: Critical issue found: {feedback} -- act immediately!\")\n",
    "            return                   # end the function right here\n",
    "        print(feedback)\n",
    "analyze_feedback(responses)"
   ]
  },
  {
   "cell_type": "markdown",
   "id": "278c5376-9bf3-4df1-903d-0880c7c9233f",
   "metadata": {},
   "source": [
    "## Data classes\n",
    "\n",
    "It happens with some frequency that a class you create mostly exists as a simply object to store some data. Here is an example:"
   ]
  },
  {
   "cell_type": "code",
   "execution_count": null,
   "id": "9273c476-4bb2-4bb7-8bc2-813d5792cb19",
   "metadata": {},
   "outputs": [],
   "source": [
    "class Person:\n",
    "    def __init__(self, name, age):\n",
    "        self.name = name\n",
    "        self.age = age\n",
    "\n",
    "p1 = Person(\"Bob\", 33)\n",
    "print(p1)"
   ]
  },
  {
   "cell_type": "markdown",
   "id": "3c456d52-1c51-43ed-b013-835a19161a18",
   "metadata": {},
   "source": [
    "To make this class behave nicely, we would probably also want to implement `__str__`, `__repr__` and maybe some other methods. However, since this use case is very common, Python provides a helper called `dataclass` to create such classes more easily:"
   ]
  },
  {
   "cell_type": "code",
   "execution_count": null,
   "id": "0ecefe24-e0bd-41f4-ad85-80d931af3fef",
   "metadata": {},
   "outputs": [],
   "source": [
    "from dataclasses import dataclass\n",
    "\n",
    "@dataclass\n",
    "class Person:\n",
    "    name: str\n",
    "    age: int\n",
    "\n",
    "p1 = Person(\"Bob\", 33)\n",
    "print(p1)"
   ]
  },
  {
   "cell_type": "markdown",
   "id": "e748bfad-0ecb-477a-b2f9-f2359f47497e",
   "metadata": {},
   "source": [
    "To create a data class, we simply annotate the class with `@dataclass`. Then, we list the desired attributes, in this case `name: str` and `age: int`. For data classes, type annotations are mandatory. As you can see, `@dataclass` automatically creates `__init__`, `__str__`, `__repr__`, `__eq__`, and some other functionality - very convenient!"
   ]
  },
  {
   "cell_type": "code",
   "execution_count": null,
   "id": "2f690d6f-914c-47c6-81df-9341ca2045e1",
   "metadata": {},
   "outputs": [],
   "source": [
    "p2 = Person(\"Bob\", 33)\n",
    "p3 = Person(\"Alice\", 33)\n",
    "print(p1)          # automatically implemented __str__\n",
    "print(p2)\n",
    "print(p3)\n",
    "print(p1 == p2)    # automatically implemented __eq__\n",
    "print(p1 == p3)\n",
    "print([p1, p3])    # automatically implemented __repr__"
   ]
  },
  {
   "cell_type": "markdown",
   "id": "6ed094c3-6a20-4869-b5b2-6e85867ed73f",
   "metadata": {},
   "source": [
    "It can even automatically implement other comparison operators, if you provide it with some additional arguments. Here, we say that instances of `Person` are \"frozen\" (i.e., immutable), and that we also want to automatically implement the comparison functions for ordering as well as `__hash__`:"
   ]
  },
  {
   "cell_type": "code",
   "execution_count": null,
   "id": "c20c988f-051c-4b62-b002-d9f602b0a579",
   "metadata": {},
   "outputs": [],
   "source": [
    "@dataclass(order=True, frozen=True, unsafe_hash=True)\n",
    "class Person:\n",
    "    name: str\n",
    "    age: int\n",
    "    \n",
    "p1 = Person(\"Bob\", 33)\n",
    "p3 = Person(\"Alice\", 33)\n",
    "print(hash(p1))\n",
    "print(p1 > p3)\n",
    "\n",
    "#p1.name = \"Bobby\"        # will generate an exception, because Persons are now immutable (\"frozen\")"
   ]
  },
  {
   "cell_type": "markdown",
   "id": "1c571f0c-54ce-4888-90a0-dba310f655db",
   "metadata": {},
   "source": [
    "You can also provide default values in the data class definition, and you can still implement additional methods as usual:"
   ]
  },
  {
   "cell_type": "code",
   "execution_count": null,
   "id": "959e7545-b3b8-4725-b632-556f4fe9c040",
   "metadata": {},
   "outputs": [],
   "source": [
    "@dataclass\n",
    "class Person:\n",
    "    name: str\n",
    "    age: int = 0\n",
    "\n",
    "    def reach_birthday(self):\n",
    "        self.age += 1\n",
    "        \n",
    "p1 = Person(\"Bob\")\n",
    "p3 = Person(\"Alice\", 33)\n",
    "print(p1)\n",
    "p1.reach_birthday()\n",
    "print(p1)"
   ]
  },
  {
   "cell_type": "markdown",
   "id": "3fceb6a0-9bb8-46e7-8910-0d82bbdc064c",
   "metadata": {},
   "source": [
    "Just don't be confused by the syntax: `name` and `age` are NOT class attributes. You *could* add class attributes, but they must not have any type annotations:"
   ]
  },
  {
   "cell_type": "code",
   "execution_count": null,
   "id": "035a5007-dc0b-4d73-825b-69955c9865ba",
   "metadata": {},
   "outputs": [],
   "source": [
    "@dataclass\n",
    "class Person:\n",
    "    name: str\n",
    "    age: int = 0\n",
    "\n",
    "    example_class_attribute = \"Like a Toyota's serial_counter, this attribute only exists once.\"\n",
    "        \n",
    "p1 = Person(\"Bob\")\n",
    "p3 = Person(\"Alice\", 33)\n",
    "print(p1.name == p3.name)\n",
    "print(p1.example_class_attribute == p3.example_class_attribute == Person.example_class_attribute)"
   ]
  },
  {
   "cell_type": "markdown",
   "id": "cd0b9298-7a61-41eb-8656-991c3e55ffb4",
   "metadata": {},
   "source": [
    "You do not need to use data classes, but you should be able to recognize them and know how they work."
   ]
  },
  {
   "cell_type": "markdown",
   "id": "4e9d33ce-6aa7-4532-aa15-d37d867c76ae",
   "metadata": {},
   "source": [
    "## Working with files\n",
    "\n",
    "Python can read and write files on your machine. When working with files **be careful not to accidentally overwrite or delete your work**. You can destroy your operating system and trash all your files if you're not careful.\n",
    "\n",
    "Let's say we have some data that we want to save to a file. In the following example, we open a file `cities.csv` in *write mode* (`'w'`). We can then write text to this file. Note that this will **overwrite** `cities.csv` as soon as something is written to it. We decide to store the data using simple CSV (comma-separated-values), where each value in the tuple will be separated by a comma `,` and each row by a newline `\\n`."
   ]
  },
  {
   "cell_type": "code",
   "execution_count": null,
   "id": "12226ed4-28b1-403b-aa72-4d9a7603ee25",
   "metadata": {},
   "outputs": [],
   "source": [
    "cities = [\n",
    "    (35.6839,  139.7744, \"Tokyo\"),\n",
    "    (40.6943,  -73.9249, \"New York\"),\n",
    "    (19.4333,  -99.1333, \"Mexico City\"),\n",
    "    (18.9667,   72.8333, \"Mumbai\"),\n",
    "    (-23.5504, -46.6339, \"Sao Paulo\"),\n",
    "]\n",
    "\n",
    "with open('cities.csv', 'w') as f:                          # open the file, referencing it as 'f'\n",
    "    for line in cities:\n",
    "        f.write(\",\".join([str(it) for it in line]) + '\\n')  # write each row of our data"
   ]
  },
  {
   "cell_type": "markdown",
   "id": "3b13c212-3bcd-43d0-92d8-5ed5d3253490",
   "metadata": {},
   "source": [
    "You can now open `cities.csv` in a text or spreadsheet editor to confirm that the file was indeed created. If you want to add data to a file, instead of overwriting it, you can specify *append mode* `('a')`:"
   ]
  },
  {
   "cell_type": "code",
   "execution_count": null,
   "id": "5d073c00-5207-4cf9-b992-177217dc2e03",
   "metadata": {},
   "outputs": [],
   "source": [
    "with open('cities.csv', 'a') as f:                          # append mode 'a' instead of 'w'\n",
    "    f.write(\"47.3764,8.5432,Zurich\\n\")"
   ]
  },
  {
   "cell_type": "markdown",
   "id": "67d95af3-189d-40bd-a011-122066e00811",
   "metadata": {},
   "source": [
    "Reading a file works similarily. Let's read the file back into a data structure using *read mode* (`'r'`):"
   ]
  },
  {
   "cell_type": "code",
   "execution_count": null,
   "id": "9ba7e2d4-9293-4222-8d68-4382c8ea8a02",
   "metadata": {},
   "outputs": [],
   "source": [
    "cities = []\n",
    "\n",
    "with open('cities.csv', 'r') as f:                              # read mode 'r'\n",
    "    content = f.read()                                          # read the entire file\n",
    "    for line in content.splitlines():                           # split on newlines\n",
    "        row = line.strip().split(',')                           # split on commas\n",
    "        lat, lon, name = float(row[0]), float(row[1]), row[2]   # convert the numbers from strings where necessary\n",
    "        cities.append((lat, lon, name))                         # add the resulting tuple to the cities list\n",
    "\n",
    "print(cities)"
   ]
  },
  {
   "cell_type": "markdown",
   "id": "f10e9c16-3e3a-45c5-9357-62402d0da335",
   "metadata": {},
   "source": [
    "A couple of things to note:\n",
    "\n",
    " * The `with ... as ...:` statement is called a *context manager*. It ensures that when the `with` block ends, the file is properly closed. There are other context managers in Python, but for now, you only need to know this one for reading and writing files.\n",
    " * When reading or writing binary data, you may need to use the `\"wb\"`, `\"ab\"` and `\"rb\"` modes. We did not really discuss binary data. Just be aware of this.\n",
    " * Above, we used `f.read()` to read the entire file content and then we split it. You could also use `f.readlines()` or `list(f)` to obtain the lines directly.\n",
    " * If you have a very large file, reading all of it at once may not be possible. You can use `f.readline()` to read just one line or `f.read(n)` to read `n` characters (or bytes when in binary mode). You can also move to a different position in the file using `f.seek(...)`.\n",
    " * Python ships with many libraries to work with specific file types, such as [CSV](https://docs.python.org/3/library/csv.html) [ZIP files](https://docs.python.org/3/library/zipfile.html) or other archives, [emails](https://docs.python.org/3/library/email.html), [JSON](https://docs.python.org/3/library/json.html), [HTML](https://docs.python.org/3/library/html.parser.html#module-html.parser), [XML](https://docs.python.org/3/library/xml.html), [SQLite databases](https://docs.python.org/3/library/sqlite3.html), and many more. In many of those cases, you can provide `f` directly to the library, and it will deal with actually reading and writing the files.\n",
    "\n",
    "To learn all the more complex aspects of using files in Python, follow [the documentation](https://docs.python.org/3/tutorial/inputoutput.html#reading-and-writing-files)."
   ]
  },
  {
   "cell_type": "markdown",
   "id": "145a2fe4-f367-40ae-a89e-eb9067449a83",
   "metadata": {},
   "source": [
    "## Duck typing\n",
    "\n",
    "You might have heard that Python uses \"Duck Typing\". The saying goes:\n",
    "\n",
    "*\"If it looks like a duck, swims like a duck, and quacks like a duck, then it probably is a duck.\"*\n",
    "\n",
    "The idea here is important to understand: When writing programs in a *pythonic* fashion, type checks are not really really performed pre-emptively. Or in other words: **The *type* of an object is less important that its *behavior***.\n",
    "\n",
    "In the following example, there is no explicit relationship between the three classes `Container`, `Bicycle` and `Goldbar`. The `Container` class simply assumes that all things it contains support the **same behavior**, namely that calling `.value()` on a stored thing will produce a number. A `Container` can store *anything* that exhibits this behavior:"
   ]
  },
  {
   "cell_type": "code",
   "execution_count": null,
   "id": "5923a1a0-ac18-4cc5-a591-22da53eea824",
   "metadata": {},
   "outputs": [],
   "source": [
    "class Container:\n",
    "    def __init__(self):\n",
    "        self.storage = []\n",
    "\n",
    "    def store(self, thing):\n",
    "        self.storage.append(thing)\n",
    "\n",
    "    def total_value(self):\n",
    "        return sum(thing.value() for thing in self.storage)    # Container assumes all things stored support the .value() behavior\n",
    "\n",
    "class Bicycle:\n",
    "    def __init__(self, make, model, price):\n",
    "        self.make = make\n",
    "        self.model = model\n",
    "        self.price = price\n",
    "\n",
    "    def value(self):\n",
    "        return self.price\n",
    "\n",
    "class Goldbar:\n",
    "    def __init__(self, grams):\n",
    "        self.grams = grams\n",
    "        \n",
    "    def value(self):\n",
    "        from random import randrange\n",
    "        return self.grams * randrange(50, 70)\n",
    "\n",
    "container = Container()\n",
    "bike = Bicycle(\"Trek\", \"Outrunner\", 650)\n",
    "bar = Goldbar(20)\n",
    "container.store(bike)\n",
    "container.store(bar)\n",
    "print(container.total_value())"
   ]
  },
  {
   "cell_type": "markdown",
   "id": "773b2e88-bd57-43dc-893b-593b74b367f0",
   "metadata": {},
   "source": [
    "In other words:\n",
    "\n",
    "*\"If it has a `value()` method that produces a number, it must be something that can be stored\"*\n",
    "\n",
    "This allows for a lot of flexibility when implementing \"open\" programs. It stands in strong contrast to *strongly-typed* languages like Java or C++, where the two classes `Bicycle` and `Goldbar` would likely need to inherit from something like `Storable` and where `Container` would only accept to store objects that inherit from `Storable`.\n",
    "\n",
    "Nonetheless, a Python programmer may decide to also implement a `Storable` class, just to make this relationship explicit. Naturally, this class may be *abstract* and specify that subclass must implement `value`:"
   ]
  },
  {
   "cell_type": "code",
   "execution_count": null,
   "id": "b4f86bad-add1-49da-aa42-1c1b0b196060",
   "metadata": {},
   "outputs": [],
   "source": [
    "class Container:\n",
    "    def __init__(self):\n",
    "        self.storage: list['Storable'] = []\n",
    "\n",
    "    def store(self, thing: 'Storable'):\n",
    "        self.storage.append(thing)\n",
    "\n",
    "    def total_value(self):\n",
    "        return sum(thing.value() for thing in self.storage)\n",
    "\n",
    "from abc import ABC, abstractmethod\n",
    "class Storable(ABC):\n",
    "    @abstractmethod\n",
    "    def value(self):\n",
    "        pass\n",
    "\n",
    "class Bicycle(Storable):\n",
    "    def __init__(self, make, model, price):\n",
    "        self.make = make\n",
    "        self.model = model\n",
    "        self.price = price\n",
    "\n",
    "    def value(self):\n",
    "        return self.price\n",
    "\n",
    "class Goldbar(Storable):\n",
    "    def __init__(self, grams):\n",
    "        self.grams = grams\n",
    "        \n",
    "    def value(self):\n",
    "        from random import randrange\n",
    "        return self.grams * randrange(50, 70)\n",
    "\n",
    "container = Container()\n",
    "bike = Bicycle(\"Trek\", \"Outrunner\", 650)\n",
    "bar = Goldbar(20)\n",
    "container.store(bike)\n",
    "container.store(bar)\n",
    "print(container.total_value())"
   ]
  },
  {
   "cell_type": "markdown",
   "id": "8bbed4ac-a181-483a-a9af-3ff494993350",
   "metadata": {},
   "source": [
    "## Multiple inheritance\n",
    "\n",
    "You already know that if a class `Sub` inherits from a class `Super`, then `Sub` inherits (\"copy-pastes\") all functionality from `Super`. `Sub` can then override certain attributes, or may have to provide some explicitely (those inherited as `@abstractmethod`).\n",
    "\n",
    "In the following example, `TextFile`, `ImageFile`, and `Folder` all inherit from `File`. They each inherit `__init__` but then override it with their own implementation, each of which calls `super().__init__`."
   ]
  },
  {
   "cell_type": "code",
   "execution_count": null,
   "id": "b015e4d5-aa1d-4b43-a842-347698a9eb3f",
   "metadata": {},
   "outputs": [],
   "source": [
    "class File:\n",
    "    def __init__(self, filename):\n",
    "        self.filename = filename\n",
    "\n",
    "class TextFile(File):\n",
    "    def __init__(self, filename, text):\n",
    "        super().__init__(filename)\n",
    "        self.text = text\n",
    "\n",
    "class ImageFile(File):\n",
    "    def __init__(self, filename, pixels):\n",
    "        super().__init__(filename)\n",
    "        self.pixels = pixels\n",
    "                         \n",
    "class Folder(File):\n",
    "    def __init__(self, filename):\n",
    "        super().__init__(filename)\n",
    "        self.content = []"
   ]
  },
  {
   "cell_type": "markdown",
   "id": "3d3fb190-fdc6-4f0e-bf21-f76f091c2ad8",
   "metadata": {},
   "source": [
    "Let's consider the following problem:\n",
    "\n",
    "Email is a specified in [RFC 5322](https://datatracker.ietf.org/doc/html/rfc5322#section-2.1) as a text-only medium. Seriously! An email message may only contain US-ASCII (ANSI.X3-4.1986) characters. However...\n",
    "  * your email client allows you to attach pictures or PDFs when sending a message\n",
    "  * You can use Umlauts and other non-ASCII characters\n",
    "  * when you receive a message, it might come as more than just plain text, like colors and styling\n",
    "\n",
    "How is this possible? Here is what an email looks like when it contains an image attachment:\n",
    "\n",
    "```\n",
    "From: sender@example.com\n",
    "To: recipient@example.com\n",
    "Subject: =?UTF-8?Q?Gr=C3=BC=C3=9Fe_mit_Uml=C3=A4uten?=\n",
    "MIME-Version: 1.0\n",
    "Content-Type: multipart/mixed; boundary=\"boundary123\"\n",
    "\n",
    "--boundary123\n",
    "Content-Type: text/plain; charset=\"utf-8\"\n",
    "Content-Transfer-Encoding: quoted-printable\n",
    "Gr=C3=BC=C3=9Fe aus M=C3=BCnchen! Hier ist ein sch=C3=B6nes Bild f=C3=BCr Sie=\n",
    "\n",
    "--boundary123\n",
    "Content-Type: image/gif\n",
    "Content-Transfer-Encoding: base64\n",
    "Content-Disposition: attachment; filename=\"g.gif\"\n",
    "R0lGODdhAwADAIABAAAAAP///ywAAAAAAwADAAACBAyCoFAAOw=\n",
    "\n",
    "--boundary123--\n",
    "```\n",
    "\n",
    "As you can see, both the subject and message, as well as the image gets encoded as text somehow. The `Content-Transfer-Encoding` fields indicates that the text is encoded using a strategy called `quoted-printable` and the image is encoded as `base64`.\n",
    "\n",
    "Taking some data and turning it into strings is a common idea called **serialization**. You *serialize* a value when turning into some kind of string, and you *deserialize* the string to end up with the original data. This is what your email client does when sending and receiving emails.\n",
    "\n",
    "In our example, we may define a new interface for classes which support serialization. In Python, we'll do this by defining an abstract class `Serializable`. Here it is with a few type annotations.\n",
    "\n",
    "Side note: to indicate that `deserialize` returns a `Serializable`, we want to add it as a type hint to the function, i.e. `-> Serializable`. But because this happens *inside* `Serializable`, it is not really defined yet. Because of this, Python (since version 3.7) supports using a string instead of a type, i.e. `-> 'Serializable'` which will be resolved once the class is fully defined."
   ]
  },
  {
   "cell_type": "code",
   "execution_count": null,
   "id": "85dfe17f-0fa6-477e-8875-d8f7c5de00ba",
   "metadata": {},
   "outputs": [],
   "source": [
    "from abc import ABC, abstractmethod\n",
    "\n",
    "class Serializable(ABC):\n",
    "    @abstractmethod\n",
    "    def serialize(self) -> str:                     # serialize turns the object into a string representation\n",
    "        pass\n",
    "\n",
    "    @staticmethod                                   # static, because there is no object before deserialization\n",
    "    @abstractmethod\n",
    "    def deserialize(data: str) -> 'Serializable':   # deserialize turns a string into an object\n",
    "        pass"
   ]
  },
  {
   "cell_type": "markdown",
   "id": "5b30b43c-e1e2-4d32-9def-9bc7d7ab59f3",
   "metadata": {},
   "source": [
    "In our example, we may not be able to support serialization for all file types. We can't assume that every `File` is serializable. Also, `Folder`s are probably more difficult to serialize. For now, we'll only support serialization for `TextFile` and `ImageFile`. To do this we:\n",
    "\n",
    " 1. make them inherit from `Serializable`\n",
    " 2. implement `serialize` and `deserialize`. We will choose an appropriate way to encode the text or image data as a string."
   ]
  },
  {
   "cell_type": "code",
   "execution_count": null,
   "id": "1e240468-4f9a-4ee4-b0f7-9fa5d334666c",
   "metadata": {},
   "outputs": [],
   "source": [
    "from abc import ABC, abstractmethod\n",
    "\n",
    "class Serializable(ABC):\n",
    "    @abstractmethod\n",
    "    def serialize(self) -> str:                     # serialize turns the object into a string representation\n",
    "        pass\n",
    "\n",
    "    @staticmethod                                   # static, because there is no object before deserialization\n",
    "    @abstractmethod\n",
    "    def deserialize(data: str) -> 'Serializable':   # deserialize turns a string into an object\n",
    "        pass\n",
    "\n",
    "class File:\n",
    "    def __init__(self, filename):\n",
    "        self.filename = filename\n",
    "\n",
    "class TextFile(File, Serializable):                 # TextFile now inherits from TWO classes, first File, then Serializable\n",
    "    def __init__(self, filename, text):\n",
    "        super().__init__(filename)\n",
    "        self.text = text\n",
    "\n",
    "    def __str__(self):\n",
    "        return f\"{self.filename}:\\n{self.text}\"\n",
    "\n",
    "    def serialize(self):\n",
    "        return f\"{self.filename};{self.text}\"       # serialization: it's easy: we just separate the file name and data by a semicolon\n",
    "\n",
    "    @staticmethod\n",
    "    def deserialize(data):\n",
    "        name, text = data.split(';')                # deserialization: split the string on a semicolon to get the data back\n",
    "        return TextFile(name, text)                 # construct the TextFile instance\n",
    "\n",
    "class ImageFile(File, Serializable):                # ImageFile now inherits from TWO classes, first File, then Serializable\n",
    "    def __init__(self, filename, pixels):\n",
    "        super().__init__(filename)\n",
    "        self.pixels = pixels\n",
    "\n",
    "    def __str__(self):\n",
    "        res = '\\n'.join([\"\".join([\"░\" if cell == 0 else \"█\" for cell in row]) for row in self.pixels])\n",
    "        return f\"{self.filename}:\\n{res}\"\n",
    "\n",
    "    def serialize(self):\n",
    "        res = \"\"\n",
    "        # separate file name by ; rows by , and pixels by .\n",
    "        return f\"{self.filename};\" + \",\".join(\".\".join(str(cell) for cell in row) for row in self.pixels)\n",
    "\n",
    "    @staticmethod\n",
    "    def deserialize(data):\n",
    "        name, pixels = data.split(';')              # filename and data\n",
    "        rows = pixels.split(',')                    # each row of pixels\n",
    "        image = ([int(p) for p in row.split('.')] for row in rows)\n",
    "        return ImageFile(name, image)               # construct the ImageFile instance\n",
    "                         \n",
    "class Folder(File):\n",
    "    def __init__(self, filename):\n",
    "        super().__init__(filename)\n",
    "        self.content = []\n",
    "\n",
    "t1 = TextFile(\"haiku.txt\",\n",
    "\"\"\"Indentation woes\n",
    "Syntax errors multiply\n",
    "Debug, try again\"\"\")\n",
    "\n",
    "i1 = ImageFile(\"smile.img\", (\n",
    "    (0, 1, 0, 1, 0),\n",
    "    (0, 0, 0, 0, 0),\n",
    "    (1, 0, 0, 0, 1),\n",
    "    (0, 1, 1, 1, 0),\n",
    "))\n",
    "\n",
    "t1_serialized = t1.serialize()                       # t1_serialized is now a string that contains all necessary data to restore t1\n",
    "print(f\"Serialized: {t1_serialized}\")\n",
    "t1_loaded = TextFile.deserialize(t1_serialized)      # we can greate an identical TextFile from the data\n",
    "print(t1_loaded)\n",
    "\n",
    "i1_serialized = i1.serialize()                       # i1_serialized is now a string that contains all necessary data to restore i1\n",
    "with open(\"i1.txt\", \"w\") as f:                       # we can store the serialized representation in a file\n",
    "    f.write(i1_serialized)\n",
    "with open(\"i1.txt\", \"r\") as f:                       # we can load the serialized representation from a file\n",
    "    i1_from_file = ImageFile.deserialize(f.read())\n",
    "print(i1_from_file)"
   ]
  },
  {
   "cell_type": "markdown",
   "id": "f915f9a9-bb2d-4f82-b7a4-2204d67f80c8",
   "metadata": {},
   "source": [
    "This is a practical example, where the additional super-class `Serializable` marks its descendants as supporting specific types of operations, i.e. being serialized into and reconstructed from a string. While many programming languages do not support multiple inheritance like Python, they usually support \"implementing multiple interfaces\" (`TextFile` could implement both the `File` and `Serializable` interfaces) or \"including multiple mixins\" (`TextFile` could inherit from `File` but include `Serializable` as a mixin).\n",
    "\n",
    "\n",
    "\n",
    "`Serializable` itself only demands that two methods are implemented without providing any functionality on its own. But additional superclasses don't have to be abstract and could also just provide ready-made implementations. In the most trivial case, it could be entirely unrelated functionality:"
   ]
  },
  {
   "cell_type": "code",
   "execution_count": null,
   "id": "5457de6f-f7a2-4bc1-8f06-6a170757a994",
   "metadata": {},
   "outputs": [],
   "source": [
    "class DiscoMode:\n",
    "    def party(self):\n",
    "        print(\"🎈🎉 💃 ✨ 🕺 🎈 💃 ✨ 🕺 🎉🎈\")\n",
    "        \n",
    "class File:\n",
    "    def __init__(self, filename):\n",
    "        self.filename = filename\n",
    "        \n",
    "class TextFile(File, DiscoMode):\n",
    "    def __init__(self, filename, text):\n",
    "        super().__init__(filename)\n",
    "        self.text = text\n",
    "\n",
    "    def __str__(self):\n",
    "        return f\"{self.filename}:\\n{self.text}\"\n",
    "\n",
    "t1 = TextFile(\"password.txt\", \"hunter2\")\n",
    "t1.party()"
   ]
  },
  {
   "cell_type": "markdown",
   "id": "c6f9482f-1d7d-436d-9e4a-f4e5cecf8627",
   "metadata": {},
   "source": [
    "But it could also make some assumptions about the kinds of classes which will inherit from it to provide ready-made functionality. In the following example, `Rot13` provides a method `encode`, which will return the `self.text` property encoded using rot13. It does not by itself set this! `Rot13` does not provide a constructor at all, just the `encode` method. Any class that has a `self.text` string attribute could inherit from `Rot13` to get this functionality *\"mixed in\"*. In many languages, this is called a \"mixin\". Strictly speaking, mixins are a language feature where functionality is added *without inhertance*, so in Python, this is not strictly speaking a mixin, but it illustrates how a mixin could be used in other languages:"
   ]
  },
  {
   "cell_type": "code",
   "execution_count": null,
   "id": "4f4dc710-cb2e-42ed-a75f-1e3c641cd085",
   "metadata": {},
   "outputs": [],
   "source": [
    "class Rot13:\n",
    "    def encode(self):\n",
    "        import codecs\n",
    "        return codecs.encode(self.text, \"rot13\")   # Rot13 could be mixed in with any class that has a self.text string attribute!\n",
    "\n",
    "class File:\n",
    "    def __init__(self, filename):\n",
    "        self.filename = filename\n",
    "        \n",
    "class TextFile(File, Rot13):                       # Rot13 is technically a superclass, but semantically a mixin\n",
    "    def __init__(self, filename, text):\n",
    "        super().__init__(filename)\n",
    "        self.text = text\n",
    "\n",
    "    def __str__(self):\n",
    "        return f\"{self.filename}:\\n{self.text}\"\n",
    "\n",
    "from dataclasses import dataclass\n",
    "@dataclass\n",
    "class Book(Rot13):                                 # The Book class has nothing to do with files, but the Rot13 mixin is compatible!\n",
    "    author: str\n",
    "    title: str\n",
    "    text: str\n",
    "    \n",
    "t1 = TextFile(\"password.txt\", \"hunter2\")\n",
    "print(t1.encode())\n",
    "b1 = Book(\"George Orwell\", \"Animal Farm\", \"Mr. Jones, of the Manor Farm, had locked the hen-houses...\")\n",
    "print(b1.encode())"
   ]
  },
  {
   "cell_type": "markdown",
   "id": "190c6ab2-163d-432f-ac50-f45651604882",
   "metadata": {},
   "source": [
    "To summarize, so far we've seen the following examples for how multiple inheritance might be used:\n",
    "\n",
    " * Marking classes as supporting a certain interface (like `Serializable`), where the inheriting classes must provide implementations.\n",
    " * Adding unrelated functionality (`DiscoMode`) to a class.\n",
    " * Adding functionality to certain compatible classses (`Rot13` is compatible with `TextFile` and `Book`, even though there is no semantic \"family relationship\" between `TextFile` and `Book`)."
   ]
  },
  {
   "cell_type": "markdown",
   "id": "8146a958-61e2-425f-802c-5e720c3d9ad3",
   "metadata": {},
   "source": [
    "In the use cases above, there is little risk of problems when inheriting from mutliple super-classes (or in other languages: implementing multiple interfaces or including multiple mixins).\n",
    "\n",
    "But what happens if there is an overlap between attribute names in different super classes? In the following example, `Book` inherits from both `Rot13` and `Screamer`, both of which provide a method called `encode`. When this happens, and we call `encode` on a `Book` instance, the *Method Resolution Order (MRO)* in Python is to use whichever method was imported *first*:"
   ]
  },
  {
   "cell_type": "code",
   "execution_count": null,
   "id": "d616a854-b4bf-4d43-b21d-fff91f856ab2",
   "metadata": {},
   "outputs": [],
   "source": [
    "class Rot13:\n",
    "    def encode(self):\n",
    "        import codecs\n",
    "        return codecs.encode(self.text, \"rot13\")\n",
    "\n",
    "class Screamer:\n",
    "    def encode(self):\n",
    "        return self.text.upper()\n",
    "        \n",
    "from dataclasses import dataclass\n",
    "@dataclass\n",
    "class Book(Rot13, Screamer):\n",
    "    author: str\n",
    "    title: str\n",
    "    text: str\n",
    "\n",
    "b1 = Book(\"George Orwell\", \"Animal Farm\", \"Mr. Jones, of the Manor Farm, had locked the hen-houses...\")\n",
    "print(b1.encode())  # calls Rot13.encode, because that was inherited from FIRST!"
   ]
  },
  {
   "cell_type": "markdown",
   "id": "da523682-3fc9-41f9-8f7a-a2b5bf2ff5c1",
   "metadata": {},
   "source": [
    "If we wanted to use `Screamer`'s method, we would have to call the method by naming the class explicitely:"
   ]
  },
  {
   "cell_type": "code",
   "execution_count": null,
   "id": "95166408-bdd5-4305-84fe-671caa91da77",
   "metadata": {},
   "outputs": [],
   "source": [
    "print(Screamer.encode(b1))"
   ]
  },
  {
   "cell_type": "markdown",
   "id": "853366a8-9b4f-41fb-8d66-b74508383bbb",
   "metadata": {},
   "source": [
    "The same is true when calling `super()` methods. Below is an example where `House` inherits both `Taxable` and `Insurable`. There are two problems with this:\n",
    " 1. both superclasses provide a method called `calculate`, so which one to use when calling `house.calculate()`?\n",
    " 2. when creating a `House`, we need to call **both** super constructors, but `super().__init__` can only be one of them. Which one?\n",
    "\n",
    "Here, Python will pick the `Taxable` implementations of `calculate` and `__init__` because `House` inherits from `Taxable` before `Insurable`. We solve the two problems as follows:\n",
    " 1. If we want the `Insurable` implementation, we must call `Insurable.calculate(house)`\n",
    " 2. Instead of `super().__init__` we refer to `Taxable.__init__` and `Insurable.__init__` directly. Note that now we have to also provide `self` as an argument!"
   ]
  },
  {
   "cell_type": "code",
   "execution_count": null,
   "id": "e84fa495-035d-4f4a-98bc-3e0fbd7d5c0c",
   "metadata": {},
   "outputs": [],
   "source": [
    "class Taxable:\n",
    "    def __init__(self, value, tax_rate):\n",
    "        self.value = value\n",
    "        self.tax_rate = tax_rate\n",
    "\n",
    "    def calculate(self):\n",
    "        return self.value * self.tax_rate\n",
    "\n",
    "class Insurable:\n",
    "    def __init__(self, value, copay):\n",
    "        self.value = value\n",
    "        self.copay = copay\n",
    "\n",
    "    def calculate(self):\n",
    "        return self.value - self.copay\n",
    "        \n",
    "class House(Taxable, Insurable):\n",
    "    def __init__(self, address, value, tax_rate, copay):\n",
    "        Taxable.__init__(self, value, tax_rate)               # instead of using super().__init__\n",
    "        Insurable.__init__(self, value, copay)\n",
    "        self.address = address\n",
    "\n",
    "house = House(\n",
    "    \"112 Mercer Street, Princeton, New Jersey 08540\",\n",
    "    1650000,\n",
    "    0.0214,\n",
    "    8200\n",
    ")\n",
    "\n",
    "print(house.calculate())                                      # same as Taxable.calculate(house)\n",
    "print(Taxable.calculate(house))\n",
    "print(Insurable.calculate(house))"
   ]
  },
  {
   "cell_type": "markdown",
   "id": "1ef7da70-5632-45aa-8220-3826ce1ef710",
   "metadata": {},
   "source": [
    "As a general piece of advice, while inheritance can be a fun way to come up with seemingly elegant abstractions, consesus in the developer community is shifting to a preference for flat and simple inheritance structures.\n",
    "\n",
    "Otherwise, you might end up with something like the Scala collections types (pre Scala 2.13):\n",
    "\n",
    "<div>\n",
    "<img src=\"scala.svg\" alt=\"Scala types\" width=800 />\n",
    "</div>\n",
    "\n",
    "The Scala developers have since simplified the types a bit:\n",
    "\n",
    "<div>\n",
    "<img src=\"scala2-13.svg\" alt=\"Scala types\" width=600/>\n",
    "</div>"
   ]
  },
  {
   "cell_type": "markdown",
   "id": "8c237c36-7538-4be6-b247-86cb3a456c33",
   "metadata": {},
   "source": [
    "# Summary\n",
    "\n",
    "#### `map`, `filter`, `sorted`, `.sort`\n",
    "* `map` takes a function and applies it to each element in a collection. It returns a new collection of transformed values.\n",
    "* `filter` takes a function and determines it to each element in a collection to determine whether to keep or discard it. It returns a new collection of filtered values.\n",
    "* `sorted` returns an ordered collection. A function can be optionally be provided as a `key=` argument. The function will be called for each element in the collection. The resulting values will be used to sort the collection.\n",
    "* `.sort` sorts in-place.\n",
    "\n",
    "#### `lambda`\n",
    "* Anonymous functions can be provided ad-hoc without creating a named function. This is often done when a function argument must be a function, but it is only used once. The syntax is `lambda arguments: expression`.\n",
    "\n",
    "#### `continue`, `break`,\n",
    "* `continue` ends the current iteration of a `for` or `while` loop and goes to the beginning of the next (if any) iteration.\n",
    "* `break` ends the execution of a `for` or `while` loop entirely.\n",
    "  \n",
    "#### `@dataclass`,\n",
    "* `@dataclass` as imported by `from dataclasses import dataclass` can be used to automatically generate constructors, str/repr and many other functions by annotating a class. The attributes of each instant are defined as type-annotated attributes. These are not to be confused with class attributes in normal classes.\n",
    "\n",
    "#### Duck typing\n",
    "* Duck typing refers to the idea that the type of an object is less important than its implemented behavior. As long as an object can provide the expected methods and/or attributes, it could be considered a \"compatible type\" without using any typing.\n",
    "\n",
    "#### Multiple inheritance\n",
    "* If a class inherits from multiple classes which provide attribute with the same name, the first-imported one will be used\n",
    "* To access other super-implementations with the same name, explicitely naming the superclass is necessary\n",
    "* When having to call super-methods from multiple parents, `super()` will only ever provide the first-imported implementation."
   ]
  }
 ],
 "metadata": {
  "authors": [
   {
    "name": "Carol V. Alexandru-Funakoshi"
   }
  ],
  "kernelspec": {
   "display_name": "Python 3 (ipykernel)",
   "language": "python",
   "name": "python3"
  },
  "language_info": {
   "codemirror_mode": {
    "name": "ipython",
    "version": 3
   },
   "file_extension": ".py",
   "mimetype": "text/x-python",
   "name": "python",
   "nbconvert_exporter": "python",
   "pygments_lexer": "ipython3",
   "version": "3.12.6"
  },
  "title": "Class Varia"
 },
 "nbformat": 4,
 "nbformat_minor": 5
}
