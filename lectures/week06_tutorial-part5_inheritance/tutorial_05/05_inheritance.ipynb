{
 "cells": [
  {
   "cell_type": "markdown",
   "id": "bbdd8fd8-f162-4d0a-a9aa-fd4ce5efd29b",
   "metadata": {},
   "source": [
    "# Important Info!\n",
    "\n",
    "## Infrastructure-Test at Messe Oerlikon\n",
    "\n",
    "If you are an Info1-Student, **you must go to the physical infrastructure test** at Messe Oerlikon on October 28.\n",
    "\n",
    "## Functional Test?\n",
    "\n",
    "For Info1 specifically, a simple functional test will be released by next week. You will receive an email. Until then, nothing to do here.\n",
    "\n",
    "## ACCESS\n",
    "\n",
    " * Be aware that after each deadline, sample solutions are automatically released on ACCESS in the `solution` folder of each task. There are many ways to solve each task, so our solutions are just a suggestion.\n",
    " * You can continue using the \"Submit\" feature even after the deadline, but any additional points achieved will not be counted."
   ]
  },
  {
   "cell_type": "markdown",
   "id": "7cfe0f5f-e9e0-4e63-b9ee-f2355f955629",
   "metadata": {},
   "source": [
    "# Quick recap"
   ]
  },
  {
   "cell_type": "markdown",
   "id": "6a052dfe-edbb-4c81-862c-73ab0891c5d6",
   "metadata": {},
   "source": [
    "## Pass by reference\n",
    "\n",
    "Variables are just references. Passing a variable `y` into a function as parameter `l` just makes `l` reference **the same object** as `y`."
   ]
  },
  {
   "cell_type": "code",
   "execution_count": null,
   "id": "5dfe8423-7d10-46ff-b760-f7ccbb56b63a",
   "metadata": {},
   "outputs": [],
   "source": [
    "x = {\"Betty\": 33, \"John\": 28}\n",
    "y = [1, x, 3]\n",
    "def foo(l):              # l    references the same list object as y\n",
    "    l[1][\"Derek\"] = 30   # l[1] references the same dictionary object as x\n",
    "print(x)\n",
    "foo(y)\n",
    "print(x)"
   ]
  },
  {
   "cell_type": "markdown",
   "id": "7de61b7a-70ff-4e5f-b93f-ba80277b4166",
   "metadata": {},
   "source": [
    "## Scope\n",
    "\n",
    "Any assignment operation (`naked_variable_name_here = ...`) creates a new variable in the **local** scope. This can *shadow* variables of the higher-level scope.\n",
    "\n",
    "Recommendations:\n",
    " * Avoid shadowing by using parameter names that do not overlap with variables of a higher scope.\n",
    " * Do not access variables from higher scopes inside functions; instead, provide functions with everything they need as parameters."
   ]
  },
  {
   "cell_type": "code",
   "execution_count": 1,
   "id": "041a7478-a9f8-4638-b0f5-7720a95d8a74",
   "metadata": {},
   "outputs": [
    {
     "name": "stdout",
     "output_type": "stream",
     "text": [
      "10\n",
      "6\n",
      "36\n",
      "10\n",
      "6\n",
      "36\n"
     ]
    }
   ],
   "source": [
    "y = 10\n",
    "def power2(y):\n",
    "    y = 6           # reassigning y just overwrites the y passed to the function on line 2!\n",
    "    print(y)        # value of y which was assigned on line 3\n",
    "    return y ** 2\n",
    "print(y)            # still the value of y defined on line 1, reassignment inside power2 had no impact on this!\n",
    "print(power2(4))\n",
    "print(y)\n",
    "print(power2(4))"
   ]
  },
  {
   "cell_type": "markdown",
   "id": "ab3ece32-4f62-40d4-b05a-1ea5044f32f3",
   "metadata": {},
   "source": [
    "## Classes\n",
    "A class defines the *attributes* and *behavior* of a thing. It is a descriptive *blueprint* for creating *concrete* objects. For example, a `class Circle`, like a blueprint, describes what circles are and what can be done with them, allowing us to create various different concrete circles `c1 = Circle(3)` or `c2 = Circle(100)`."
   ]
  },
  {
   "cell_type": "code",
   "execution_count": 2,
   "id": "2c628b9e-a7fd-4b33-909c-d8ab51cb02e8",
   "metadata": {},
   "outputs": [
    {
     "name": "stdout",
     "output_type": "stream",
     "text": [
      "10\n",
      "314.1592653589793\n",
      "30\n",
      "2827.4333882308138\n"
     ]
    }
   ],
   "source": [
    "import math\n",
    "\n",
    "class Circle:                                 # NOT a specific circle! Just a description of what a circle is and does\n",
    "    def __init__(self, radius):               # __init__ is called when a new Circle is created\n",
    "        self.radius = radius                  # the 'self' parameter in __init__ is a \"blank sheet of paper\", we add a .radius attribute to it\n",
    "        \n",
    "    def area(self):                           # self refers to the circle object being worked on\n",
    "        return math.pi * self.radius ** 2     # for any specific circle (self), the radius is pi*r^2\n",
    "    \n",
    "    def scale(self, factor):        \n",
    "        self.radius *= factor                 # scaling a specific circle (self) means multiplying its radius by a given factor\n",
    "    \n",
    "    def __str__(self):                                    # str is for customers\n",
    "        return f\"A circle with radius {self.radius}\"\n",
    "    \n",
    "    def __repr__(self):                                   # repr is for developers\n",
    "        return f\"Circle({self.radius})\"\n",
    "\n",
    "# use the class blueprint to create and work with concrete Circle objects:\n",
    "c1 = Circle(10)\n",
    "print(c1.radius)      # Side note; of course you can access object attributes just like you can call object methods\n",
    "print(c1.area())\n",
    "c1.scale(3)\n",
    "print(c1.radius)\n",
    "print(c1.area())"
   ]
  },
  {
   "cell_type": "markdown",
   "id": "059e3eaa-f58b-4acd-9ecb-3e57ed94f9f9",
   "metadata": {},
   "source": [
    "<span style=\"color:purple;font-weight:bold\">Exercise</span>\n",
    "\n",
    "Implement a system to track Todo items.\n",
    " * The system will require two classes, one to represent each Todo item, the other to represent a Todo list.\n",
    " * Each todo item has a name and a 'done' status (true or false)\n",
    " * It should be possible to add todo items to the todo list\n",
    " * It should be possible to retrieve not-done and done todo items from the todo list"
   ]
  },
  {
   "cell_type": "code",
   "execution_count": 5,
   "id": "de7fac89-8d9b-4508-b0ff-6a3a8d6a9128",
   "metadata": {},
   "outputs": [
    {
     "name": "stdout",
     "output_type": "stream",
     "text": [
      "[Go shopping, Do exercises, Relax]\n",
      "[Go shopping, Do exercises, Relax]\n",
      "[]\n"
     ]
    }
   ],
   "source": [
    "# Blueprint for a single Todo item\n",
    "class Todo:\n",
    "    def __init__(self, name):\n",
    "        self.name = name\n",
    "        self.status = False\n",
    "\n",
    "    def __repr__(self):\n",
    "        return self.name\n",
    "    \n",
    "    def __str__(self):\n",
    "        return self.__repr__()\n",
    "\n",
    "# Blueprint for a Todo list\n",
    "class TodoList:\n",
    "    def __init__(self):\n",
    "        self.todos = []\n",
    "    \n",
    "    def add(self, todo):\n",
    "        self.todos.append(todo)\n",
    "\n",
    "    def get_not_done(self):\n",
    "        return [t for t in self.todos if not t.status]\n",
    "    \n",
    "    def get_done(self):\n",
    "        return [t for t in self.todos if t.status]\n",
    "    \n",
    "\n",
    "def do():\n",
    "    # Concrete Todo list:\n",
    "    my_todos = TodoList()\n",
    "    my_todos.add(Todo(\"Go shopping\"))\n",
    "    my_todos.add(Todo(\"Do exercises\"))\n",
    "    my_todos.add(Todo(\"Relax\"))\n",
    "    print(my_todos.get_not_done())\n",
    "    for t in my_todos.get_not_done():\n",
    "        from random import choice\n",
    "        t.done = choice([True, False])  # 50% chance that each todo item gets done\n",
    "    print(my_todos.get_not_done())\n",
    "    print(my_todos.get_done())\n",
    "do()"
   ]
  },
  {
   "cell_type": "markdown",
   "id": "e47c658a-57fd-4992-99b9-a71fd8378810",
   "metadata": {},
   "source": [
    "<p style=\"height:100px\"></p>\n",
    "<hr>\n",
    "<p style=\"height:100px\"></p>\n",
    "\n",
    "\n",
    "\n"
   ]
  },
  {
   "cell_type": "markdown",
   "id": "ac75d9c0-5532-429a-bae3-76de96e4d384",
   "metadata": {},
   "source": [
    "# Positional vs. keyword arguments\n",
    "\n",
    "There are several ways function arguments are specified in Python. What you've come to know and love are **positional** arguments (like `x` and `n` in the following example):"
   ]
  },
  {
   "cell_type": "code",
   "execution_count": 6,
   "id": "0b3b2a3f-dff8-43a6-9f7d-db4e3498c626",
   "metadata": {},
   "outputs": [
    {
     "name": "stdout",
     "output_type": "stream",
     "text": [
      "9\n"
     ]
    }
   ],
   "source": [
    "def power(x, n):\n",
    "    return x**n\n",
    "print(power(3,2))"
   ]
  },
  {
   "cell_type": "markdown",
   "id": "517e8c68-9d83-4c97-a91d-d4a1e770992f",
   "metadata": {},
   "source": [
    "But Python also supports what it calls **keyword** arguments. Keyword arguments specify a default value, and must always come **after** positional arguments:"
   ]
  },
  {
   "cell_type": "code",
   "execution_count": 7,
   "id": "eb4dd2c0-7628-4bad-9c32-5253c37cc7c6",
   "metadata": {},
   "outputs": [
    {
     "name": "stdout",
     "output_type": "stream",
     "text": [
      "9\n",
      "27\n"
     ]
    }
   ],
   "source": [
    "def power(x, n=2):\n",
    "    return x**n\n",
    "print(power(3))      # n is not passed, the default value for n (2) is used\n",
    "print(power(3, 3))   # n is passed, it is used instead of the default"
   ]
  },
  {
   "cell_type": "markdown",
   "id": "35c516c9-5032-4aba-856b-9999a588b0bc",
   "metadata": {},
   "source": [
    "Of course, you can also used this in methods:"
   ]
  },
  {
   "cell_type": "code",
   "execution_count": 8,
   "id": "a498bc2c-665f-4677-8e33-ae0db0145168",
   "metadata": {},
   "outputs": [
    {
     "name": "stdout",
     "output_type": "stream",
     "text": [
      "Jim is 0 years old\n",
      "Jack is 47 years old\n"
     ]
    }
   ],
   "source": [
    "class Person:\n",
    "    def __init__(self, name, age=0):    # Default parameters\n",
    "        self.name = name\n",
    "        self.age = age\n",
    "        \n",
    "    def __str__(self):\n",
    "        return f\"{self.name} is {self.age} years old\"\n",
    "\n",
    "jim  = Person(\"Jim\")\n",
    "jack = Person(\"Jack\", 47)\n",
    "print(jim)\n",
    "print(jack)"
   ]
  },
  {
   "cell_type": "markdown",
   "id": "6b9f81e3-ddc2-401d-aaa9-68a4dd03b111",
   "metadata": {},
   "source": [
    "**Watch out!** A tricky situation will arise if you use a *mutable* value as a default parameter! The reason is that whatever you put into your signature as a default parameter is only **instantiated once** when the function signature is executed.\n",
    "\n",
    "Say you want some parameter to be an empty list by default:"
   ]
  },
  {
   "cell_type": "code",
   "execution_count": 9,
   "id": "fa891653-e9a2-4cea-81b4-13ffe445ebb0",
   "metadata": {},
   "outputs": [
    {
     "name": "stdout",
     "output_type": "stream",
     "text": [
      "[]\n",
      "['Info1']\n"
     ]
    }
   ],
   "source": [
    "class Student:\n",
    "    def __init__(self, name, subjects=[]): # this seems intuitive...\n",
    "        self.name = name\n",
    "        self.subjects = subjects\n",
    "        \n",
    "    def enroll(self, subject):\n",
    "        self.subjects.append(subject)\n",
    "\n",
    "bob = Student(\"Bob\")     # not passing a value for 'subjects' so the default ([]) is used\n",
    "print(bob.subjects)      # [] because that's the default and we haven't added any subjects yet\n",
    "bob.enroll(\"Info1\")      # enroll bob in Info1\n",
    "print(bob.subjects)      # ['Info1'] because we've just added it"
   ]
  },
  {
   "cell_type": "markdown",
   "id": "646e7592-b573-47cc-b1b2-e92466d9cead",
   "metadata": {},
   "source": [
    "This appears to work fine, but watch what happens when we now create another instance of `Stundent`:"
   ]
  },
  {
   "cell_type": "code",
   "execution_count": 10,
   "id": "9162ef2f-2496-4c8d-ab2f-fc9b8823084f",
   "metadata": {},
   "outputs": [
    {
     "name": "stdout",
     "output_type": "stream",
     "text": [
      "['Info1']\n",
      "['Info1', 'Bio3']\n"
     ]
    }
   ],
   "source": [
    "alice = Student(\"Alice\")   # again, not passing a value for subjects\n",
    "print(alice.subjects)      # ['Info1'] !!! wtf!?\n",
    "alice.enroll(\"Bio3\")       # enroll ALICE in Bio3\n",
    "print(bob.subjects)        # BOB is now enrolled in Bio3 "
   ]
  },
  {
   "cell_type": "markdown",
   "id": "ae63a151-20cd-465d-8311-916919bbcaea",
   "metadata": {},
   "source": [
    "`alice` and `bob` appear to share the same list for `subjects`! This is because the method signature\n",
    "\n",
    "```python\n",
    "def __init__(self, name, subjects=[]):\n",
    "```\n",
    "\n",
    "is only executed once when Python interprets the class definition. This makes `subjects` **reference** a new empty list. Later, any `Student` instance created using this constructor will refer to **the same** list object:\n",
    "\n",
    "```python\n",
    "def __init__(self, name, subjects=[]):\n",
    "    self.name = name\n",
    "    self.subjects = subjects           # self.subjects references the same object as the parameter subjects, which is the list object\n",
    "```\n",
    "\n",
    "So it's important that you only use *immutable* values for defaults. If you want to have an empty list by default, you would need to work around this, for example using `None`:"
   ]
  },
  {
   "cell_type": "code",
   "execution_count": 11,
   "id": "9e7c9be0-07a7-447a-a4da-3ae76154b379",
   "metadata": {},
   "outputs": [
    {
     "name": "stdout",
     "output_type": "stream",
     "text": [
      "[]\n",
      "['Info1']\n",
      "[]\n"
     ]
    }
   ],
   "source": [
    "class Student:\n",
    "    def __init__(self, name, subjects=None):                    # this is the correct way!\n",
    "        self.subjects = [] if subjects is None else subjects    # this creates a new list [] each time this method is called and subjects is None\n",
    "        self.name = name\n",
    "    def enroll(self, subject):\n",
    "        self.subjects.append(subject)\n",
    "\n",
    "bob = Student(\"Bob\")  # self.subjects will reference a new list [] every time __init__ is called\n",
    "print(bob.subjects)\n",
    "bob.enroll(\"Info1\")\n",
    "print(bob.subjects)\n",
    "alice = Student(\"Alice\")\n",
    "print(alice.subjects)"
   ]
  },
  {
   "cell_type": "markdown",
   "id": "70cf0fe8-b3ab-4dc0-a921-9c8152630a3e",
   "metadata": {},
   "source": [
    "# Raising exceptions\n",
    "\n",
    "You will no doubt have already met exceptions when running your code. For example, trying to access a non-existing list index will raise an `IndexError`:"
   ]
  },
  {
   "cell_type": "code",
   "execution_count": 13,
   "id": "313cc627-cfcf-4c97-ad28-a506139f70cb",
   "metadata": {},
   "outputs": [
    {
     "ename": "IndexError",
     "evalue": "list index out of range",
     "output_type": "error",
     "traceback": [
      "\u001b[0;31m---------------------------------------------------------------------------\u001b[0m",
      "\u001b[0;31mIndexError\u001b[0m                                Traceback (most recent call last)",
      "Cell \u001b[0;32mIn[13], line 2\u001b[0m\n\u001b[1;32m      1\u001b[0m l \u001b[38;5;241m=\u001b[39m [\u001b[38;5;241m1\u001b[39m, \u001b[38;5;241m2\u001b[39m, \u001b[38;5;241m3\u001b[39m]\n\u001b[0;32m----> 2\u001b[0m \u001b[43ml\u001b[49m\u001b[43m[\u001b[49m\u001b[38;5;241;43m5\u001b[39;49m\u001b[43m]\u001b[49m    \u001b[38;5;66;03m#IndexError\u001b[39;00m\n",
      "\u001b[0;31mIndexError\u001b[0m: list index out of range"
     ]
    }
   ],
   "source": [
    "l = [1, 2, 3]\n",
    "#l[5]    #IndexError"
   ]
  },
  {
   "cell_type": "markdown",
   "id": "c4541f66-cf78-4484-ab03-04e3a8dc286a",
   "metadata": {},
   "source": [
    "When writing code, you as a developer can cause exceptions intentionally. This makes sense in cases where a reasonable action is impossible. For example, consider the following function:"
   ]
  },
  {
   "cell_type": "code",
   "execution_count": 14,
   "id": "660df0d2-6d54-4983-b41a-906f863fb02c",
   "metadata": {},
   "outputs": [
    {
     "data": {
      "text/plain": [
       "'GRÜESSECH MARIA!!!'"
      ]
     },
     "execution_count": 14,
     "metadata": {},
     "output_type": "execute_result"
    }
   ],
   "source": [
    "def age_appropriate_greeting(name, age):\n",
    "    if age < 18:\n",
    "        return f\"Hoi {name}\"\n",
    "    if age < 65:\n",
    "        return f\"Grüezi {name}\"\n",
    "    return f\"GRÜESSECH {name.upper()}!!!\"\n",
    "\n",
    "age_appropriate_greeting(\"Maria\", 77)"
   ]
  },
  {
   "cell_type": "markdown",
   "id": "e440b07c-2d41-430b-96b9-e571bdca572c",
   "metadata": {},
   "source": [
    "What should happen if we supply a negative age? We could...\n",
    " * Return some error string like `\"Invalid age\"`, but that would be intransparent and confusing, because the code would still work.\n",
    " * Return `None`. Maybe a bit better, but still not a greeting.\n",
    "\n",
    "In either case, we're not really communicating that the function was used wrongly. Given that a negative age is truely an exceptional problem, we could decide to `raise` an exception. How about raising a `ValueError`?"
   ]
  },
  {
   "cell_type": "code",
   "execution_count": 17,
   "id": "ec71def1-102b-459e-af7c-503d14a4e8a3",
   "metadata": {},
   "outputs": [
    {
     "ename": "ValueError",
     "evalue": "negative age",
     "output_type": "error",
     "traceback": [
      "\u001b[0;31m---------------------------------------------------------------------------\u001b[0m",
      "\u001b[0;31mValueError\u001b[0m                                Traceback (most recent call last)",
      "Cell \u001b[0;32mIn[17], line 10\u001b[0m\n\u001b[1;32m      7\u001b[0m         \u001b[38;5;28;01mreturn\u001b[39;00m \u001b[38;5;124mf\u001b[39m\u001b[38;5;124m\"\u001b[39m\u001b[38;5;124mGrüezi \u001b[39m\u001b[38;5;132;01m{\u001b[39;00mname\u001b[38;5;132;01m}\u001b[39;00m\u001b[38;5;124m\"\u001b[39m\n\u001b[1;32m      8\u001b[0m     \u001b[38;5;28;01mreturn\u001b[39;00m \u001b[38;5;124mf\u001b[39m\u001b[38;5;124m\"\u001b[39m\u001b[38;5;124mGRÜESSECH \u001b[39m\u001b[38;5;132;01m{\u001b[39;00mname\u001b[38;5;132;01m}\u001b[39;00m\u001b[38;5;124m\"\u001b[39m\n\u001b[0;32m---> 10\u001b[0m \u001b[43mage_appropriate_greeting\u001b[49m\u001b[43m(\u001b[49m\u001b[38;5;124;43m\"\u001b[39;49m\u001b[38;5;124;43mMaria\u001b[39;49m\u001b[38;5;124;43m\"\u001b[39;49m\u001b[43m,\u001b[49m\u001b[43m \u001b[49m\u001b[38;5;241;43m-\u001b[39;49m\u001b[38;5;241;43m3\u001b[39;49m\u001b[43m)\u001b[49m \u001b[38;5;66;03m# ValueError: negative age\u001b[39;00m\n",
      "Cell \u001b[0;32mIn[17], line 3\u001b[0m, in \u001b[0;36mage_appropriate_greeting\u001b[0;34m(name, age)\u001b[0m\n\u001b[1;32m      1\u001b[0m \u001b[38;5;28;01mdef\u001b[39;00m \u001b[38;5;21mage_appropriate_greeting\u001b[39m(name, age):\n\u001b[1;32m      2\u001b[0m     \u001b[38;5;28;01mif\u001b[39;00m age \u001b[38;5;241m<\u001b[39m \u001b[38;5;241m0\u001b[39m:\n\u001b[0;32m----> 3\u001b[0m         \u001b[38;5;28;01mraise\u001b[39;00m \u001b[38;5;167;01mValueError\u001b[39;00m(\u001b[38;5;124m\"\u001b[39m\u001b[38;5;124mnegative age\u001b[39m\u001b[38;5;124m\"\u001b[39m)\n\u001b[1;32m      4\u001b[0m     \u001b[38;5;28;01mif\u001b[39;00m age \u001b[38;5;241m<\u001b[39m \u001b[38;5;241m18\u001b[39m:\n\u001b[1;32m      5\u001b[0m         \u001b[38;5;28;01mreturn\u001b[39;00m \u001b[38;5;124mf\u001b[39m\u001b[38;5;124m\"\u001b[39m\u001b[38;5;124mHoi \u001b[39m\u001b[38;5;132;01m{\u001b[39;00mname\u001b[38;5;132;01m}\u001b[39;00m\u001b[38;5;124m\"\u001b[39m\n",
      "\u001b[0;31mValueError\u001b[0m: negative age"
     ]
    }
   ],
   "source": [
    "def age_appropriate_greeting(name, age):\n",
    "    if age < 0:\n",
    "        raise ValueError(\"negative age\")\n",
    "    if age < 18:\n",
    "        return f\"Hoi {name}\"\n",
    "    if age < 65:\n",
    "        return f\"Grüezi {name}\"\n",
    "    return f\"GRÜESSECH {name}\"\n",
    "\n",
    "age_appropriate_greeting(\"Maria\", -3) # ValueError: negative age"
   ]
  },
  {
   "cell_type": "markdown",
   "id": "827121b5-b22e-4583-861e-b6a0ccd0b1b8",
   "metadata": {},
   "source": [
    "This prevents someone from accidentally using the `age_appropriate_greeting` function with invalid parameters and not noticing the issue. With the added exception, invalid use will be prevented. If a developer now uses this function with an invalid age, they will have to fix their code.\n",
    "\n",
    "We will learn more about exceptions later. For now, just now that you can `raise SomeExceptionType(\"with a message here\")` to crash the program intentionally if invalid things are about to happen. In the exercises, you will be asked to raise [existing Exceptions](https://docs.python.org/3/library/exceptions.html#Exception)."
   ]
  },
  {
   "cell_type": "markdown",
   "id": "52fd2e08-f445-4f04-b660-db5160819173",
   "metadata": {},
   "source": [
    "# Inheritance: classes share similarities\n",
    "\n",
    "We augment our geometric shape example as follows:\n",
    " * Each shape (circles, rectangles, squares) also has `x` and `y` coordinates, as well as a color, which should be \"black\" by default."
   ]
  },
  {
   "cell_type": "code",
   "execution_count": 18,
   "id": "0d8ee8ef-abc5-4608-84f6-90a53e024796",
   "metadata": {},
   "outputs": [],
   "source": [
    "from math import pi\n",
    "\n",
    "class Circle:\n",
    "    def __init__(self, x, y, radius, color=\"black\"):\n",
    "        self.x = x\n",
    "        self.y = y\n",
    "        self.color = color\n",
    "        self.radius = radius\n",
    "\n",
    "    def area(self):\n",
    "        return pi * self.radius**2\n",
    "\n",
    "    def __str__(self):\n",
    "        return f\"A {self.color} Circle at {self.x}/{self.y} with radius {self.radius}\"\n",
    "\n",
    "class Rectangle:\n",
    "    def __init__(self, x, y, width, height, color=\"black\"):\n",
    "        self.x = x\n",
    "        self.y = y\n",
    "        self.color = color\n",
    "        self.width = width\n",
    "        self.height = height\n",
    "        \n",
    "    def area(self):\n",
    "        return self.width*self.height\n",
    "\n",
    "    def __str__(self):\n",
    "        return f\"A {self.color} Rectangle at {self.x}/{self.y} with dimensions {self.width}x{self.height}\"\n",
    "\n",
    "class Square:\n",
    "    def __init__(self, x, y, side, color=\"black\"):\n",
    "        self.x = x\n",
    "        self.y = y\n",
    "        self.color = color\n",
    "        self.side = side\n",
    "        \n",
    "    def area(self):\n",
    "        return self.side**2\n",
    "        \n",
    "    def __str__(self):\n",
    "        return f\"A {self.color} Square at {self.x}/{self.y} with side length {self.side}\""
   ]
  },
  {
   "cell_type": "code",
   "execution_count": null,
   "id": "eee7b6d9-d309-448b-85a9-80b359048103",
   "metadata": {},
   "outputs": [],
   "source": [
    "c1 = Circle(10, 10, 1.784)\n",
    "r1 = Rectangle(15, 10, 5, 8, \"blue\")\n",
    "s1 = Square(1, 1, 20, \"green\")\n",
    "shapes = [c1, r1, s1]\n",
    "print([ x.color for x in shapes])\n",
    "print([ x.area() for x in shapes])\n",
    "[ str(x) for x in shapes ]"
   ]
  },
  {
   "cell_type": "markdown",
   "id": "68b24eb6-05e3-4eb4-9afc-0c34d78eb910",
   "metadata": {},
   "source": [
    "# The Problem\n",
    "Redundancy plagues our code!\n",
    "\n",
    "* **Code Redundancy**: Both the constructor (`__init__`) and the `__str__` method contain a lot of duplicate code. If we want to change the way shapes are initialized or printed, we need to modify each shape individually.\n",
    "* **Difficulty in Maintenance**: As we must modify three classes everytime, we have 3x more chances to mess up and introduce bugs. What if for some reason, we want `x` to be known as `coord_x` in the future? We would have to rename it in six different places, and hopefully not make any mistakes.\n",
    "* **Lack of Code Reusability**: If we want to add another shape (e.g. a Triangle), we cannot re-use any of our code and have to implement another whole class.\n",
    "* **Difficulty in External Use**: If we give our code to someone else, they cannot confidently assume uniformity across the shape classes. Each class possesses its unique methods and attributes, demanding meticulous scrutiny. This lack of consistency complicates the integration of our shapes into external applications, hindering seamless collaboration and interoperability.\n",
    "\n"
   ]
  },
  {
   "cell_type": "markdown",
   "id": "815d0879-2ec2-4661-93f0-56889cdea265",
   "metadata": {},
   "source": [
    "# The Solution: Inheritance\n",
    "Inheritance is one of the fundamental pillars of OOP. When declaring a new class, inheritance allows us to re-use functionality (attributes and behavior) from existing classes.\n",
    "\n",
    "In the following code, we create a new class `Shape`, which will serve as a **superclass** to each of our individual shapes. As such, `Circle`, `Rectangle` and `Square` become **subclassess** of `Shape`. Our new `Shape` class will specify the attributes and behavior shared by all shapes, namely:\n",
    " * Attributes: Any shape has x and y coordinates, and a color\n",
    " * Behavior: Any shape has an area that can be calculated, and any shape can be printed somehow\n",
    "\n",
    "However, all we know regarding the area calculation is that **it exists**, but we don't know how exactly each shape will calculate the area. For this reason, the `Shape`'s `calculate_area` method remains un-implemented. As for printing a Shape, we can communicate the coordinates and the color, but nothing else.\n",
    "\n",
    "Let's focus on `Shape` and `Circle` for now:"
   ]
  },
  {
   "cell_type": "code",
   "execution_count": 1,
   "id": "e8fe23dd-a885-4caf-8470-f02631d93d51",
   "metadata": {},
   "outputs": [],
   "source": [
    "from math import pi\n",
    "\n",
    "class Shape:\n",
    "    def __init__(self, x, y, color=\"black\"):\n",
    "        self.x = x\n",
    "        self.y = y\n",
    "        self.color = color\n",
    "\n",
    "    def area(self):                                     # EVERY shape has an area function, so we place the method signature here\n",
    "        pass                                            # However, HOW each shape calculates the area is unknown, so no implementation here\n",
    "\n",
    "class Circle(Shape):                                    # Circle *inherits* from Shape\n",
    "    def __init__(self, x, y, radius, color=\"black\"):    # Circle still takes the same constructor parameters\n",
    "        super().__init__(x, y, color)                   # But instead of saving them as attributes here, we call the SUPER-CONSTRUCTOR\n",
    "        self.radius = radius                            # Only the radius is saved here, because that's the only Circle-specific attribute\n",
    "\n",
    "    def area(self):\n",
    "        return pi * self.radius**2                      # Circle provides its specific area implementation\n",
    "\n",
    "    def __str__(self):\n",
    "        return f\"A {self.color} Circle at {self.x}/{self.y} with radius {self.radius}\" # unchanged for now"
   ]
  },
  {
   "cell_type": "markdown",
   "id": "6839b1ad-dcc6-4754-81bc-370cf495600e",
   "metadata": {},
   "source": [
    "To summarize the modifications to our implementation:\n",
    " 1. We added a `Shape` class that takes coordinates and color as constructor parameters.\n",
    " 1. We made `Circle` inherit from `Shape` by adding it to the class signature:`Circle(Shape)`.\n",
    " 1. We moved saving the coordinates and color (`self.x = x`, ...) from Circle to Shape\n",
    " 1. We added a non-implemented `area` method to Shape, indicating that every Shape should support an area calculation.\n",
    " 1. In `Circle`, we call the **super-constructor** to initialize the coordinates and color: `super().__init__(x, y, color)`.\n",
    "\n",
    "The behavior of `Circle` is unchanged. Everything works exactlye the same:"
   ]
  },
  {
   "cell_type": "code",
   "execution_count": 2,
   "id": "083e060a-f7b8-4f62-9cf7-4f67d1e6beee",
   "metadata": {},
   "outputs": [
    {
     "name": "stdout",
     "output_type": "stream",
     "text": [
      "A black Circle at 10/10 with radius 1.784\n",
      "1.784\n",
      "9.998608708503477\n"
     ]
    }
   ],
   "source": [
    "c1 = Circle(10, 10, 1.784)\n",
    "print(c1)\n",
    "print(c1.radius)\n",
    "print(c1.area())"
   ]
  },
  {
   "cell_type": "markdown",
   "id": "8094bce6-f558-453d-8494-d9736b144a1c",
   "metadata": {},
   "source": [
    "Here's what happens whe one class (`Circle`) inherits from another class (`Shape`):\n",
    " 1. The entire implementation of `Shape` is essentially \"copy-pasted\" into `Circle`.\n",
    " 1. Any attributes or methods in `Circle` that have the same name as in `Shape` are **overriden**. Above, this is true for the `__init__` and `__area__` methods.\n",
    "\n",
    "You might think what's the point, if `Circle` overrides everything in `Shape`. Well, the implementations in `Shape` are not lost. In particular, we still want to use `Shape.__init__` when instantiating a `Circle`. For this reason, we need to call the `Shape` constructor inside the `Circle` constructor:"
   ]
  },
  {
   "cell_type": "markdown",
   "id": "e93394e7-b003-4b55-ab80-e658cccf56c8",
   "metadata": {},
   "source": [
    "### `super()` for initialization\n",
    "\n",
    "In our geometric example, both `Shape` and `Circle` need to implement a constructor (`__init__`), because each class has some distinct attributes that need to be set. In `Circle.__init__` we set the radius, while in `Shape.__init__` we set the coordinates and color. This requires us to call the `super().__init__` constructor in `Circle`. The sequence of events when creating a new `Circle` object..."
   ]
  },
  {
   "cell_type": "code",
   "execution_count": 3,
   "id": "a1f9bff1-b872-4d39-b49e-513b39dc0c21",
   "metadata": {},
   "outputs": [],
   "source": [
    "c1 = Circle(9, 9, 3) # create a new Circle object at 9/9 with radius 3"
   ]
  },
  {
   "cell_type": "markdown",
   "id": "e814e0d5-15d0-4851-92aa-cf4f22a39248",
   "metadata": {},
   "source": [
    " 1. The Circle constructor `Circle.__init__` is called with all necessary parameters to create a `Circle`. `self` refers to the same object as `c1`.\n",
    " 2. The very first thing that the constructor does, is call `super().__init__`, which corresponds to `Shape.__init__`, with the necessary parameters\n",
    " 3. In the Shape constructor `Shape.__init__`, the coordinates and color are saved as attributes of the circle object (`self`).\n",
    " 4. When the Shape constructor is done, the rest of the Circle constructor is executed, also setting the radius of the circle object (`self`)\n",
    "\n",
    "In such cases, where you need to call the parent constructor (`super().__init__`), **you usually do this first**, before doing any other initialization (e.g., before setting `self.radius`) to preserve a meaningful order of execution. Here is a general example:"
   ]
  },
  {
   "cell_type": "code",
   "execution_count": 4,
   "id": "90c4dbdc-f825-4839-a048-f00e79ae8435",
   "metadata": {},
   "outputs": [
    {
     "name": "stdout",
     "output_type": "stream",
     "text": [
      "called Subclass constructor - start\n",
      "called Superclass constructor - start\n",
      "called Superclass constructor - end\n",
      "called Subclass constructor - middle\n",
      "called Subclass constructor - end\n",
      "Bob\n"
     ]
    }
   ],
   "source": [
    "class Superclass:\n",
    "    def __init__(self, name):\n",
    "        print(\"called Superclass constructor - start\")\n",
    "        self.name = name\n",
    "        print(\"called Superclass constructor - end\")\n",
    "\n",
    "class Subclass(Superclass):\n",
    "    def __init__(self, name, age):\n",
    "        print(\"called Subclass constructor - start\")\n",
    "        super().__init__(name)                          # first real thing to happen in __init__ is to call super().__init__\n",
    "        print(\"called Subclass constructor - middle\")\n",
    "        self.age = age\n",
    "        print(\"called Subclass constructor - end\")\n",
    "\n",
    "s = Subclass(\"Bob\", 33)\n",
    "print(s.name)"
   ]
  },
  {
   "cell_type": "markdown",
   "id": "72affef2-3d8d-47ef-b034-7e4bf897f029",
   "metadata": {},
   "source": [
    "It's important to realize that the superclass' constructor will **not** be called automatically. For example:"
   ]
  },
  {
   "cell_type": "code",
   "execution_count": 5,
   "id": "50ba0c8c-f205-46d5-8264-4cc0424b07d3",
   "metadata": {},
   "outputs": [],
   "source": [
    "class Superclass:\n",
    "    def __init__(self, name):\n",
    "        self.name = name\n",
    "\n",
    "class Subclass(Superclass):          # Just inheriting from Superclass does NOT somehow automatically use the Superclass.__init__ constructor\n",
    "    def __init__(self, name, age):\n",
    "        self.age = age               # not calling the super constructor, self.name is never set!\n",
    "        \n",
    "s = Subclass(\"Bob\", 33)\n",
    "#print(s.name)                       # AttributeError: 'Subclass' object has no attribute 'name'"
   ]
  },
  {
   "cell_type": "markdown",
   "id": "73bd1931-798a-47ff-9dd1-3542002d7719",
   "metadata": {},
   "source": [
    "On the other hand, if the child class does not override a method, then it retains the parent's implementation. For example:"
   ]
  },
  {
   "cell_type": "code",
   "execution_count": 6,
   "id": "48d9afa4-d32a-42c2-94ec-61f8f297bc92",
   "metadata": {},
   "outputs": [
    {
     "name": "stdout",
     "output_type": "stream",
     "text": [
      "Bob\n",
      "My name is Bob\n"
     ]
    }
   ],
   "source": [
    "class Superclass:\n",
    "    def __init__(self, name):\n",
    "        self.name = name\n",
    "\n",
    "class Subclass(Superclass):                # Subclass does not override __init__, thus Superclass' __init__ is \"copy-pasted\" into Subclass\n",
    "    # no __init__ so it takes from Superclass\n",
    "    def speak(self):\n",
    "        print(f\"My name is {self.name}\")\n",
    "\n",
    "s = Subclass(\"Bob\")                        # This calls Subclass.__init__(s, \"Bob\"). This method exists, because it's inherited from Superclass\n",
    "print(s.name)\n",
    "s.speak()"
   ]
  },
  {
   "cell_type": "markdown",
   "id": "cbcdade3-059d-4d4d-96f6-971afe77faf3",
   "metadata": {},
   "source": [
    "And just to be clear, don't mindlessly add constructors and `super()` calls if they are not necessary. Here is an example for an inheritance tree that does not require such calls:"
   ]
  },
  {
   "cell_type": "code",
   "execution_count": 7,
   "id": "5ad20137-53a2-463d-a44c-b7468a9864fd",
   "metadata": {},
   "outputs": [
    {
     "name": "stdout",
     "output_type": "stream",
     "text": [
      "Mary\n"
     ]
    }
   ],
   "source": [
    "class Printable:               # This \"mixin\" will work for any subclasses that have a .name attribute\n",
    "    def print_me(self):\n",
    "        print(self.name)       # Printable does not itself set self.name. It would need to be set by any subclass inheriting Printable\n",
    "\n",
    "class Person(Printable):\n",
    "    def __init__(self, name):  # no need to call super().__init__ because the superclass does not specify any special thing to do when initializing (no __init__ method)\n",
    "        self.name = name\n",
    "\n",
    "p = Person(\"Mary\")\n",
    "p.print_me()"
   ]
  },
  {
   "cell_type": "markdown",
   "id": "033016b0-8e89-4b21-9eef-f8124e524374",
   "metadata": {},
   "source": [
    "### `super()` for arbitrary methods\n",
    "\n",
    "It's not just in the constructor (`__init__`) that you might want to call the parent method with the same name. In the following example, the parent class provides some functionality in `ask`, which the child class can use:"
   ]
  },
  {
   "cell_type": "code",
   "execution_count": 9,
   "id": "a18539a5-67ea-41ea-8d98-9746f732ab43",
   "metadata": {},
   "outputs": [
    {
     "name": "stdout",
     "output_type": "stream",
     "text": [
      "please give me the FUCKING LAMB SAUCE AND YOUR money\n"
     ]
    }
   ],
   "source": [
    "class Order:\n",
    "    def __init__(self, value):\n",
    "        self.value = value\n",
    "\n",
    "    def ask(self):\n",
    "        return f\"give me the FUCKING LAMB SAUCE AND YOUR {self.value}\"\n",
    "\n",
    "class PoliteOrder(Order):\n",
    "    def ask(self):\n",
    "        return f\"please {super().ask()}\"     # Re-uses parent implementation of ask, but adds something to it\n",
    "\n",
    "p = PoliteOrder(\"money\")\n",
    "print(p.ask())"
   ]
  },
  {
   "cell_type": "markdown",
   "id": "dee6fb96-fec3-4106-b0a0-693f0634a4e9",
   "metadata": {},
   "source": [
    "In our geometric example, we can also make use of this. In the existing implementation below, the `__str__` implementations of each specific shape repeat the part about coordinates and the color:"
   ]
  },
  {
   "cell_type": "code",
   "execution_count": 10,
   "id": "582cba1b-336d-4d5e-95b3-cd8274ddc242",
   "metadata": {},
   "outputs": [],
   "source": [
    "class Circle(Shape):\n",
    "    #...\n",
    "    def __str__(self):\n",
    "        return f\"A {self.color} Circle at {self.x}/{self.y} with radius {self.radius}\"\n",
    "\n",
    "class Rectangle(Shape):\n",
    "    #...\n",
    "    def __str__(self):\n",
    "        return f\"A {self.color} Rectangle at {self.x}/{self.y} with dimensions {self.width}x{self.height}\"\n",
    "\n",
    "class Square(Shape):\n",
    "    #...\n",
    "    def __str__(self):\n",
    "        return f\"A {self.color} Square at {self.x}/{self.y} with side length {self.side}\""
   ]
  },
  {
   "cell_type": "markdown",
   "id": "037c1215-e307-44e7-977e-89827853e23a",
   "metadata": {},
   "source": [
    "**Every** `Shape` has coordinates and a color, so why not implement `Shape`'s __str__ method, rather than repeating it in each subclass?\n",
    "\n",
    "Here is the same implementation again, but now we add method `Shape.__str__` and make `Circle.__str__` call it via `super().__str__()`"
   ]
  },
  {
   "cell_type": "code",
   "execution_count": 11,
   "id": "574fc079-81b0-4603-bf37-35169effc7e1",
   "metadata": {},
   "outputs": [
    {
     "name": "stdout",
     "output_type": "stream",
     "text": [
      "A black Shape at 10/10 with radius 1.784\n"
     ]
    }
   ],
   "source": [
    "from math import pi\n",
    "\n",
    "class Shape:\n",
    "    def __init__(self, x, y, color=\"black\"):\n",
    "        self.x = x\n",
    "        self.y = y\n",
    "        self.color = color\n",
    "\n",
    "    def area(self):\n",
    "        pass\n",
    "\n",
    "    def __str__(self):\n",
    "        return f\"A {self.color} Shape at {self.x}/{self.y}\"       # Added __str__ with information we know for any shape\n",
    "\n",
    "class Circle(Shape):\n",
    "    def __init__(self, x, y, radius, color=\"black\"):\n",
    "        super().__init__(x, y, color)\n",
    "        self.radius = radius\n",
    "\n",
    "    def area(self):\n",
    "        return pi * self.radius**2\n",
    "\n",
    "    def __str__(self):\n",
    "        return f\"{super().__str__()} with radius {self.radius}\"   # Calling super().__str__() to generate the first half of the returned string\n",
    "\n",
    "c1 = Circle(10, 10, 1.784)\n",
    "print(c1)"
   ]
  },
  {
   "cell_type": "markdown",
   "id": "531e5ec7-5339-4223-9818-f727131070c2",
   "metadata": {},
   "source": [
    "So now, when printing a Circle object (e.g., `c1`), the following sequence of operations is executed:\n",
    " 1. `Circle.__str__(c1)` is called\n",
    " 1. Inside `Circle.__str__` the f-string is evaluated\n",
    " 1. `super().__str__()` is called. This corresponds to `Shape.__str__`. Thus, `Shape.__str__(c1)` is executed\n",
    " 1. `Shape.__str__(c1)` returns the resulting string with infos about the color and coordinates. The returned string is placed in the f-string.\n",
    " 1. The rest of the f-string is evaluated (`self.radius`)\n",
    " 1. `Circle.__str__(c1)` returns the resulting string, now also containing the radius.\n",
    "\n",
    "Only small problem: `Shape.__str__` mentions just being a `\"Shape\"`. Can we use the correct name for each shape? Of course. We have two options:\n",
    "\n",
    "Option 1: we move the name itself back to `Circle` by rearranging the string a bit:"
   ]
  },
  {
   "cell_type": "code",
   "execution_count": 12,
   "id": "79e4d57c-c977-40ae-be6f-51d523cf00e0",
   "metadata": {},
   "outputs": [
    {
     "name": "stdout",
     "output_type": "stream",
     "text": [
      "A Circle of black color at 10/10 with radius 1.784\n"
     ]
    }
   ],
   "source": [
    "from math import pi\n",
    "\n",
    "class Shape:\n",
    "    def __init__(self, x, y, color=\"black\"):\n",
    "        self.x = x\n",
    "        self.y = y\n",
    "        self.color = color\n",
    "\n",
    "    def area(self):\n",
    "        pass\n",
    "\n",
    "    def __str__(self):\n",
    "        return f\"{self.color} color at {self.x}/{self.y}\"                     # Don't mention \"Shape\"\n",
    "\n",
    "class Circle(Shape):\n",
    "    def __init__(self, x, y, radius, color=\"black\"):\n",
    "        super().__init__(x, y, color)\n",
    "        self.radius = radius\n",
    "\n",
    "    def area(self):\n",
    "        return pi * self.radius**2\n",
    "\n",
    "    def __str__(self):\n",
    "        return f\"A Circle of {super().__str__()} with radius {self.radius}\"   # Re-arrange so we can mention Circle here\n",
    "\n",
    "c1 = Circle(10, 10, 1.784)\n",
    "print(c1)"
   ]
  },
  {
   "cell_type": "markdown",
   "id": "7d5d6418-e949-48a2-91fb-083c543a4a5d",
   "metadata": {},
   "source": [
    "Option 2 (advanced, not going to be in the exam): we make use of **Reflection** inside Shape to figure out what kind of concrete object we actually have:"
   ]
  },
  {
   "cell_type": "code",
   "execution_count": 13,
   "id": "436d25de-a85f-4b49-9c10-16bf73aeeecd",
   "metadata": {},
   "outputs": [
    {
     "name": "stdout",
     "output_type": "stream",
     "text": [
      "A black Circle at 10/10 with radius 1.784\n"
     ]
    }
   ],
   "source": [
    "from math import pi\n",
    "\n",
    "class Shape:\n",
    "    def __init__(self, x, y, color=\"black\"):\n",
    "        self.x = x\n",
    "        self.y = y\n",
    "        self.color = color\n",
    "\n",
    "    def area(self):\n",
    "        pass\n",
    "\n",
    "    def __str__(self):\n",
    "        return f\"A {self.color} {self.__class__.__name__} at {self.x}/{self.y}\"   # Use reflection (self.__class__.__name__) to figure out concrete Shape type\n",
    "\n",
    "class Circle(Shape):\n",
    "    def __init__(self, x, y, radius, color=\"black\"):\n",
    "        super().__init__(x, y, color)\n",
    "        self.radius = radius\n",
    "\n",
    "    def area(self):\n",
    "        return pi * self.radius**2\n",
    "\n",
    "    def __str__(self):\n",
    "        return f\"{super().__str__()} with radius {self.radius}\"   # Prior version\n",
    "\n",
    "c1 = Circle(10, 10, 1.784)\n",
    "print(c1)"
   ]
  },
  {
   "cell_type": "markdown",
   "id": "7a63eab8-8d59-4aa6-8b1e-04f008fc75ef",
   "metadata": {},
   "source": [
    "# Abstract Classes\n",
    "\n",
    "So far so good. There is just one small hick-up with the current implementation: What does it mean to instantiate a `Shape`?"
   ]
  },
  {
   "cell_type": "code",
   "execution_count": 14,
   "id": "e22173f1-162b-4908-a489-2381aa5ad157",
   "metadata": {},
   "outputs": [
    {
     "name": "stdout",
     "output_type": "stream",
     "text": [
      "A red Shape at 10/15\n"
     ]
    }
   ],
   "source": [
    "a_shape = Shape(10, 15, \"red\")\n",
    "print(a_shape)"
   ]
  },
  {
   "cell_type": "markdown",
   "id": "28f19710-255c-4678-89af-d19ce81fcd8e",
   "metadata": {},
   "source": [
    "It works, but again, what does this mean? How should I imagine what a \"Shape\" looks like? And what is the area of a `Shape`?"
   ]
  },
  {
   "cell_type": "code",
   "execution_count": 15,
   "id": "08cdf220-aa9b-4b83-9dee-3b18f3779d8f",
   "metadata": {},
   "outputs": [
    {
     "name": "stdout",
     "output_type": "stream",
     "text": [
      "None\n"
     ]
    }
   ],
   "source": [
    "a_shape = Shape(10, 15, \"red\")\n",
    "print(a_shape.area())"
   ]
  },
  {
   "cell_type": "markdown",
   "id": "aa5089a8-fe2d-4b33-9eaa-38f202b32ab9",
   "metadata": {},
   "source": [
    "Really, the idea of a \"shape\" is an *abstract* concept. Circles, rectangles and triangles are *concrete* examples for shapes. Likewise, the idea that \"a shape has an area\" is also *abstract*. How exactly that area is computed depends on the specific Shape.\n",
    "\n",
    "For this reason, Python (and many other programming languages) support the concept of **abstract classes**. An abstract class also specifies attributes and behavior, but it is intended **only to be used as a super-class** for other classes, and not to be instantiated directly.\n",
    "\n",
    "Abstract classes contain **abstract methods**. Since each `Shape` absolutely has an area, but computing it depends on its specific type, we can mark `Shape.area()` as an abstract method:"
   ]
  },
  {
   "cell_type": "code",
   "execution_count": 16,
   "id": "b6002b2b-9d69-4c95-8cc8-2afa1c31a087",
   "metadata": {},
   "outputs": [
    {
     "name": "stdout",
     "output_type": "stream",
     "text": [
      "A black Circle at 10x10 with radius 1.784\n"
     ]
    }
   ],
   "source": [
    "from abc import ABC, abstractmethod                # necessary scaffolding to work with abstract classes\n",
    "from math import pi\n",
    "\n",
    "class Shape(ABC):                                  # Shape is an abstract class. In Python, this means inheriting from ABC\n",
    "    def __init__(self, x, y, color=\"black\"):\n",
    "        self.x = x\n",
    "        self.y = y\n",
    "        self.color = color\n",
    "\n",
    "    @abstractmethod                                # area is an abstract method, thus we annotate it with @abstractmethod\n",
    "    def area(self):                                # the rest of this code is unchanged\n",
    "        pass\n",
    "\n",
    "    def __str__(self):\n",
    "        return f\"A {self.color} {self.__class__.__name__} at {self.x}x{self.y}\"\n",
    "\n",
    "class Circle(Shape):\n",
    "    def __init__(self, x, y, radius, color=\"black\"):\n",
    "        super().__init__(x, y, color)\n",
    "        self.radius = radius\n",
    "\n",
    "    def area(self):\n",
    "        return pi * self.radius**2\n",
    "\n",
    "    def __str__(self):\n",
    "        return f\"{super().__str__()} with radius {self.radius}\"   # Unchanged\n",
    "\n",
    "c1 = Circle(10, 10, 1.784)\n",
    "print(c1)"
   ]
  },
  {
   "cell_type": "markdown",
   "id": "6bef15a8-7717-4bd9-a22b-4ccaeb4de24b",
   "metadata": {},
   "source": [
    "To mark a class as *abstract* in Python, it needs to inherit from `ABC`. To mark a method as *abstract*, it is annotated with `@abstractmethod`.\n",
    "\n",
    "This has the side-effect that we can also no longer instantiate `Shape` (which makes sense, finally):"
   ]
  },
  {
   "cell_type": "code",
   "execution_count": 17,
   "id": "c779e52c-b50a-4dcb-9904-e0898dfb0068",
   "metadata": {},
   "outputs": [
    {
     "ename": "TypeError",
     "evalue": "Can't instantiate abstract class Shape without an implementation for abstract method 'area'",
     "output_type": "error",
     "traceback": [
      "\u001b[0;31m---------------------------------------------------------------------------\u001b[0m",
      "\u001b[0;31mTypeError\u001b[0m                                 Traceback (most recent call last)",
      "Cell \u001b[0;32mIn[17], line 1\u001b[0m\n\u001b[0;32m----> 1\u001b[0m a_shape \u001b[38;5;241m=\u001b[39m \u001b[43mShape\u001b[49m\u001b[43m(\u001b[49m\u001b[38;5;241;43m10\u001b[39;49m\u001b[43m,\u001b[49m\u001b[43m \u001b[49m\u001b[38;5;241;43m15\u001b[39;49m\u001b[43m,\u001b[49m\u001b[43m \u001b[49m\u001b[38;5;124;43m\"\u001b[39;49m\u001b[38;5;124;43mred\u001b[39;49m\u001b[38;5;124;43m\"\u001b[39;49m\u001b[43m)\u001b[49m     \u001b[38;5;66;03m# won't work anymore\u001b[39;00m\n",
      "\u001b[0;31mTypeError\u001b[0m: Can't instantiate abstract class Shape without an implementation for abstract method 'area'"
     ]
    }
   ],
   "source": [
    "#a_shape = Shape(10, 15, \"red\")     # won't work anymore"
   ]
  },
  {
   "cell_type": "markdown",
   "id": "850ba4dc-cefb-4b1b-b808-74cded1a81e3",
   "metadata": {},
   "source": [
    "Here is the complete implementation for all three shapes:"
   ]
  },
  {
   "cell_type": "code",
   "execution_count": null,
   "id": "31bae730-b570-4cd6-a1bd-dfd99b0353af",
   "metadata": {},
   "outputs": [],
   "source": [
    "from abc import ABC, abstractmethod\n",
    "from math import pi\n",
    "\n",
    "class Shape(ABC):\n",
    "    def __init__(self, x, y, color=\"black\"):\n",
    "        self.x = x\n",
    "        self.y = y\n",
    "        self.color = color\n",
    "\n",
    "    @abstractmethod\n",
    "    def area(self):\n",
    "        pass\n",
    "\n",
    "    def __str__(self):\n",
    "        return f\"A {self.color} {self.__class__.__name__} at {self.x}x{self.y}\"\n",
    "\n",
    "class Circle(Shape):\n",
    "    def __init__(self, x, y, radius, color=\"black\"):\n",
    "        super().__init__(x, y, color)\n",
    "        self.radius = radius\n",
    "\n",
    "    def area(self):\n",
    "        return pi * self.radius**2\n",
    "\n",
    "    def __str__(self):\n",
    "        return f\"{super().__str__()} with radius {self.radius}\"\n",
    "        \n",
    "class Rectangle(Shape):\n",
    "    def __init__(self, x, y, width, height, color=\"black\"):\n",
    "        super().__init__(x, y, color)\n",
    "        self.width = width\n",
    "        self.height = height\n",
    "        \n",
    "    def area(self):\n",
    "        return self.width*self.height\n",
    "\n",
    "    def __str__(self):\n",
    "        return f\"{super().__str__()} with dimensions {self.width}x{self.height}\"\n",
    "\n",
    "class Square(Shape):\n",
    "    def __init__(self, x, y, side, color=\"black\"):\n",
    "        super().__init__(x, y, color)     \n",
    "        self.side = side\n",
    "        \n",
    "    def area(self):\n",
    "        return self.side**2\n",
    "        \n",
    "    def __str__(self):\n",
    "        return f\"{super().__str__()} with side length {self.side}\""
   ]
  },
  {
   "cell_type": "code",
   "execution_count": null,
   "id": "515da5da-2f81-49ca-8a5e-79b764fa9c50",
   "metadata": {},
   "outputs": [],
   "source": [
    "c1 = Circle(10, 10, 1.784)\n",
    "r1 = Rectangle(15, 10, 5, 8, \"blue\")\n",
    "s1 = Square(1, 1, 20, \"green\")\n",
    "shapes = [c1, r1, s1]\n",
    "print([ x.color for x in shapes])\n",
    "print([ x.area() for x in shapes])\n",
    "[ str(x) for x in shapes ]"
   ]
  },
  {
   "cell_type": "markdown",
   "id": "62a94b45-5892-4bef-a6d4-890499d7396e",
   "metadata": {},
   "source": [
    "# Deep inheritance\n",
    "\n",
    "Inheritance is not limited to a single level. This is already illustrated in the example above: `Rectangle` inherits from `Shape`, and `Shape` inherits from `ABC`. We can further illustrate this by realizing that really, a square is just a special case of a rectangle, where both height and width are equal. Even the area calculation is essentially the same! So why not make `Square` a subclass of `Rectangle`?   "
   ]
  },
  {
   "cell_type": "code",
   "execution_count": null,
   "id": "a770d215-7cdf-48b4-8ffc-7a586708e323",
   "metadata": {},
   "outputs": [],
   "source": [
    "class Rectangle(Shape):\n",
    "    def __init__(self, x, y, width, height, color=\"black\"):\n",
    "        super().__init__(x, y, color)\n",
    "        self.width = width\n",
    "        self.height = height\n",
    "        \n",
    "    def area(self):\n",
    "        return self.width*self.height\n",
    "\n",
    "    def __str__(self):\n",
    "        return f\"{super().__str__()} with dimensions {self.width}x{self.height}\"\n",
    "\n",
    "class Square(Rectangle):                                  # The Square class is now super simple!\n",
    "    def __init__(self, x, y, side, color=\"black\"):        # It takes the same constructor parameters as before\n",
    "        super().__init__(x, y, side, side, color)         # But instead of saving any attributes in its constructor, it just calls the parent constructor with 'height' and 'width' both being 'side'\n",
    "\n",
    "s1 = Square(34, 77, 10, \"green\")     # side 10 is passed on as width=10, height=10 to the Rectangle constructor\n",
    "print(s1)                            # calls Rectangle.__str__(s1) which in turn calls Shape.__str__(s1) for part of the f-string\n",
    "print(s1.area())                     # calls Rectangle.area(s1)"
   ]
  },
  {
   "cell_type": "markdown",
   "id": "377eecc2-b170-4988-9273-dd502ec5dd91",
   "metadata": {},
   "source": [
    "### Summary\n",
    "\n",
    "* Classes can inherit from other classes: `Circle(Shape)`, `Shape(ABC)`. This forms an \"inheritance tree\" which can span many levels.\n",
    " * When a class Child inherits from a class Parent, then class Child ...\n",
    "   * can call the super-class methods: `super().__init__(x, y, color)`, `super().__str__()`.\n",
    "   * can access any attributes that are set by super-class code: `self.x`, which makes sense because when doing `super().__init__()`, the super-class' `__init__` method receives the same object (`self`), so it just adds attributes to it.\n",
    " * Classes can be \"abstract\" if they are not really supposed to be instantiable like regular \"concrete\" classes would be. Abstract classes typically contain \"abstract methods\", which do not provide any implementation, but need to be implemented in sub-classes.\n",
    " * Abstract classes in Python inherit from `ABC`.\n",
    " * Abstract methods in Python are annotated with `@abstractmethod`."
   ]
  },
  {
   "cell_type": "markdown",
   "id": "eed6ccd8-ffdc-456b-a46f-fc2d6176df54",
   "metadata": {},
   "source": [
    "### A word on \"private\"\n",
    "\n",
    "Many languages (most prominently: Java) provide a mechanism to \"hide\" attributes that are only to be used within the logic of a class (i.e., the methods of a class), but should not be accessible from \"outside\" the class.\n",
    "\n",
    "Python **does not have private**. Best it can do is \"non-public\". If you want to know all the details, read the couple of paragraphs in PEP8 and follow the Pythonic guidelines listed:\n",
    "\n",
    "[https://peps.python.org/pep-0008/#method-names-and-instance-variables](https://peps.python.org/pep-0008/#method-names-and-instance-variables)\n",
    "\n",
    "In short:\n",
    " * Object attributes that should be accessible from outside (e.g., `Circle.radius`) should have *no* leading underscore (`_`)\n",
    " * Don't implement getters/setters (`Circle.get_radius()`, `Circle.set_radius()`) - just get/set the attribute directly (`print(Circle.radius)`, `Circle.radius = 7`).\n",
    " * If you want to indicate to others that some attributes or methods should only be used internally, you may prefix them with a single underscore (e.g., `self._name = ...`)\n",
    " * If you wanna be a real pro, learn all about Python's [data model](https://docs.python.org/3/reference/datamodel.html) and implement custom [attribute access](https://docs.python.org/3/reference/datamodel.html#customizing-attribute-access)\n",
    " * If (and only if) your class is intended to be subclassed, consider leading attribute names with `__` (double underscore). This will \"mangle\" that attribute name:"
   ]
  },
  {
   "cell_type": "code",
   "execution_count": null,
   "id": "c8abf6ad-c66d-4eda-976d-2fc5ef478b9a",
   "metadata": {},
   "outputs": [],
   "source": [
    "class Superclass:\n",
    "    def __init__(self, name):\n",
    "        self.name = name\n",
    "        self.__data = {}     # Mangled to self._Superclass__data outside Superclass\n",
    "\n",
    "    def print_data(self):\n",
    "        print(f\"Superclass self.__data: {self.__data}\") # Here it's normal\n",
    "\n",
    "s1 = Superclass(\"Superclass\")\n",
    "print(s1.name)\n",
    "#print(s1.__data)            # AttributeError, it doesn't exist!\n",
    "print(s1._Superclass__data)  # Here we must use the mangled name\n",
    "s1.print_data()"
   ]
  },
  {
   "cell_type": "markdown",
   "id": "b8dc6038-35d3-4bd9-96e7-7c53c4828b4d",
   "metadata": {},
   "source": [
    "In this example, `Superclass` refers to an attribute `self.__data` in it's constructor. Within the class, for example in `print_data`, this attribute is known as such.\n",
    "\n",
    "However, outside of the class scope, it is **not** known as such. Python \"mangles\" the attribute name such that it becomes `s1._Superclass__data`.\n",
    "\n",
    "The main point of this not to avoid externel code from messing with attributes, because it is assumed that the programmer using the class will know what they're doing with existing attributes. If they want to modify an attribute, so be it.\n",
    "\n",
    "The main point is to avoid a subclassing programmer from accidentally breaking the superclass by naming an attribute the same as an existing attribute used by the superclass!\n",
    "\n",
    "In the example below, some guy wrote `Superclass` which does some useful things. It creates an empty **tuple** referenced by `self.data` in `Superclass.__init__`, which it somehow needs to work correctly. Now, you want to subclass this useful class, so you write a `Subclass`. You want to store some data, so you define a `self.data` attribute in `Subclass.__init__` (an empty **set**) but by chance, this overwrites an attribute required by Superclass to work correctly:"
   ]
  },
  {
   "cell_type": "code",
   "execution_count": null,
   "id": "e877796e-727d-4688-9e96-778ead3dfa6e",
   "metadata": {},
   "outputs": [],
   "source": [
    "class Superclass:                   # Written by Robert Paulson some time in 2007. You don't know this code.\n",
    "    def __init__(self, name):\n",
    "        self.name = name\n",
    "        self.data = tuple()         # (1) not protected\n",
    "        self.__data = {}            # (2) kinda protected, will be mangled outside this class' scope\n",
    "\n",
    "    def do_something_with_data(self):\n",
    "        '''This useful method needs self.data to be a tuple'''\n",
    "        print(type(self.data) == tuple)    # This will be False for Subclass instances!\n",
    "        print(type(self.__data) == dict)\n",
    "\n",
    "class Subclass(Superclass):         # Written by YOU right now without internal knowledge of Superclass\n",
    "    def __init__(self, name):\n",
    "        super().__init__(name)\n",
    "        self.data = set()           # (3) this accidentally overwrites (1)\n",
    "        self.__data = []            # (4) this does NOT overwrite (2)\n",
    "        \n",
    "super_class = Superclass(\"Superclass\")\n",
    "sub_class = Subclass(\"Subclass\")\n",
    "print(sub_class.name)\n",
    "print(sub_class.data)              # set in Subclass constructor (3), overwrote (1)\n",
    "print(sub_class._Subclass__data)   # set in Subclass constructor (4) \n",
    "print(sub_class._Superclass__data) # set in Superclass constructor (2)\n",
    "\n",
    "sub_class.do_something_with_data() # is expected to work correctly (2x True), but it does not!"
   ]
  },
  {
   "cell_type": "markdown",
   "id": "14ba908d-213f-4d74-809a-88fabb9e094e",
   "metadata": {
    "editable": true,
    "slideshow": {
     "slide_type": ""
    },
    "tags": []
   },
   "source": [
    "# Unified Modelling Language (UML)\n",
    "UML, is a standardized modeling language developed to help software engineers specify, visualize, and document artifacts of software systems. \n",
    "\n",
    "<div>\n",
    "<img src=\"./uml.png\" width=\"600px\"/>\n",
    "</div>\n",
    "\n",
    "In the diagram above we can see our abstract class `Shape` (with its class name in *italic* font) and its descendants. We also imagine that a `Canvas` class will aggregate 0 or more shapes to be drawn on screen."
   ]
  },
  {
   "cell_type": "markdown",
   "id": "36e92985-8822-48d1-94af-49a420acc1f2",
   "metadata": {},
   "source": [
    "<div><img src=\"umlNotation.jpg\" alt=\"drawing\" width=\"300\"/></div>\n",
    "\n",
    "Relationships:\n",
    "* Association: class A **is associated** with class B\n",
    "* Inheritance: class A **is a** class B / class A **inherits** class B\n",
    "* Realization: class A **realizes** class B / class A **implements** interface B\n",
    "* Dependency: class A **uses** class B\n",
    "* Aggregation: class A **has a** class B\n",
    "* Composition: class A **owns** a class B\n",
    "\n",
    "Cardinality:\n",
    " * Exactly one: 1\n",
    " * One or more: 1+\n",
    " * Optional: 1?\n",
    " * Bounded: 1..10\n",
    " * Unbounded: * (0..n)\n",
    "\n",
    "You don't need to know all the details of UML, but you need to be able to read basic diagrams communicating inheritance, attributes, methods, and cardinality."
   ]
  },
  {
   "cell_type": "markdown",
   "id": "117daeff-9f1f-4c24-932c-5cfd4811a045",
   "metadata": {
    "editable": true,
    "slideshow": {
     "slide_type": ""
    },
    "tags": []
   },
   "source": [
    "# Polymorphism\n",
    "Polymorphism allows objects of different classes to be treated as objects of a common superclass. It enables a single class to represent different underlying forms (types). Polymorphism ensures that the correct method is called based on the object's actual type."
   ]
  },
  {
   "cell_type": "code",
   "execution_count": null,
   "id": "662b06b6-a1c5-441d-8e31-35c459622379",
   "metadata": {},
   "outputs": [],
   "source": [
    "class Canvas:\n",
    "    def __init__(self, shapes):\n",
    "        self.shapes = shapes\n",
    "                                                    # This is \"Polymorphism\":\n",
    "    def calculate_total_area(self):                 # Canvas can treat all Shapes the same. It knows nothing about their internal implementation.\n",
    "        return sum(s.area() for s in self.shapes)   # Each area() call is transparently dispatched to a different implementation!\n",
    "\n",
    "c1 = Circle(10, 10, 1.784)\n",
    "r1 = Rectangle(15, 10, 5, 8, \"blue\")\n",
    "s1 = Square(1, 1, 20, \"green\")\n",
    "shapes = [c1, r1, s1]\n",
    "\n",
    "canvas = Canvas(shapes)\n",
    "canvas.calculate_total_area()"
   ]
  },
  {
   "cell_type": "markdown",
   "id": "66de64cb-c1dc-4489-b852-5924d6844bf4",
   "metadata": {
    "editable": true,
    "slideshow": {
     "slide_type": ""
    },
    "tags": []
   },
   "source": [
    "Wherever a `Shape` is expected, `Circle`, `Rectangle`, and `Square` are all valid objects."
   ]
  },
  {
   "cell_type": "markdown",
   "id": "1c68a3c1-ca6f-4694-8953-b53d8fc9c8e1",
   "metadata": {
    "editable": true,
    "slideshow": {
     "slide_type": ""
    },
    "tags": []
   },
   "source": [
    "### Benefits of Polymorphism:\n",
    "<b>Flexibility and Extensibility:</b> Polymorphism allows for easy addition of new classes without modifying existing code, enhancing the code's flexibility and extensibility.\n",
    "\n",
    "<b>Modularity:</b> Polymorphic interfaces promote modularity by allowing classes to interact through well-defined interfaces, reducing dependencies between classes.\n",
    "\n",
    "<b>Code Reusability:</b> Polymorphism encourages the reuse of code. Methods defined in base classes can be reused across multiple subclasses, promoting efficient code reuse.\n",
    "\n",
    "<b>Simplified Code:</b> Polymorphism simplifies code by enabling the use of generic interfaces, making it easier to understand and maintain complex systems.\n",
    "\n",
    "In summary, polymorphism is a powerful OOP concept that promotes flexibility, modularity, and code reuse by allowing objects of different types to be treated uniformly through a common interface or base class. Understanding and leveraging polymorphism are essential skills for effective object-oriented software design."
   ]
  },
  {
   "cell_type": "markdown",
   "id": "c8104fce-4cd9-45b6-9666-90421255cf8d",
   "metadata": {},
   "source": [
    "# Another polymorphic example\n",
    "\n",
    "<span style=\"color:purple;font-weight:bold\">Exercise</span>\n",
    "\n",
    "You are implementing a basic system for storing files and folders. Follow these implementation guidelines:\n",
    "\n",
    " * Every file has a name\n",
    " * Text files also store some text content\n",
    " * Image files also store a 2D-collection of pixels (which can be either 1 or 0) to form a black and white picture\n",
    " * Folders are special files that store a collection of files\n",
    " * For any kind of file, it should be possible to determine the file size\n",
    "   * For text files, the file size corresponds to the length of the text\n",
    "   * For image files, the file size is the number of pixels\n",
    "   * For folders, the size is the sum of sizes of files contained\n",
    " * For any kind of file, it should be possible to print it to the command line, starting with its file name and:\n",
    "   * For text files, the text content\n",
    "   * For image files, the pixels as '█' or '░' if 1 or 0.\n",
    "   * For folders, the filenames of files contained\n",
    "\n",
    "Consider the following example of how your implementation would be used:"
   ]
  },
  {
   "cell_type": "code",
   "execution_count": null,
   "id": "1d3f90ec",
   "metadata": {},
   "outputs": [],
   "source": [
    "class TextFile:\n",
    "    def __init__(self):\n",
    "        self.name = name\n",
    "        self.text = text \n",
    "\n",
    "class TextFile:\n",
    "    def __init__(File):\n",
    "        super().__init__(name)\n",
    "        self.text = text\n",
    "\n",
    "    def get_size(self):\n",
    "        return len(self.text)\n",
    "\n",
    "class ImageFile:\n",
    "    def __init__(self, name, pixels):\n",
    "        self.name = name\n",
    "        self.pixels = pixels\n",
    "\n",
    "t1 = TextFile(\"haiku.txt\",       # Create a new TextFile\n",
    "\"\"\"Indentation woes\n",
    "Syntax errors multiply\n",
    "Debug, try again\"\"\")\n",
    "\n",
    "\n",
    "i1 = ImageFile(\"smile.img\", (    # Create a new ImageFile\n",
    "    (0, 1, 0, 1, 0),\n",
    "    (0, 0, 0, 0, 0),\n",
    "    (1, 0, 0, 0, 1),\n",
    "    (0, 1, 1, 1, 0),\n",
    "))\n",
    "\n",
    "f = Folder(\"My Documents\")       # Create a new Folder\n",
    "f.content.extend([t1, i1])       # Add files to the folder\n",
    "print(t1.get_size())             # Text size\n",
    "print(i1.get_size())             # Image size\n",
    "print(f.get_size())              # Folder size (sum of content sizes)\n",
    "print(t1)                        # Print haiku\n",
    "print(i1)                        # Print smiley-face\n",
    "print(f)  "
   ]
  },
  {
   "cell_type": "markdown",
   "id": "af0eb963-ca2e-405f-a2ce-e564d7e7cd46",
   "metadata": {},
   "source": [
    "```python\n",
    "t1 = TextFile(\"haiku.txt\",       # Create a new TextFile\n",
    "\"\"\"Indentation woes\n",
    "Syntax errors multiply\n",
    "Debug, try again\"\"\")\n",
    "\n",
    "i1 = ImageFile(\"smile.img\", (    # Create a new ImageFile\n",
    "    (0, 1, 0, 1, 0),\n",
    "    (0, 0, 0, 0, 0),\n",
    "    (1, 0, 0, 0, 1),\n",
    "    (0, 1, 1, 1, 0),\n",
    "))\n",
    "\n",
    "f = Folder(\"My Documents\")       # Create a new Folder\n",
    "f.content.extend([t1, i1])       # Add files to the folder\n",
    "print(t1.get_size())             # Text size\n",
    "print(i1.get_size())             # Image size\n",
    "print(f.get_size())              # Folder size (sum of content sizes)\n",
    "print(t1)                        # Print haiku\n",
    "print(i1)                        # Print smiley-face\n",
    "print(f)                         # Print folder content\n",
    "```"
   ]
  },
  {
   "cell_type": "markdown",
   "id": "52f83ce9-0dac-41ce-97be-cc21c2e84d81",
   "metadata": {},
   "source": [
    "Which should result in the following output:\n",
    "```\n",
    "56\n",
    "20\n",
    "76\n",
    "haiku.txt:\n",
    "Indentation woes\n",
    "Syntax errors multiply\n",
    "Debug, try again\n",
    "smile.img:\n",
    "░█░█░\n",
    "░░░░░\n",
    "█░░░█\n",
    "░███░\n",
    "My Documents:\n",
    " - haiku.txt\n",
    " - smile.img\n",
    "```"
   ]
  }
 ],
 "metadata": {
  "authors": [
   {
    "name": "Alex Wolf"
   }
  ],
  "kernelspec": {
   "display_name": "Python 3",
   "language": "python",
   "name": "python3"
  },
  "language_info": {
   "codemirror_mode": {
    "name": "ipython",
    "version": 3
   },
   "file_extension": ".py",
   "mimetype": "text/x-python",
   "name": "python",
   "nbconvert_exporter": "python",
   "pygments_lexer": "ipython3",
   "version": "3.12.6"
  },
  "title": "Info1 Python Tutorial - Part 5"
 },
 "nbformat": 4,
 "nbformat_minor": 5
}
